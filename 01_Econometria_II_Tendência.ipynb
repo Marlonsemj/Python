{
  "nbformat": 4,
  "nbformat_minor": 0,
  "metadata": {
    "colab": {
      "provenance": [],
      "mount_file_id": "1phuRch_Mqii0T3oPyNaLNx3XdUE_DP9a",
      "authorship_tag": "ABX9TyMp8eV+ph8kpp1pSQYKU8nw",
      "include_colab_link": true
    },
    "kernelspec": {
      "name": "python3",
      "display_name": "Python 3"
    },
    "language_info": {
      "name": "python"
    }
  },
  "cells": [
    {
      "cell_type": "markdown",
      "metadata": {
        "id": "view-in-github",
        "colab_type": "text"
      },
      "source": [
        "<a href=\"https://colab.research.google.com/github/Marlonsemj/Python/blob/main/01_Econometria_II_Tend%C3%AAncia.ipynb\" target=\"_parent\"><img src=\"https://colab.research.google.com/assets/colab-badge.svg\" alt=\"Open In Colab\"/></a>"
      ]
    },
    {
      "cell_type": "markdown",
      "source": [
        "# Análise de Tendência em Séries Temporais com Python\n",
        "-------\n",
        "> A **tendência** descreve o comportamento de uma variável na série temporal no longo prazo.\n",
        "\n",
        "**Objetivos básicos na sua identificação:**\n",
        "- Identificar a tendência e avaliar o seu comportamento para utilizá-lo em previsões;\n",
        "- removê-la da série para facilitar a visualização das outras componentes.\n",
        "\n",
        "<center>Y = β<sub>0</sub> + β<sub>1</sub>T + ε</center>\n",
        "\n",
        "------\n",
        "# Análise de Tendência (T)\n",
        "**Há dois tipos de tendência: Determinística ou Estocástica**\n",
        "\n",
        "> - **Tendência determinística:** São aquelas que ocorrem de maneira previsível, e por isso, conseguimos prevê-las.\n",
        "\n",
        "Para exemplificar, vamos considerar uma série temporal (Y), e que somente estejam presentes a Tendência (T) e as variações irregulares, ou erros.\n",
        "\n",
        "<Center>\n",
        "\n",
        "`𝒀 = 𝑻 + 𝜺`</center>\n",
        "\n",
        "Na equação acima, Y representa a série temporal, enquanto **T** representa a **tendência**, que é **expressa pelo tempo (t = 0, 1, 2, 3, ..., n)**.\n",
        "\n",
        "\n",
        "Há diversas maneiras de extrair a Tendência Determinística de uma série.\n",
        "\n",
        "## Método de regressão (via MQO):\n",
        "O objetivo é ajustar o comportamento da série temporal (Y) em função da tendência (tempo: T).\n",
        "\n",
        "Nesse sentido, a tendência pode ser descrita de diversas maneiras:\n",
        "\n",
        "<center>\n",
        "\n",
        "### 𝒀 = <font color=\"#696AC9\">𝑻</font> + 𝜺</center>\n",
        "\n",
        "> - 𝒀 = <font color=\"#696AC9\">𝜷<sub>𝟎</sub> + 𝜷<sub>𝟏</sub> 𝑻 </font>+ 𝜺 → (tendência linear)\n",
        "> - 𝒀 = <font color=\"#696AC9\">𝜷<sub>𝟎</sub> + 𝜷<sub>𝟏</sub>𝑻 + 𝜷<sub>𝟏</sub> 𝑻<sup>𝟐</sup></font> + 𝜺  →  (tendência quadrática)\n",
        "> - 𝒀 = <font color=\"#696AC9\">𝜷<sub>𝟎</sub> 𝒆<sup>(𝜷<sub>𝟏</sub> 𝑻)</sup></font> 𝜺  →  (tendência exponencial)\n",
        "\n",
        "Os valores em <font color=\"#696AC9\">roxo</font> na equação acima (𝒀 ̂ ) representam a <font color=\"#696AC9\">tendência da série temporal</font>.\n",
        "\n",
        "- Identificar a tendência e avaliar o seu comportamento para utilizá-lo em previsões: (𝒀 ̂ )\n",
        "\n",
        "- removê-la da série para facilitar a visualização das outras componentes:\n",
        "𝒀 −𝒀 ̂= 𝜺"
      ],
      "metadata": {
        "id": "6y15sFgCrt4d"
      }
    },
    {
      "cell_type": "code",
      "source": [
        "# Importar bibliotecas necessárias\n",
        "import pandas as pd\n",
        "import matplotlib.pyplot as plt\n",
        "\n",
        "# Caminho para o arquivo XLSX\n",
        "file_path = '/content/H_IMPORTACAO_GERAL_1997-01_2024-12_DT20241017.xlsx'\n",
        "\n",
        "# Ler o arquivo XLSX\n",
        "df = pd.read_excel(file_path)\n",
        "\n",
        "# Exibir as primeiras linhas do DataFrame para garantir que foi carregado corretamente\n",
        "print(df.head())\n",
        "\n",
        "# Filtrar a linha correspondente ao Brasil (ajuste o nome da coluna 'Países' se necessário)\n",
        "df_brasil = df[df['Países'] == 'Brasil']\n",
        "\n",
        "# Definir os anos de interesse (1997 a 2011)\n",
        "anos = list(range(1997, 2012))  # Lista de anos de 1997 a 2011\n",
        "\n",
        "# Selecionar os valores de exportações do Brasil de 1997 a 2011 e inverter a ordem\n",
        "valores_exportacoes = df_brasil.iloc[0, -len(anos):].values[::-1]\n",
        "\n",
        "# Converter os valores de exportações para milhões (dividindo por 1 milhão)\n",
        "valores_exportacoes_milhoes = valores_exportacoes / 1_000_000\n",
        "\n",
        "# Criar um DataFrame com os anos e valores em milhões de dólares\n",
        "df_exportacoes_brasil = pd.DataFrame({\n",
        "    'Ano': anos,\n",
        "    'Exportações (milhões US$)': valores_exportacoes_milhoes\n",
        "})\n",
        "\n",
        "# Definir a coluna 'Ano' como índice\n",
        "df_exportacoes_brasil.set_index('Ano', inplace=True)\n",
        "\n",
        "# Criar o gráfico\n",
        "plt.figure(figsize=(10,6))\n",
        "plt.plot(df_exportacoes_brasil.index, df_exportacoes_brasil['Exportações (milhões US$)'], marker='o', linestyle='-', color='#696AC9')\n",
        "plt.title('Exportações Brasileiras (1997-2011)', fontsize=14)\n",
        "plt.xlabel('Ano', fontsize=12)\n",
        "plt.ylabel('Exportações (Milhões US$)', fontsize=12)\n",
        "plt.grid(True)\n",
        "plt.xticks(rotation=45)\n",
        "plt.tight_layout()\n",
        "\n",
        "# Exibir o gráfico\n",
        "plt.show()\n"
      ],
      "metadata": {
        "colab": {
          "base_uri": "https://localhost:8080/",
          "height": 1000
        },
        "id": "DDy4CMq9PTj7",
        "outputId": "47f5c2af-07a9-4907-9c91-40823d3d9ba9"
      },
      "execution_count": 13,
      "outputs": [
        {
          "output_type": "stream",
          "name": "stdout",
          "text": [
            "           Países  2024 - Valor US$ FOB  2023 - Valor US$ FOB  \\\n",
            "0           China           46306842843           53175757148   \n",
            "1  Estados Unidos           30695380205           37958896968   \n",
            "2        Alemanha           10560722401           13147236762   \n",
            "3       Argentina            9711594052           11997506946   \n",
            "4          Rússia            8471794040           10012627611   \n",
            "\n",
            "   2022 - Valor US$ FOB  2021 - Valor US$ FOB  2020 - Valor US$ FOB  \\\n",
            "0           60743964876           47650945510           34778441387   \n",
            "1           51304351542           39385250785           27875749399   \n",
            "2           12807743944           11346499464            9369072621   \n",
            "3           13099925718           11948896309            7897095769   \n",
            "4            7853002061            5698759353            2747251333   \n",
            "\n",
            "   2019 - Valor US$ FOB  2018 - Valor US$ FOB  2017 - Valor US$ FOB  \\\n",
            "0           36028297004           35157236888           27553978176   \n",
            "1           34774253640           32831387703           27809786079   \n",
            "2           10833389190           10939098260            9474693931   \n",
            "3           10650947790           11128984988            9445651277   \n",
            "4            3715806864            3403255124            2665817852   \n",
            "\n",
            "   2016 - Valor US$ FOB  ...  2006 - Valor US$ FOB  2005 - Valor US$ FOB  \\\n",
            "0           23349925863  ...            7975358764            5337252810   \n",
            "1           23816439862  ...           14569578037           12642111993   \n",
            "2            9131815383  ...            6497544192            6139543756   \n",
            "3            9084526540  ...            8052132513            6243718927   \n",
            "4            2020634544  ...             942521416             722091654   \n",
            "\n",
            "   2004 - Valor US$ FOB  2003 - Valor US$ FOB  2002 - Valor US$ FOB  \\\n",
            "0            3703468228            2143066339            1549003930   \n",
            "1           11341054201            9566171816           10262012591   \n",
            "2            5066234187            4202233412            4414461524   \n",
            "3            5569408308            4672405490            4740086584   \n",
            "4             807995419             554761925             427640077   \n",
            "\n",
            "   2001 - Valor US$ FOB  2000 - Valor US$ FOB  1999 - Valor US$ FOB  \\\n",
            "0            1320146539            1219207561             859683553   \n",
            "1           12856045350           12906087830           11723459828   \n",
            "2            4820167567            4445209396            4764301626   \n",
            "3            6201512442            6849828749            5810968695   \n",
            "4             464184653             571758518             315157509   \n",
            "\n",
            "   1998 - Valor US$ FOB  1997 - Valor US$ FOB  \n",
            "0            1023410281            1159293595  \n",
            "1           13481070834           13661324643  \n",
            "2            5244054144            4947557670  \n",
            "3            8021076364            7922530186  \n",
            "4             293210779             322449171  \n",
            "\n",
            "[5 rows x 29 columns]\n"
          ]
        },
        {
          "output_type": "display_data",
          "data": {
            "text/plain": [
              "<Figure size 1000x600 with 1 Axes>"
            ],
            "image/png": "[encoded data removed]"
          },
          "metadata": {}
        }
      ]
    },
    {
      "cell_type": "markdown",
      "source": [
        "*FOB - Free on Board: É um termo de comércio internacional que indica que o vendedor/exportador assume todos os custos e riscos até que as mercadorias sejam carregadas no navio para exportação. A partir desse ponto, o comprador/importador é responsável pelo transporte, seguro e outros custos até o destino final.*"
      ],
      "metadata": {
        "id": "F1e3GKqpQ5d2"
      }
    },
    {
      "cell_type": "code",
      "source": [
        "# Importar bibliotecas necessárias\n",
        "import pandas as pd\n",
        "import statsmodels.api as sm\n",
        "\n",
        "# Caminho para o arquivo XLSX\n",
        "file_path = '/content/H_IMPORTACAO_GERAL_1997-01_2024-12_DT20241017.xlsx'\n",
        "\n",
        "# Ler o arquivo XLSX\n",
        "df = pd.read_excel(file_path)\n",
        "\n",
        "# Filtrar a linha correspondente ao Brasil (ajuste o nome da coluna 'Países' se necessário)\n",
        "df_brasil = df[df['Países'] == 'Brasil']\n",
        "\n",
        "# Definir os anos de interesse (1997 a 2011)\n",
        "anos = list(range(1997, 2012))  # Lista de anos de 1997 a 2011\n",
        "\n",
        "# Selecionar os valores de exportações do Brasil de 1997 a 2011 e inverter a ordem\n",
        "valores_exportacoes = df_brasil.iloc[0, -len(anos):].values[::-1]\n",
        "\n",
        "# Criar um DataFrame com os anos e valores em dólares\n",
        "df_exportacoes_brasil = pd.DataFrame({\n",
        "    'Ano': anos,\n",
        "    'Exportações (US$)': valores_exportacoes\n",
        "})\n",
        "\n",
        "# Verificar e converter os tipos de dados\n",
        "df_exportacoes_brasil['Exportações (US$)'] = pd.to_numeric(df_exportacoes_brasil['Exportações (US$)'], errors='coerce')\n",
        "\n",
        "# Remover entradas com valores NaN\n",
        "df_exportacoes_brasil = df_exportacoes_brasil.dropna()\n",
        "\n",
        "# Definir a variável dependente (y) e a variável independente (X)\n",
        "X = df_exportacoes_brasil['Ano']  # Variável independente (anos)\n",
        "y = df_exportacoes_brasil['Exportações (US$)']  # Variável dependente (exportações)\n",
        "\n",
        "# Adicionar uma constante ao modelo (necessário para a interceptação)\n",
        "X = sm.add_constant(X)\n",
        "\n",
        "# Ajustar o modelo de regressão OLS (MQO)\n",
        "modelo = sm.OLS(y, X).fit()\n",
        "\n",
        "# Exibir o resumo do modelo\n",
        "print(modelo.summary())\n"
      ],
      "metadata": {
        "colab": {
          "base_uri": "https://localhost:8080/"
        },
        "id": "ijEcMZJORqff",
        "outputId": "ad978a64-79f5-490c-ea02-fa4e13ec1896"
      },
      "execution_count": 12,
      "outputs": [
        {
          "output_type": "stream",
          "name": "stdout",
          "text": [
            "                            OLS Regression Results                            \n",
            "==============================================================================\n",
            "Dep. Variable:      Exportações (US$)   R-squared:                       0.500\n",
            "Model:                            OLS   Adj. R-squared:                  0.461\n",
            "Method:                 Least Squares   F-statistic:                     13.00\n",
            "Date:                Fri, 18 Oct 2024   Prob (F-statistic):            0.00320\n",
            "Time:                        01:42:06   Log-Likelihood:                -305.30\n",
            "No. Observations:                  15   AIC:                             614.6\n",
            "Df Residuals:                      13   BIC:                             616.0\n",
            "Df Model:                           1                                         \n",
            "Covariance Type:            nonrobust                                         \n",
            "==============================================================================\n",
            "                 coef    std err          t      P>|t|      [0.025      0.975]\n",
            "------------------------------------------------------------------------------\n",
            "const      -7.732e+10   2.15e+10     -3.597      0.003   -1.24e+11   -3.09e+10\n",
            "Ano         3.867e+07   1.07e+07      3.605      0.003    1.55e+07    6.18e+07\n",
            "==============================================================================\n",
            "Omnibus:                        2.437   Durbin-Watson:                   0.810\n",
            "Prob(Omnibus):                  0.296   Jarque-Bera (JB):                1.426\n",
            "Skew:                           0.752   Prob(JB):                        0.490\n",
            "Kurtosis:                       2.858   Cond. No.                     9.30e+05\n",
            "==============================================================================\n",
            "\n",
            "Notes:\n",
            "[1] Standard Errors assume that the covariance matrix of the errors is correctly specified.\n",
            "[2] The condition number is large, 9.3e+05. This might indicate that there are\n",
            "strong multicollinearity or other numerical problems.\n"
          ]
        },
        {
          "output_type": "stream",
          "name": "stderr",
          "text": [
            "/usr/local/lib/python3.10/dist-packages/scipy/stats/_axis_nan_policy.py:531: UserWarning: kurtosistest only valid for n>=20 ... continuing anyway, n=15\n",
            "  res = hypotest_fun_out(*samples, **kwds)\n"
          ]
        }
      ]
    },
    {
      "cell_type": "markdown",
      "source": [
        "Modelo linearizado é dado por:\n",
        "- 𝒀 = <font color=\"#696AC9\">𝜷<sub>𝟎</sub> 𝒆<sup>(𝜷<sub>𝟏</sub> 𝑻)</sup></font> 𝜺  →  (tendência exponencial)\n",
        "\n",
        "\n",
        "<center>\n",
        "𝒍𝒏𝒀 = <font color=\"#696AC9\">𝒍𝒏𝜷<sub>𝟎</sub> + 𝜷<sub>1</sub> 𝑻</font> + 𝒍𝒏𝜺 </center>\n",
        "\n",
        "\n",
        "Os parâmetros estimados no modelo exponencial não possuem interpretação direta.\n",
        "\n",
        "Deve-se calcular o antilogaritmo para obter os coeficientes corretamente.\n",
        "\n"
      ],
      "metadata": {
        "id": "J0snJ28gTD0V"
      }
    },
    {
      "cell_type": "markdown",
      "source": [
        "Quando você tem um modelo de regressão exponencial, a relação entre as variáveis é expressa como \\(y = ae^{bx}\\), onde \\(a\\) e \\(b\\) são os coeficientes que você estima. Para obter a interpretação correta dos coeficientes em uma regressão exponencial, você deve calcular o antilogaritmo (exponencial) do intercepto e considerar a transformação da variável dependente.\n",
        "\n",
        "### Ajuste do Modelo Exponencial\n",
        "\n",
        "1. Transforme a variável dependente aplicando o logaritmo natural.\n",
        "2. Realize a regressão linear nos dados transformados.\n",
        "3. Calcule o antilogaritmo do intercepto após ajustar o modelo.\n",
        "\n",
        "Aqui está o código para realizar esses passos:"
      ],
      "metadata": {
        "id": "HHHwge2eU8FX"
      }
    },
    {
      "cell_type": "code",
      "source": [
        "# Importar bibliotecas necessárias\n",
        "import pandas as pd\n",
        "import statsmodels.api as sm\n",
        "import numpy as np\n",
        "\n",
        "# Caminho para o arquivo XLSX\n",
        "file_path = '/content/H_IMPORTACAO_GERAL_1997-01_2024-12_DT20241017.xlsx'\n",
        "\n",
        "# Ler o arquivo XLSX\n",
        "df = pd.read_excel(file_path)\n",
        "\n",
        "# Filtrar a linha correspondente ao Brasil (ajuste o nome da coluna 'Países' se necessário)\n",
        "df_brasil = df[df['Países'] == 'Brasil']\n",
        "\n",
        "# Definir os anos de interesse (1997 a 2011)\n",
        "anos = list(range(1997, 2012))  # Lista de anos de 1997 a 2011\n",
        "\n",
        "# Selecionar os valores de exportações do Brasil de 1997 a 2011 e inverter a ordem\n",
        "valores_exportacoes = df_brasil.iloc[0, -len(anos):].values[::-1]\n",
        "\n",
        "# Criar um DataFrame com os anos e valores em dólares\n",
        "df_exportacoes_brasil = pd.DataFrame({\n",
        "    'Ano': anos,\n",
        "    'Exportações (US$)': valores_exportacoes\n",
        "})\n",
        "\n",
        "# Verificar e converter os tipos de dados\n",
        "df_exportacoes_brasil['Exportações (US$)'] = pd.to_numeric(df_exportacoes_brasil['Exportações (US$)'], errors='coerce')\n",
        "\n",
        "# Remover entradas com valores NaN\n",
        "df_exportacoes_brasil = df_exportacoes_brasil.dropna()\n",
        "\n",
        "# Transformar a variável dependente (log das exportações)\n",
        "df_exportacoes_brasil['log_Exportações'] = np.log(df_exportacoes_brasil['Exportações (US$)'])\n",
        "\n",
        "# Definir a variável dependente (y) e a variável independente (X)\n",
        "X = df_exportacoes_brasil['Ano']  # Variável independente (anos)\n",
        "y = df_exportacoes_brasil['log_Exportações']  # Variável dependente transformada\n",
        "\n",
        "# Adicionar uma constante ao modelo (necessário para a interceptação)\n",
        "X = sm.add_constant(X)\n",
        "\n",
        "# Ajustar o modelo de regressão OLS (MQO) no logaritmo das exportações\n",
        "modelo = sm.OLS(y, X).fit()\n",
        "\n",
        "# Exibir o resumo do modelo\n",
        "print(modelo.summary())\n",
        "\n",
        "# Calcular os coeficientes em termos de exportações\n",
        "intercepto = modelo.params['const']\n",
        "coef_ano = modelo.params['Ano']\n",
        "\n",
        "# Calcular o antilogaritmo para o intercepto\n",
        "a = np.exp(intercepto)  # Valor do intercepto em termos de exportações\n",
        "b = coef_ano  # Coeficiente da variável Ano\n",
        "\n",
        "# Exibir os resultados\n",
        "print(f\"Intercepto (a): {a}\")\n",
        "print(f\"Coeficiente do Ano (b): {b}\")\n"
      ],
      "metadata": {
        "colab": {
          "base_uri": "https://localhost:8080/"
        },
        "id": "jsOQeFv5TDMp",
        "outputId": "7fa48852-8e23-44c5-f1c6-88b4695b254d"
      },
      "execution_count": 14,
      "outputs": [
        {
          "output_type": "stream",
          "name": "stdout",
          "text": [
            "                            OLS Regression Results                            \n",
            "==============================================================================\n",
            "Dep. Variable:        log_Exportações   R-squared:                       0.740\n",
            "Model:                            OLS   Adj. R-squared:                  0.720\n",
            "Method:                 Least Squares   F-statistic:                     37.00\n",
            "Date:                Fri, 18 Oct 2024   Prob (F-statistic):           3.89e-05\n",
            "Time:                        01:53:36   Log-Likelihood:                -12.618\n",
            "No. Observations:                  15   AIC:                             29.24\n",
            "Df Residuals:                      13   BIC:                             30.65\n",
            "Df Model:                           1                                         \n",
            "Covariance Type:            nonrobust                                         \n",
            "==============================================================================\n",
            "                 coef    std err          t      P>|t|      [0.025      0.975]\n",
            "------------------------------------------------------------------------------\n",
            "const       -420.7157     72.189     -5.828      0.000    -576.671    -264.761\n",
            "Ano            0.2191      0.036      6.083      0.000       0.141       0.297\n",
            "==============================================================================\n",
            "Omnibus:                        0.605   Durbin-Watson:                   1.165\n",
            "Prob(Omnibus):                  0.739   Jarque-Bera (JB):                0.641\n",
            "Skew:                           0.347   Prob(JB):                        0.726\n",
            "Kurtosis:                       2.263   Cond. No.                     9.30e+05\n",
            "==============================================================================\n",
            "\n",
            "Notes:\n",
            "[1] Standard Errors assume that the covariance matrix of the errors is correctly specified.\n",
            "[2] The condition number is large, 9.3e+05. This might indicate that there are\n",
            "strong multicollinearity or other numerical problems.\n",
            "Intercepto (a): 1.9296358133298e-183\n",
            "Coeficiente do Ano (b): 0.2191092568019286\n"
          ]
        },
        {
          "output_type": "stream",
          "name": "stderr",
          "text": [
            "/usr/local/lib/python3.10/dist-packages/scipy/stats/_axis_nan_policy.py:531: UserWarning: kurtosistest only valid for n>=20 ... continuing anyway, n=15\n",
            "  res = hypotest_fun_out(*samples, **kwds)\n"
          ]
        }
      ]
    },
    {
      "cell_type": "markdown",
      "source": [
        "### Explicação do Código:\n",
        "\n",
        "1. **Transformação Logarítmica:** O valor das exportações é transformado usando `np.log()`.\n",
        "2. **Ajuste do Modelo:** A regressão é realizada sobre a variável logarítmica.\n",
        "3. **Cálculo do Antilogaritmo:** O antilogaritmo do intercepto é calculado usando `np.exp()`, que fornece uma interpretação direta em termos de exportações.\n",
        "\n",
        "### Interpretação:\n",
        "- O intercepto \\(a\\) representa o nível de exportações quando o ano é zero (não aplicável diretamente, mas pode ser interpretado como uma base para a análise).\n",
        "- O coeficiente \\(b\\) representa a variação percentual nas exportações para cada incremento de um ano, expresso em logaritmos.\n",
        "\n",
        "Você pode executar esse código no Google Colab, e ele irá fornecer os coeficientes corretamente ajustados para o modelo exponencial.\n",
        "\n",
        "### Interpretação da Regressão:\n",
        "Aqui está uma interpretação resumida dos resultados da regressão OLS aplicada à transformação logarítmica das exportações brasileiras:\n",
        "\n",
        "### Resultados da Regressão\n",
        "\n",
        "- **Variável Dependente:** log_Exportações\n",
        "- **Número de Observações:** 15\n",
        "\n",
        "### Estatísticas do Modelo\n",
        "\n",
        "- **R-squared (R²):** 0.740  \n",
        "  Aproximadamente 74% da variação nas exportações (em termos logarítmicos) é explicada pelo modelo, o que indica um bom ajuste.\n",
        "\n",
        "- **Adj. R-squared:** 0.720  \n",
        "  O valor ajustado para o R², que leva em conta o número de variáveis independentes, também sugere que o modelo é robusto.\n",
        "\n",
        "- **F-statistic:** 37.00  \n",
        "  Este valor alto indica que o modelo é significativo e que as variáveis explicativas têm um impacto significativo sobre a variável dependente.\n",
        "\n",
        "- **Prob (F-statistic):** 3.89e-05  \n",
        "  Um valor muito baixo, indicando que podemos rejeitar a hipótese nula de que todos os coeficientes são iguais a zero.\n",
        "\n",
        "### Coeficientes\n",
        "\n",
        "- **Intercepto (const):** -420.7157  \n",
        "  Este coeficiente representa o logaritmo das exportações quando o ano é zero, mas sua interpretação prática não é relevante. A grande magnitude e o valor negativo sugerem que, sem uma interpretação direta, esse número pode indicar um ponto fora do alcance prático.\n",
        "\n",
        "- **Coeficiente do Ano (Ano):** 0.2191  \n",
        "  Este coeficiente significa que, para cada aumento de um ano, espera-se que as exportações aumentem em aproximadamente 21.91% (quando consideramos a transformação logarítmica).\n",
        "\n",
        "### Erros Padrão e Teste de Significância\n",
        "\n",
        "- **Erro Padrão do Coeficiente do Ano:** 0.036  \n",
        "  O erro padrão relativamente baixo sugere que a estimativa do coeficiente é confiável.\n",
        "\n",
        "- **Valor p:** 0.000  \n",
        "  Isso indica que o coeficiente do ano é estatisticamente significativo, permitindo-nos concluir que há uma relação positiva entre o tempo e as exportações.\n",
        "\n",
        "### Diagnóstico do Modelo\n",
        "\n",
        "- **Durbin-Watson:** 1.165  \n",
        "  Um valor abaixo de 2 sugere a possibilidade de autocorrelação nos resíduos, o que pode ser uma preocupação.\n",
        "\n",
        "- **Condition Number:** 9.30e+05  \n",
        "  Um número de condição elevado pode indicar problemas de multicolinearidade ou instabilidade numérica.\n",
        "\n",
        "### Conclusão\n",
        "\n",
        "Os resultados da regressão logarítmica indicam uma relação positiva significativa entre o tempo e as exportações brasileiras, com um aumento percentual considerável a cada ano. Apesar do bom ajuste do modelo, a interpretação do intercepto não é prática, e há preocupações com a autocorrelação e a condição numérica, que devem ser consideradas em análises futuras.\n",
        "\n",
        "Fonte dos dados: https://comexstat.mdic.gov.br/pt/geral"
      ],
      "metadata": {
        "id": "qYyo6ycsVPDn"
      }
    },
    {
      "cell_type": "markdown",
      "source": [
        "Uma abordagem amplamente utilizada para a identificação de tendências é o teste *Mann-Kendall*. Esse teste não paramétrico oferece uma maneira objetiva de detectar tendências em séries temporais, sem fazer suposições sobre a distribuição dos dados. Os testes geralmente consideram um nível de significância de 5%.\n",
        "\n",
        "*Abaixo está um exemplo de como o teste Mann-Kendall pode ser implementado em Python:*"
      ],
      "metadata": {
        "id": "l63sEKx2J4ku"
      }
    },
    {
      "cell_type": "code",
      "execution_count": 4,
      "metadata": {
        "colab": {
          "base_uri": "https://localhost:8080/"
        },
        "id": "AtRlLzmKqd4_",
        "outputId": "f4af73fa-da28-4aff-c74f-c7d6e9288a82"
      },
      "outputs": [
        {
          "output_type": "stream",
          "name": "stdout",
          "text": [
            "Requirement already satisfied: pymannkendall in /usr/local/lib/python3.10/dist-packages (1.4.3)\n",
            "Requirement already satisfied: numpy in /usr/local/lib/python3.10/dist-packages (from pymannkendall) (1.26.4)\n",
            "Requirement already satisfied: scipy in /usr/local/lib/python3.10/dist-packages (from pymannkendall) (1.13.1)\n",
            "Resultado do teste: Mann_Kendall_Test(trend='increasing', h=True, p=8.303070332638107e-05, z=3.9354796403996297, Tau=1.0, s=45.0, var_s=125.0, slope=12.5, intercept=138.75)\n"
          ]
        }
      ],
      "source": [
        "# Instalando a biblioteca do Python - Em Python há apenas a biblioteca pymannkendall, mas é uma biblioteca bastante extensa e com mais testes de tendência.\n",
        "\n",
        "# Instalar o pacote pymannkendall\n",
        "!pip install pymannkendall\n",
        "\n",
        "# Importar o pacote e realizar o teste Mann-Kendall\n",
        "import numpy as np\n",
        "import pandas as pd\n",
        "import pymannkendall as mk\n",
        "\n",
        "# Simulação de dados de vendas de varejo\n",
        "dados_vendas = [150, 160, 165, 180, 190, 200, 210, 230, 250, 270]\n",
        "\n",
        "# Aplicação do teste Mann-Kendall\n",
        "resultado = mk.original_test(dados_vendas)\n",
        "\n",
        "# Exibição dos resultados\n",
        "print(f'Resultado do teste: {resultado}')\n"
      ]
    },
    {
      "cell_type": "markdown",
      "source": [
        "Os resultados do teste Mann-Kendall mostram o comportamento da tendência de uma série temporal e são interpretados da seguinte forma:\n",
        "\n",
        "- **`trend='increasing'`**: A série apresenta uma tendência **crescente**. Isso significa que, ao longo do tempo, os valores da série estão aumentando.\n",
        "  \n",
        "- **`h=True`**: O valor `True` indica que, ao nível de significância de 5% (ou outro previamente configurado), há **evidências suficientes** para rejeitar a hipótese nula de que **não há tendência** na série. Ou seja, existe uma tendência estatisticamente significativa.\n",
        "\n",
        "- **`p=8.303070332638107e-05`**: Este é o valor **p** (probabilidade associada ao teste). Um valor muito baixo (neste caso, 0.000083) indica que é altamente improvável que a tendência observada tenha ocorrido por acaso, confirmando que a tendência crescente é significativa.\n",
        "\n",
        "- **`z=3.9354796403996297`**: O valor **z** é a estatística do teste z, que mede quantos desvios-padrão o valor observado está longe da hipótese nula (tendência inexistente). Valores elevados de z (positivos neste caso) indicam uma tendência positiva (crescente).\n",
        "\n",
        "- **`Tau=1.0`**: Este é o coeficiente de Kendall's Tau, que mede a força da tendência. O valor 1.0 indica uma correlação perfeita positiva, ou seja, todos os pares de pontos temporais da série apresentam um padrão de crescimento.\n",
        "\n",
        "- **`s=45.0`**: Este valor é a soma das diferenças entre os pares de dados (estatística S), usada para calcular a tendência.\n",
        "\n",
        "- **`var_s=125.0`**: Este valor representa a variância da estatística S, usada para calcular a estatística z.\n",
        "\n",
        "- **`slope=12.5`**: A inclinação estimada da tendência linear. Neste caso, a inclinação de 12.5 significa que, em média, a série está aumentando 12.5 unidades por período.\n",
        "\n",
        "- **`intercept=138.75`**: Este valor representa o intercepto da linha de tendência estimada. Quando o tempo é 0, o valor da série seria 138.75.\n",
        "\n",
        "**Conclusão:**\n",
        "Os resultados indicam que a série temporal apresenta uma **tendência crescente significativa**. A probabilidade de essa tendência ser um evento aleatório é extremamente baixa (p-valor próximo de 0), e a tendência é forte, com uma inclinação de 12.5 por período. Isso sugere que o comportamento de crescimento nas vendas (ou na variável analisada) é consistente e estatisticamente robusto."
      ],
      "metadata": {
        "id": "8c2HS7bWyXBN"
      }
    },
    {
      "cell_type": "markdown",
      "source": [
        "-----\n",
        "### Vamos replicar para os dados de Importações do Brasil"
      ],
      "metadata": {
        "id": "htsmOIpdWqg5"
      }
    },
    {
      "cell_type": "code",
      "source": [
        "# Instalar o pacote pymannkendall (caso necessário)\n",
        "!pip install pymannkendall\n",
        "\n",
        "# Importar as bibliotecas necessárias\n",
        "import pandas as pd\n",
        "import pymannkendall as mk\n",
        "\n",
        "# Caminho para o arquivo XLSX\n",
        "file_path = '/content/H_IMPORTACAO_GERAL_1997-01_2024-12_DT20241017.xlsx'\n",
        "\n",
        "# Ler o arquivo XLSX\n",
        "df = pd.read_excel(file_path)\n",
        "\n",
        "# Filtrar a linha correspondente ao Brasil (ajuste o nome da coluna 'Países' se necessário)\n",
        "df_brasil = df[df['Países'] == 'Brasil']\n",
        "\n",
        "# Definir os anos de interesse (1997 a 2011)\n",
        "anos = list(range(1997, 2012))  # Lista de anos de 1997 a 2011\n",
        "\n",
        "# Selecionar os valores de exportações do Brasil de 1997 a 2011 e inverter a ordem\n",
        "valores_exportacoes = df_brasil.iloc[0, -len(anos):].values[::-1]\n",
        "\n",
        "# Aplicar o teste Mann-Kendall nos valores reais de exportação\n",
        "resultado = mk.original_test(valores_exportacoes)\n",
        "\n",
        "# Exibir os resultados do teste\n",
        "print(f'Resultado do teste: {resultado}')\n"
      ],
      "metadata": {
        "colab": {
          "base_uri": "https://localhost:8080/"
        },
        "id": "-H9j2I6rxARo",
        "outputId": "9dfa9178-80b4-4bc7-f16d-2dc1852e11e6"
      },
      "execution_count": 15,
      "outputs": [
        {
          "output_type": "stream",
          "name": "stdout",
          "text": [
            "Collecting pymannkendall\n",
            "  Downloading pymannkendall-1.4.3-py3-none-any.whl.metadata (14 kB)\n",
            "Requirement already satisfied: numpy in /usr/local/lib/python3.10/dist-packages (from pymannkendall) (1.26.4)\n",
            "Requirement already satisfied: scipy in /usr/local/lib/python3.10/dist-packages (from pymannkendall) (1.13.1)\n",
            "Downloading pymannkendall-1.4.3-py3-none-any.whl (12 kB)\n",
            "Installing collected packages: pymannkendall\n",
            "Successfully installed pymannkendall-1.4.3\n",
            "Resultado do teste: Mann_Kendall_Test(trend='increasing', h=True, p=0.0015392574185091323, z=3.1671786195545186, Tau=0.6190476190476191, s=65.0, var_s=408.3333333333333, slope=16394030.9, intercept=-27055585.299999997)\n"
          ]
        }
      ]
    },
    {
      "cell_type": "code",
      "source": [
        "from IPython.display import display, HTML\n",
        "\n",
        "# Criar uma tabela HTML estilizada com o resumo da interpretação\n",
        "html = \"\"\"\n",
        "<table style=\"width:60%; margin: 0 auto; border: 2px solid #696AC9; border-collapse: collapse; font-family: Arial, sans-serif;\">\n",
        "  <tr style=\"background-color: #696AC9; color: white; text-align: center;\">\n",
        "    <th colspan=\"2\" style=\"padding: 10px;\">Interpretação do Teste Mann-Kendall</th>\n",
        "  </tr>\n",
        "  <tr style=\"border-bottom: 1px solid #ddd;\">\n",
        "    <td style=\"padding: 10px; font-weight: bold;\">Tendência:</td>\n",
        "    <td style=\"padding: 10px;\">Aumentando</td>\n",
        "  </tr>\n",
        "  <tr style=\"border-bottom: 1px solid #ddd;\">\n",
        "    <td style=\"padding: 10px; font-weight: bold;\">p-valor:</td>\n",
        "    <td style=\"padding: 10px;\">0.0015 (Significativo)</td>\n",
        "  </tr>\n",
        "  <tr style=\"border-bottom: 1px solid #ddd;\">\n",
        "    <td style=\"padding: 10px; font-weight: bold;\">Coeficiente Tau:</td>\n",
        "    <td style=\"padding: 10px;\">0.62 (Correlação positiva)</td>\n",
        "  </tr>\n",
        "  <tr style=\"border-bottom: 1px solid #ddd;\">\n",
        "    <td style=\"padding: 10px; font-weight: bold;\">Taxa de Crescimento (Slope):</td>\n",
        "    <td style=\"padding: 10px;\">16.39 milhões/ano</td>\n",
        "  </tr>\n",
        "</table>\n",
        "\"\"\"\n",
        "\n",
        "# Exibir a tabela no Google Colab\n",
        "display(HTML(html))\n"
      ],
      "metadata": {
        "colab": {
          "base_uri": "https://localhost:8080/",
          "height": 211
        },
        "id": "hPh4ZpWuWxig",
        "outputId": "24bea3e5-b6be-4656-e52d-7cd147f79674"
      },
      "execution_count": 17,
      "outputs": [
        {
          "output_type": "display_data",
          "data": {
            "text/plain": [
              "<IPython.core.display.HTML object>"
            ],
            "text/html": [
              "\n",
              "<table style=\"width:60%; margin: 0 auto; border: 2px solid #696AC9; border-collapse: collapse; font-family: Arial, sans-serif;\">\n",
              "  <tr style=\"background-color: #696AC9; color: white; text-align: center;\">\n",
              "    <th colspan=\"2\" style=\"padding: 10px;\">Interpretação do Teste Mann-Kendall</th>\n",
              "  </tr>\n",
              "  <tr style=\"border-bottom: 1px solid #ddd;\">\n",
              "    <td style=\"padding: 10px; font-weight: bold;\">Tendência:</td>\n",
              "    <td style=\"padding: 10px;\">Aumentando</td>\n",
              "  </tr>\n",
              "  <tr style=\"border-bottom: 1px solid #ddd;\">\n",
              "    <td style=\"padding: 10px; font-weight: bold;\">p-valor:</td>\n",
              "    <td style=\"padding: 10px;\">0.0015 (Significativo)</td>\n",
              "  </tr>\n",
              "  <tr style=\"border-bottom: 1px solid #ddd;\">\n",
              "    <td style=\"padding: 10px; font-weight: bold;\">Coeficiente Tau:</td>\n",
              "    <td style=\"padding: 10px;\">0.62 (Correlação positiva)</td>\n",
              "  </tr>\n",
              "  <tr style=\"border-bottom: 1px solid #ddd;\">\n",
              "    <td style=\"padding: 10px; font-weight: bold;\">Taxa de Crescimento (Slope):</td>\n",
              "    <td style=\"padding: 10px;\">16.39 milhões/ano</td>\n",
              "  </tr>\n",
              "</table>\n"
            ]
          },
          "metadata": {}
        }
      ]
    },
    {
      "cell_type": "markdown",
      "source": [
        "A partir dos dados interpretados no teste de Mann-Kendall, você pode destacar os seguintes pontos:\n",
        "\n",
        "1. **Tendência de Crescimento nas Exportações:**\n",
        "   Os resultados indicam uma tendência **significativa de aumento** nas exportações do Brasil ao longo dos anos analisados. Essa conclusão é reforçada pelo p-valor muito baixo (0.0015), indicando que a probabilidade dessa tendência ter ocorrido por acaso é extremamente baixa.\n",
        "\n",
        "2. **Força da Tendência:**\n",
        "   O coeficiente **Tau** de 0.62 aponta uma **correlação positiva forte**, o que significa que existe uma relação consistente entre o tempo e o aumento das exportações.\n",
        "\n",
        "3. **Taxa de Crescimento:**\n",
        "   Com uma **taxa de crescimento anual (slope)** de aproximadamente 16.39 milhões de dólares, é possível dizer que, em média, as exportações aumentaram nessa proporção a cada ano durante o período analisado.\n",
        "\n",
        "4. **Significado Econômico:**\n",
        "   Essa tendência de aumento nas exportações sugere uma melhoria contínua no comércio internacional do Brasil nesse período, o que pode ser associado a fatores como maior competitividade, acordos comerciais, ou crescimento da demanda global por produtos brasileiros.\n",
        "\n",
        "Com isso, pode-se concluir que o Brasil apresentou uma **forte e significativa expansão de suas exportações** no período, o que é um dado relevante para entender a dinâmica econômica do país nesse intervalo de tempo."
      ],
      "metadata": {
        "id": "uxBSGZpdYY_q"
      }
    }
  ]
}
