{
 "cells": [
  {
   "cell_type": "markdown",
   "id": "fb2a7474",
   "metadata": {},
   "source": [
    "<img src=\"https://cdn.icon-icons.com/icons2/2699/PNG/96/jupyter_logo_icon_169453.png\">"
   ]
  },
  {
   "cell_type": "markdown",
   "id": "37ea6427",
   "metadata": {},
   "source": [
    "-----\n",
    "# Print 📄"
   ]
  },
  {
   "cell_type": "code",
   "execution_count": 1,
   "id": "33a295f9",
   "metadata": {},
   "outputs": [
    {
     "name": "stdout",
     "output_type": "stream",
     "text": [
      "texto\n"
     ]
    }
   ],
   "source": [
    "# Textos, para serem impressos, devem estar entre 'aspas simples'\n",
    "print('texto')"
   ]
  },
  {
   "cell_type": "markdown",
   "id": "b6463a2c",
   "metadata": {},
   "source": [
    "-----\n",
    "# Operações Básicas ➕ \n",
    "<img src=\"https://m.media-amazon.com/images/I/71Pprm1HvNL._AC_UF1000,1000_QL80_.jpg\" style=\"height:100px;\">"
   ]
  },
  {
   "cell_type": "code",
   "execution_count": 2,
   "id": "adcc97a0",
   "metadata": {},
   "outputs": [
    {
     "name": "stdout",
     "output_type": "stream",
     "text": [
      "2\n",
      "1\n",
      "18\n",
      "9.0\n",
      "0.3333333333333333 No Python usa-se . ao invés de , para separação de casas decimais\n",
      "2\n",
      "27\n",
      "-3.0\n"
     ]
    }
   ],
   "source": [
    "# Soma\n",
    "print(1+1)\n",
    "\n",
    "# Subtração\n",
    "print(2-1)\n",
    "\n",
    "# Multiplicação\n",
    "print(3*6)\n",
    "\n",
    "# Divisão\n",
    "print(18/2)\n",
    "print(str(1/3) + ' No Python usa-se . ao invés de , para separação de casas decimais')\n",
    "\n",
    "# Resto\n",
    "print(27%5)\n",
    "\n",
    "# Potenciação\n",
    "print(3**3)\n",
    "\n",
    "# Radiciação\n",
    "# Exemplo: raiz cúbica de -27\n",
    "print(-27 ** (1/3))  # Saída: -3.0\n",
    "\n",
    "# A lógica da ordem das operações segue a mesma da matemática"
   ]
  },
  {
   "cell_type": "markdown",
   "id": "fae9bbd4",
   "metadata": {},
   "source": [
    "-----\n",
    "# Strings"
   ]
  },
  {
   "cell_type": "code",
   "execution_count": 3,
   "id": "3b2c2501",
   "metadata": {},
   "outputs": [
    {
     "name": "stdout",
     "output_type": "stream",
     "text": [
      "Meu nome é Marlon\n"
     ]
    }
   ],
   "source": [
    "# Concatenar\n",
    "print('Meu nome é ' + 'Marlon')"
   ]
  },
  {
   "cell_type": "markdown",
   "id": "bb0af670",
   "metadata": {},
   "source": [
    "## in"
   ]
  },
  {
   "cell_type": "code",
   "execution_count": 4,
   "id": "0ab9d795",
   "metadata": {},
   "outputs": [
    {
     "name": "stdout",
     "output_type": "stream",
     "text": [
      "False\n",
      "False\n",
      "True\n"
     ]
    }
   ],
   "source": [
    "# in verifica se há um texto dentro do outro\n",
    "print ('Eu vou aprender Python' in 'Python') # A ordem importa\n",
    "print ('Python' in 'Eu vou aprender python') # A forma da escrita importa\n",
    "print ('Python' in 'Eu vou aprender Python')"
   ]
  },
  {
   "cell_type": "markdown",
   "id": "996b502d",
   "metadata": {},
   "source": [
    "-----------\n",
    "# Variáveis"
   ]
  },
  {
   "cell_type": "code",
   "execution_count": 5,
   "id": "580c358a",
   "metadata": {},
   "outputs": [
    {
     "name": "stdout",
     "output_type": "stream",
     "text": [
      "1500\n",
      "Marlon\n"
     ]
    }
   ],
   "source": [
    "# Definindo variáveis\n",
    "qtd_vendas = 1500 # = a gente lê como \"recebe\"\n",
    "nome = 'Marlon'\n",
    "\n",
    "print(qtd_vendas)\n",
    "print(nome)"
   ]
  },
  {
   "cell_type": "code",
   "execution_count": 6,
   "id": "6030ceda",
   "metadata": {},
   "outputs": [],
   "source": [
    "faturamento = 150\n",
    "custo = 60"
   ]
  },
  {
   "cell_type": "code",
   "execution_count": 7,
   "id": "ca877653",
   "metadata": {},
   "outputs": [],
   "source": [
    "lucro = faturamento - custo"
   ]
  },
  {
   "cell_type": "code",
   "execution_count": 8,
   "id": "fbea5e00",
   "metadata": {},
   "outputs": [
    {
     "name": "stdout",
     "output_type": "stream",
     "text": [
      "90\n"
     ]
    }
   ],
   "source": [
    "print(lucro)"
   ]
  },
  {
   "cell_type": "markdown",
   "id": "864afd87",
   "metadata": {},
   "source": [
    "--------\n",
    "# input\n",
    "Interação | Pegando informações com o usuário"
   ]
  },
  {
   "cell_type": "code",
   "execution_count": 11,
   "id": "fdc31378",
   "metadata": {},
   "outputs": [
    {
     "name": "stdout",
     "output_type": "stream",
     "text": [
      "Qual o seu nome completo? Marlon Roberto Dias Soares\n"
     ]
    },
    {
     "data": {
      "text/plain": [
       "'Marlon Roberto Dias Soares'"
      ]
     },
     "execution_count": 11,
     "metadata": {},
     "output_type": "execute_result"
    }
   ],
   "source": [
    "input('Qual o seu nome completo? ')"
   ]
  },
  {
   "cell_type": "markdown",
   "id": "c1955b8c",
   "metadata": {},
   "source": [
    "Mas essa forma não armazena a informação. A forma de armazenamento exige a inclusão de uma variável"
   ]
  },
  {
   "cell_type": "code",
   "execution_count": 12,
   "id": "74ab7e58",
   "metadata": {},
   "outputs": [
    {
     "ename": "NameError",
     "evalue": "name 'fullname' is not defined",
     "output_type": "error",
     "traceback": [
      "\u001b[1;31m---------------------------------------------------------------------------\u001b[0m",
      "\u001b[1;31mNameError\u001b[0m                                 Traceback (most recent call last)",
      "\u001b[1;32m~\\AppData\\Local\\Temp/ipykernel_1256/2598747401.py\u001b[0m in \u001b[0;36m<module>\u001b[1;34m\u001b[0m\n\u001b[1;32m----> 1\u001b[1;33m \u001b[0mprint\u001b[0m\u001b[1;33m(\u001b[0m\u001b[0mfullname\u001b[0m\u001b[1;33m)\u001b[0m\u001b[1;33m\u001b[0m\u001b[1;33m\u001b[0m\u001b[0m\n\u001b[0m",
      "\u001b[1;31mNameError\u001b[0m: name 'fullname' is not defined"
     ]
    }
   ],
   "source": [
    "print(fullname)"
   ]
  },
  {
   "cell_type": "code",
   "execution_count": 13,
   "id": "ec4eac99",
   "metadata": {},
   "outputs": [
    {
     "name": "stdout",
     "output_type": "stream",
     "text": [
      "Qual é o seu nome completo? Marlon Roberto Dias Soares\n"
     ]
    }
   ],
   "source": [
    "fullname = input('Qual é o seu nome completo? ')"
   ]
  },
  {
   "cell_type": "code",
   "execution_count": 14,
   "id": "184f866a",
   "metadata": {},
   "outputs": [
    {
     "name": "stdout",
     "output_type": "stream",
     "text": [
      "Marlon Roberto Dias Soares\n"
     ]
    }
   ],
   "source": [
    "print(fullname)"
   ]
  },
  {
   "cell_type": "code",
   "execution_count": 2,
   "id": "67bb5cfe",
   "metadata": {},
   "outputs": [
    {
     "name": "stdout",
     "output_type": "stream",
     "text": [
      "Qual seu nome?Marlon\n",
      "Qual seu sobrenome?Soares\n",
      "Marlon Soares\n"
     ]
    }
   ],
   "source": [
    "fname = input('Qual seu nome?')\n",
    "lname = input ('Qual seu sobrenome?')\n",
    "print(fname + ' ' + lname)"
   ]
  },
  {
   "cell_type": "markdown",
   "id": "372f24d5",
   "metadata": {},
   "source": [
    "<a href=\"https://github.com/Marlonsemj/Python/blob/main/Hashtag/01.%20Primeiros%20Passos/Exerc%C3%ADcios%20M%C3%B3dulo%201%20(1).ipynb\" target=\"_blank\" style=\"display: inline-block; padding: 10px 20px; font-size: 16px; color: white; background-color: #007BFF; border-radius: 5px; text-decoration: none;\">Ir para o Exercício Módulo 1</a>"
   ]
  }
 ],
 "metadata": {
  "kernelspec": {
   "display_name": "Python 3 (ipykernel)",
   "language": "python",
   "name": "python3"
  },
  "language_info": {
   "codemirror_mode": {
    "name": "ipython",
    "version": 3
   },
   "file_extension": ".py",
   "mimetype": "text/x-python",
   "name": "python",
   "nbconvert_exporter": "python",
   "pygments_lexer": "ipython3",
   "version": "3.9.7"
  }
 },
 "nbformat": 4,
 "nbformat_minor": 5
}
