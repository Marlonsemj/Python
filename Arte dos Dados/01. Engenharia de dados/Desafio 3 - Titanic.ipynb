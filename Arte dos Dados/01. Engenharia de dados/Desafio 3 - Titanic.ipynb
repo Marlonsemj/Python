{
  "nbformat": 4,
  "nbformat_minor": 0,
  "metadata": {
    "colab": {
      "provenance": []
    },
    "kernelspec": {
      "name": "python3",
      "display_name": "Python 3"
    },
    "language_info": {
      "name": "python"
    }
  },
  "cells": [
    {
      "cell_type": "markdown",
      "source": [
        "<img src=\"https://artedosdados.com.br/assets/media/arte_dos_dados_fundo_branco.png\" alt=\"Arte dos Dados\" width=\"150\">\n",
        "\n",
        "# **Projeto do curso 3: Engenharia de dados**\n",
        "Professor: Nelio Machado | 👤 Marlon Roberto Dias Soares\n",
        "\n",
        "-----------------"
      ],
      "metadata": {
        "id": "y1WpfzpWH6iQ"
      }
    },
    {
      "cell_type": "markdown",
      "source": [
        "## **Descrição do entregável do curso 3 (Engenharia de Dados)**\n",
        "1. Objetivo: Carregar os dados do Titanic no *Databricks* e analisar os dados usando Python.\n",
        "2. Fonte dos dados: Titanic, que pode ser encontrado no Kaggle ou várias outras fontes de dados\n",
        "--------"
      ],
      "metadata": {
        "id": "hhzxnhS_JG9r"
      }
    },
    {
      "cell_type": "code",
      "execution_count": 1,
      "metadata": {
        "colab": {
          "base_uri": "https://localhost:8080/",
          "height": 328
        },
        "id": "94uuKJEoDhkb",
        "outputId": "9b990263-a7fb-410e-e0e0-25446cf614d5"
      },
      "outputs": [
        {
          "output_type": "execute_result",
          "data": {
            "text/plain": [
              "   PassengerId  Survived  Pclass  \\\n",
              "0            1         0       3   \n",
              "1            2         1       1   \n",
              "2            3         1       3   \n",
              "3            4         1       1   \n",
              "4            5         0       3   \n",
              "\n",
              "                                                Name     Sex   Age  SibSp  \\\n",
              "0                            Braund, Mr. Owen Harris    male  22.0      1   \n",
              "1  Cumings, Mrs. John Bradley (Florence Briggs Th...  female  38.0      1   \n",
              "2                             Heikkinen, Miss. Laina  female  26.0      0   \n",
              "3       Futrelle, Mrs. Jacques Heath (Lily May Peel)  female  35.0      1   \n",
              "4                           Allen, Mr. William Henry    male  35.0      0   \n",
              "\n",
              "   Parch            Ticket     Fare Cabin Embarked  \n",
              "0      0         A/5 21171   7.2500   NaN        S  \n",
              "1      0          PC 17599  71.2833   C85        C  \n",
              "2      0  STON/O2. 3101282   7.9250   NaN        S  \n",
              "3      0            113803  53.1000  C123        S  \n",
              "4      0            373450   8.0500   NaN        S  "
            ],
            "text/html": [
              "\n",
              "  <div id=\"df-1b9d4bc9-0e0c-43fb-a932-e8cc70f63dab\" class=\"colab-df-container\">\n",
              "    <div>\n",
              "<style scoped>\n",
              "    .dataframe tbody tr th:only-of-type {\n",
              "        vertical-align: middle;\n",
              "    }\n",
              "\n",
              "    .dataframe tbody tr th {\n",
              "        vertical-align: top;\n",
              "    }\n",
              "\n",
              "    .dataframe thead th {\n",
              "        text-align: right;\n",
              "    }\n",
              "</style>\n",
              "<table border=\"1\" class=\"dataframe\">\n",
              "  <thead>\n",
              "    <tr style=\"text-align: right;\">\n",
              "      <th></th>\n",
              "      <th>PassengerId</th>\n",
              "      <th>Survived</th>\n",
              "      <th>Pclass</th>\n",
              "      <th>Name</th>\n",
              "      <th>Sex</th>\n",
              "      <th>Age</th>\n",
              "      <th>SibSp</th>\n",
              "      <th>Parch</th>\n",
              "      <th>Ticket</th>\n",
              "      <th>Fare</th>\n",
              "      <th>Cabin</th>\n",
              "      <th>Embarked</th>\n",
              "    </tr>\n",
              "  </thead>\n",
              "  <tbody>\n",
              "    <tr>\n",
              "      <th>0</th>\n",
              "      <td>1</td>\n",
              "      <td>0</td>\n",
              "      <td>3</td>\n",
              "      <td>Braund, Mr. Owen Harris</td>\n",
              "      <td>male</td>\n",
              "      <td>22.0</td>\n",
              "      <td>1</td>\n",
              "      <td>0</td>\n",
              "      <td>A/5 21171</td>\n",
              "      <td>7.2500</td>\n",
              "      <td>NaN</td>\n",
              "      <td>S</td>\n",
              "    </tr>\n",
              "    <tr>\n",
              "      <th>1</th>\n",
              "      <td>2</td>\n",
              "      <td>1</td>\n",
              "      <td>1</td>\n",
              "      <td>Cumings, Mrs. John Bradley (Florence Briggs Th...</td>\n",
              "      <td>female</td>\n",
              "      <td>38.0</td>\n",
              "      <td>1</td>\n",
              "      <td>0</td>\n",
              "      <td>PC 17599</td>\n",
              "      <td>71.2833</td>\n",
              "      <td>C85</td>\n",
              "      <td>C</td>\n",
              "    </tr>\n",
              "    <tr>\n",
              "      <th>2</th>\n",
              "      <td>3</td>\n",
              "      <td>1</td>\n",
              "      <td>3</td>\n",
              "      <td>Heikkinen, Miss. Laina</td>\n",
              "      <td>female</td>\n",
              "      <td>26.0</td>\n",
              "      <td>0</td>\n",
              "      <td>0</td>\n",
              "      <td>STON/O2. 3101282</td>\n",
              "      <td>7.9250</td>\n",
              "      <td>NaN</td>\n",
              "      <td>S</td>\n",
              "    </tr>\n",
              "    <tr>\n",
              "      <th>3</th>\n",
              "      <td>4</td>\n",
              "      <td>1</td>\n",
              "      <td>1</td>\n",
              "      <td>Futrelle, Mrs. Jacques Heath (Lily May Peel)</td>\n",
              "      <td>female</td>\n",
              "      <td>35.0</td>\n",
              "      <td>1</td>\n",
              "      <td>0</td>\n",
              "      <td>113803</td>\n",
              "      <td>53.1000</td>\n",
              "      <td>C123</td>\n",
              "      <td>S</td>\n",
              "    </tr>\n",
              "    <tr>\n",
              "      <th>4</th>\n",
              "      <td>5</td>\n",
              "      <td>0</td>\n",
              "      <td>3</td>\n",
              "      <td>Allen, Mr. William Henry</td>\n",
              "      <td>male</td>\n",
              "      <td>35.0</td>\n",
              "      <td>0</td>\n",
              "      <td>0</td>\n",
              "      <td>373450</td>\n",
              "      <td>8.0500</td>\n",
              "      <td>NaN</td>\n",
              "      <td>S</td>\n",
              "    </tr>\n",
              "  </tbody>\n",
              "</table>\n",
              "</div>\n",
              "    <div class=\"colab-df-buttons\">\n",
              "\n",
              "  <div class=\"colab-df-container\">\n",
              "    <button class=\"colab-df-convert\" onclick=\"convertToInteractive('df-1b9d4bc9-0e0c-43fb-a932-e8cc70f63dab')\"\n",
              "            title=\"Convert this dataframe to an interactive table.\"\n",
              "            style=\"display:none;\">\n",
              "\n",
              "  <svg xmlns=\"http://www.w3.org/2000/svg\" height=\"24px\" viewBox=\"0 -960 960 960\">\n",
              "    <path d=\"M120-120v-720h720v720H120Zm60-500h600v-160H180v160Zm220 220h160v-160H400v160Zm0 220h160v-160H400v160ZM180-400h160v-160H180v160Zm440 0h160v-160H620v160ZM180-180h160v-160H180v160Zm440 0h160v-160H620v160Z\"/>\n",
              "  </svg>\n",
              "    </button>\n",
              "\n",
              "  <style>\n",
              "    .colab-df-container {\n",
              "      display:flex;\n",
              "      gap: 12px;\n",
              "    }\n",
              "\n",
              "    .colab-df-convert {\n",
              "      background-color: #E8F0FE;\n",
              "      border: none;\n",
              "      border-radius: 50%;\n",
              "      cursor: pointer;\n",
              "      display: none;\n",
              "      fill: #1967D2;\n",
              "      height: 32px;\n",
              "      padding: 0 0 0 0;\n",
              "      width: 32px;\n",
              "    }\n",
              "\n",
              "    .colab-df-convert:hover {\n",
              "      background-color: #E2EBFA;\n",
              "      box-shadow: 0px 1px 2px rgba(60, 64, 67, 0.3), 0px 1px 3px 1px rgba(60, 64, 67, 0.15);\n",
              "      fill: #174EA6;\n",
              "    }\n",
              "\n",
              "    .colab-df-buttons div {\n",
              "      margin-bottom: 4px;\n",
              "    }\n",
              "\n",
              "    [theme=dark] .colab-df-convert {\n",
              "      background-color: #3B4455;\n",
              "      fill: #D2E3FC;\n",
              "    }\n",
              "\n",
              "    [theme=dark] .colab-df-convert:hover {\n",
              "      background-color: #434B5C;\n",
              "      box-shadow: 0px 1px 3px 1px rgba(0, 0, 0, 0.15);\n",
              "      filter: drop-shadow(0px 1px 2px rgba(0, 0, 0, 0.3));\n",
              "      fill: #FFFFFF;\n",
              "    }\n",
              "  </style>\n",
              "\n",
              "    <script>\n",
              "      const buttonEl =\n",
              "        document.querySelector('#df-1b9d4bc9-0e0c-43fb-a932-e8cc70f63dab button.colab-df-convert');\n",
              "      buttonEl.style.display =\n",
              "        google.colab.kernel.accessAllowed ? 'block' : 'none';\n",
              "\n",
              "      async function convertToInteractive(key) {\n",
              "        const element = document.querySelector('#df-1b9d4bc9-0e0c-43fb-a932-e8cc70f63dab');\n",
              "        const dataTable =\n",
              "          await google.colab.kernel.invokeFunction('convertToInteractive',\n",
              "                                                    [key], {});\n",
              "        if (!dataTable) return;\n",
              "\n",
              "        const docLinkHtml = 'Like what you see? Visit the ' +\n",
              "          '<a target=\"_blank\" href=https://colab.research.google.com/notebooks/data_table.ipynb>data table notebook</a>'\n",
              "          + ' to learn more about interactive tables.';\n",
              "        element.innerHTML = '';\n",
              "        dataTable['output_type'] = 'display_data';\n",
              "        await google.colab.output.renderOutput(dataTable, element);\n",
              "        const docLink = document.createElement('div');\n",
              "        docLink.innerHTML = docLinkHtml;\n",
              "        element.appendChild(docLink);\n",
              "      }\n",
              "    </script>\n",
              "  </div>\n",
              "\n",
              "\n",
              "<div id=\"df-0acc2cc7-9c0e-400e-b35a-0564b8cd5751\">\n",
              "  <button class=\"colab-df-quickchart\" onclick=\"quickchart('df-0acc2cc7-9c0e-400e-b35a-0564b8cd5751')\"\n",
              "            title=\"Suggest charts\"\n",
              "            style=\"display:none;\">\n",
              "\n",
              "<svg xmlns=\"http://www.w3.org/2000/svg\" height=\"24px\"viewBox=\"0 0 24 24\"\n",
              "     width=\"24px\">\n",
              "    <g>\n",
              "        <path d=\"M19 3H5c-1.1 0-2 .9-2 2v14c0 1.1.9 2 2 2h14c1.1 0 2-.9 2-2V5c0-1.1-.9-2-2-2zM9 17H7v-7h2v7zm4 0h-2V7h2v10zm4 0h-2v-4h2v4z\"/>\n",
              "    </g>\n",
              "</svg>\n",
              "  </button>\n",
              "\n",
              "<style>\n",
              "  .colab-df-quickchart {\n",
              "      --bg-color: #E8F0FE;\n",
              "      --fill-color: #1967D2;\n",
              "      --hover-bg-color: #E2EBFA;\n",
              "      --hover-fill-color: #174EA6;\n",
              "      --disabled-fill-color: #AAA;\n",
              "      --disabled-bg-color: #DDD;\n",
              "  }\n",
              "\n",
              "  [theme=dark] .colab-df-quickchart {\n",
              "      --bg-color: #3B4455;\n",
              "      --fill-color: #D2E3FC;\n",
              "      --hover-bg-color: #434B5C;\n",
              "      --hover-fill-color: #FFFFFF;\n",
              "      --disabled-bg-color: #3B4455;\n",
              "      --disabled-fill-color: #666;\n",
              "  }\n",
              "\n",
              "  .colab-df-quickchart {\n",
              "    background-color: var(--bg-color);\n",
              "    border: none;\n",
              "    border-radius: 50%;\n",
              "    cursor: pointer;\n",
              "    display: none;\n",
              "    fill: var(--fill-color);\n",
              "    height: 32px;\n",
              "    padding: 0;\n",
              "    width: 32px;\n",
              "  }\n",
              "\n",
              "  .colab-df-quickchart:hover {\n",
              "    background-color: var(--hover-bg-color);\n",
              "    box-shadow: 0 1px 2px rgba(60, 64, 67, 0.3), 0 1px 3px 1px rgba(60, 64, 67, 0.15);\n",
              "    fill: var(--button-hover-fill-color);\n",
              "  }\n",
              "\n",
              "  .colab-df-quickchart-complete:disabled,\n",
              "  .colab-df-quickchart-complete:disabled:hover {\n",
              "    background-color: var(--disabled-bg-color);\n",
              "    fill: var(--disabled-fill-color);\n",
              "    box-shadow: none;\n",
              "  }\n",
              "\n",
              "  .colab-df-spinner {\n",
              "    border: 2px solid var(--fill-color);\n",
              "    border-color: transparent;\n",
              "    border-bottom-color: var(--fill-color);\n",
              "    animation:\n",
              "      spin 1s steps(1) infinite;\n",
              "  }\n",
              "\n",
              "  @keyframes spin {\n",
              "    0% {\n",
              "      border-color: transparent;\n",
              "      border-bottom-color: var(--fill-color);\n",
              "      border-left-color: var(--fill-color);\n",
              "    }\n",
              "    20% {\n",
              "      border-color: transparent;\n",
              "      border-left-color: var(--fill-color);\n",
              "      border-top-color: var(--fill-color);\n",
              "    }\n",
              "    30% {\n",
              "      border-color: transparent;\n",
              "      border-left-color: var(--fill-color);\n",
              "      border-top-color: var(--fill-color);\n",
              "      border-right-color: var(--fill-color);\n",
              "    }\n",
              "    40% {\n",
              "      border-color: transparent;\n",
              "      border-right-color: var(--fill-color);\n",
              "      border-top-color: var(--fill-color);\n",
              "    }\n",
              "    60% {\n",
              "      border-color: transparent;\n",
              "      border-right-color: var(--fill-color);\n",
              "    }\n",
              "    80% {\n",
              "      border-color: transparent;\n",
              "      border-right-color: var(--fill-color);\n",
              "      border-bottom-color: var(--fill-color);\n",
              "    }\n",
              "    90% {\n",
              "      border-color: transparent;\n",
              "      border-bottom-color: var(--fill-color);\n",
              "    }\n",
              "  }\n",
              "</style>\n",
              "\n",
              "  <script>\n",
              "    async function quickchart(key) {\n",
              "      const quickchartButtonEl =\n",
              "        document.querySelector('#' + key + ' button');\n",
              "      quickchartButtonEl.disabled = true;  // To prevent multiple clicks.\n",
              "      quickchartButtonEl.classList.add('colab-df-spinner');\n",
              "      try {\n",
              "        const charts = await google.colab.kernel.invokeFunction(\n",
              "            'suggestCharts', [key], {});\n",
              "      } catch (error) {\n",
              "        console.error('Error during call to suggestCharts:', error);\n",
              "      }\n",
              "      quickchartButtonEl.classList.remove('colab-df-spinner');\n",
              "      quickchartButtonEl.classList.add('colab-df-quickchart-complete');\n",
              "    }\n",
              "    (() => {\n",
              "      let quickchartButtonEl =\n",
              "        document.querySelector('#df-0acc2cc7-9c0e-400e-b35a-0564b8cd5751 button');\n",
              "      quickchartButtonEl.style.display =\n",
              "        google.colab.kernel.accessAllowed ? 'block' : 'none';\n",
              "    })();\n",
              "  </script>\n",
              "</div>\n",
              "\n",
              "    </div>\n",
              "  </div>\n"
            ],
            "application/vnd.google.colaboratory.intrinsic+json": {
              "type": "dataframe",
              "variable_name": "titanic_df",
              "summary": "{\n  \"name\": \"titanic_df\",\n  \"rows\": 891,\n  \"fields\": [\n    {\n      \"column\": \"PassengerId\",\n      \"properties\": {\n        \"dtype\": \"number\",\n        \"std\": 257,\n        \"min\": 1,\n        \"max\": 891,\n        \"num_unique_values\": 891,\n        \"samples\": [\n          710,\n          440,\n          841\n        ],\n        \"semantic_type\": \"\",\n        \"description\": \"\"\n      }\n    },\n    {\n      \"column\": \"Survived\",\n      \"properties\": {\n        \"dtype\": \"number\",\n        \"std\": 0,\n        \"min\": 0,\n        \"max\": 1,\n        \"num_unique_values\": 2,\n        \"samples\": [\n          1,\n          0\n        ],\n        \"semantic_type\": \"\",\n        \"description\": \"\"\n      }\n    },\n    {\n      \"column\": \"Pclass\",\n      \"properties\": {\n        \"dtype\": \"number\",\n        \"std\": 0,\n        \"min\": 1,\n        \"max\": 3,\n        \"num_unique_values\": 3,\n        \"samples\": [\n          3,\n          1\n        ],\n        \"semantic_type\": \"\",\n        \"description\": \"\"\n      }\n    },\n    {\n      \"column\": \"Name\",\n      \"properties\": {\n        \"dtype\": \"string\",\n        \"num_unique_values\": 891,\n        \"samples\": [\n          \"Moubarek, Master. Halim Gonios (\\\"William George\\\")\",\n          \"Kvillner, Mr. Johan Henrik Johannesson\"\n        ],\n        \"semantic_type\": \"\",\n        \"description\": \"\"\n      }\n    },\n    {\n      \"column\": \"Sex\",\n      \"properties\": {\n        \"dtype\": \"category\",\n        \"num_unique_values\": 2,\n        \"samples\": [\n          \"female\",\n          \"male\"\n        ],\n        \"semantic_type\": \"\",\n        \"description\": \"\"\n      }\n    },\n    {\n      \"column\": \"Age\",\n      \"properties\": {\n        \"dtype\": \"number\",\n        \"std\": 14.526497332334044,\n        \"min\": 0.42,\n        \"max\": 80.0,\n        \"num_unique_values\": 88,\n        \"samples\": [\n          0.75,\n          22.0\n        ],\n        \"semantic_type\": \"\",\n        \"description\": \"\"\n      }\n    },\n    {\n      \"column\": \"SibSp\",\n      \"properties\": {\n        \"dtype\": \"number\",\n        \"std\": 1,\n        \"min\": 0,\n        \"max\": 8,\n        \"num_unique_values\": 7,\n        \"samples\": [\n          1,\n          0\n        ],\n        \"semantic_type\": \"\",\n        \"description\": \"\"\n      }\n    },\n    {\n      \"column\": \"Parch\",\n      \"properties\": {\n        \"dtype\": \"number\",\n        \"std\": 0,\n        \"min\": 0,\n        \"max\": 6,\n        \"num_unique_values\": 7,\n        \"samples\": [\n          0,\n          1\n        ],\n        \"semantic_type\": \"\",\n        \"description\": \"\"\n      }\n    },\n    {\n      \"column\": \"Ticket\",\n      \"properties\": {\n        \"dtype\": \"string\",\n        \"num_unique_values\": 681,\n        \"samples\": [\n          \"11774\",\n          \"248740\"\n        ],\n        \"semantic_type\": \"\",\n        \"description\": \"\"\n      }\n    },\n    {\n      \"column\": \"Fare\",\n      \"properties\": {\n        \"dtype\": \"number\",\n        \"std\": 49.693428597180905,\n        \"min\": 0.0,\n        \"max\": 512.3292,\n        \"num_unique_values\": 248,\n        \"samples\": [\n          11.2417,\n          51.8625\n        ],\n        \"semantic_type\": \"\",\n        \"description\": \"\"\n      }\n    },\n    {\n      \"column\": \"Cabin\",\n      \"properties\": {\n        \"dtype\": \"category\",\n        \"num_unique_values\": 147,\n        \"samples\": [\n          \"D45\",\n          \"B49\"\n        ],\n        \"semantic_type\": \"\",\n        \"description\": \"\"\n      }\n    },\n    {\n      \"column\": \"Embarked\",\n      \"properties\": {\n        \"dtype\": \"category\",\n        \"num_unique_values\": 3,\n        \"samples\": [\n          \"S\",\n          \"C\"\n        ],\n        \"semantic_type\": \"\",\n        \"description\": \"\"\n      }\n    }\n  ]\n}"
            }
          },
          "metadata": {},
          "execution_count": 1
        }
      ],
      "source": [
        "import pandas as pd\n",
        "\n",
        "# Carregar o arquivo\n",
        "file_path = '/content/Titanic-Dataset.csv'\n",
        "titanic_df = pd.read_csv(file_path)\n",
        "\n",
        "# Exibir as 5 primeiras linhas para verificar os dados\n",
        "titanic_df.head()"
      ]
    },
    {
      "cell_type": "markdown",
      "source": [
        "## **2. Redefinir a coluna Survived**\n",
        "A coluna `Survived` possui os valores `{0, 1}`. Vamos substituir esses valores para `{“Não_Sobreviveu”, “Sobreviveu”}`."
      ],
      "metadata": {
        "id": "s0OQTPstKork"
      }
    },
    {
      "cell_type": "code",
      "source": [
        "# Substituir os valores de 'Survived'\n",
        "titanic_df['Survived'] = titanic_df['Survived'].replace({0: 'Não_Sobreviveu', 1: 'Sobreviveu'})\n",
        "\n",
        "# Verificar as mudanças\n",
        "titanic_df[['Survived']].head()\n"
      ],
      "metadata": {
        "colab": {
          "base_uri": "https://localhost:8080/",
          "height": 206
        },
        "id": "gTKhjCvBIchZ",
        "outputId": "37221da6-807d-4d66-841f-0d690413e49a"
      },
      "execution_count": 2,
      "outputs": [
        {
          "output_type": "execute_result",
          "data": {
            "text/plain": [
              "         Survived\n",
              "0  Não_Sobreviveu\n",
              "1      Sobreviveu\n",
              "2      Sobreviveu\n",
              "3      Sobreviveu\n",
              "4  Não_Sobreviveu"
            ],
            "text/html": [
              "\n",
              "  <div id=\"df-ce865c36-56e5-4112-8c49-1f304307c25f\" class=\"colab-df-container\">\n",
              "    <div>\n",
              "<style scoped>\n",
              "    .dataframe tbody tr th:only-of-type {\n",
              "        vertical-align: middle;\n",
              "    }\n",
              "\n",
              "    .dataframe tbody tr th {\n",
              "        vertical-align: top;\n",
              "    }\n",
              "\n",
              "    .dataframe thead th {\n",
              "        text-align: right;\n",
              "    }\n",
              "</style>\n",
              "<table border=\"1\" class=\"dataframe\">\n",
              "  <thead>\n",
              "    <tr style=\"text-align: right;\">\n",
              "      <th></th>\n",
              "      <th>Survived</th>\n",
              "    </tr>\n",
              "  </thead>\n",
              "  <tbody>\n",
              "    <tr>\n",
              "      <th>0</th>\n",
              "      <td>Não_Sobreviveu</td>\n",
              "    </tr>\n",
              "    <tr>\n",
              "      <th>1</th>\n",
              "      <td>Sobreviveu</td>\n",
              "    </tr>\n",
              "    <tr>\n",
              "      <th>2</th>\n",
              "      <td>Sobreviveu</td>\n",
              "    </tr>\n",
              "    <tr>\n",
              "      <th>3</th>\n",
              "      <td>Sobreviveu</td>\n",
              "    </tr>\n",
              "    <tr>\n",
              "      <th>4</th>\n",
              "      <td>Não_Sobreviveu</td>\n",
              "    </tr>\n",
              "  </tbody>\n",
              "</table>\n",
              "</div>\n",
              "    <div class=\"colab-df-buttons\">\n",
              "\n",
              "  <div class=\"colab-df-container\">\n",
              "    <button class=\"colab-df-convert\" onclick=\"convertToInteractive('df-ce865c36-56e5-4112-8c49-1f304307c25f')\"\n",
              "            title=\"Convert this dataframe to an interactive table.\"\n",
              "            style=\"display:none;\">\n",
              "\n",
              "  <svg xmlns=\"http://www.w3.org/2000/svg\" height=\"24px\" viewBox=\"0 -960 960 960\">\n",
              "    <path d=\"M120-120v-720h720v720H120Zm60-500h600v-160H180v160Zm220 220h160v-160H400v160Zm0 220h160v-160H400v160ZM180-400h160v-160H180v160Zm440 0h160v-160H620v160ZM180-180h160v-160H180v160Zm440 0h160v-160H620v160Z\"/>\n",
              "  </svg>\n",
              "    </button>\n",
              "\n",
              "  <style>\n",
              "    .colab-df-container {\n",
              "      display:flex;\n",
              "      gap: 12px;\n",
              "    }\n",
              "\n",
              "    .colab-df-convert {\n",
              "      background-color: #E8F0FE;\n",
              "      border: none;\n",
              "      border-radius: 50%;\n",
              "      cursor: pointer;\n",
              "      display: none;\n",
              "      fill: #1967D2;\n",
              "      height: 32px;\n",
              "      padding: 0 0 0 0;\n",
              "      width: 32px;\n",
              "    }\n",
              "\n",
              "    .colab-df-convert:hover {\n",
              "      background-color: #E2EBFA;\n",
              "      box-shadow: 0px 1px 2px rgba(60, 64, 67, 0.3), 0px 1px 3px 1px rgba(60, 64, 67, 0.15);\n",
              "      fill: #174EA6;\n",
              "    }\n",
              "\n",
              "    .colab-df-buttons div {\n",
              "      margin-bottom: 4px;\n",
              "    }\n",
              "\n",
              "    [theme=dark] .colab-df-convert {\n",
              "      background-color: #3B4455;\n",
              "      fill: #D2E3FC;\n",
              "    }\n",
              "\n",
              "    [theme=dark] .colab-df-convert:hover {\n",
              "      background-color: #434B5C;\n",
              "      box-shadow: 0px 1px 3px 1px rgba(0, 0, 0, 0.15);\n",
              "      filter: drop-shadow(0px 1px 2px rgba(0, 0, 0, 0.3));\n",
              "      fill: #FFFFFF;\n",
              "    }\n",
              "  </style>\n",
              "\n",
              "    <script>\n",
              "      const buttonEl =\n",
              "        document.querySelector('#df-ce865c36-56e5-4112-8c49-1f304307c25f button.colab-df-convert');\n",
              "      buttonEl.style.display =\n",
              "        google.colab.kernel.accessAllowed ? 'block' : 'none';\n",
              "\n",
              "      async function convertToInteractive(key) {\n",
              "        const element = document.querySelector('#df-ce865c36-56e5-4112-8c49-1f304307c25f');\n",
              "        const dataTable =\n",
              "          await google.colab.kernel.invokeFunction('convertToInteractive',\n",
              "                                                    [key], {});\n",
              "        if (!dataTable) return;\n",
              "\n",
              "        const docLinkHtml = 'Like what you see? Visit the ' +\n",
              "          '<a target=\"_blank\" href=https://colab.research.google.com/notebooks/data_table.ipynb>data table notebook</a>'\n",
              "          + ' to learn more about interactive tables.';\n",
              "        element.innerHTML = '';\n",
              "        dataTable['output_type'] = 'display_data';\n",
              "        await google.colab.output.renderOutput(dataTable, element);\n",
              "        const docLink = document.createElement('div');\n",
              "        docLink.innerHTML = docLinkHtml;\n",
              "        element.appendChild(docLink);\n",
              "      }\n",
              "    </script>\n",
              "  </div>\n",
              "\n",
              "\n",
              "<div id=\"df-822e8629-12f6-44e4-8010-b806fd53bda2\">\n",
              "  <button class=\"colab-df-quickchart\" onclick=\"quickchart('df-822e8629-12f6-44e4-8010-b806fd53bda2')\"\n",
              "            title=\"Suggest charts\"\n",
              "            style=\"display:none;\">\n",
              "\n",
              "<svg xmlns=\"http://www.w3.org/2000/svg\" height=\"24px\"viewBox=\"0 0 24 24\"\n",
              "     width=\"24px\">\n",
              "    <g>\n",
              "        <path d=\"M19 3H5c-1.1 0-2 .9-2 2v14c0 1.1.9 2 2 2h14c1.1 0 2-.9 2-2V5c0-1.1-.9-2-2-2zM9 17H7v-7h2v7zm4 0h-2V7h2v10zm4 0h-2v-4h2v4z\"/>\n",
              "    </g>\n",
              "</svg>\n",
              "  </button>\n",
              "\n",
              "<style>\n",
              "  .colab-df-quickchart {\n",
              "      --bg-color: #E8F0FE;\n",
              "      --fill-color: #1967D2;\n",
              "      --hover-bg-color: #E2EBFA;\n",
              "      --hover-fill-color: #174EA6;\n",
              "      --disabled-fill-color: #AAA;\n",
              "      --disabled-bg-color: #DDD;\n",
              "  }\n",
              "\n",
              "  [theme=dark] .colab-df-quickchart {\n",
              "      --bg-color: #3B4455;\n",
              "      --fill-color: #D2E3FC;\n",
              "      --hover-bg-color: #434B5C;\n",
              "      --hover-fill-color: #FFFFFF;\n",
              "      --disabled-bg-color: #3B4455;\n",
              "      --disabled-fill-color: #666;\n",
              "  }\n",
              "\n",
              "  .colab-df-quickchart {\n",
              "    background-color: var(--bg-color);\n",
              "    border: none;\n",
              "    border-radius: 50%;\n",
              "    cursor: pointer;\n",
              "    display: none;\n",
              "    fill: var(--fill-color);\n",
              "    height: 32px;\n",
              "    padding: 0;\n",
              "    width: 32px;\n",
              "  }\n",
              "\n",
              "  .colab-df-quickchart:hover {\n",
              "    background-color: var(--hover-bg-color);\n",
              "    box-shadow: 0 1px 2px rgba(60, 64, 67, 0.3), 0 1px 3px 1px rgba(60, 64, 67, 0.15);\n",
              "    fill: var(--button-hover-fill-color);\n",
              "  }\n",
              "\n",
              "  .colab-df-quickchart-complete:disabled,\n",
              "  .colab-df-quickchart-complete:disabled:hover {\n",
              "    background-color: var(--disabled-bg-color);\n",
              "    fill: var(--disabled-fill-color);\n",
              "    box-shadow: none;\n",
              "  }\n",
              "\n",
              "  .colab-df-spinner {\n",
              "    border: 2px solid var(--fill-color);\n",
              "    border-color: transparent;\n",
              "    border-bottom-color: var(--fill-color);\n",
              "    animation:\n",
              "      spin 1s steps(1) infinite;\n",
              "  }\n",
              "\n",
              "  @keyframes spin {\n",
              "    0% {\n",
              "      border-color: transparent;\n",
              "      border-bottom-color: var(--fill-color);\n",
              "      border-left-color: var(--fill-color);\n",
              "    }\n",
              "    20% {\n",
              "      border-color: transparent;\n",
              "      border-left-color: var(--fill-color);\n",
              "      border-top-color: var(--fill-color);\n",
              "    }\n",
              "    30% {\n",
              "      border-color: transparent;\n",
              "      border-left-color: var(--fill-color);\n",
              "      border-top-color: var(--fill-color);\n",
              "      border-right-color: var(--fill-color);\n",
              "    }\n",
              "    40% {\n",
              "      border-color: transparent;\n",
              "      border-right-color: var(--fill-color);\n",
              "      border-top-color: var(--fill-color);\n",
              "    }\n",
              "    60% {\n",
              "      border-color: transparent;\n",
              "      border-right-color: var(--fill-color);\n",
              "    }\n",
              "    80% {\n",
              "      border-color: transparent;\n",
              "      border-right-color: var(--fill-color);\n",
              "      border-bottom-color: var(--fill-color);\n",
              "    }\n",
              "    90% {\n",
              "      border-color: transparent;\n",
              "      border-bottom-color: var(--fill-color);\n",
              "    }\n",
              "  }\n",
              "</style>\n",
              "\n",
              "  <script>\n",
              "    async function quickchart(key) {\n",
              "      const quickchartButtonEl =\n",
              "        document.querySelector('#' + key + ' button');\n",
              "      quickchartButtonEl.disabled = true;  // To prevent multiple clicks.\n",
              "      quickchartButtonEl.classList.add('colab-df-spinner');\n",
              "      try {\n",
              "        const charts = await google.colab.kernel.invokeFunction(\n",
              "            'suggestCharts', [key], {});\n",
              "      } catch (error) {\n",
              "        console.error('Error during call to suggestCharts:', error);\n",
              "      }\n",
              "      quickchartButtonEl.classList.remove('colab-df-spinner');\n",
              "      quickchartButtonEl.classList.add('colab-df-quickchart-complete');\n",
              "    }\n",
              "    (() => {\n",
              "      let quickchartButtonEl =\n",
              "        document.querySelector('#df-822e8629-12f6-44e4-8010-b806fd53bda2 button');\n",
              "      quickchartButtonEl.style.display =\n",
              "        google.colab.kernel.accessAllowed ? 'block' : 'none';\n",
              "    })();\n",
              "  </script>\n",
              "</div>\n",
              "\n",
              "    </div>\n",
              "  </div>\n"
            ],
            "application/vnd.google.colaboratory.intrinsic+json": {
              "type": "dataframe",
              "summary": "{\n  \"name\": \"titanic_df[['Survived']]\",\n  \"rows\": 5,\n  \"fields\": [\n    {\n      \"column\": \"Survived\",\n      \"properties\": {\n        \"dtype\": \"category\",\n        \"num_unique_values\": 2,\n        \"samples\": [\n          \"Sobreviveu\",\n          \"N\\u00e3o_Sobreviveu\"\n        ],\n        \"semantic_type\": \"\",\n        \"description\": \"\"\n      }\n    }\n  ]\n}"
            }
          },
          "metadata": {},
          "execution_count": 2
        }
      ]
    },
    {
      "cell_type": "markdown",
      "source": [
        "## **3. Deletar as colunas `PassengerId` e `Ticket`**\n",
        "Estas colunas não são relevantes para a análise, então vamos removê-las do DataFrame."
      ],
      "metadata": {
        "id": "GInUct7GLf4b"
      }
    },
    {
      "cell_type": "code",
      "source": [
        "# Deletar as colunas 'PassengerId' e 'Ticket'\n",
        "titanic_df = titanic_df.drop(columns=['PassengerId', 'Ticket'])\n",
        "\n",
        "# Verificar se as colunas foram removidas\n",
        "titanic_df.head()\n"
      ],
      "metadata": {
        "colab": {
          "base_uri": "https://localhost:8080/",
          "height": 224
        },
        "id": "jy2hInORLnyh",
        "outputId": "0355e72b-c2fa-45a9-ce38-5d499f201e25"
      },
      "execution_count": 3,
      "outputs": [
        {
          "output_type": "execute_result",
          "data": {
            "text/plain": [
              "         Survived  Pclass                                               Name  \\\n",
              "0  Não_Sobreviveu       3                            Braund, Mr. Owen Harris   \n",
              "1      Sobreviveu       1  Cumings, Mrs. John Bradley (Florence Briggs Th...   \n",
              "2      Sobreviveu       3                             Heikkinen, Miss. Laina   \n",
              "3      Sobreviveu       1       Futrelle, Mrs. Jacques Heath (Lily May Peel)   \n",
              "4  Não_Sobreviveu       3                           Allen, Mr. William Henry   \n",
              "\n",
              "      Sex   Age  SibSp  Parch     Fare Cabin Embarked  \n",
              "0    male  22.0      1      0   7.2500   NaN        S  \n",
              "1  female  38.0      1      0  71.2833   C85        C  \n",
              "2  female  26.0      0      0   7.9250   NaN        S  \n",
              "3  female  35.0      1      0  53.1000  C123        S  \n",
              "4    male  35.0      0      0   8.0500   NaN        S  "
            ],
            "text/html": [
              "\n",
              "  <div id=\"df-b7921dad-f477-4092-9aa8-dbf1d113087e\" class=\"colab-df-container\">\n",
              "    <div>\n",
              "<style scoped>\n",
              "    .dataframe tbody tr th:only-of-type {\n",
              "        vertical-align: middle;\n",
              "    }\n",
              "\n",
              "    .dataframe tbody tr th {\n",
              "        vertical-align: top;\n",
              "    }\n",
              "\n",
              "    .dataframe thead th {\n",
              "        text-align: right;\n",
              "    }\n",
              "</style>\n",
              "<table border=\"1\" class=\"dataframe\">\n",
              "  <thead>\n",
              "    <tr style=\"text-align: right;\">\n",
              "      <th></th>\n",
              "      <th>Survived</th>\n",
              "      <th>Pclass</th>\n",
              "      <th>Name</th>\n",
              "      <th>Sex</th>\n",
              "      <th>Age</th>\n",
              "      <th>SibSp</th>\n",
              "      <th>Parch</th>\n",
              "      <th>Fare</th>\n",
              "      <th>Cabin</th>\n",
              "      <th>Embarked</th>\n",
              "    </tr>\n",
              "  </thead>\n",
              "  <tbody>\n",
              "    <tr>\n",
              "      <th>0</th>\n",
              "      <td>Não_Sobreviveu</td>\n",
              "      <td>3</td>\n",
              "      <td>Braund, Mr. Owen Harris</td>\n",
              "      <td>male</td>\n",
              "      <td>22.0</td>\n",
              "      <td>1</td>\n",
              "      <td>0</td>\n",
              "      <td>7.2500</td>\n",
              "      <td>NaN</td>\n",
              "      <td>S</td>\n",
              "    </tr>\n",
              "    <tr>\n",
              "      <th>1</th>\n",
              "      <td>Sobreviveu</td>\n",
              "      <td>1</td>\n",
              "      <td>Cumings, Mrs. John Bradley (Florence Briggs Th...</td>\n",
              "      <td>female</td>\n",
              "      <td>38.0</td>\n",
              "      <td>1</td>\n",
              "      <td>0</td>\n",
              "      <td>71.2833</td>\n",
              "      <td>C85</td>\n",
              "      <td>C</td>\n",
              "    </tr>\n",
              "    <tr>\n",
              "      <th>2</th>\n",
              "      <td>Sobreviveu</td>\n",
              "      <td>3</td>\n",
              "      <td>Heikkinen, Miss. Laina</td>\n",
              "      <td>female</td>\n",
              "      <td>26.0</td>\n",
              "      <td>0</td>\n",
              "      <td>0</td>\n",
              "      <td>7.9250</td>\n",
              "      <td>NaN</td>\n",
              "      <td>S</td>\n",
              "    </tr>\n",
              "    <tr>\n",
              "      <th>3</th>\n",
              "      <td>Sobreviveu</td>\n",
              "      <td>1</td>\n",
              "      <td>Futrelle, Mrs. Jacques Heath (Lily May Peel)</td>\n",
              "      <td>female</td>\n",
              "      <td>35.0</td>\n",
              "      <td>1</td>\n",
              "      <td>0</td>\n",
              "      <td>53.1000</td>\n",
              "      <td>C123</td>\n",
              "      <td>S</td>\n",
              "    </tr>\n",
              "    <tr>\n",
              "      <th>4</th>\n",
              "      <td>Não_Sobreviveu</td>\n",
              "      <td>3</td>\n",
              "      <td>Allen, Mr. William Henry</td>\n",
              "      <td>male</td>\n",
              "      <td>35.0</td>\n",
              "      <td>0</td>\n",
              "      <td>0</td>\n",
              "      <td>8.0500</td>\n",
              "      <td>NaN</td>\n",
              "      <td>S</td>\n",
              "    </tr>\n",
              "  </tbody>\n",
              "</table>\n",
              "</div>\n",
              "    <div class=\"colab-df-buttons\">\n",
              "\n",
              "  <div class=\"colab-df-container\">\n",
              "    <button class=\"colab-df-convert\" onclick=\"convertToInteractive('df-b7921dad-f477-4092-9aa8-dbf1d113087e')\"\n",
              "            title=\"Convert this dataframe to an interactive table.\"\n",
              "            style=\"display:none;\">\n",
              "\n",
              "  <svg xmlns=\"http://www.w3.org/2000/svg\" height=\"24px\" viewBox=\"0 -960 960 960\">\n",
              "    <path d=\"M120-120v-720h720v720H120Zm60-500h600v-160H180v160Zm220 220h160v-160H400v160Zm0 220h160v-160H400v160ZM180-400h160v-160H180v160Zm440 0h160v-160H620v160ZM180-180h160v-160H180v160Zm440 0h160v-160H620v160Z\"/>\n",
              "  </svg>\n",
              "    </button>\n",
              "\n",
              "  <style>\n",
              "    .colab-df-container {\n",
              "      display:flex;\n",
              "      gap: 12px;\n",
              "    }\n",
              "\n",
              "    .colab-df-convert {\n",
              "      background-color: #E8F0FE;\n",
              "      border: none;\n",
              "      border-radius: 50%;\n",
              "      cursor: pointer;\n",
              "      display: none;\n",
              "      fill: #1967D2;\n",
              "      height: 32px;\n",
              "      padding: 0 0 0 0;\n",
              "      width: 32px;\n",
              "    }\n",
              "\n",
              "    .colab-df-convert:hover {\n",
              "      background-color: #E2EBFA;\n",
              "      box-shadow: 0px 1px 2px rgba(60, 64, 67, 0.3), 0px 1px 3px 1px rgba(60, 64, 67, 0.15);\n",
              "      fill: #174EA6;\n",
              "    }\n",
              "\n",
              "    .colab-df-buttons div {\n",
              "      margin-bottom: 4px;\n",
              "    }\n",
              "\n",
              "    [theme=dark] .colab-df-convert {\n",
              "      background-color: #3B4455;\n",
              "      fill: #D2E3FC;\n",
              "    }\n",
              "\n",
              "    [theme=dark] .colab-df-convert:hover {\n",
              "      background-color: #434B5C;\n",
              "      box-shadow: 0px 1px 3px 1px rgba(0, 0, 0, 0.15);\n",
              "      filter: drop-shadow(0px 1px 2px rgba(0, 0, 0, 0.3));\n",
              "      fill: #FFFFFF;\n",
              "    }\n",
              "  </style>\n",
              "\n",
              "    <script>\n",
              "      const buttonEl =\n",
              "        document.querySelector('#df-b7921dad-f477-4092-9aa8-dbf1d113087e button.colab-df-convert');\n",
              "      buttonEl.style.display =\n",
              "        google.colab.kernel.accessAllowed ? 'block' : 'none';\n",
              "\n",
              "      async function convertToInteractive(key) {\n",
              "        const element = document.querySelector('#df-b7921dad-f477-4092-9aa8-dbf1d113087e');\n",
              "        const dataTable =\n",
              "          await google.colab.kernel.invokeFunction('convertToInteractive',\n",
              "                                                    [key], {});\n",
              "        if (!dataTable) return;\n",
              "\n",
              "        const docLinkHtml = 'Like what you see? Visit the ' +\n",
              "          '<a target=\"_blank\" href=https://colab.research.google.com/notebooks/data_table.ipynb>data table notebook</a>'\n",
              "          + ' to learn more about interactive tables.';\n",
              "        element.innerHTML = '';\n",
              "        dataTable['output_type'] = 'display_data';\n",
              "        await google.colab.output.renderOutput(dataTable, element);\n",
              "        const docLink = document.createElement('div');\n",
              "        docLink.innerHTML = docLinkHtml;\n",
              "        element.appendChild(docLink);\n",
              "      }\n",
              "    </script>\n",
              "  </div>\n",
              "\n",
              "\n",
              "<div id=\"df-9c8962c7-a92d-42c4-9c50-86ec4c05272f\">\n",
              "  <button class=\"colab-df-quickchart\" onclick=\"quickchart('df-9c8962c7-a92d-42c4-9c50-86ec4c05272f')\"\n",
              "            title=\"Suggest charts\"\n",
              "            style=\"display:none;\">\n",
              "\n",
              "<svg xmlns=\"http://www.w3.org/2000/svg\" height=\"24px\"viewBox=\"0 0 24 24\"\n",
              "     width=\"24px\">\n",
              "    <g>\n",
              "        <path d=\"M19 3H5c-1.1 0-2 .9-2 2v14c0 1.1.9 2 2 2h14c1.1 0 2-.9 2-2V5c0-1.1-.9-2-2-2zM9 17H7v-7h2v7zm4 0h-2V7h2v10zm4 0h-2v-4h2v4z\"/>\n",
              "    </g>\n",
              "</svg>\n",
              "  </button>\n",
              "\n",
              "<style>\n",
              "  .colab-df-quickchart {\n",
              "      --bg-color: #E8F0FE;\n",
              "      --fill-color: #1967D2;\n",
              "      --hover-bg-color: #E2EBFA;\n",
              "      --hover-fill-color: #174EA6;\n",
              "      --disabled-fill-color: #AAA;\n",
              "      --disabled-bg-color: #DDD;\n",
              "  }\n",
              "\n",
              "  [theme=dark] .colab-df-quickchart {\n",
              "      --bg-color: #3B4455;\n",
              "      --fill-color: #D2E3FC;\n",
              "      --hover-bg-color: #434B5C;\n",
              "      --hover-fill-color: #FFFFFF;\n",
              "      --disabled-bg-color: #3B4455;\n",
              "      --disabled-fill-color: #666;\n",
              "  }\n",
              "\n",
              "  .colab-df-quickchart {\n",
              "    background-color: var(--bg-color);\n",
              "    border: none;\n",
              "    border-radius: 50%;\n",
              "    cursor: pointer;\n",
              "    display: none;\n",
              "    fill: var(--fill-color);\n",
              "    height: 32px;\n",
              "    padding: 0;\n",
              "    width: 32px;\n",
              "  }\n",
              "\n",
              "  .colab-df-quickchart:hover {\n",
              "    background-color: var(--hover-bg-color);\n",
              "    box-shadow: 0 1px 2px rgba(60, 64, 67, 0.3), 0 1px 3px 1px rgba(60, 64, 67, 0.15);\n",
              "    fill: var(--button-hover-fill-color);\n",
              "  }\n",
              "\n",
              "  .colab-df-quickchart-complete:disabled,\n",
              "  .colab-df-quickchart-complete:disabled:hover {\n",
              "    background-color: var(--disabled-bg-color);\n",
              "    fill: var(--disabled-fill-color);\n",
              "    box-shadow: none;\n",
              "  }\n",
              "\n",
              "  .colab-df-spinner {\n",
              "    border: 2px solid var(--fill-color);\n",
              "    border-color: transparent;\n",
              "    border-bottom-color: var(--fill-color);\n",
              "    animation:\n",
              "      spin 1s steps(1) infinite;\n",
              "  }\n",
              "\n",
              "  @keyframes spin {\n",
              "    0% {\n",
              "      border-color: transparent;\n",
              "      border-bottom-color: var(--fill-color);\n",
              "      border-left-color: var(--fill-color);\n",
              "    }\n",
              "    20% {\n",
              "      border-color: transparent;\n",
              "      border-left-color: var(--fill-color);\n",
              "      border-top-color: var(--fill-color);\n",
              "    }\n",
              "    30% {\n",
              "      border-color: transparent;\n",
              "      border-left-color: var(--fill-color);\n",
              "      border-top-color: var(--fill-color);\n",
              "      border-right-color: var(--fill-color);\n",
              "    }\n",
              "    40% {\n",
              "      border-color: transparent;\n",
              "      border-right-color: var(--fill-color);\n",
              "      border-top-color: var(--fill-color);\n",
              "    }\n",
              "    60% {\n",
              "      border-color: transparent;\n",
              "      border-right-color: var(--fill-color);\n",
              "    }\n",
              "    80% {\n",
              "      border-color: transparent;\n",
              "      border-right-color: var(--fill-color);\n",
              "      border-bottom-color: var(--fill-color);\n",
              "    }\n",
              "    90% {\n",
              "      border-color: transparent;\n",
              "      border-bottom-color: var(--fill-color);\n",
              "    }\n",
              "  }\n",
              "</style>\n",
              "\n",
              "  <script>\n",
              "    async function quickchart(key) {\n",
              "      const quickchartButtonEl =\n",
              "        document.querySelector('#' + key + ' button');\n",
              "      quickchartButtonEl.disabled = true;  // To prevent multiple clicks.\n",
              "      quickchartButtonEl.classList.add('colab-df-spinner');\n",
              "      try {\n",
              "        const charts = await google.colab.kernel.invokeFunction(\n",
              "            'suggestCharts', [key], {});\n",
              "      } catch (error) {\n",
              "        console.error('Error during call to suggestCharts:', error);\n",
              "      }\n",
              "      quickchartButtonEl.classList.remove('colab-df-spinner');\n",
              "      quickchartButtonEl.classList.add('colab-df-quickchart-complete');\n",
              "    }\n",
              "    (() => {\n",
              "      let quickchartButtonEl =\n",
              "        document.querySelector('#df-9c8962c7-a92d-42c4-9c50-86ec4c05272f button');\n",
              "      quickchartButtonEl.style.display =\n",
              "        google.colab.kernel.accessAllowed ? 'block' : 'none';\n",
              "    })();\n",
              "  </script>\n",
              "</div>\n",
              "\n",
              "    </div>\n",
              "  </div>\n"
            ],
            "application/vnd.google.colaboratory.intrinsic+json": {
              "type": "dataframe",
              "variable_name": "titanic_df",
              "summary": "{\n  \"name\": \"titanic_df\",\n  \"rows\": 891,\n  \"fields\": [\n    {\n      \"column\": \"Survived\",\n      \"properties\": {\n        \"dtype\": \"category\",\n        \"num_unique_values\": 2,\n        \"samples\": [\n          \"Sobreviveu\",\n          \"N\\u00e3o_Sobreviveu\"\n        ],\n        \"semantic_type\": \"\",\n        \"description\": \"\"\n      }\n    },\n    {\n      \"column\": \"Pclass\",\n      \"properties\": {\n        \"dtype\": \"number\",\n        \"std\": 0,\n        \"min\": 1,\n        \"max\": 3,\n        \"num_unique_values\": 3,\n        \"samples\": [\n          3,\n          1\n        ],\n        \"semantic_type\": \"\",\n        \"description\": \"\"\n      }\n    },\n    {\n      \"column\": \"Name\",\n      \"properties\": {\n        \"dtype\": \"string\",\n        \"num_unique_values\": 891,\n        \"samples\": [\n          \"Moubarek, Master. Halim Gonios (\\\"William George\\\")\",\n          \"Kvillner, Mr. Johan Henrik Johannesson\"\n        ],\n        \"semantic_type\": \"\",\n        \"description\": \"\"\n      }\n    },\n    {\n      \"column\": \"Sex\",\n      \"properties\": {\n        \"dtype\": \"category\",\n        \"num_unique_values\": 2,\n        \"samples\": [\n          \"female\",\n          \"male\"\n        ],\n        \"semantic_type\": \"\",\n        \"description\": \"\"\n      }\n    },\n    {\n      \"column\": \"Age\",\n      \"properties\": {\n        \"dtype\": \"number\",\n        \"std\": 14.526497332334044,\n        \"min\": 0.42,\n        \"max\": 80.0,\n        \"num_unique_values\": 88,\n        \"samples\": [\n          0.75,\n          22.0\n        ],\n        \"semantic_type\": \"\",\n        \"description\": \"\"\n      }\n    },\n    {\n      \"column\": \"SibSp\",\n      \"properties\": {\n        \"dtype\": \"number\",\n        \"std\": 1,\n        \"min\": 0,\n        \"max\": 8,\n        \"num_unique_values\": 7,\n        \"samples\": [\n          1,\n          0\n        ],\n        \"semantic_type\": \"\",\n        \"description\": \"\"\n      }\n    },\n    {\n      \"column\": \"Parch\",\n      \"properties\": {\n        \"dtype\": \"number\",\n        \"std\": 0,\n        \"min\": 0,\n        \"max\": 6,\n        \"num_unique_values\": 7,\n        \"samples\": [\n          0,\n          1\n        ],\n        \"semantic_type\": \"\",\n        \"description\": \"\"\n      }\n    },\n    {\n      \"column\": \"Fare\",\n      \"properties\": {\n        \"dtype\": \"number\",\n        \"std\": 49.693428597180905,\n        \"min\": 0.0,\n        \"max\": 512.3292,\n        \"num_unique_values\": 248,\n        \"samples\": [\n          11.2417,\n          51.8625\n        ],\n        \"semantic_type\": \"\",\n        \"description\": \"\"\n      }\n    },\n    {\n      \"column\": \"Cabin\",\n      \"properties\": {\n        \"dtype\": \"category\",\n        \"num_unique_values\": 147,\n        \"samples\": [\n          \"D45\",\n          \"B49\"\n        ],\n        \"semantic_type\": \"\",\n        \"description\": \"\"\n      }\n    },\n    {\n      \"column\": \"Embarked\",\n      \"properties\": {\n        \"dtype\": \"category\",\n        \"num_unique_values\": 3,\n        \"samples\": [\n          \"S\",\n          \"C\"\n        ],\n        \"semantic_type\": \"\",\n        \"description\": \"\"\n      }\n    }\n  ]\n}"
            }
          },
          "metadata": {},
          "execution_count": 3
        }
      ]
    },
    {
      "cell_type": "markdown",
      "source": [
        "##**4. Verificar valores ausentes**\n",
        "Aqui, calculamos a quantidade de valores ausentes em cada coluna e identificamos a coluna com maior número de valores ausentes."
      ],
      "metadata": {
        "id": "WL8Bjso9M5Cp"
      }
    },
    {
      "cell_type": "code",
      "source": [
        "# Verificar a quantidade de valores ausentes por coluna\n",
        "missing_values = titanic_df.isnull().sum()\n",
        "\n",
        "# Exibir os resultados\n",
        "print(\"Valores ausentes por coluna:\")\n",
        "print(missing_values)\n",
        "\n",
        "# Identificar a coluna com maior número de valores ausentes\n",
        "coluna_maior_missing = missing_values.idxmax()\n",
        "print(f\"\\nA coluna com maior número de valores ausentes é: {coluna_maior_missing} ({missing_values[coluna_maior_missing]} valores ausentes)\")\n"
      ],
      "metadata": {
        "colab": {
          "base_uri": "https://localhost:8080/"
        },
        "id": "KI1pzHIMLrN2",
        "outputId": "8f41344d-3a83-45d3-e492-2ea63a564a0e"
      },
      "execution_count": 4,
      "outputs": [
        {
          "output_type": "stream",
          "name": "stdout",
          "text": [
            "Valores ausentes por coluna:\n",
            "Survived      0\n",
            "Pclass        0\n",
            "Name          0\n",
            "Sex           0\n",
            "Age         177\n",
            "SibSp         0\n",
            "Parch         0\n",
            "Fare          0\n",
            "Cabin       687\n",
            "Embarked      2\n",
            "dtype: int64\n",
            "\n",
            "A coluna com maior número de valores ausentes é: Cabin (687 valores ausentes)\n"
          ]
        }
      ]
    },
    {
      "cell_type": "markdown",
      "source": [
        "### **5. Tratamento dos missing values**\n",
        "\n",
        "- **`Age` (177 valores ausentes):** Como é uma variável contínua, podemos preencher com a **média** ou **mediana**.\n",
        "- **`Cabin` (687 valores ausentes):** A maior parte dos valores está ausente, então faz sentido **remover essa coluna** por não agregar informações significativas.\n",
        "- **`Embarked` (2 valores ausentes):** É uma variável categórica. Podemos preencher os valores ausentes com o **modo** (categoria mais frequente)."
      ],
      "metadata": {
        "id": "p4tuYAdkNO8a"
      }
    },
    {
      "cell_type": "code",
      "source": [
        "# Tratando os valores ausentes\n",
        "# 1. Preencher valores ausentes de 'Age' com a média\n",
        "titanic_df['Age'].fillna(titanic_df['Age'].mean(), inplace=True)\n",
        "\n",
        "# 2. Remover a coluna 'Cabin'\n",
        "titanic_df.drop(columns=['Cabin'], inplace=True)\n",
        "\n",
        "# 3. Preencher valores ausentes de 'Embarked' com o modo\n",
        "titanic_df['Embarked'].fillna(titanic_df['Embarked'].mode()[0], inplace=True)\n",
        "\n",
        "# Verificar novamente os valores ausentes\n",
        "print(\"Valores ausentes após o tratamento:\")\n",
        "print(titanic_df.isnull().sum())\n"
      ],
      "metadata": {
        "colab": {
          "base_uri": "https://localhost:8080/"
        },
        "id": "2Dkub8DrNBew",
        "outputId": "731dcfbc-ef2d-4361-a6e6-40cff089cf8d"
      },
      "execution_count": 5,
      "outputs": [
        {
          "output_type": "stream",
          "name": "stdout",
          "text": [
            "Valores ausentes após o tratamento:\n",
            "Survived    0\n",
            "Pclass      0\n",
            "Name        0\n",
            "Sex         0\n",
            "Age         0\n",
            "SibSp       0\n",
            "Parch       0\n",
            "Fare        0\n",
            "Embarked    0\n",
            "dtype: int64\n"
          ]
        },
        {
          "output_type": "stream",
          "name": "stderr",
          "text": [
            "<ipython-input-5-0bf49f20a198>:3: FutureWarning: A value is trying to be set on a copy of a DataFrame or Series through chained assignment using an inplace method.\n",
            "The behavior will change in pandas 3.0. This inplace method will never work because the intermediate object on which we are setting values always behaves as a copy.\n",
            "\n",
            "For example, when doing 'df[col].method(value, inplace=True)', try using 'df.method({col: value}, inplace=True)' or df[col] = df[col].method(value) instead, to perform the operation inplace on the original object.\n",
            "\n",
            "\n",
            "  titanic_df['Age'].fillna(titanic_df['Age'].mean(), inplace=True)\n",
            "<ipython-input-5-0bf49f20a198>:9: FutureWarning: A value is trying to be set on a copy of a DataFrame or Series through chained assignment using an inplace method.\n",
            "The behavior will change in pandas 3.0. This inplace method will never work because the intermediate object on which we are setting values always behaves as a copy.\n",
            "\n",
            "For example, when doing 'df[col].method(value, inplace=True)', try using 'df.method({col: value}, inplace=True)' or df[col] = df[col].method(value) instead, to perform the operation inplace on the original object.\n",
            "\n",
            "\n",
            "  titanic_df['Embarked'].fillna(titanic_df['Embarked'].mode()[0], inplace=True)\n"
          ]
        }
      ]
    },
    {
      "cell_type": "markdown",
      "source": [
        "### **6. Estatísticas descritivas**\n",
        "Vamos calcular as seguintes estatísticas para as colunas numéricas do DataFrame:\n",
        "- `count`\n",
        "- `mean`\n",
        "- `std`\n",
        "- `min`\n",
        "- `25%`, `50%` (mediana), `75%`\n",
        "- `max`\n",
        "- `skew` (assimetria)\n",
        "- `kurt` (curtose)\n",
        "\n",
        "---\n",
        "\n",
        "### Interpretação\n",
        "Após executar o código:\n",
        "1. **Valores de `mean` e `std`:** Eles indicam a média e o desvio padrão, respectivamente.\n",
        "2. **Assimetria (`skew`):**\n",
        "   - Valores próximos de 0 indicam simetria.\n",
        "   - Valores positivos indicam assimetria à direita.\n",
        "   - Valores negativos indicam assimetria à esquerda.\n",
        "3. **Curtose (`kurt`):**\n",
        "   - Valores maiores que 0 indicam que os dados têm caudas mais pesadas que uma distribuição normal.\n",
        "   - Valores menores que 0 indicam caudas mais leves."
      ],
      "metadata": {
        "id": "d4wbBiynN2qy"
      }
    },
    {
      "cell_type": "code",
      "source": [
        "# Estatísticas descritivas básicas\n",
        "estatisticas = titanic_df.describe()\n",
        "\n",
        "# Calcular skew e kurt (assimetria e curtose)\n",
        "estatisticas.loc['skew'] = titanic_df.skew(numeric_only=True)\n",
        "estatisticas.loc['kurt'] = titanic_df.kurt(numeric_only=True)\n",
        "\n",
        "# Exibir estatísticas descritivas\n",
        "print(estatisticas)\n"
      ],
      "metadata": {
        "colab": {
          "base_uri": "https://localhost:8080/"
        },
        "id": "MYHaL3d7OI7c",
        "outputId": "d98bc94d-99e0-4d88-efd1-8749c71105a6"
      },
      "execution_count": 6,
      "outputs": [
        {
          "output_type": "stream",
          "name": "stdout",
          "text": [
            "           Pclass         Age       SibSp       Parch        Fare\n",
            "count  891.000000  891.000000  891.000000  891.000000  891.000000\n",
            "mean     2.308642   29.699118    0.523008    0.381594   32.204208\n",
            "std      0.836071   13.002015    1.102743    0.806057   49.693429\n",
            "min      1.000000    0.420000    0.000000    0.000000    0.000000\n",
            "25%      2.000000   22.000000    0.000000    0.000000    7.910400\n",
            "50%      3.000000   29.699118    0.000000    0.000000   14.454200\n",
            "75%      3.000000   35.000000    1.000000    0.000000   31.000000\n",
            "max      3.000000   80.000000    8.000000    6.000000  512.329200\n",
            "skew    -0.630548    0.434488    3.695352    2.749117    4.787317\n",
            "kurt    -1.280015    0.966279   17.880420    9.778125   33.398141\n"
          ]
        }
      ]
    },
    {
      "cell_type": "markdown",
      "source": [
        "---\n",
        "\n",
        "### **Desse modo, podemos interpretrar os dados como:**\n",
        "1. **`Pclass` (Classe do passageiro):**\n",
        "   - Média: 2,31 → A maioria dos passageiros estava na 2ª ou 3ª classe.\n",
        "   - Assimetria (`skew`): -0,63 → Distribuição levemente assimétrica à esquerda, indicando mais passageiros na 3ª classe.\n",
        "   - Curtose (`kurt`): -1,28 → Caudas mais leves que o esperado, indicando uma distribuição mais achatada.\n",
        "\n",
        "2. **`Age` (Idade):**\n",
        "   - Média: 29,7 anos → Os passageiros tinham em média cerca de 30 anos.\n",
        "   - Assimetria: 0,43 → Leve assimetria à direita, indicando mais pessoas jovens no conjunto de dados.\n",
        "   - Curtose: 0,97 → Caudas um pouco mais pesadas, sugerindo extremos.\n",
        "\n",
        "3. **`SibSp` (Irmãos/cônjuges a bordo):**\n",
        "   - Assimetria: 3,70 → Distribuição fortemente assimétrica à direita; a maioria tinha poucos ou nenhum acompanhante.\n",
        "   - Curtose: 17,88 → Valores muito extremos (outliers) no conjunto.\n",
        "\n",
        "4. **`Parch` (Pais/filhos a bordo):**\n",
        "   - Assimetria: 2,75 → Assimetria significativa à direita.\n",
        "   - Curtose: 9,78 → Valores extremos também presentes.\n",
        "\n",
        "5. **`Fare` (Tarifa paga):**\n",
        "   - Média: 32,2 → A tarifa média foi 32,2 unidades monetárias.\n",
        "   - Assimetria: 4,78 → Altamente assimétrica à direita, indicando que algumas pessoas pagaram valores muito elevados.\n",
        "   - Curtose: 33,39 → Valores extremamente extremos (outliers muito altos)."
      ],
      "metadata": {
        "id": "9QSy_cL0BYiE"
      }
    },
    {
      "cell_type": "markdown",
      "source": [
        "## 7. Matriz de correlação\n",
        "A matriz de correlação nos ajuda a entender as relações lineares entre as variáveis. Valores próximos de:\n",
        "\n",
        "> * 1 ou -1: Forte correlação positiva ou negativa.\n",
        "> * 0: Nenhuma correlação linear.\n",
        "\n",
        "Para tal, vamos usar o método corr() e visualizar a matriz."
      ],
      "metadata": {
        "id": "pWTFpCcdCMSp"
      }
    },
    {
      "cell_type": "code",
      "source": [
        "import seaborn as sns\n",
        "import matplotlib.pyplot as plt\n",
        "\n",
        "# Matriz de correlação\n",
        "correlation_matrix = titanic_df.corr(numeric_only=True)\n",
        "\n",
        "# Exibir a matriz de correlação\n",
        "print(\"Matriz de correlação:\")\n",
        "print(correlation_matrix)\n",
        "\n",
        "# Visualizar com um heatmap\n",
        "plt.figure(figsize=(8, 6))\n",
        "sns.heatmap(correlation_matrix, annot=True, cmap=\"coolwarm\", fmt=\".2f\")\n",
        "plt.title(\"Matriz de Correlação\")\n",
        "plt.show()\n"
      ],
      "metadata": {
        "colab": {
          "base_uri": "https://localhost:8080/",
          "height": 667
        },
        "id": "iKZ8p2f6CL0L",
        "outputId": "6804276b-8700-4ce4-a5f0-d5dc15bdcd5b"
      },
      "execution_count": 7,
      "outputs": [
        {
          "output_type": "stream",
          "name": "stdout",
          "text": [
            "Matriz de correlação:\n",
            "          Pclass       Age     SibSp     Parch      Fare\n",
            "Pclass  1.000000 -0.331339  0.083081  0.018443 -0.549500\n",
            "Age    -0.331339  1.000000 -0.232625 -0.179191  0.091566\n",
            "SibSp   0.083081 -0.232625  1.000000  0.414838  0.159651\n",
            "Parch   0.018443 -0.179191  0.414838  1.000000  0.216225\n",
            "Fare   -0.549500  0.091566  0.159651  0.216225  1.000000\n"
          ]
        },
        {
          "output_type": "display_data",
          "data": {
            "text/plain": [
              "<Figure size 800x600 with 2 Axes>"
            ],
            "image/png": "[encoded data removed]"
          },
          "metadata": {}
        }
      ]
    },
    {
      "cell_type": "markdown",
      "source": [
        "---\n",
        "\n",
        "### **Análise das correlações:**\n",
        "1. **`Pclass` (Classe do passageiro):**\n",
        "   - Alta correlação positiva com `Fare` (1.0): Naturalmente, passageiros em classes mais altas (1ª classe) pagaram tarifas significativamente maiores que os demais.\n",
        "   - Correlação negativa com `Age` (-0.33): Passageiros mais jovens tendem a estar em classes inferiores.\n",
        "\n",
        "2. **`Age` (Idade):**\n",
        "   - Correlação negativa com `SibSp` (-0.23): Pessoas mais velhas geralmente viajam com menos irmãos/cônjuges.\n",
        "   - Correlação negativa com `Parch` (-0.18): Pessoas mais velhas viajam menos com pais/filhos.\n",
        "\n",
        "3. **`Fare` (Tarifa paga):**\n",
        "   - Positiva com `Parch` (0.22) e `SibSp` (0.16): Quem viajava em grupo pagava, em média, tarifas mais altas.\n",
        "\n",
        "---\n",
        "\n",
        "### No geral...\n",
        "A relação mais forte é entre **`Pclass` e `Fare`**, indicando que a classe social influenciava diretamente no custo da viagem. Outras variáveis, como `SibSp` e `Parch`, apresentam correlações fracas.\n",
        "\n",
        "VOLTAR DEPOIS PARA ENTENDER SOBREVIVENTES"
      ],
      "metadata": {
        "id": "Zeoku6W4C6VK"
      }
    },
    {
      "cell_type": "code",
      "source": [
        "import pandas as pd\n",
        "\n",
        "# Garantir que 'Survived' esteja em formato numérico\n",
        "titanic_df['Survived'] = titanic_df['Survived'].map({'Não_Sobreviveu': 0, 'Sobreviveu': 1})\n",
        "\n",
        "# Selecionar apenas colunas numéricas\n",
        "titanic_df_numerico = titanic_df.select_dtypes(include=['number'])\n",
        "\n",
        "# Recalcular a matriz de correlação\n",
        "correlacao = titanic_df_numerico.corr()\n",
        "\n",
        "# Exibir apenas a correlação com 'Survived'\n",
        "correlacao_com_survived = correlacao['Survived'].sort_values(ascending=False)\n",
        "print(\"Correlação com 'Survived':\")\n",
        "print(correlacao_com_survived)\n"
      ],
      "metadata": {
        "colab": {
          "base_uri": "https://localhost:8080/"
        },
        "id": "QlFcSKGshjxh",
        "outputId": "36ab715e-32ab-4172-8591-980fe36f5f8c"
      },
      "execution_count": 8,
      "outputs": [
        {
          "output_type": "stream",
          "name": "stdout",
          "text": [
            "Correlação com 'Survived':\n",
            "Survived    1.000000\n",
            "Fare        0.257307\n",
            "Parch       0.081629\n",
            "SibSp      -0.035322\n",
            "Age        -0.069809\n",
            "Pclass     -0.338481\n",
            "Name: Survived, dtype: float64\n"
          ]
        }
      ]
    },
    {
      "cell_type": "code",
      "source": [
        "import seaborn as sns\n",
        "import matplotlib.pyplot as plt\n",
        "\n",
        "# Matriz de correlação\n",
        "correlation_matrix = titanic_df.corr(numeric_only=True)\n",
        "\n",
        "# Exibir a matriz de correlação\n",
        "print(\"Matriz de correlação:\")\n",
        "print(correlation_matrix)\n",
        "\n",
        "# Visualizar com um heatmap\n",
        "plt.figure(figsize=(8, 6))\n",
        "sns.heatmap(correlation_matrix, annot=True, cmap=\"coolwarm\", fmt=\".2f\")\n",
        "plt.title(\"Matriz de Correlação\")\n",
        "plt.show()"
      ],
      "metadata": {
        "colab": {
          "base_uri": "https://localhost:8080/",
          "height": 684
        },
        "id": "ulpv2QvKiZA0",
        "outputId": "e5d2e804-5ceb-4c5f-bdaf-188eaf39d5bd"
      },
      "execution_count": 9,
      "outputs": [
        {
          "output_type": "stream",
          "name": "stdout",
          "text": [
            "Matriz de correlação:\n",
            "          Survived    Pclass       Age     SibSp     Parch      Fare\n",
            "Survived  1.000000 -0.338481 -0.069809 -0.035322  0.081629  0.257307\n",
            "Pclass   -0.338481  1.000000 -0.331339  0.083081  0.018443 -0.549500\n",
            "Age      -0.069809 -0.331339  1.000000 -0.232625 -0.179191  0.091566\n",
            "SibSp    -0.035322  0.083081 -0.232625  1.000000  0.414838  0.159651\n",
            "Parch     0.081629  0.018443 -0.179191  0.414838  1.000000  0.216225\n",
            "Fare      0.257307 -0.549500  0.091566  0.159651  0.216225  1.000000\n"
          ]
        },
        {
          "output_type": "display_data",
          "data": {
            "text/plain": [
              "<Figure size 800x600 with 2 Axes>"
            ],
            "image/png": "[encoded data removed]"
          },
          "metadata": {}
        }
      ]
    },
    {
      "cell_type": "markdown",
      "source": [
        "Com base nessa nova matriz de correlação, podemos analisar as colunas que possuem **alta correlação** e **fraca correlação** com a coluna `'Survived'`.\n",
        "\n",
        "### **Altamente correlacionadas:**\n",
        "- **'Pclass' e 'Survived'**: Correlação de **-0.338**.\n",
        "  - Existe uma correlação moderada negativa entre a classe (`Pclass`) e a sobrevivência. Ou seja, quanto maior a classe (geralmente mais alta), maior a chance de sobrevivência.\n",
        "  \n",
        "- **'Fare' e 'Survived'**: Correlação de **0.257**.\n",
        "  - Existe uma correlação moderada positiva entre a tarifa paga (`Fare`) e a sobrevivência. Quem pagou uma tarifa mais alta teve mais chance de sobreviver.\n",
        "\n",
        "### **Fraca correlação com 'Survived':**\n",
        "- **'Age' e 'Survived'**: Correlação de **-0.069**.\n",
        "  - A correlação é muito fraca e praticamente insignificante. A idade tem uma relação muito fraca com a sobrevivência.\n",
        "  \n",
        "- **'SibSp' e 'Survived'**: Correlação de **-0.035**.\n",
        "  - A correlação entre o número de irmãos/cônjuges a bordo (`SibSp`) e a sobrevivência é muito fraca.\n",
        "\n",
        "- **'Parch' e 'Survived'**: Correlação de **0.081**.\n",
        "  - A correlação entre o número de pais/filhos a bordo (`Parch`) e a sobrevivência é fraca, mas positiva.\n",
        "\n",
        "### Resumo:\n",
        "- **Altamente correlacionadas** com a sobrevivência: `'Pclass'` e `'Fare'` (moderadamente).\n",
        "- **Fraca correlação** com a sobrevivência: `'Age'`, `'SibSp'` e `'Parch'`."
      ],
      "metadata": {
        "id": "0A4e5j9FivAn"
      }
    },
    {
      "cell_type": "markdown",
      "source": [
        "##8. Porcentagem de sobrevivência por gênero\n",
        "Vamos dividir os dados por gênero e calcular a porcentagem de sobreviventes para homens e mulheres."
      ],
      "metadata": {
        "id": "3hidpUrRFL8_"
      }
    },
    {
      "cell_type": "code",
      "source": [
        "# Filtrar os dados por gênero\n",
        "sobreviventes_por_genero = titanic_df.groupby('Sex')['Survived'].value_counts(normalize=True).unstack()\n",
        "\n",
        "# Multiplicar por 100 para obter a porcentagem\n",
        "sobreviventes_por_genero *= 100\n",
        "\n",
        "# Exibir os resultados\n",
        "print(\"Porcentagem de sobrevivência por gênero:\")\n",
        "print(sobreviventes_por_genero)\n",
        "\n",
        "# Exemplo visual\n",
        "sobreviventes_por_genero.plot(kind='bar', stacked=True, figsize=(8, 6), color=['purple', 'blue'])\n",
        "plt.title(\"Porcentagem de Sobrevivência por Gênero\")\n",
        "plt.ylabel(\"Porcentagem (%)\")\n",
        "plt.xlabel(\"Gênero\")\n",
        "plt.legend([\"Não Sobreviveu\", \"Sobreviveu\"])\n",
        "plt.show()\n"
      ],
      "metadata": {
        "colab": {
          "base_uri": "https://localhost:8080/",
          "height": 686
        },
        "id": "1wS6NixhORFJ",
        "outputId": "9429d391-c3e9-4c9c-d20c-5726aa28b42f"
      },
      "execution_count": 10,
      "outputs": [
        {
          "output_type": "stream",
          "name": "stdout",
          "text": [
            "Porcentagem de sobrevivência por gênero:\n",
            "Survived          0          1\n",
            "Sex                           \n",
            "female    25.796178  74.203822\n",
            "male      81.109185  18.890815\n"
          ]
        },
        {
          "output_type": "display_data",
          "data": {
            "text/plain": [
              "<Figure size 800x600 with 1 Axes>"
            ],
            "image/png": "[encoded data removed]"
          },
          "metadata": {}
        }
      ]
    },
    {
      "cell_type": "markdown",
      "source": [
        "---\n",
        "\n",
        "### **Com isso, temos que:**\n",
        "1. **Mulheres (`female`):**\n",
        "   - **Sobreviventes:** 74,20%\n",
        "   - **Não sobreviventes:** 25,80%\n",
        "\n",
        "2. **Homens (`male`):**\n",
        "   - **Sobreviventes:** 18,89%\n",
        "   - **Não sobreviventes:** 81,11%\n",
        "\n",
        "\n",
        "**Conclusão:** A maioria das mulheres sobreviveu, evidenciando a política de \"mulheres e crianças primeiro\" adotada durante o desastre."
      ],
      "metadata": {
        "id": "6KnIpu25FkO7"
      }
    },
    {
      "cell_type": "markdown",
      "source": [
        "## 9. Média do valor pago (Fare) por sexo"
      ],
      "metadata": {
        "id": "VqDcZC1HGecv"
      }
    },
    {
      "cell_type": "code",
      "source": [
        "# Calcular a média do valor pago por sexo\n",
        "media_fare_por_sexo = titanic_df.groupby('Sex')['Fare'].mean()\n",
        "\n",
        "# Exibir os resultados\n",
        "print(\"Média do valor pago por sexo:\")\n",
        "print(media_fare_por_sexo)\n"
      ],
      "metadata": {
        "colab": {
          "base_uri": "https://localhost:8080/"
        },
        "id": "cKK_vTgMFQ5D",
        "outputId": "b1a8865a-3012-4fef-f00a-136813f336d3"
      },
      "execution_count": 11,
      "outputs": [
        {
          "output_type": "stream",
          "name": "stdout",
          "text": [
            "Média do valor pago por sexo:\n",
            "Sex\n",
            "female    44.479818\n",
            "male      25.523893\n",
            "Name: Fare, dtype: float64\n"
          ]
        }
      ]
    },
    {
      "cell_type": "markdown",
      "source": [
        "---\n",
        "\n",
        "### **Interpretação**\n",
        "1. **Mulheres (`female`):**\n",
        "   - Média do valor pago: **44,48**.\n",
        "\n",
        "2. **Homens (`male`):**\n",
        "   - Média do valor pago: **25,52**.\n",
        "\n",
        "### **Possíveis razões:**\n",
        "- Mulheres podem ter viajado em maior proporção nas classes superiores (`Pclass`), onde as tarifas eram mais caras.\n",
        "- Algumas mulheres podem ter sido acompanhadas por familiares, o que também influencia no valor total pago.\n",
        "- Pode ter havido uma cobrança adicional em função de bens como joias."
      ],
      "metadata": {
        "id": "afQL1TpVGuP0"
      }
    },
    {
      "cell_type": "markdown",
      "source": [
        "\n",
        "## 10. Média do valor pago (`Fare`) por classe (`Pclass`)"
      ],
      "metadata": {
        "id": "v5ulRgWAHgqM"
      }
    },
    {
      "cell_type": "code",
      "source": [
        "# Calculando a média do valor pago por classe\n",
        "media_fare_por_classe = titanic_df.groupby('Pclass')['Fare'].mean()\n",
        "\n",
        "# Exibir os resultados\n",
        "print(\"Média do valor pago por classe:\")\n",
        "print(media_fare_por_classe)\n"
      ],
      "metadata": {
        "colab": {
          "base_uri": "https://localhost:8080/"
        },
        "id": "6dtijHyJGja4",
        "outputId": "0f7dcbaf-24b3-4630-a566-ad9ab97bad3a"
      },
      "execution_count": 12,
      "outputs": [
        {
          "output_type": "stream",
          "name": "stdout",
          "text": [
            "Média do valor pago por classe:\n",
            "Pclass\n",
            "1    84.154687\n",
            "2    20.662183\n",
            "3    13.675550\n",
            "Name: Fare, dtype: float64\n"
          ]
        }
      ]
    },
    {
      "cell_type": "markdown",
      "source": [
        "1. **1ª Classe (`Pclass = 1`):**\n",
        "   - Média do valor pago: **84,15**.\n",
        "   - Passageiros da 1ª classe pagaram tarifas significativamente mais altas, evidenciando o luxo e os privilégios associados a essa classe.\n",
        "\n",
        "2. **2ª Classe (`Pclass = 2`):**\n",
        "   - Média do valor pago: **20,66**.\n",
        "   - Tarifas bem mais acessíveis do que a 1ª classe, indicando menos comodidades.\n",
        "\n",
        "3. **3ª Classe (`Pclass = 3`):**\n",
        "   - Média do valor pago: **13,68**.\n",
        "   - A classe mais popular e acessível, geralmente ocupada por passageiros de condições econômicas mais modestas.\n",
        "\n",
        "\n",
        "**Conclusão:**\n",
        "A diferença significativa nos valores pagos reforça como a **classe social** influenciava diretamente no custo da viagem e nas condições oferecidas. Isso também ajuda a explicar as altas tarifas médias pagas por mulheres, já que muitas viajaram na 1ª classe."
      ],
      "metadata": {
        "id": "hXEQuOo5H4ss"
      }
    },
    {
      "cell_type": "markdown",
      "source": [
        "##11. Média do valor pago (`Fare`) por local de embarque (`Embarked`)"
      ],
      "metadata": {
        "id": "8X7AAyoNIntx"
      }
    },
    {
      "cell_type": "code",
      "source": [
        "# Calculando a média do valor pago por local de embarque\n",
        "media_fare_por_embarque = titanic_df.groupby('Embarked')['Fare'].mean()\n",
        "\n",
        "# Exibir os resultados\n",
        "print(\"Média do valor pago por local de embarque:\")\n",
        "print(media_fare_por_embarque)\n"
      ],
      "metadata": {
        "colab": {
          "base_uri": "https://localhost:8080/"
        },
        "id": "HC12w8JhHutz",
        "outputId": "3402b9f3-85b0-4415-a025-d2e043a6cd7d"
      },
      "execution_count": 13,
      "outputs": [
        {
          "output_type": "stream",
          "name": "stdout",
          "text": [
            "Média do valor pago por local de embarque:\n",
            "Embarked\n",
            "C    59.954144\n",
            "Q    13.276030\n",
            "S    27.243651\n",
            "Name: Fare, dtype: float64\n"
          ]
        }
      ]
    },
    {
      "cell_type": "markdown",
      "source": [
        "---\n",
        "\n",
        "### **Interpretação**\n",
        "1. **Cherbourg (`C`):**\n",
        "   - Média do valor pago: **59,95**.\n",
        "   - Os passageiros que embarcaram em `Cherbourg` pagaram, em média, tarifas significativamente mais altas, indicando que muitos eram de classes socioeconômicas superiores ou possuíam maior poder aquisitivo.\n",
        "\n",
        "2. **Queenstown (`Q`):**\n",
        "   - Média do valor pago: **13,28**.\n",
        "   - Passageiros de `Queenstown` pagaram as tarifas mais baixas, sugerindo que eram majoritariamente da 3ª classe e de condições econômicas mais modestas.\n",
        "\n",
        "3. **Southampton (`S`):**\n",
        "   - Média do valor pago: **27,24**.\n",
        "   - Passageiros de `Southampton` representavam um grupo intermediário, com maior diversidade de classes e valores pagos.\n",
        "\n",
        "\n",
        "De modo geral, os valores refletem como o local de embarque estava correlacionado ao perfil socioeconômico dos passageiros. Cherbourg, por exemplo, pode ter sido um ponto de embarque para passageiros mais ricos, enquanto Queenstown atendia pessoas de condições mais modestas."
      ],
      "metadata": {
        "id": "PrUkH43hI6w1"
      }
    },
    {
      "cell_type": "markdown",
      "source": [
        "##12. Contagem de passageiros por local de embarque"
      ],
      "metadata": {
        "id": "Ji41Nrj0JUBO"
      }
    },
    {
      "cell_type": "code",
      "source": [
        "# Calcular a contagem de passageiros por local de embarque\n",
        "contagem_embarque = titanic_df['Embarked'].value_counts()\n",
        "\n",
        "# Exibir os resultados\n",
        "print(\"Contagem de passageiros por local de embarque:\")\n",
        "print(contagem_embarque)\n"
      ],
      "metadata": {
        "colab": {
          "base_uri": "https://localhost:8080/"
        },
        "id": "a0mi5hAXIwqS",
        "outputId": "401caa55-66eb-4c9f-cb3f-34ae8b6158b1"
      },
      "execution_count": 14,
      "outputs": [
        {
          "output_type": "stream",
          "name": "stdout",
          "text": [
            "Contagem de passageiros por local de embarque:\n",
            "Embarked\n",
            "S    646\n",
            "C    168\n",
            "Q     77\n",
            "Name: count, dtype: int64\n"
          ]
        }
      ]
    },
    {
      "cell_type": "markdown",
      "source": [
        "### **Interpretação**\n",
        "1. **Southampton (`S`):**\n",
        "   - Contagem: **646 passageiros**.\n",
        "   - Southampton foi o principal ponto de embarque, representando a maioria dos passageiros. Esse local apresentava um perfil socioeconômico diversificado, com passageiros de todas as classes.\n",
        "\n",
        "2. **Cherbourg (`C`):**\n",
        "   - Contagem: **168 passageiros**.\n",
        "   - Embora menos frequente que Southampton, Cherbourg teve passageiros que, em média, pagaram as tarifas mais altas, sugerindo uma predominância da 1ª classe.\n",
        "\n",
        "3. **Queenstown (`Q`):**\n",
        "   - Contagem: **77 passageiros**.\n",
        "   - O menor número de embarques foi em Queenstown, que majoritariamente atendia passageiros da 3ª classe com tarifas mais acessíveis.\n",
        "\n",
        "Dado o exposto, os números reforçaram como o local de embarque está relacionado ao perfil dos passageiros, tanto em termos de quantidade quanto de classe social."
      ],
      "metadata": {
        "id": "B_AO3FPHJjlP"
      }
    },
    {
      "cell_type": "markdown",
      "source": [
        "### **13. Contagem e média da tarifa por `Embarked`, `Sex` e `Pclass`**\n",
        "Agrupadas por local de embarque"
      ],
      "metadata": {
        "id": "kJ-a1mu4J2Od"
      }
    },
    {
      "cell_type": "code",
      "source": [
        "# Calcular contagem e média da tarifa agrupadas\n",
        "agrupamento_fare = titanic_df.groupby(['Embarked', 'Sex', 'Pclass'])['Fare'].agg(['count', 'mean'])\n",
        "\n",
        "# Exibir os resultados\n",
        "print(\"Contagem e média da tarifa por Embarked, Sex e Pclass:\")\n",
        "print(agrupamento_fare)\n"
      ],
      "metadata": {
        "colab": {
          "base_uri": "https://localhost:8080/"
        },
        "id": "yODT8Go9JXc4",
        "outputId": "332a3022-21a0-4abb-9079-629bf70483ed"
      },
      "execution_count": 15,
      "outputs": [
        {
          "output_type": "stream",
          "name": "stdout",
          "text": [
            "Contagem e média da tarifa por Embarked, Sex e Pclass:\n",
            "                        count        mean\n",
            "Embarked Sex    Pclass                   \n",
            "C        female 1          43  115.640309\n",
            "                2           7   25.268457\n",
            "                3          23   14.694926\n",
            "         male   1          42   93.536707\n",
            "                2          10   25.421250\n",
            "                3          43    9.352237\n",
            "Q        female 1           1   90.000000\n",
            "                2           2   12.350000\n",
            "                3          33   10.307833\n",
            "         male   1           1   90.000000\n",
            "                2           1   12.350000\n",
            "                3          39   11.924251\n",
            "S        female 1          50   98.265834\n",
            "                2          67   21.912687\n",
            "                3          88   18.670077\n",
            "         male   1          79   52.949947\n",
            "                2          97   19.232474\n",
            "                3         265   13.307149\n"
          ]
        }
      ]
    },
    {
      "cell_type": "markdown",
      "source": [
        "1. **Cherbourg (`C`):**\n",
        "   - **1ª Classe:**\n",
        "     - Mulheres pagaram em média **115,64**, enquanto homens pagaram **93,54**.\n",
        "     - Isso indica que as mulheres frequentemente tinham acesso às tarifas mais caras, possivelmente associadas a cabines maiores ou mais luxuosas.\n",
        "   - **3ª Classe:**\n",
        "     - Tarifa média menor, principalmente para homens (**9,35**) em comparação às mulheres (**14,69**).\n",
        "     - O menor número de passageiros em 2ª e 3ª classes explica a alta média geral para Cherbourg.\n",
        "\n",
        "2. **Queenstown (`Q`):**\n",
        "   - **3ª Classe:**\n",
        "     - A maior parte dos passageiros embarcou na 3ª classe, com tarifas médias similares para homens (**11,92**) e mulheres (**10,31**).\n",
        "   - Poucos passageiros embarcaram em 1ª e 2ª classes, o que reflete a condição socioeconômica mais modesta do local.\n",
        "\n",
        "3. **Southampton (`S`):**\n",
        "   - **1ª Classe:**\n",
        "     - Mulheres pagaram tarifas mais altas (**98,27**) que os homens (**52,95**), o que segue o padrão observado em Cherbourg.\n",
        "   - **3ª Classe:**\n",
        "     - Tarifa média mais baixa para homens (**13,31**) em comparação às mulheres (**18,67**), refletindo a maior proporção de viajantes econômicos saindo de Southampton.\n",
        "\n",
        "---\n",
        "\n",
        "Assim:\n",
        "- Mulheres geralmente pagaram tarifas médias mais altas, especialmente na 1ª classe, independentemente do local de embarque.\n",
        "- Southampton teve a maior diversidade de passageiros, incluindo um grande número na 3ª classe.\n",
        "- Cherbourg destacou-se pelas tarifas altas, principalmente na 1ª classe.\n",
        "- Queenstown foi o ponto de embarque mais acessível, com predominância da 3ª classe."
      ],
      "metadata": {
        "id": "pcdWV8yuf1JP"
      }
    },
    {
      "cell_type": "markdown",
      "source": [
        "##14. Identificação de outliers na coluna ``Fare``"
      ],
      "metadata": {
        "id": "ZFn326K6gX4Y"
      }
    },
    {
      "cell_type": "code",
      "source": [
        "# Calcular os quartis e o IQR\n",
        "q1 = titanic_df['Fare'].quantile(0.25)\n",
        "q3 = titanic_df['Fare'].quantile(0.75)\n",
        "iqr = q3 - q1\n",
        "\n",
        "# Calcular os limites para outliers\n",
        "limite_inferior = q1 - 1.5 * iqr\n",
        "limite_superior = q3 + 1.5 * iqr\n",
        "\n",
        "print(f\"Limite inferior: {limite_inferior}\")\n",
        "print(f\"Limite superior: {limite_superior}\")\n",
        "\n",
        "# Identificar os outliers\n",
        "outliers = titanic_df[(titanic_df['Fare'] < limite_inferior) | (titanic_df['Fare'] > limite_superior)]\n",
        "\n",
        "# Exibir os resultados\n",
        "print(f\"Número de outliers encontrados: {outliers.shape[0]}\")\n",
        "print(\"Exemplos de outliers:\")\n",
        "print(outliers[['Fare']].head())\n"
      ],
      "metadata": {
        "colab": {
          "base_uri": "https://localhost:8080/"
        },
        "id": "rGWeOnZpf00a",
        "outputId": "c1d294a1-80f4-4b72-ab04-f1c80039e3cc"
      },
      "execution_count": 16,
      "outputs": [
        {
          "output_type": "stream",
          "name": "stdout",
          "text": [
            "Limite inferior: -26.724\n",
            "Limite superior: 65.6344\n",
            "Número de outliers encontrados: 116\n",
            "Exemplos de outliers:\n",
            "        Fare\n",
            "1    71.2833\n",
            "27  263.0000\n",
            "31  146.5208\n",
            "34   82.1708\n",
            "52   76.7292\n"
          ]
        }
      ]
    },
    {
      "cell_type": "markdown",
      "source": [
        "1. **Limites calculados:**\n",
        "   - **Inferior**: -26.724 → Este valor é teórico, já que tarifas negativas não são possíveis.\n",
        "   - **Superior**: 65.6344 → Tarifas acima deste valor são consideradas **outliers**.\n",
        "\n",
        "2. **Número de outliers:**\n",
        "   - Foram encontrados **116 outliers**, o que representa cerca de **13%** dos passageiros do dataset (116/891).\n",
        "\n",
        "3. **Exemplos de tarifas fora do padrão:**\n",
        "   - Alguns passageiros pagaram tarifas bastante elevadas, como **263.00** e **146.52**, indicando acesso a acomodações mais luxuosas (geralmente na 1ª classe)."
      ],
      "metadata": {
        "id": "-K5lHToEgL7B"
      }
    },
    {
      "cell_type": "markdown",
      "source": [
        "## **15. Criando a coluna `Fare_Range`**\n",
        "\n",
        "#### Etapas:\n",
        "1. Usar os quartis \\(Q1\\), \\(Q2\\) (mediana), e \\(Q3\\) para definir as categorias:\n",
        "   - **Baixo**: Valores menores ou iguais ao **Q1**.\n",
        "   - **Médio**: Valores entre **Q1** e **Q3**.\n",
        "   - **Alto**: Valores maiores que **Q3**.\n",
        "\n",
        "2. Adicionar a nova coluna ao DataFrame."
      ],
      "metadata": {
        "id": "FQwE0l2Pgo07"
      }
    },
    {
      "cell_type": "code",
      "source": [
        "# Definir as faixas baseadas nos quartis\n",
        "def categorizar_fare(fare):\n",
        "    if fare <= q1:\n",
        "        return 'Baixo'\n",
        "    elif fare <= q3:\n",
        "        return 'Médio'\n",
        "    else:\n",
        "        return 'Alto'\n",
        "\n",
        "# Criar a nova coluna 'Fare_Range'\n",
        "titanic_df['Fare_Range'] = titanic_df['Fare'].apply(categorizar_fare)\n",
        "\n",
        "# Verificar os resultados\n",
        "print(titanic_df[['Fare', 'Fare_Range']].head(10))\n",
        "\n",
        "# Contagem por categoria\n",
        "contagem_fare_range = titanic_df['Fare_Range'].value_counts()\n",
        "print(\"\\nContagem por faixa de tarifa:\")\n",
        "print(contagem_fare_range)\n"
      ],
      "metadata": {
        "id": "P72CSzHhKBcE",
        "colab": {
          "base_uri": "https://localhost:8080/"
        },
        "outputId": "f2f7861a-a29c-4d0a-9765-3f6617220685"
      },
      "execution_count": 17,
      "outputs": [
        {
          "output_type": "stream",
          "name": "stdout",
          "text": [
            "      Fare Fare_Range\n",
            "0   7.2500      Baixo\n",
            "1  71.2833       Alto\n",
            "2   7.9250      Médio\n",
            "3  53.1000       Alto\n",
            "4   8.0500      Médio\n",
            "5   8.4583      Médio\n",
            "6  51.8625       Alto\n",
            "7  21.0750      Médio\n",
            "8  11.1333      Médio\n",
            "9  30.0708      Médio\n",
            "\n",
            "Contagem por faixa de tarifa:\n",
            "Fare_Range\n",
            "Médio    446\n",
            "Baixo    223\n",
            "Alto     222\n",
            "Name: count, dtype: int64\n"
          ]
        }
      ]
    },
    {
      "cell_type": "markdown",
      "source": [
        "### **Distribuição das tarifas**\n",
        "1. **Médio**: 446 passageiros (~50%) pagaram tarifas dentro da faixa média, que corresponde ao intervalo entre os quartis \\(Q1\\) e \\(Q3\\).\n",
        "2. **Baixo**: 223 passageiros (~25%) pagaram tarifas iguais ou abaixo de \\(Q1\\) (mais acessíveis).\n",
        "3. **Alto**: 222 passageiros (~25%) pagaram tarifas acima de \\(Q3\\), geralmente relacionadas a cabines luxuosas e 1ª classe."
      ],
      "metadata": {
        "id": "mtimcrQyhArI"
      }
    }
  ]
}