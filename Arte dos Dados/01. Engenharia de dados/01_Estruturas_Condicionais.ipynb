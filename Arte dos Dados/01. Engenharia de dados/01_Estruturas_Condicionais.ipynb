{
  "nbformat": 4,
  "nbformat_minor": 0,
  "metadata": {
    "colab": {
      "provenance": []
    },
    "kernelspec": {
      "name": "python3",
      "display_name": "Python 3"
    },
    "language_info": {
      "name": "python"
    }
  },
  "cells": [
    {
      "cell_type": "markdown",
      "source": [
        "# Estruturas Condicionais: if, elif e else"
      ],
      "metadata": {
        "id": "VH8UT7nFloE8"
      }
    },
    {
      "cell_type": "code",
      "execution_count": null,
      "metadata": {
        "id": "_nsK1EJYlcHB"
      },
      "outputs": [],
      "source": [
        "# Não executar o código a seguir:\n",
        "if condicao1:\n",
        "  <bloco de código se condicao1 é verdade>\n",
        "\n",
        "elif condicao2:\n",
        "   <bloco de código se condicao2 é verdade>\n",
        "\n",
        "elif condicao3:\n",
        "     <bloco de código se condicao3 é verdade>\n",
        "    ...\n",
        "elif condicaoN:\n",
        "     <bloco de código se condicaoN é verdade>\n",
        "\n",
        "else:\n",
        "   <bloco de código se condicao1, condicao2, condicao3, ..., condicaoN forem falsos>"
      ]
    },
    {
      "cell_type": "markdown",
      "source": [
        "## Exemplo 1"
      ],
      "metadata": {
        "id": "mTSGotcrn-2g"
      }
    },
    {
      "cell_type": "code",
      "source": [
        "def mensagem(i_idade, i_limite):      # Definida uma função\n",
        "    if i_idade > i_limite:            # Se i_idade > i_L=limite >> Imprime a mensagem...\n",
        "        s_mensagem= f'{i_idade} é maior que {i_limite}'\n",
        "        print(s_mensagem)"
      ],
      "metadata": {
        "id": "HTLWD6TdmvBk"
      },
      "execution_count": null,
      "outputs": []
    },
    {
      "cell_type": "code",
      "source": [
        "mensagem(35, 40)"
      ],
      "metadata": {
        "id": "alDKTvzdnnwS"
      },
      "execution_count": null,
      "outputs": []
    },
    {
      "cell_type": "markdown",
      "source": [
        "*Não executou, pois 35 < 40*"
      ],
      "metadata": {
        "id": "M7grfEndnwaN"
      }
    },
    {
      "cell_type": "code",
      "source": [
        "mensagem(45, 40)"
      ],
      "metadata": {
        "colab": {
          "base_uri": "https://localhost:8080/"
        },
        "id": "1HBHGgcknyme",
        "outputId": "8f23be40-66b9-4a7d-e78e-0061aafa52e3"
      },
      "execution_count": null,
      "outputs": [
        {
          "output_type": "stream",
          "name": "stdout",
          "text": [
            "45 é maior que 40\n"
          ]
        }
      ]
    },
    {
      "cell_type": "markdown",
      "source": [
        "## Exemplo 2"
      ],
      "metadata": {
        "id": "5Yl-HGt1oCzB"
      }
    },
    {
      "cell_type": "code",
      "source": [
        "def mensagem2(i_idade, i_limite):                                   # Mensagem 2\n",
        "    if i_idade > i_limite:\n",
        "        s_mensagem= f'{i_idade} é maior que {i_limite}'\n",
        "    else:                                                           # Caso contrário\n",
        "        s_mensagem= f'{i_idade} é menor ou igual a {i_limite}'\n",
        "\n",
        "    print(s_mensagem)"
      ],
      "metadata": {
        "id": "fqCJYCFwnzCB"
      },
      "execution_count": null,
      "outputs": []
    },
    {
      "cell_type": "code",
      "source": [
        "mensagem2(35, 40)"
      ],
      "metadata": {
        "colab": {
          "base_uri": "https://localhost:8080/"
        },
        "id": "CBbqWFy9oEVR",
        "outputId": "b759a55e-c5c8-48bf-fd05-fbf19877e2db"
      },
      "execution_count": null,
      "outputs": [
        {
          "output_type": "stream",
          "name": "stdout",
          "text": [
            "35 é menor ou igual a 40\n"
          ]
        }
      ]
    },
    {
      "cell_type": "markdown",
      "source": [
        "## Exemplo 3"
      ],
      "metadata": {
        "id": "ka8ZF8ZHonaL"
      }
    },
    {
      "cell_type": "code",
      "source": [
        "def mensagem3(i_idade, i_limite1, i_limite2, i_limite3, i_limite4):\n",
        "    if ((i_idade > i_limite1) and (i_idade < i_limite2)):\n",
        "        s_mensagem= f'{i_idade} é maior que {i_limite1} e menor que {i_limite2}'\n",
        "\n",
        "    elif ((i_idade > i_limite3) and (i_idade < i_limite4)):\n",
        "        s_mensagem= f'{i_idade} é maior que {i_limite3} e menor que {i_limite4}'\n",
        "\n",
        "    else:\n",
        "        s_mensagem= f'{i_idade} é maior que {i_limite4}'\n",
        "\n",
        "print(s_mensagem)"
      ],
      "metadata": {
        "colab": {
          "base_uri": "https://localhost:8080/",
          "height": 176
        },
        "id": "qOO9q18Foofe",
        "outputId": "aba426dd-f04a-4d4e-ccff-9debd6f31c22"
      },
      "execution_count": null,
      "outputs": [
        {
          "output_type": "error",
          "ename": "NameError",
          "evalue": "name 's_mensagem' is not defined",
          "traceback": [
            "\u001b[0;31m---------------------------------------------------------------------------\u001b[0m",
            "\u001b[0;31mNameError\u001b[0m                                 Traceback (most recent call last)",
            "\u001b[0;32m<ipython-input-13-673e4d67732d>\u001b[0m in \u001b[0;36m<cell line: 11>\u001b[0;34m()\u001b[0m\n\u001b[1;32m      9\u001b[0m         \u001b[0ms_mensagem\u001b[0m\u001b[0;34m=\u001b[0m \u001b[0;34mf'{i_idade} é maior que {i_limite4}'\u001b[0m\u001b[0;34m\u001b[0m\u001b[0;34m\u001b[0m\u001b[0m\n\u001b[1;32m     10\u001b[0m \u001b[0;34m\u001b[0m\u001b[0m\n\u001b[0;32m---> 11\u001b[0;31m \u001b[0mprint\u001b[0m\u001b[0;34m(\u001b[0m\u001b[0ms_mensagem\u001b[0m\u001b[0;34m)\u001b[0m\u001b[0;34m\u001b[0m\u001b[0;34m\u001b[0m\u001b[0m\n\u001b[0m",
            "\u001b[0;31mNameError\u001b[0m: name 's_mensagem' is not defined"
          ]
        }
      ]
    },
    {
      "cell_type": "markdown",
      "source": [
        "⚠️ Porque temos um erro nesta função?\n",
        "\n",
        "Resposta: por causa da **indentação**! A forma correta é:"
      ],
      "metadata": {
        "id": "axBJpDEPo0h4"
      }
    },
    {
      "cell_type": "code",
      "source": [
        "def mensagem3(i_idade, i_limite1, i_limite2, i_limite3, i_limite4):\n",
        "    if ((i_idade > i_limite1) and (i_idade < i_limite2)):\n",
        "        s_mensagem= f'{i_idade} é maior que {i_limite1} e menor que {i_limite2}'\n",
        "    elif ((i_idade > i_limite3) and (i_idade < i_limite4)):\n",
        "        s_mensagem= f'{i_idade} é maior que {i_limite3} e menor que {i_limite4}'\n",
        "    else:\n",
        "        s_mensagem= f'{i_idade} é maior que {i_limite4}'\n",
        "\n",
        "    print(s_mensagem) ## A correção está aqui, pois o Print não estava identado, ou seja, S_mensagem como estava antes não existia"
      ],
      "metadata": {
        "id": "FbMmMWwto8Er"
      },
      "execution_count": null,
      "outputs": []
    },
    {
      "cell_type": "code",
      "source": [
        "mensagem3(35, 10, 20, 30, 40)"
      ],
      "metadata": {
        "colab": {
          "base_uri": "https://localhost:8080/"
        },
        "id": "k88E2VVqpbny",
        "outputId": "cb7bd5f5-8fc6-4a89-fbaf-6e98de93681f"
      },
      "execution_count": null,
      "outputs": [
        {
          "output_type": "stream",
          "name": "stdout",
          "text": [
            "35 é maior que 30 e menor que 40\n"
          ]
        }
      ]
    },
    {
      "cell_type": "markdown",
      "source": [
        "As estruturas **if**, **elif**, e **else** são usadas em Python para tomar decisões baseadas em condições. Elas permitem que o programa execute diferentes blocos de código dependendo do resultado de uma verificação booleana (se uma condição é verdadeira ou falsa). Vamos entender cada uma delas:\n",
        "\n",
        "### 1. **if** (Se)\n",
        "- A instrução **if** é usada para verificar uma condição. Se a condição for **verdadeira** (True), o bloco de código dentro do **if** será executado. Se for **falsa** (False), o programa pula o bloco de código e continua para a próxima instrução.\n",
        "\n",
        "```python\n",
        "if condição:\n",
        "    # código executado se a condição for verdadeira\n",
        "```\n",
        "\n",
        "- **Exemplo**:\n",
        "    ```python\n",
        "    idade = 20\n",
        "    if idade >= 18:\n",
        "        print(\"Você é maior de idade.\")\n",
        "    ```\n",
        "    Neste exemplo, se a variável `idade` for maior ou igual a 18, a mensagem \"Você é maior de idade.\" será exibida.\n",
        "\n",
        "### 2. **elif** (Se Não Se)\n",
        "- A instrução **elif** é uma abreviação para **\"else if\"** (ou \"senão se\"). Ela é usada para verificar uma segunda condição se a primeira condição do **if** for **falsa**.\n",
        "- Você pode usar vários **elif** em uma estrutura condicional para testar diferentes condições. Cada **elif** é verificado sequencialmente, e o primeiro que for **verdadeiro** terá seu bloco de código executado.\n",
        "\n",
        "```python\n",
        "if condição_1:\n",
        "    # código executado se a condição_1 for verdadeira\n",
        "elif condição_2:\n",
        "    # código executado se a condição_1 for falsa e a condição_2 for verdadeira\n",
        "```\n",
        "\n",
        "- **Exemplo**:\n",
        "    ```python\n",
        "    idade = 16\n",
        "    if idade >= 18:\n",
        "        print(\"Você é maior de idade.\")\n",
        "    elif idade >= 16:\n",
        "        print(\"Você pode votar opcionalmente.\")\n",
        "    ```\n",
        "    Aqui, se a `idade` for maior ou igual a 18, a primeira condição será verdadeira, e o programa exibirá \"Você é maior de idade.\" Se a `idade` for entre 16 e 17, a segunda condição será verdadeira, e o programa exibirá \"Você pode votar opcionalmente.\"\n",
        "\n",
        "### 3. **else** (Senão)\n",
        "- A instrução **else** é usada para cobrir **todas as outras situações** não tratadas pelos **if** e **elif** anteriores. O bloco **else** será executado quando nenhuma das condições anteriores for verdadeira. Não requer condição.\n",
        "\n",
        "```python\n",
        "if condição_1:\n",
        "    # código executado se a condição_1 for verdadeira\n",
        "elif condição_2:\n",
        "    # código executado se a condição_1 for falsa e a condição_2 for verdadeira\n",
        "else:\n",
        "    # código executado se todas as condições anteriores forem falsas\n",
        "```\n",
        "\n",
        "- **Exemplo**:\n",
        "    ```python\n",
        "    idade = 10\n",
        "    if idade >= 18:\n",
        "        print(\"Você é maior de idade.\")\n",
        "    elif idade >= 16:\n",
        "        print(\"Você pode votar opcionalmente.\")\n",
        "    else:\n",
        "        print(\"Você ainda não pode votar.\")\n",
        "    ```\n",
        "    Neste exemplo, se a idade for inferior a 16, todas as condições anteriores serão **falsas**, e a mensagem \"Você ainda não pode votar.\" será exibida.\n",
        "\n",
        "---\n",
        "\n",
        "### Resumo:\n",
        "\n",
        "- **if**: Verifica a **primeira condição**. Se for verdadeira, executa o bloco de código associado.\n",
        "- **elif**: Verifica uma **nova condição** se as condições anteriores forem falsas. Pode haver vários **elif** em uma mesma estrutura.\n",
        "- **else**: É executado **quando todas as condições anteriores são falsas**. Não requer uma condição.\n",
        "\n",
        "Essa estrutura permite criar fluxos de decisão complexos, com múltiplos cenários sendo verificados de maneira sequencial e controlada."
      ],
      "metadata": {
        "id": "RUQwu5s6gaFh"
      }
    },
    {
      "cell_type": "markdown",
      "source": [
        "___\n",
        "# Exercícios\n",
        "\n",
        "Esses exercícios abrangem diversos cenários onde as **estruturas condicionais** são aplicadas, desde decisões simples até verificações mais complexas. Ao resolvê-los, você irá consolidar seu entendimento sobre o uso de `if`, `elif` e `else` em Python, além de praticar boas práticas na escrita de condições claras e eficientes.\n",
        "\n",
        "Bom estudo e boa codificação!\n",
        "\n",
        "---\n",
        "\n",
        "## **outros exercícios**:\n",
        "Nos sites abaixo você vai encontrar exercícios de Python:\n",
        "### https://pynative.com/python-if-else-and-for-loop-exercise-with-solutions/;\n",
        "### https://www.w3resource.com/python-exercises/"
      ],
      "metadata": {
        "id": "FaqmDsaPpx6s"
      }
    },
    {
      "cell_type": "markdown",
      "source": [
        "## **Exercício 1: Verificação de Idade para Votação**\n",
        "\n",
        "**Descrição:**\n",
        "\n",
        "Escreva um programa que solicite ao usuário sua idade e verifique se ele está apto a votar. As regras são:\n",
        "\n",
        "- Se a idade for menor que 16 anos, exibir \"Você ainda não pode votar.\"\n",
        "- Se a idade for entre 16 e 17 anos ou igual a 70 anos ou mais, exibir \"O voto é opcional para você.\"\n",
        "- Se a idade for entre 18 e 69 anos, exibir \"O voto é obrigatório para você.\"\n",
        "\n",
        "**Dicas:**\n",
        "\n",
        "- Use `int(input(\"Digite sua idade: \"))` para capturar a idade como um número inteiro.\n",
        "- Utilize estruturas `if`, `elif` e `else` para verificar as condições."
      ],
      "metadata": {
        "id": "jjCxgXRqfSKN"
      }
    },
    {
      "cell_type": "code",
      "source": [
        "# Solicitando ao usuário a idade\n",
        "idade = int(input(\"Digite sua idade: \"))\n",
        "\n",
        "# Verificando se a pessoa ainda não pode votar\n",
        "if idade < 16:\n",
        "    print(\"Você ainda não pode votar.\")\n",
        "\n",
        "# Verificando se a pessoa está na faixa de voto opcional\n",
        "elif 16 <= idade <= 17 or idade >= 70:\n",
        "    print(\"O voto é opcional para você.\")\n",
        "\n",
        "# Verificando se a pessoa está na faixa de voto obrigatório\n",
        "elif 18 <= idade <= 69:\n",
        "    print(\"O voto é obrigatório para você.\")\n"
      ],
      "metadata": {
        "id": "6kM1fuH4pyvj",
        "colab": {
          "base_uri": "https://localhost:8080/"
        },
        "outputId": "94a176cc-3699-4eda-f41d-0ce9176bfb09"
      },
      "execution_count": null,
      "outputs": [
        {
          "output_type": "stream",
          "name": "stdout",
          "text": [
            "Digite sua idade: 27\n",
            "O voto é obrigatório para você.\n"
          ]
        }
      ]
    },
    {
      "cell_type": "markdown",
      "source": [
        "---\n",
        "\n",
        "## **Exercício 2: Calculadora Simples**\n",
        "\n",
        "**Descrição:**\n",
        "\n",
        "Crie um programa que peça ao usuário dois números e uma operação matemática a ser realizada (+, -, *, /). O programa deve executar a operação e exibir o resultado.\n",
        "\n",
        "**Dicas:**\n",
        "\n",
        "- Use `input()` para capturar os números e a operação.\n",
        "- Utilize condicionais `if`, `elif`, `else` para determinar qual operação realizar.\n",
        "- Lembre-se de converter os números para `float` ou `int` antes de operar."
      ],
      "metadata": {
        "id": "M7TMLmlUgoTZ"
      }
    },
    {
      "cell_type": "code",
      "source": [
        "# Solicitando os valores 1 e 2 do usuário\n",
        "valor1 = float(input('insira o primeiro valor (utilize . no lugar da vírgula): '))\n",
        "valor2 = float(input('insira o segundo valor (utilize . no lugar da vírgula): '))\n",
        "\n",
        "# Solicitanto a operação ao usuário\n",
        "operacao = input('insira a operação (+, -, *, /): ')\n",
        "\n",
        "# Conficionando a operação a ser realizada\n",
        "if operacao == '+':\n",
        "    print(valor1 + valor2)\n",
        "\n",
        "elif operacao == '-':\n",
        "    print(valor1 - valor2)\n",
        "\n",
        "elif operacao == '*':\n",
        "    print(valor1 * valor2)\n",
        "\n",
        "elif operacao == '/':\n",
        "    print(valor1 / valor2)\n",
        "\n",
        "else:\n",
        "    print('❌ operação inválida, verifique o operador e tente novamente.')"
      ],
      "metadata": {
        "colab": {
          "base_uri": "https://localhost:8080/"
        },
        "id": "_NigEYm_fzmH",
        "outputId": "f82dff12-1818-478e-8b9d-392e81973745"
      },
      "execution_count": null,
      "outputs": [
        {
          "output_type": "stream",
          "name": "stdout",
          "text": [
            "insira o primeiro valor (utilize . no lugar da vírgula): 2.5\n",
            "insira o segundo valor (utilize . no lugar da vírgula): 7.8\n",
            "insira a operação (+, -, *, /): *\n",
            "19.5\n"
          ]
        }
      ]
    },
    {
      "cell_type": "markdown",
      "source": [
        "\n",
        "---\n",
        "\n",
        "## **Exercício 3: Classificação de Triângulos**\n",
        "\n",
        "**Descrição:**\n",
        "\n",
        "Escreva um programa que receba o comprimento de três lados de um triângulo e determine se ele é equilátero, isósceles ou escaleno.\n",
        "\n",
        "- Equilátero: todos os lados iguais.\n",
        "- Isósceles: dois lados iguais.\n",
        "- Escaleno: todos os lados diferentes.\n",
        "\n",
        "**Dicas:**\n",
        "\n",
        "- Solicite ao usuário os comprimentos dos três lados.\n",
        "- Use condicionais para comparar os lados e determinar o tipo de triângulo."
      ],
      "metadata": {
        "id": "kutO9j9VjSxT"
      }
    },
    {
      "cell_type": "code",
      "source": [
        "#Inserindo os valores para \"lados\"\n",
        "\n",
        "lado1 = float(input(\"Digite o comprimento do primeiro lado: \"))\n",
        "lado2 = float(input(\"Digite o comprimento do segundo lado: \"))\n",
        "lado3 = float(input(\"Digite o comprimento do terceiro lado: \"))\n",
        "\n",
        "if lado1 == lado2 == lado3:\n",
        "  print(\"O triângulo é equilátero.\")\n",
        "\n",
        "elif lado1 == lado2 or lado1 == lado3 or lado2 == lado3:\n",
        "  print(\"O triângulo é isósceles.\")\n",
        "\n",
        "else:\n",
        "  print(\"O triângulo é escaleno.\")"
      ],
      "metadata": {
        "colab": {
          "base_uri": "https://localhost:8080/"
        },
        "id": "LLmWwWs2jvhb",
        "outputId": "c947b06e-3428-4393-eb24-2985868a48af"
      },
      "execution_count": null,
      "outputs": [
        {
          "output_type": "stream",
          "name": "stdout",
          "text": [
            "Digite o comprimento do primeiro lado: 3\n",
            "Digite o comprimento do segundo lado: 3\n",
            "Digite o comprimento do terceiro lado: 3\n",
            "O triângulo é equilátero.\n"
          ]
        }
      ]
    },
    {
      "cell_type": "markdown",
      "source": [
        "\n",
        "---\n",
        "\n",
        "## **Exercício 4: Verificação de Número Par ou Ímpar**\n",
        "\n",
        "**Descrição:**\n",
        "\n",
        "Crie um programa que peça um número inteiro ao usuário e informe se ele é par ou ímpar.\n",
        "\n",
        "**Dicas:**\n",
        "\n",
        "- Utilize o operador módulo `%` para verificar o resto da divisão por 2.\n",
        "- Se o resto for zero, o número é par; caso contrário, é ímpar."
      ],
      "metadata": {
        "id": "VXHYjceglxK0"
      }
    },
    {
      "cell_type": "code",
      "source": [
        "# Inserindo um valor\n",
        "parouimpar = int(input(\"Digite um número inteiro: \"))\n",
        "\n",
        "# Utilize o operador módulo % para verificar o resto da divisão por 2.\n",
        "if parouimpar % 2 == 0:\n",
        "  print(\"O número é par.\")\n",
        "\n",
        "else:\n",
        "  print(\"O número é ímpar.\")"
      ],
      "metadata": {
        "colab": {
          "base_uri": "https://localhost:8080/"
        },
        "id": "N-qAalYtlu5X",
        "outputId": "897f2526-0f94-41ac-f934-faf091404f0c"
      },
      "execution_count": null,
      "outputs": [
        {
          "output_type": "stream",
          "name": "stdout",
          "text": [
            "Digite um número inteiro: 3\n",
            "O número é ímpar.\n"
          ]
        }
      ]
    },
    {
      "cell_type": "markdown",
      "source": [
        "---\n",
        "\n",
        "## **Exercício 5: Cálculo de Média e Aprovação**\n",
        "\n",
        "**Descrição:**\n",
        "\n",
        "Desenvolva um programa que solicite as notas de duas provas de um aluno. Calcule a média e determine:\n",
        "\n",
        "- Se a média for maior ou igual a 7, exibir \"Aprovado\".\n",
        "- Se a média for entre 5 e 6.9, exibir \"Recuperação\".\n",
        "- Se a média for menor que 5, exibir \"Reprovado\".\n",
        "\n",
        "**Dicas:**\n",
        "\n",
        "- Calcule a média aritmética das duas notas.\n",
        "- Use condicionais para verificar em qual faixa a média se encontra."
      ],
      "metadata": {
        "id": "fgMmrnJjr0KB"
      }
    },
    {
      "cell_type": "code",
      "source": [
        "# Solicitando as notas das duas provas\n",
        "nota1 = float(input(\"Digite a nota da primeira prova: \"))\n",
        "nota2 = float(input(\"Digite a nota da segunda prova: \"))\n",
        "\n",
        "# Calculando a média aritmética\n",
        "media = (nota1 + nota2) / 2\n",
        "\n",
        "# Verificando em qual faixa a média se encontra\n",
        "if media >= 7:\n",
        "    print(\"Aprovado\")\n",
        "elif 5 <= media < 7:\n",
        "    print(\"Recuperação\")\n",
        "else:\n",
        "    print(\"Reprovado\")\n",
        "\n"
      ],
      "metadata": {
        "colab": {
          "base_uri": "https://localhost:8080/"
        },
        "id": "FC7jE_hErzob",
        "outputId": "c585a6fe-e61a-4d38-abc3-0c75e8c4c81b"
      },
      "execution_count": null,
      "outputs": [
        {
          "output_type": "stream",
          "name": "stdout",
          "text": [
            "Digite a nota da primeira prova: 12\n",
            "Digite a nota da segunda prova: 2\n",
            "Aprovado\n"
          ]
        }
      ]
    },
    {
      "cell_type": "markdown",
      "source": [
        "---\n",
        "\n",
        "## **Exercício 6: Verificação de Ano Bissexto**\n",
        "\n",
        "**Descrição:**\n",
        "\n",
        "Escreva um programa que peça ao usuário um ano e determine se é um ano bissexto.\n",
        "\n",
        "**Regras para ano bissexto:**\n",
        "\n",
        "- É divisível por 4 e não por 100, ou\n",
        "- É divisível por 400.\n",
        "\n",
        "**Dicas:**\n",
        "\n",
        "- Utilize o operador `%` para verificar a divisibilidade.\n",
        "- Aplique as condições conforme as regras acima."
      ],
      "metadata": {
        "id": "CrtWppO-t6hp"
      }
    },
    {
      "cell_type": "code",
      "source": [
        "# Solicitando o ano ao usuário\n",
        "ano = int(input(\"Digite um ano: \"))\n",
        "\n",
        "# Verificando se o ano é bissexto\n",
        "if (ano % 4 == 0 and ano % 100 != 0) or (ano % 400 == 0):\n",
        "    print(f\"{ano} é um ano bissexto.\")\n",
        "else:\n",
        "    print(f\"{ano} não é um ano bissexto.\")\n"
      ],
      "metadata": {
        "colab": {
          "base_uri": "https://localhost:8080/"
        },
        "id": "gJizUDgEuDeI",
        "outputId": "dd61f9a7-1b9e-4a51-c58a-304de947daa7"
      },
      "execution_count": null,
      "outputs": [
        {
          "output_type": "stream",
          "name": "stdout",
          "text": [
            "Digite um ano: 5\n",
            "5 não é um ano bissexto.\n"
          ]
        }
      ]
    },
    {
      "cell_type": "markdown",
      "source": [
        "---\n",
        "\n",
        "## **Exercício 7: Conversão de Temperaturas**\n",
        "\n",
        "**Descrição:**\n",
        "\n",
        "Crie um programa que solicite ao usuário uma temperatura em graus Celsius e a unidade para a qual deseja converter (F para Fahrenheit ou K para Kelvin). O programa deve realizar a conversão e exibir o resultado.\n",
        "\n",
        "**Fórmulas:**\n",
        "\n",
        "- Fahrenheit: \\( F = C \\times \\frac{9}{5} + 32 \\)\n",
        "- Kelvin: \\( K = C + 273.15 \\)\n",
        "\n",
        "**Dicas:**\n",
        "\n",
        "- Capture a temperatura e a unidade desejada.\n",
        "- Use condicionais para determinar qual conversão realizar."
      ],
      "metadata": {
        "id": "dMuL8GXtucir"
      }
    },
    {
      "cell_type": "code",
      "source": [
        "# Solicitando a temperatura em Celsius ao usuário\n",
        "celsius = float(input(\"Digite a temperatura em graus Celsius: \"))\n",
        "\n",
        "# Solicitando ao usuário a unidade de conversão (F ou K)\n",
        "unidade = input(\"Para qual unidade você deseja converter? Digite 'F' para Fahrenheit ou 'K' para Kelvin: \").upper()\n",
        "\n",
        "# Verificando para qual unidade será feita a conversão\n",
        "if unidade == 'F':\n",
        "    # Convertendo para Fahrenheit\n",
        "    fahrenheit = (celsius * 9/5) + 32\n",
        "    print(f\"{celsius}°C é igual a {fahrenheit}°F.\")\n",
        "\n",
        "elif unidade == 'K':\n",
        "    # Convertendo para Kelvin\n",
        "    kelvin = celsius + 273.15\n",
        "    print(f\"{celsius}°C é igual a {kelvin}K.\")\n",
        "\n",
        "else:\n",
        "    print(\"Unidade inválida. Por favor, escolha 'F' para Fahrenheit ou 'K' para Kelvin.\")\n"
      ],
      "metadata": {
        "colab": {
          "base_uri": "https://localhost:8080/"
        },
        "id": "L9nQKFHVuNnk",
        "outputId": "78ae9160-4f7e-4395-9d12-81a47aff9216"
      },
      "execution_count": null,
      "outputs": [
        {
          "output_type": "stream",
          "name": "stdout",
          "text": [
            "Digite a temperatura em graus Celsius: 18\n",
            "Para qual unidade você deseja converter? Digite 'F' para Fahrenheit ou 'K' para Kelvin: F\n",
            "18.0°C é igual a 64.4°F.\n"
          ]
        }
      ]
    },
    {
      "cell_type": "markdown",
      "source": [
        "---\n",
        "\n",
        "## **Exercício 8: Login Simples**\n",
        "\n",
        "**Descrição:**\n",
        "\n",
        "Desenvolva um programa que solicite um nome de usuário e uma senha. Verifique se o nome de usuário é \"admin\" e a senha é \"12345\". Se ambos estiverem corretos, exiba \"Acesso concedido\"; caso contrário, exiba \"Acesso negado\".\n",
        "\n",
        "**Dicas:**\n",
        "\n",
        "- Utilize `input()` para capturar as entradas.\n",
        "- Compare as strings levando em conta possíveis diferenças de maiúsculas e minúsculas, se necessário."
      ],
      "metadata": {
        "id": "QuDe7MgZu4Qs"
      }
    },
    {
      "cell_type": "code",
      "source": [
        "# Solicitando o nome de usuário\n",
        "usuario = input(\"Digite o nome de usuário: \")\n",
        "\n",
        "# Solicitando a senha\n",
        "senha = input(\"Digite a senha: \")\n",
        "\n",
        "# Verificando se o nome de usuário e senha estão corretos\n",
        "if usuario == \"admin\" and senha == \"12345\":\n",
        "    print(\"Acesso concedido\")\n",
        "else:\n",
        "    print(\"Acesso negado\")\n"
      ],
      "metadata": {
        "colab": {
          "base_uri": "https://localhost:8080/"
        },
        "id": "mUrel2Xouqkj",
        "outputId": "3f8b766a-2457-4d37-e119-bd5e39481e47"
      },
      "execution_count": null,
      "outputs": [
        {
          "output_type": "stream",
          "name": "stdout",
          "text": [
            "Digite o nome de usuário: admin\n",
            "Digite a senha: 12345\n",
            "Acesso concedido\n"
          ]
        }
      ]
    },
    {
      "cell_type": "markdown",
      "source": [
        "---\n",
        "\n",
        "## **Exercício 9: Cálculo de IMC**\n",
        "\n",
        "**Descrição:**\n",
        "\n",
        "Escreva um programa que solicite o peso (em kg) e a altura (em metros) de uma pessoa. Calcule o Índice de Massa Corporal (IMC) e classifique-o de acordo com a tabela:\n",
        "\n",
        "- Menor que 18.5: \"Abaixo do peso\"\n",
        "- Entre 18.5 e 24.9: \"Peso normal\"\n",
        "- Entre 25 e 29.9: \"Sobrepeso\"\n",
        "- 30 ou mais: \"Obesidade\"\n",
        "\n",
        "**Fórmula do IMC:**\n",
        "\n",
        "\\[ IMC = \\frac{peso}{altura^2} \\]\n",
        "\n",
        "**Dicas:**\n",
        "\n",
        "- Certifique-se de converter as entradas para `float`.\n",
        "- Utilize condicionais para verificar em qual faixa o IMC se enquadra."
      ],
      "metadata": {
        "id": "nrRctkOwvbvy"
      }
    },
    {
      "cell_type": "code",
      "source": [
        "# Solicitando o peso (em kg) e a altura (em metros) ao usuário\n",
        "peso = float(input(\"Digite o seu peso (em kg): \"))\n",
        "altura = float(input(\"Digite a sua altura (em metros): \"))\n",
        "\n",
        "# Calculando o IMC\n",
        "imc = peso / (altura ** 2)\n",
        "\n",
        "# Exibindo o valor do IMC\n",
        "print(f\"Seu IMC é: {imc:.2f}\")\n",
        "\n",
        "# Classificando o IMC de acordo com as faixas de peso\n",
        "if imc < 18.5:\n",
        "    print(\"Classificação: Abaixo do peso\")\n",
        "elif 18.5 <= imc <= 24.9:\n",
        "    print(\"Classificação: Peso normal\")\n",
        "elif 25 <= imc <= 29.9:\n",
        "    print(\"Classificação: Sobrepeso\")\n",
        "else:\n",
        "    print(\"Classificação: Obesidade\")\n"
      ],
      "metadata": {
        "colab": {
          "base_uri": "https://localhost:8080/"
        },
        "id": "UKuRhlVpvBx9",
        "outputId": "2ed5d87d-4fb6-40b1-c242-1fbb20f628c3"
      },
      "execution_count": null,
      "outputs": [
        {
          "output_type": "stream",
          "name": "stdout",
          "text": [
            "Digite o seu peso (em kg): 97.8\n",
            "Digite a sua altura (em metros): 1.77\n",
            "Seu IMC é: 31.22\n",
            "Classificação: Obesidade\n"
          ]
        }
      ]
    },
    {
      "cell_type": "markdown",
      "source": [
        "---\n",
        "\n",
        "## **Exercício 10: Jogo de Adivinhação**\n",
        "\n",
        "**Descrição:**\n",
        "\n",
        "Crie um programa que sorteie um número inteiro entre 1 e 10 (use a função `randint` do módulo `random`) e peça ao usuário para adivinhar o número. O programa deve informar se o palpite do usuário é menor, maior ou igual ao número sorteado.\n",
        "\n",
        "**Dicas:**\n",
        "\n",
        "- Importe o módulo `random` usando `import random`.\n",
        "- Use `random.randint(1, 10)` para gerar o número aleatório.\n",
        "- Utilize condicionais para comparar o palpite do usuário com o número sorteado."
      ],
      "metadata": {
        "id": "qJumLTmBwN8D"
      }
    },
    {
      "cell_type": "code",
      "source": [
        "# Importando o módulo random para gerar números aleatórios\n",
        "import random\n",
        "\n",
        "# Gerando um número inteiro aleatório entre 1 e 10\n",
        "numero_sorteado = random.randint(1, 10)\n",
        "\n",
        "# Solicitando ao usuário para adivinhar o número\n",
        "palpite = int(input(\"Tente adivinhar o número (entre 1 e 10): \"))\n",
        "\n",
        "# Verificando se o palpite do usuário está correto, menor ou maior\n",
        "if palpite < numero_sorteado:\n",
        "    print(\"Seu palpite foi menor que o número sorteado.\")\n",
        "elif palpite > numero_sorteado:\n",
        "    print(\"Seu palpite foi maior que o número sorteado.\")\n",
        "else:\n",
        "    print(\"Parabéns! Você acertou, o número sorteado foi\", numero_sorteado)"
      ],
      "metadata": {
        "id": "rUWfmpnqxyTu"
      },
      "execution_count": null,
      "outputs": []
    },
    {
      "cell_type": "markdown",
      "source": [
        "----\n",
        "## **Exercício 11**:\n",
        "Escreva uma função em Python que receba um número inteiro i_limite e, na sequência, imprime os números inteiros de 0 a i_limite;"
      ],
      "metadata": {
        "id": "5kMcB4g_wvn0"
      }
    },
    {
      "cell_type": "code",
      "source": [
        "def imprime_numeros(i_limite):\n",
        "    # Loop para imprimir os números de 0 até i_limite\n",
        "    for numero in range(i_limite + 1):\n",
        "        print(numero)\n",
        "\n",
        "# Exemplo de uso da função\n",
        "i_limite = int(input(\"Digite o valor limite: \"))\n",
        "imprime_numeros(i_limite)\n"
      ],
      "metadata": {
        "colab": {
          "base_uri": "https://localhost:8080/"
        },
        "id": "gbZQVOJ1wgg3",
        "outputId": "5b09cb81-a217-4e95-c830-b1cb2aef09ce"
      },
      "execution_count": null,
      "outputs": [
        {
          "output_type": "stream",
          "name": "stdout",
          "text": [
            "Digite o valor limite: 9\n",
            "0\n",
            "1\n",
            "2\n",
            "3\n",
            "4\n",
            "5\n",
            "6\n",
            "7\n",
            "8\n",
            "9\n"
          ]
        }
      ]
    }
  ]
}