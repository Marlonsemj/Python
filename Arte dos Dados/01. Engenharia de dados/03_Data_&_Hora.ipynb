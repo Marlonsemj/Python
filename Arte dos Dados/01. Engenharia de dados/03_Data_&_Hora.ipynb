{
  "nbformat": 4,
  "nbformat_minor": 0,
  "metadata": {
    "colab": {
      "provenance": [],
      "authorship_tag": "ABX9TyPYqSlkfhoHK6BqwA8Q79tb",
      "include_colab_link": true
    },
    "kernelspec": {
      "name": "python3",
      "display_name": "Python 3"
    },
    "language_info": {
      "name": "python"
    }
  },
  "cells": [
    {
      "cell_type": "markdown",
      "metadata": {
        "id": "view-in-github",
        "colab_type": "text"
      },
      "source": [
        "<a href=\"https://colab.research.google.com/github/Marlonsemj/Python/blob/main/Arte%20dos%20Dados/01.%20Engenharia%20de%20dados/03_Data_%26_Hora.ipynb\" target=\"_parent\"><img src=\"https://colab.research.google.com/assets/colab-badge.svg\" alt=\"Open In Colab\"/></a>"
      ]
    },
    {
      "cell_type": "markdown",
      "source": [
        "# **Data & Hora**\n",
        "\n",
        "> O Python trabalha com o que se chama de TimeTuple, ou seja, retorna uma tupla com as seguintes informações:\n",
        "\n",
        "| Indice | Atributo | valor |\n",
        "|--------|----------|-------|\n",
        "| 0 | tm_year | Ano, com 4 dígitos |\n",
        "| 1 | tm_mon | Mês, de 1 a 12 |\n",
        "| 2 | tm_mday | Dia, de 1 a 31 |\n",
        "| 3 | tm_hour | Hora, de 0 a 23 |\n",
        "| 4 | tm_min | Minutos, de 0 a 59 |\n",
        "| 5 | tm_sec | Segundos, de 0 a 61 |\n",
        "| 6 | tm_wday | Dia da semana, de 0 a 6, onde 0 = Segunda |\n",
        "| 7 | tm_yday | Dia do ano, de 1 a 366 |\n",
        "| 8 | tm_isdt | Valores possíveis: -1, 0, 1 |\n"
      ],
      "metadata": {
        "id": "MP6U-rfkQHJP"
      }
    },
    {
      "cell_type": "markdown",
      "source": [
        "___\n",
        "# **Capturar dados relativos ao tempo: Data e Hora**"
      ],
      "metadata": {
        "id": "mIadL1r8QX9V"
      }
    },
    {
      "cell_type": "code",
      "source": [
        "# Importando as bibliotecas necessárias\n",
        "import time\n",
        "import pandas as pd\n",
        "import numpy as np"
      ],
      "metadata": {
        "id": "UW7ZydIhQGxm"
      },
      "execution_count": 18,
      "outputs": []
    },
    {
      "cell_type": "code",
      "execution_count": 19,
      "metadata": {
        "colab": {
          "base_uri": "https://localhost:8080/"
        },
        "id": "eXbH0mFkQCaj",
        "outputId": "7fc94695-83fd-4830-a7ab-77017c7a4efe"
      },
      "outputs": [
        {
          "output_type": "execute_result",
          "data": {
            "text/plain": [
              "1729467412.3367674"
            ]
          },
          "metadata": {},
          "execution_count": 19
        }
      ],
      "source": [
        "# Parâmetro passado para time:\n",
        "time.time()"
      ]
    },
    {
      "cell_type": "code",
      "source": [
        "hora_local = time.localtime(time.time())\n",
        "print(\"A hora local é:\", hora_local)"
      ],
      "metadata": {
        "colab": {
          "base_uri": "https://localhost:8080/"
        },
        "id": "1rbIiyheQjXG",
        "outputId": "620b94d3-736d-489d-8a61-2f5d28c6258a"
      },
      "execution_count": 20,
      "outputs": [
        {
          "output_type": "stream",
          "name": "stdout",
          "text": [
            "A hora local é: time.struct_time(tm_year=2024, tm_mon=10, tm_mday=20, tm_hour=23, tm_min=36, tm_sec=52, tm_wday=6, tm_yday=294, tm_isdst=0)\n"
          ]
        }
      ]
    },
    {
      "cell_type": "code",
      "source": [
        "list(hora_local)"
      ],
      "metadata": {
        "colab": {
          "base_uri": "https://localhost:8080/"
        },
        "id": "bbFUrmoUQofK",
        "outputId": "285401f3-e449-44fb-e232-f574c18f79ec"
      },
      "execution_count": 21,
      "outputs": [
        {
          "output_type": "execute_result",
          "data": {
            "text/plain": [
              "[2024, 10, 20, 23, 36, 52, 6, 294, 0]"
            ]
          },
          "metadata": {},
          "execution_count": 21
        }
      ]
    },
    {
      "cell_type": "code",
      "source": [
        "# Primeiro elemento da lista\n",
        "list(hora_local)[0]"
      ],
      "metadata": {
        "colab": {
          "base_uri": "https://localhost:8080/"
        },
        "id": "EJeRj7T-Qwh1",
        "outputId": "bb7da6b0-4365-49c2-dfdc-a12f3e90d7dc"
      },
      "execution_count": 22,
      "outputs": [
        {
          "output_type": "execute_result",
          "data": {
            "text/plain": [
              "2024"
            ]
          },
          "metadata": {},
          "execution_count": 22
        }
      ]
    },
    {
      "cell_type": "markdown",
      "source": [
        "```Como dito anteriormente, temos como resposta uma tupla. Desta forma, podemos selecionar convenientemente cada parte desta tupla.```\n",
        "\n",
        "*Por exemplo, se quisermos somente o ano, basta...*"
      ],
      "metadata": {
        "id": "zqLBXPgTRA_h"
      }
    },
    {
      "cell_type": "code",
      "source": [
        "print(\"Ano..........:\", hora_local[0])\n",
        "print(\"Mes..........:\", hora_local[1])\n",
        "print(\"Dia..........:\", hora_local[2])\n",
        "print(\"Hora.........:\", hora_local[3])\n",
        "print(\"Minutos......:\", hora_local[4])\n",
        "print(\"Segundos.....:\", hora_local[5])\n",
        "print(\"Dia da Semana:\", hora_local[6])"
      ],
      "metadata": {
        "colab": {
          "base_uri": "https://localhost:8080/"
        },
        "id": "bQWRWPY8Q81d",
        "outputId": "d8032f38-9109-4672-d84c-cb7aede08760"
      },
      "execution_count": 23,
      "outputs": [
        {
          "output_type": "stream",
          "name": "stdout",
          "text": [
            "Ano..........: 2024\n",
            "Mes..........: 10\n",
            "Dia..........: 20\n",
            "Hora.........: 23\n",
            "Minutos......: 36\n",
            "Segundos.....: 52\n",
            "Dia da Semana: 6\n"
          ]
        }
      ]
    },
    {
      "cell_type": "markdown",
      "source": [
        "___\n",
        "# **Formatar dados do tempo**\n",
        "* ```Função asctime()``` - Este método retorna o tempo corrente numa string de 24 caracteres."
      ],
      "metadata": {
        "id": "EzbxJojZRX4q"
      }
    },
    {
      "cell_type": "code",
      "source": [
        "time.asctime()"
      ],
      "metadata": {
        "colab": {
          "base_uri": "https://localhost:8080/",
          "height": 35
        },
        "id": "Z4YSBzY_RTHN",
        "outputId": "26495b20-a362-403d-feb5-178016350e2c"
      },
      "execution_count": 24,
      "outputs": [
        {
          "output_type": "execute_result",
          "data": {
            "text/plain": [
              "'Sun Oct 20 23:36:52 2024'"
            ],
            "application/vnd.google.colaboratory.intrinsic+json": {
              "type": "string"
            }
          },
          "metadata": {},
          "execution_count": 24
        }
      ]
    },
    {
      "cell_type": "code",
      "source": [
        "hora_local = time.asctime(time.localtime(time.time()))\n",
        "print(\"A hora local é:\", hora_local)"
      ],
      "metadata": {
        "colab": {
          "base_uri": "https://localhost:8080/"
        },
        "id": "NZs_2dadRmDx",
        "outputId": "fa13d7d7-71ae-4e4b-cfae-46b6754331b9"
      },
      "execution_count": 25,
      "outputs": [
        {
          "output_type": "stream",
          "name": "stdout",
          "text": [
            "A hora local é: Sun Oct 20 23:36:52 2024\n"
          ]
        }
      ]
    },
    {
      "cell_type": "markdown",
      "source": [
        "Ou, se você preferir, podemos ter os dados numa lista usando a função split(), conforme a seguir:"
      ],
      "metadata": {
        "id": "z9GPyXKFRtfN"
      }
    },
    {
      "cell_type": "code",
      "source": [
        "# Conteúdo da variável\n",
        "hora_local"
      ],
      "metadata": {
        "colab": {
          "base_uri": "https://localhost:8080/",
          "height": 35
        },
        "id": "VdkfaX1SRptK",
        "outputId": "ba2d7e2a-1bdc-4ef9-8c57-b768008af4fd"
      },
      "execution_count": 26,
      "outputs": [
        {
          "output_type": "execute_result",
          "data": {
            "text/plain": [
              "'Sun Oct 20 23:36:52 2024'"
            ],
            "application/vnd.google.colaboratory.intrinsic+json": {
              "type": "string"
            }
          },
          "metadata": {},
          "execution_count": 26
        }
      ]
    },
    {
      "cell_type": "code",
      "source": [
        "hora_local= hora_local.split(' ')\n",
        "hora_local"
      ],
      "metadata": {
        "colab": {
          "base_uri": "https://localhost:8080/"
        },
        "id": "5_OqkyzgRwIN",
        "outputId": "30ea6ba3-d204-44f8-c37c-8231b38ca619"
      },
      "execution_count": 27,
      "outputs": [
        {
          "output_type": "execute_result",
          "data": {
            "text/plain": [
              "['Sun', 'Oct', '20', '23:36:52', '2024']"
            ]
          },
          "metadata": {},
          "execution_count": 27
        }
      ]
    },
    {
      "cell_type": "code",
      "source": [
        "# Mostra a hora\n",
        "hora_local[4]"
      ],
      "metadata": {
        "colab": {
          "base_uri": "https://localhost:8080/",
          "height": 35
        },
        "id": "FjfZAni3RzAq",
        "outputId": "3850fb1d-345f-4eaf-f2ae-def8c7a760b3"
      },
      "execution_count": 28,
      "outputs": [
        {
          "output_type": "execute_result",
          "data": {
            "text/plain": [
              "'2024'"
            ],
            "application/vnd.google.colaboratory.intrinsic+json": {
              "type": "string"
            }
          },
          "metadata": {},
          "execution_count": 28
        }
      ]
    },
    {
      "cell_type": "markdown",
      "source": [
        "OU..."
      ],
      "metadata": {
        "id": "r5qmA1afStdL"
      }
    },
    {
      "cell_type": "code",
      "source": [
        "# Nova biblioteca\n",
        "import datetime\n",
        "\n",
        "hora_local = datetime.datetime.now()\n",
        "print(hora_local)"
      ],
      "metadata": {
        "colab": {
          "base_uri": "https://localhost:8080/"
        },
        "id": "SC5xp9ZPSqvI",
        "outputId": "64b3413f-1827-4d1c-84fa-69852f2c35ae"
      },
      "execution_count": 29,
      "outputs": [
        {
          "output_type": "stream",
          "name": "stdout",
          "text": [
            "2024-10-20 23:37:40.660341\n"
          ]
        }
      ]
    },
    {
      "cell_type": "markdown",
      "source": [
        "Veja que hora_local é um objeto. A seguir, listamos todos os métodos associados a este objeto."
      ],
      "metadata": {
        "id": "J0LPhWgmS1nk"
      }
    },
    {
      "cell_type": "code",
      "source": [
        "dir(hora_local)"
      ],
      "metadata": {
        "colab": {
          "base_uri": "https://localhost:8080/"
        },
        "id": "J4jPVtooSyOs",
        "outputId": "b4e9198e-e5f9-4b4f-82f4-f2e470119db0"
      },
      "execution_count": 30,
      "outputs": [
        {
          "output_type": "execute_result",
          "data": {
            "text/plain": [
              "['__add__',\n",
              " '__class__',\n",
              " '__delattr__',\n",
              " '__dir__',\n",
              " '__doc__',\n",
              " '__eq__',\n",
              " '__format__',\n",
              " '__ge__',\n",
              " '__getattribute__',\n",
              " '__gt__',\n",
              " '__hash__',\n",
              " '__init__',\n",
              " '__init_subclass__',\n",
              " '__le__',\n",
              " '__lt__',\n",
              " '__ne__',\n",
              " '__new__',\n",
              " '__radd__',\n",
              " '__reduce__',\n",
              " '__reduce_ex__',\n",
              " '__repr__',\n",
              " '__rsub__',\n",
              " '__setattr__',\n",
              " '__sizeof__',\n",
              " '__str__',\n",
              " '__sub__',\n",
              " '__subclasshook__',\n",
              " 'astimezone',\n",
              " 'combine',\n",
              " 'ctime',\n",
              " 'date',\n",
              " 'day',\n",
              " 'dst',\n",
              " 'fold',\n",
              " 'fromisocalendar',\n",
              " 'fromisoformat',\n",
              " 'fromordinal',\n",
              " 'fromtimestamp',\n",
              " 'hour',\n",
              " 'isocalendar',\n",
              " 'isoformat',\n",
              " 'isoweekday',\n",
              " 'max',\n",
              " 'microsecond',\n",
              " 'min',\n",
              " 'minute',\n",
              " 'month',\n",
              " 'now',\n",
              " 'replace',\n",
              " 'resolution',\n",
              " 'second',\n",
              " 'strftime',\n",
              " 'strptime',\n",
              " 'time',\n",
              " 'timestamp',\n",
              " 'timetuple',\n",
              " 'timetz',\n",
              " 'today',\n",
              " 'toordinal',\n",
              " 'tzinfo',\n",
              " 'tzname',\n",
              " 'utcfromtimestamp',\n",
              " 'utcnow',\n",
              " 'utcoffset',\n",
              " 'utctimetuple',\n",
              " 'weekday',\n",
              " 'year']"
            ]
          },
          "metadata": {},
          "execution_count": 30
        }
      ]
    },
    {
      "cell_type": "code",
      "source": [
        "hora_local.__doc__"
      ],
      "metadata": {
        "colab": {
          "base_uri": "https://localhost:8080/",
          "height": 53
        },
        "id": "kovJXVuTS580",
        "outputId": "b57f1f7e-8d85-43d9-c6a2-0b73483aeded"
      },
      "execution_count": 31,
      "outputs": [
        {
          "output_type": "execute_result",
          "data": {
            "text/plain": [
              "'datetime(year, month, day[, hour[, minute[, second[, microsecond[,tzinfo]]]]])\\n\\nThe year, month and day arguments are required. tzinfo may be None, or an\\ninstance of a tzinfo subclass. The remaining arguments may be ints.\\n'"
            ],
            "application/vnd.google.colaboratory.intrinsic+json": {
              "type": "string"
            }
          },
          "metadata": {},
          "execution_count": 31
        }
      ]
    },
    {
      "cell_type": "markdown",
      "source": [
        "Então, se quisermos..."
      ],
      "metadata": {
        "id": "EzC4iCogTGXl"
      }
    },
    {
      "cell_type": "code",
      "source": [
        "hora_local.year"
      ],
      "metadata": {
        "colab": {
          "base_uri": "https://localhost:8080/"
        },
        "id": "bj_Nzgg6S8wV",
        "outputId": "b4b1543b-8fd8-4ae1-e6ae-10387f1229b2"
      },
      "execution_count": 32,
      "outputs": [
        {
          "output_type": "execute_result",
          "data": {
            "text/plain": [
              "2024"
            ]
          },
          "metadata": {},
          "execution_count": 32
        }
      ]
    },
    {
      "cell_type": "code",
      "source": [
        "# O ano...\n",
        "print(hora_local.year)"
      ],
      "metadata": {
        "colab": {
          "base_uri": "https://localhost:8080/"
        },
        "id": "SEmCfwlRTIqR",
        "outputId": "2c2bbf44-b319-46e4-c103-57e4c1c7986f"
      },
      "execution_count": 33,
      "outputs": [
        {
          "output_type": "stream",
          "name": "stdout",
          "text": [
            "2024\n"
          ]
        }
      ]
    },
    {
      "cell_type": "code",
      "source": [
        "# O mês...\n",
        "print(hora_local.month)"
      ],
      "metadata": {
        "colab": {
          "base_uri": "https://localhost:8080/"
        },
        "id": "CPRS_ReLTKmN",
        "outputId": "165d5357-1c5c-443d-ff9b-db71a153d9e6"
      },
      "execution_count": 34,
      "outputs": [
        {
          "output_type": "stream",
          "name": "stdout",
          "text": [
            "10\n"
          ]
        }
      ]
    },
    {
      "cell_type": "markdown",
      "source": [
        "___\n",
        "# **Calendário para um dado ano e mês**\n",
        "* Se quisermos ver o calendário, basta..."
      ],
      "metadata": {
        "id": "xqFbPVEhTTyp"
      }
    },
    {
      "cell_type": "code",
      "source": [
        "# Importar a biblioteca Calendário\n",
        "import calendar\n",
        "\n",
        "meu_calendario = calendar.month(hora_local.year, hora_local.month)\n",
        "print(meu_calendario)"
      ],
      "metadata": {
        "colab": {
          "base_uri": "https://localhost:8080/"
        },
        "id": "rAVn3tooTQ_r",
        "outputId": "92801125-a5c2-4da5-f352-cb4e3031708f"
      },
      "execution_count": 35,
      "outputs": [
        {
          "output_type": "stream",
          "name": "stdout",
          "text": [
            "    October 2024\n",
            "Mo Tu We Th Fr Sa Su\n",
            "    1  2  3  4  5  6\n",
            " 7  8  9 10 11 12 13\n",
            "14 15 16 17 18 19 20\n",
            "21 22 23 24 25 26 27\n",
            "28 29 30 31\n",
            "\n"
          ]
        }
      ]
    },
    {
      "cell_type": "code",
      "source": [
        "calendario1 = calendar.month(2025, 1)\n",
        "print(calendario1)"
      ],
      "metadata": {
        "colab": {
          "base_uri": "https://localhost:8080/"
        },
        "id": "jLkyTOyrTZ8P",
        "outputId": "156f046e-d613-4449-84b3-920f53934fff"
      },
      "execution_count": 36,
      "outputs": [
        {
          "output_type": "stream",
          "name": "stdout",
          "text": [
            "    January 2025\n",
            "Mo Tu We Th Fr Sa Su\n",
            "       1  2  3  4  5\n",
            " 6  7  8  9 10 11 12\n",
            "13 14 15 16 17 18 19\n",
            "20 21 22 23 24 25 26\n",
            "27 28 29 30 31\n",
            "\n"
          ]
        }
      ]
    },
    {
      "cell_type": "code",
      "source": [
        "# Definir o ano e o mês\n",
        "ano = 2025\n",
        "mes = 1\n",
        "\n",
        "# Inicializar a contagem de dias úteis\n",
        "dias_uteis = 0\n",
        "\n",
        "# Percorrer todos os dias do mês\n",
        "for dia in range(1, calendar.monthrange(ano, mes)[1] + 1):\n",
        "    # Verifica se o dia da semana é útil (de segunda a sexta-feira, ou seja, de 0 a 4)\n",
        "    if calendar.weekday(ano, mes, dia) < 5:\n",
        "        dias_uteis += 1\n",
        "\n",
        "print(f\"O mês de janeiro de 2025 tem {dias_uteis} dias úteis.\")\n"
      ],
      "metadata": {
        "colab": {
          "base_uri": "https://localhost:8080/"
        },
        "id": "mZAiyoWQUAJE",
        "outputId": "755f8af2-92c9-45ba-9b66-3b09c0bf829d"
      },
      "execution_count": 40,
      "outputs": [
        {
          "output_type": "stream",
          "name": "stdout",
          "text": [
            "O mês de janeiro de 2025 tem 23 dias úteis.\n"
          ]
        }
      ]
    },
    {
      "cell_type": "markdown",
      "source": [
        "___\n",
        "# **Gerar datas**\n",
        "\n",
        "* As datas podem ser geradas pela função date(Year, Month, Day)."
      ],
      "metadata": {
        "id": "Hssn5dwYTwSv"
      }
    },
    {
      "cell_type": "code",
      "source": [
        "import datetime\n",
        "\n",
        "meu_aniversario = datetime.date(2025, 1, 25)\n",
        "print(meu_aniversario)"
      ],
      "metadata": {
        "colab": {
          "base_uri": "https://localhost:8080/"
        },
        "id": "XI_mXCNZTpmD",
        "outputId": "d27f3bd0-960d-4e64-af09-36dbab453345"
      },
      "execution_count": 44,
      "outputs": [
        {
          "output_type": "stream",
          "name": "stdout",
          "text": [
            "2025-01-25\n"
          ]
        }
      ]
    },
    {
      "cell_type": "code",
      "source": [
        "type(meu_aniversario)"
      ],
      "metadata": {
        "colab": {
          "base_uri": "https://localhost:8080/"
        },
        "id": "tcIcp-PDUgB4",
        "outputId": "2f50b6fd-e21a-4b09-de2c-a58f2b3f2638"
      },
      "execution_count": 45,
      "outputs": [
        {
          "output_type": "execute_result",
          "data": {
            "text/plain": [
              "datetime.date"
            ]
          },
          "metadata": {},
          "execution_count": 45
        }
      ]
    },
    {
      "cell_type": "markdown",
      "source": [
        "___\n",
        "# **Gerar horas**\n",
        "\n",
        "* As horas ser geradas pela função time(Hour, Minutes, Seconds)."
      ],
      "metadata": {
        "id": "LI0AAjSAU17X"
      }
    },
    {
      "cell_type": "code",
      "source": [
        "from datetime import time\n",
        "\n",
        "hora = time(11, 34, 56)\n",
        "print(\"hora:\", hora)"
      ],
      "metadata": {
        "colab": {
          "base_uri": "https://localhost:8080/"
        },
        "id": "z4kVuUiHUwS0",
        "outputId": "906f6dbd-fec5-4c30-dc32-a29fb4114759"
      },
      "execution_count": 46,
      "outputs": [
        {
          "output_type": "stream",
          "name": "stdout",
          "text": [
            "hora: 11:34:56\n"
          ]
        }
      ]
    },
    {
      "cell_type": "markdown",
      "source": [
        "Pode-se usar a função datetime(Year, Month, Day, Hour, Minutes, Seconds, MicroSeconds) para gerar a informação completa"
      ],
      "metadata": {
        "id": "sBkz7iwaVZu7"
      }
    },
    {
      "cell_type": "code",
      "source": [
        "from datetime import datetime\n",
        "\n",
        "#datetime(year, month, day)\n",
        "data = datetime(2020, 11, 20)\n",
        "print(data)"
      ],
      "metadata": {
        "colab": {
          "base_uri": "https://localhost:8080/"
        },
        "id": "ZT2IxJvXVVHv",
        "outputId": "7e9569dc-7c85-48d4-f48b-c53e01dca507"
      },
      "execution_count": 47,
      "outputs": [
        {
          "output_type": "stream",
          "name": "stdout",
          "text": [
            "2020-11-20 00:00:00\n"
          ]
        }
      ]
    },
    {
      "cell_type": "code",
      "source": [
        "# datetime(year, month, day, hour, minute, second, microsecond)\n",
        "data = datetime(2020, 11, 20, 20, 19, 59, 342380)\n",
        "print(data)"
      ],
      "metadata": {
        "colab": {
          "base_uri": "https://localhost:8080/"
        },
        "id": "B_Uzt8ipVcSY",
        "outputId": "1ee1e34c-8620-4438-9abe-8aa09c9ff938"
      },
      "execution_count": 48,
      "outputs": [
        {
          "output_type": "stream",
          "name": "stdout",
          "text": [
            "2020-11-20 20:19:59.342380\n"
          ]
        }
      ]
    },
    {
      "cell_type": "code",
      "source": [
        "# datetime(year, month, day, hour, minute, second, microsecond)\n",
        "data = datetime(2020, 11, 20, 20, 19, 59)\n",
        "print(data)"
      ],
      "metadata": {
        "colab": {
          "base_uri": "https://localhost:8080/"
        },
        "id": "H4mXUP7oVg0W",
        "outputId": "5c5eb9e0-e922-4212-d41b-f2c0d7225335"
      },
      "execution_count": 49,
      "outputs": [
        {
          "output_type": "stream",
          "name": "stdout",
          "text": [
            "2020-11-20 20:19:59\n"
          ]
        }
      ]
    },
    {
      "cell_type": "markdown",
      "source": [
        "___\n",
        "# **Diferença entre datas ou horas**"
      ],
      "metadata": {
        "id": "32X7ip6xVmUy"
      }
    },
    {
      "cell_type": "markdown",
      "source": [
        "## Quantos dias faltam para o natal?\n",
        "\n",
        "---\n",
        "\n"
      ],
      "metadata": {
        "id": "gdGGBeFmVnge"
      }
    },
    {
      "cell_type": "code",
      "source": [
        "from datetime import datetime, date\n",
        "\n",
        "data1 = date(year = hora_local.year, month = hora_local.month, day = hora_local.day)\n",
        "data_target = date(year = hora_local.year, month = 12, day = 25)\n",
        "\n",
        "Quantos_dias_para_o_natal = data_target - data1\n",
        "print(Quantos_dias_para_o_natal)"
      ],
      "metadata": {
        "colab": {
          "base_uri": "https://localhost:8080/"
        },
        "id": "8j1F6FX-Vi5s",
        "outputId": "63ab1fbc-95d4-4ae6-d093-abafc8b28210"
      },
      "execution_count": 50,
      "outputs": [
        {
          "output_type": "stream",
          "name": "stdout",
          "text": [
            "66 days, 0:00:00\n"
          ]
        }
      ]
    },
    {
      "cell_type": "code",
      "source": [
        "# OU...\n",
        "# Exemplo incluindo hora...\n",
        "data1 = datetime(year = hora_local.year, month = hora_local.month, day = hora_local.day, hour = 9, minute = 30, second = 33)\n",
        "data_target = datetime(year = hora_local.year, month = 12, day = 25, hour = 20, minute = 00, second = 00)\n",
        "diferenca_datas = data_target - data1\n",
        "print(diferenca_datas)"
      ],
      "metadata": {
        "colab": {
          "base_uri": "https://localhost:8080/"
        },
        "id": "-s7vG60WVr07",
        "outputId": "bce6bb36-d2d5-4253-8354-72527a1ff398"
      },
      "execution_count": 51,
      "outputs": [
        {
          "output_type": "stream",
          "name": "stdout",
          "text": [
            "66 days, 10:29:27\n"
          ]
        }
      ]
    },
    {
      "cell_type": "markdown",
      "source": [
        "___\n",
        "# **Formatos para datetime()**\n",
        "* Podemos representar datas de muitas formas, sendo mm/dd/yyyy (USA formato) e dd/mm/yyyy (UK formato) os formatos mais comuns.\n",
        "* Python possui os métodos strftime() e strptime() para nos ajudar com esses formatos.\n",
        "    * O Método strftime() cria strings formatadas para as classes date, datetime e time.\n",
        "    * O Método..."
      ],
      "metadata": {
        "id": "DQg_QhSdV6LC"
      }
    },
    {
      "cell_type": "markdown",
      "source": [
        "## strftime() - datetime to string\n",
        "* Método que cria datetime objetos a partir de uma data."
      ],
      "metadata": {
        "id": "pX48f5ilV-pS"
      }
    },
    {
      "cell_type": "code",
      "source": [
        "from datetime import datetime\n",
        "\n",
        "# Captura a hora corrente/local:\n",
        "data_hora_agora = datetime.now()\n",
        "print(data_hora_agora)"
      ],
      "metadata": {
        "colab": {
          "base_uri": "https://localhost:8080/"
        },
        "id": "6a_UobgLVvqC",
        "outputId": "4e656cda-8d78-443c-c0ad-4d777debdd58"
      },
      "execution_count": 52,
      "outputs": [
        {
          "output_type": "stream",
          "name": "stdout",
          "text": [
            "2024-10-20 23:51:50.604969\n"
          ]
        }
      ]
    },
    {
      "cell_type": "code",
      "source": [
        "dir(data_hora_agora)"
      ],
      "metadata": {
        "colab": {
          "base_uri": "https://localhost:8080/"
        },
        "id": "HrGZL7yFWCAi",
        "outputId": "81e6be04-7a16-41c7-f7c8-2a6ba6d55684"
      },
      "execution_count": 53,
      "outputs": [
        {
          "output_type": "execute_result",
          "data": {
            "text/plain": [
              "['__add__',\n",
              " '__class__',\n",
              " '__delattr__',\n",
              " '__dir__',\n",
              " '__doc__',\n",
              " '__eq__',\n",
              " '__format__',\n",
              " '__ge__',\n",
              " '__getattribute__',\n",
              " '__gt__',\n",
              " '__hash__',\n",
              " '__init__',\n",
              " '__init_subclass__',\n",
              " '__le__',\n",
              " '__lt__',\n",
              " '__ne__',\n",
              " '__new__',\n",
              " '__radd__',\n",
              " '__reduce__',\n",
              " '__reduce_ex__',\n",
              " '__repr__',\n",
              " '__rsub__',\n",
              " '__setattr__',\n",
              " '__sizeof__',\n",
              " '__str__',\n",
              " '__sub__',\n",
              " '__subclasshook__',\n",
              " 'astimezone',\n",
              " 'combine',\n",
              " 'ctime',\n",
              " 'date',\n",
              " 'day',\n",
              " 'dst',\n",
              " 'fold',\n",
              " 'fromisocalendar',\n",
              " 'fromisoformat',\n",
              " 'fromordinal',\n",
              " 'fromtimestamp',\n",
              " 'hour',\n",
              " 'isocalendar',\n",
              " 'isoformat',\n",
              " 'isoweekday',\n",
              " 'max',\n",
              " 'microsecond',\n",
              " 'min',\n",
              " 'minute',\n",
              " 'month',\n",
              " 'now',\n",
              " 'replace',\n",
              " 'resolution',\n",
              " 'second',\n",
              " 'strftime',\n",
              " 'strptime',\n",
              " 'time',\n",
              " 'timestamp',\n",
              " 'timetuple',\n",
              " 'timetz',\n",
              " 'today',\n",
              " 'toordinal',\n",
              " 'tzinfo',\n",
              " 'tzname',\n",
              " 'utcfromtimestamp',\n",
              " 'utcnow',\n",
              " 'utcoffset',\n",
              " 'utctimetuple',\n",
              " 'weekday',\n",
              " 'year']"
            ]
          },
          "metadata": {},
          "execution_count": 53
        }
      ]
    },
    {
      "cell_type": "code",
      "source": [
        "type(data_hora_agora)"
      ],
      "metadata": {
        "colab": {
          "base_uri": "https://localhost:8080/"
        },
        "id": "sM02KvMnWEJ2",
        "outputId": "66947fc0-0d7e-455e-847d-cb2599f1c018"
      },
      "execution_count": 54,
      "outputs": [
        {
          "output_type": "execute_result",
          "data": {
            "text/plain": [
              "datetime.datetime"
            ]
          },
          "metadata": {},
          "execution_count": 54
        }
      ]
    },
    {
      "cell_type": "code",
      "source": [
        "ano = data_hora_agora.strftime(\"%Y\")\n",
        "mes = data_hora_agora.strftime(\"%m\")\n",
        "dia = data_hora_agora.strftime(\"%d\")\n",
        "hora = data_hora_agora.strftime(\"%H:%M:%S\")\n",
        "data_hora = data_hora_agora.strftime(\"%d/%m/%Y, %H:%M:%S\")"
      ],
      "metadata": {
        "id": "pBkkxs0aWQus"
      },
      "execution_count": 55,
      "outputs": []
    },
    {
      "cell_type": "code",
      "source": [
        "print(\"Ano........:\", ano)\n",
        "print(\"Mes........:\", mes)\n",
        "print(\"Dia........:\", dia)\n",
        "print(\"Hora.......:\", hora)\n",
        "print(\"Data e Hora:\", data_hora)"
      ],
      "metadata": {
        "colab": {
          "base_uri": "https://localhost:8080/"
        },
        "id": "v8OSOwIjWSjk",
        "outputId": "f7938651-e75e-477a-e709-be68d1fc0aae"
      },
      "execution_count": 56,
      "outputs": [
        {
          "output_type": "stream",
          "name": "stdout",
          "text": [
            "Ano........: 2024\n",
            "Mes........: 10\n",
            "Dia........: 20\n",
            "Hora.......: 23:51:50\n",
            "Data e Hora: 20/10/2024, 23:51:50\n"
          ]
        }
      ]
    },
    {
      "cell_type": "markdown",
      "source": [
        "___\n",
        "# **Calcular datas futuras**\n",
        "* timeDelta()"
      ],
      "metadata": {
        "id": "xP1x26CrWYfv"
      }
    },
    {
      "cell_type": "markdown",
      "source": [
        "## Exemplo\n",
        "* Se somarmos 35 dias à data de hoje...\n",
        "    * que dia da semana será (seg, ter, qua, ...)?\n",
        "    * qual será a data?"
      ],
      "metadata": {
        "id": "Wgoyq5WpWbF6"
      }
    },
    {
      "cell_type": "code",
      "source": [
        "import datetime\n",
        "import calendar\n",
        "\n",
        "# Considerando a hora no formato dd/mm/yyyy:\n",
        "dt_hoje = \"2024-9-20\"\n",
        "\n",
        "dt_hoje = datetime.datetime.strptime(dt_hoje, \"%Y-%m-%d\")\n",
        "\n",
        "print(dt_hoje)"
      ],
      "metadata": {
        "colab": {
          "base_uri": "https://localhost:8080/"
        },
        "id": "_yUoT1QtWVWg",
        "outputId": "6a5d359d-ff07-492c-ce98-4b5582ac60e2"
      },
      "execution_count": 57,
      "outputs": [
        {
          "output_type": "stream",
          "name": "stdout",
          "text": [
            "2024-09-20 00:00:00\n"
          ]
        }
      ]
    },
    {
      "cell_type": "markdown",
      "source": [
        "Somando 35 dias..."
      ],
      "metadata": {
        "id": "hx7X-u7wWgOw"
      }
    },
    {
      "cell_type": "code",
      "source": [
        "dt_futuro = dt_hoje + datetime.timedelta(days = 35)\n",
        "print(dt_futuro)"
      ],
      "metadata": {
        "colab": {
          "base_uri": "https://localhost:8080/"
        },
        "id": "CX6Lpci3WdMy",
        "outputId": "d668e592-316b-4450-efaa-f994da5f59cd"
      },
      "execution_count": 58,
      "outputs": [
        {
          "output_type": "stream",
          "name": "stdout",
          "text": [
            "2024-10-25 00:00:00\n"
          ]
        }
      ]
    },
    {
      "cell_type": "markdown",
      "source": [
        "Isso quer dizer que se somarmos 35 dias á data de hoje então será dd/mm/aaaa. Correto?\n",
        "\n",
        "* Que dia da semana (seg, ter, qua, ...) será?"
      ],
      "metadata": {
        "id": "IRvFgW23WnQZ"
      }
    },
    {
      "cell_type": "code",
      "source": [
        "print('Dia da semana:', dt_futuro.weekday())"
      ],
      "metadata": {
        "colab": {
          "base_uri": "https://localhost:8080/"
        },
        "id": "vq0RX_KDWkay",
        "outputId": "7afb850a-6b55-4793-fea0-a8590845369f"
      },
      "execution_count": 60,
      "outputs": [
        {
          "output_type": "stream",
          "name": "stdout",
          "text": [
            "Dia da semana: 4\n"
          ]
        }
      ]
    },
    {
      "cell_type": "code",
      "source": [
        "# OU (prefiso esta)\n",
        "calendar.day_name[dt_futuro.weekday()]"
      ],
      "metadata": {
        "colab": {
          "base_uri": "https://localhost:8080/",
          "height": 35
        },
        "id": "KHJAYFbmWqIy",
        "outputId": "b26dd7aa-520b-45bd-f2b6-585ded68cc0b"
      },
      "execution_count": 61,
      "outputs": [
        {
          "output_type": "execute_result",
          "data": {
            "text/plain": [
              "'Friday'"
            ],
            "application/vnd.google.colaboratory.intrinsic+json": {
              "type": "string"
            }
          },
          "metadata": {},
          "execution_count": 61
        }
      ]
    },
    {
      "cell_type": "markdown",
      "source": [
        "___\n",
        "# **💡 Algumas funções interessantes**"
      ],
      "metadata": {
        "id": "OQGVDbSiWxdk"
      }
    },
    {
      "cell_type": "markdown",
      "source": [
        "## iterweekdays() – Dias da Semana"
      ],
      "metadata": {
        "id": "33jMSOqKW8Zl"
      }
    },
    {
      "cell_type": "code",
      "source": [
        "import calendar"
      ],
      "metadata": {
        "id": "ah8S7597Wuc0"
      },
      "execution_count": 62,
      "outputs": []
    },
    {
      "cell_type": "code",
      "source": [
        "# Define 'Segunda' como o primeiro dia da semana'\n",
        "dias_semana = calendar.Calendar(firstweekday= 0)"
      ],
      "metadata": {
        "id": "0ZydWx4NW_3f"
      },
      "execution_count": 63,
      "outputs": []
    },
    {
      "cell_type": "code",
      "source": [
        "for i in dias_semana.iterweekdays():\n",
        "    print(i)"
      ],
      "metadata": {
        "colab": {
          "base_uri": "https://localhost:8080/"
        },
        "id": "lN12jyedXBUJ",
        "outputId": "206a6042-9582-44bc-83ab-6b261f4e86b1"
      },
      "execution_count": 64,
      "outputs": [
        {
          "output_type": "stream",
          "name": "stdout",
          "text": [
            "0\n",
            "1\n",
            "2\n",
            "3\n",
            "4\n",
            "5\n",
            "6\n"
          ]
        }
      ]
    },
    {
      "cell_type": "markdown",
      "source": [
        "# Formatos estranhos de tempo\n",
        "> Certa vez recebi um dataframe que continha datas no seguinte formato:"
      ],
      "metadata": {
        "id": "Fzet0-RoXGy2"
      }
    },
    {
      "cell_type": "code",
      "source": [
        "import datetime\n",
        "pd.set_option('display.max_columns', 999)\n",
        "pd.set_option('display.max_rows', 5000)\n",
        "pd.set_option('display.float_format', lambda x: '%.1f' % x)"
      ],
      "metadata": {
        "id": "HUQbnZLZXCrw"
      },
      "execution_count": 65,
      "outputs": []
    },
    {
      "cell_type": "code",
      "source": [
        "df = pd.DataFrame({'DOCUMENT_DATE': [1512086600000000.0, 1514851200000000.0, 1512067500000000.0]})\n",
        "df"
      ],
      "metadata": {
        "colab": {
          "base_uri": "https://localhost:8080/",
          "height": 143
        },
        "id": "eyDik7OVXJSK",
        "outputId": "7e2fe3af-e315-4d7b-a34c-30cfefbb2395"
      },
      "execution_count": 66,
      "outputs": [
        {
          "output_type": "execute_result",
          "data": {
            "text/plain": [
              "       DOCUMENT_DATE\n",
              "0 1512086600000000.0\n",
              "1 1514851200000000.0\n",
              "2 1512067500000000.0"
            ],
            "text/html": [
              "\n",
              "  <div id=\"df-2ce5af44-730d-4d06-b89a-5ef2ae5e4402\" class=\"colab-df-container\">\n",
              "    <div>\n",
              "<style scoped>\n",
              "    .dataframe tbody tr th:only-of-type {\n",
              "        vertical-align: middle;\n",
              "    }\n",
              "\n",
              "    .dataframe tbody tr th {\n",
              "        vertical-align: top;\n",
              "    }\n",
              "\n",
              "    .dataframe thead th {\n",
              "        text-align: right;\n",
              "    }\n",
              "</style>\n",
              "<table border=\"1\" class=\"dataframe\">\n",
              "  <thead>\n",
              "    <tr style=\"text-align: right;\">\n",
              "      <th></th>\n",
              "      <th>DOCUMENT_DATE</th>\n",
              "    </tr>\n",
              "  </thead>\n",
              "  <tbody>\n",
              "    <tr>\n",
              "      <th>0</th>\n",
              "      <td>1512086600000000.0</td>\n",
              "    </tr>\n",
              "    <tr>\n",
              "      <th>1</th>\n",
              "      <td>1514851200000000.0</td>\n",
              "    </tr>\n",
              "    <tr>\n",
              "      <th>2</th>\n",
              "      <td>1512067500000000.0</td>\n",
              "    </tr>\n",
              "  </tbody>\n",
              "</table>\n",
              "</div>\n",
              "    <div class=\"colab-df-buttons\">\n",
              "\n",
              "  <div class=\"colab-df-container\">\n",
              "    <button class=\"colab-df-convert\" onclick=\"convertToInteractive('df-2ce5af44-730d-4d06-b89a-5ef2ae5e4402')\"\n",
              "            title=\"Convert this dataframe to an interactive table.\"\n",
              "            style=\"display:none;\">\n",
              "\n",
              "  <svg xmlns=\"http://www.w3.org/2000/svg\" height=\"24px\" viewBox=\"0 -960 960 960\">\n",
              "    <path d=\"M120-120v-720h720v720H120Zm60-500h600v-160H180v160Zm220 220h160v-160H400v160Zm0 220h160v-160H400v160ZM180-400h160v-160H180v160Zm440 0h160v-160H620v160ZM180-180h160v-160H180v160Zm440 0h160v-160H620v160Z\"/>\n",
              "  </svg>\n",
              "    </button>\n",
              "\n",
              "  <style>\n",
              "    .colab-df-container {\n",
              "      display:flex;\n",
              "      gap: 12px;\n",
              "    }\n",
              "\n",
              "    .colab-df-convert {\n",
              "      background-color: #E8F0FE;\n",
              "      border: none;\n",
              "      border-radius: 50%;\n",
              "      cursor: pointer;\n",
              "      display: none;\n",
              "      fill: #1967D2;\n",
              "      height: 32px;\n",
              "      padding: 0 0 0 0;\n",
              "      width: 32px;\n",
              "    }\n",
              "\n",
              "    .colab-df-convert:hover {\n",
              "      background-color: #E2EBFA;\n",
              "      box-shadow: 0px 1px 2px rgba(60, 64, 67, 0.3), 0px 1px 3px 1px rgba(60, 64, 67, 0.15);\n",
              "      fill: #174EA6;\n",
              "    }\n",
              "\n",
              "    .colab-df-buttons div {\n",
              "      margin-bottom: 4px;\n",
              "    }\n",
              "\n",
              "    [theme=dark] .colab-df-convert {\n",
              "      background-color: #3B4455;\n",
              "      fill: #D2E3FC;\n",
              "    }\n",
              "\n",
              "    [theme=dark] .colab-df-convert:hover {\n",
              "      background-color: #434B5C;\n",
              "      box-shadow: 0px 1px 3px 1px rgba(0, 0, 0, 0.15);\n",
              "      filter: drop-shadow(0px 1px 2px rgba(0, 0, 0, 0.3));\n",
              "      fill: #FFFFFF;\n",
              "    }\n",
              "  </style>\n",
              "\n",
              "    <script>\n",
              "      const buttonEl =\n",
              "        document.querySelector('#df-2ce5af44-730d-4d06-b89a-5ef2ae5e4402 button.colab-df-convert');\n",
              "      buttonEl.style.display =\n",
              "        google.colab.kernel.accessAllowed ? 'block' : 'none';\n",
              "\n",
              "      async function convertToInteractive(key) {\n",
              "        const element = document.querySelector('#df-2ce5af44-730d-4d06-b89a-5ef2ae5e4402');\n",
              "        const dataTable =\n",
              "          await google.colab.kernel.invokeFunction('convertToInteractive',\n",
              "                                                    [key], {});\n",
              "        if (!dataTable) return;\n",
              "\n",
              "        const docLinkHtml = 'Like what you see? Visit the ' +\n",
              "          '<a target=\"_blank\" href=https://colab.research.google.com/notebooks/data_table.ipynb>data table notebook</a>'\n",
              "          + ' to learn more about interactive tables.';\n",
              "        element.innerHTML = '';\n",
              "        dataTable['output_type'] = 'display_data';\n",
              "        await google.colab.output.renderOutput(dataTable, element);\n",
              "        const docLink = document.createElement('div');\n",
              "        docLink.innerHTML = docLinkHtml;\n",
              "        element.appendChild(docLink);\n",
              "      }\n",
              "    </script>\n",
              "  </div>\n",
              "\n",
              "\n",
              "<div id=\"df-678b0d35-2a45-45de-8b49-2bb3c7e56cb5\">\n",
              "  <button class=\"colab-df-quickchart\" onclick=\"quickchart('df-678b0d35-2a45-45de-8b49-2bb3c7e56cb5')\"\n",
              "            title=\"Suggest charts\"\n",
              "            style=\"display:none;\">\n",
              "\n",
              "<svg xmlns=\"http://www.w3.org/2000/svg\" height=\"24px\"viewBox=\"0 0 24 24\"\n",
              "     width=\"24px\">\n",
              "    <g>\n",
              "        <path d=\"M19 3H5c-1.1 0-2 .9-2 2v14c0 1.1.9 2 2 2h14c1.1 0 2-.9 2-2V5c0-1.1-.9-2-2-2zM9 17H7v-7h2v7zm4 0h-2V7h2v10zm4 0h-2v-4h2v4z\"/>\n",
              "    </g>\n",
              "</svg>\n",
              "  </button>\n",
              "\n",
              "<style>\n",
              "  .colab-df-quickchart {\n",
              "      --bg-color: #E8F0FE;\n",
              "      --fill-color: #1967D2;\n",
              "      --hover-bg-color: #E2EBFA;\n",
              "      --hover-fill-color: #174EA6;\n",
              "      --disabled-fill-color: #AAA;\n",
              "      --disabled-bg-color: #DDD;\n",
              "  }\n",
              "\n",
              "  [theme=dark] .colab-df-quickchart {\n",
              "      --bg-color: #3B4455;\n",
              "      --fill-color: #D2E3FC;\n",
              "      --hover-bg-color: #434B5C;\n",
              "      --hover-fill-color: #FFFFFF;\n",
              "      --disabled-bg-color: #3B4455;\n",
              "      --disabled-fill-color: #666;\n",
              "  }\n",
              "\n",
              "  .colab-df-quickchart {\n",
              "    background-color: var(--bg-color);\n",
              "    border: none;\n",
              "    border-radius: 50%;\n",
              "    cursor: pointer;\n",
              "    display: none;\n",
              "    fill: var(--fill-color);\n",
              "    height: 32px;\n",
              "    padding: 0;\n",
              "    width: 32px;\n",
              "  }\n",
              "\n",
              "  .colab-df-quickchart:hover {\n",
              "    background-color: var(--hover-bg-color);\n",
              "    box-shadow: 0 1px 2px rgba(60, 64, 67, 0.3), 0 1px 3px 1px rgba(60, 64, 67, 0.15);\n",
              "    fill: var(--button-hover-fill-color);\n",
              "  }\n",
              "\n",
              "  .colab-df-quickchart-complete:disabled,\n",
              "  .colab-df-quickchart-complete:disabled:hover {\n",
              "    background-color: var(--disabled-bg-color);\n",
              "    fill: var(--disabled-fill-color);\n",
              "    box-shadow: none;\n",
              "  }\n",
              "\n",
              "  .colab-df-spinner {\n",
              "    border: 2px solid var(--fill-color);\n",
              "    border-color: transparent;\n",
              "    border-bottom-color: var(--fill-color);\n",
              "    animation:\n",
              "      spin 1s steps(1) infinite;\n",
              "  }\n",
              "\n",
              "  @keyframes spin {\n",
              "    0% {\n",
              "      border-color: transparent;\n",
              "      border-bottom-color: var(--fill-color);\n",
              "      border-left-color: var(--fill-color);\n",
              "    }\n",
              "    20% {\n",
              "      border-color: transparent;\n",
              "      border-left-color: var(--fill-color);\n",
              "      border-top-color: var(--fill-color);\n",
              "    }\n",
              "    30% {\n",
              "      border-color: transparent;\n",
              "      border-left-color: var(--fill-color);\n",
              "      border-top-color: var(--fill-color);\n",
              "      border-right-color: var(--fill-color);\n",
              "    }\n",
              "    40% {\n",
              "      border-color: transparent;\n",
              "      border-right-color: var(--fill-color);\n",
              "      border-top-color: var(--fill-color);\n",
              "    }\n",
              "    60% {\n",
              "      border-color: transparent;\n",
              "      border-right-color: var(--fill-color);\n",
              "    }\n",
              "    80% {\n",
              "      border-color: transparent;\n",
              "      border-right-color: var(--fill-color);\n",
              "      border-bottom-color: var(--fill-color);\n",
              "    }\n",
              "    90% {\n",
              "      border-color: transparent;\n",
              "      border-bottom-color: var(--fill-color);\n",
              "    }\n",
              "  }\n",
              "</style>\n",
              "\n",
              "  <script>\n",
              "    async function quickchart(key) {\n",
              "      const quickchartButtonEl =\n",
              "        document.querySelector('#' + key + ' button');\n",
              "      quickchartButtonEl.disabled = true;  // To prevent multiple clicks.\n",
              "      quickchartButtonEl.classList.add('colab-df-spinner');\n",
              "      try {\n",
              "        const charts = await google.colab.kernel.invokeFunction(\n",
              "            'suggestCharts', [key], {});\n",
              "      } catch (error) {\n",
              "        console.error('Error during call to suggestCharts:', error);\n",
              "      }\n",
              "      quickchartButtonEl.classList.remove('colab-df-spinner');\n",
              "      quickchartButtonEl.classList.add('colab-df-quickchart-complete');\n",
              "    }\n",
              "    (() => {\n",
              "      let quickchartButtonEl =\n",
              "        document.querySelector('#df-678b0d35-2a45-45de-8b49-2bb3c7e56cb5 button');\n",
              "      quickchartButtonEl.style.display =\n",
              "        google.colab.kernel.accessAllowed ? 'block' : 'none';\n",
              "    })();\n",
              "  </script>\n",
              "</div>\n",
              "\n",
              "  <div id=\"id_47834c00-5dcc-4172-9345-bf43db97a20f\">\n",
              "    <style>\n",
              "      .colab-df-generate {\n",
              "        background-color: #E8F0FE;\n",
              "        border: none;\n",
              "        border-radius: 50%;\n",
              "        cursor: pointer;\n",
              "        display: none;\n",
              "        fill: #1967D2;\n",
              "        height: 32px;\n",
              "        padding: 0 0 0 0;\n",
              "        width: 32px;\n",
              "      }\n",
              "\n",
              "      .colab-df-generate:hover {\n",
              "        background-color: #E2EBFA;\n",
              "        box-shadow: 0px 1px 2px rgba(60, 64, 67, 0.3), 0px 1px 3px 1px rgba(60, 64, 67, 0.15);\n",
              "        fill: #174EA6;\n",
              "      }\n",
              "\n",
              "      [theme=dark] .colab-df-generate {\n",
              "        background-color: #3B4455;\n",
              "        fill: #D2E3FC;\n",
              "      }\n",
              "\n",
              "      [theme=dark] .colab-df-generate:hover {\n",
              "        background-color: #434B5C;\n",
              "        box-shadow: 0px 1px 3px 1px rgba(0, 0, 0, 0.15);\n",
              "        filter: drop-shadow(0px 1px 2px rgba(0, 0, 0, 0.3));\n",
              "        fill: #FFFFFF;\n",
              "      }\n",
              "    </style>\n",
              "    <button class=\"colab-df-generate\" onclick=\"generateWithVariable('df')\"\n",
              "            title=\"Generate code using this dataframe.\"\n",
              "            style=\"display:none;\">\n",
              "\n",
              "  <svg xmlns=\"http://www.w3.org/2000/svg\" height=\"24px\"viewBox=\"0 0 24 24\"\n",
              "       width=\"24px\">\n",
              "    <path d=\"M7,19H8.4L18.45,9,17,7.55,7,17.6ZM5,21V16.75L18.45,3.32a2,2,0,0,1,2.83,0l1.4,1.43a1.91,1.91,0,0,1,.58,1.4,1.91,1.91,0,0,1-.58,1.4L9.25,21ZM18.45,9,17,7.55Zm-12,3A5.31,5.31,0,0,0,4.9,8.1,5.31,5.31,0,0,0,1,6.5,5.31,5.31,0,0,0,4.9,4.9,5.31,5.31,0,0,0,6.5,1,5.31,5.31,0,0,0,8.1,4.9,5.31,5.31,0,0,0,12,6.5,5.46,5.46,0,0,0,6.5,12Z\"/>\n",
              "  </svg>\n",
              "    </button>\n",
              "    <script>\n",
              "      (() => {\n",
              "      const buttonEl =\n",
              "        document.querySelector('#id_47834c00-5dcc-4172-9345-bf43db97a20f button.colab-df-generate');\n",
              "      buttonEl.style.display =\n",
              "        google.colab.kernel.accessAllowed ? 'block' : 'none';\n",
              "\n",
              "      buttonEl.onclick = () => {\n",
              "        google.colab.notebook.generateWithVariable('df');\n",
              "      }\n",
              "      })();\n",
              "    </script>\n",
              "  </div>\n",
              "\n",
              "    </div>\n",
              "  </div>\n"
            ],
            "application/vnd.google.colaboratory.intrinsic+json": {
              "type": "dataframe",
              "variable_name": "df",
              "summary": "{\n  \"name\": \"df\",\n  \"rows\": 3,\n  \"fields\": [\n    {\n      \"column\": \"DOCUMENT_DATE\",\n      \"properties\": {\n        \"dtype\": \"number\",\n        \"std\": 1601684720328.359,\n        \"min\": 1512067500000000.0,\n        \"max\": 1514851200000000.0,\n        \"num_unique_values\": 3,\n        \"samples\": [\n          1512086600000000.0,\n          1514851200000000.0,\n          1512067500000000.0\n        ],\n        \"semantic_type\": \"\",\n        \"description\": \"\"\n      }\n    }\n  ]\n}"
            }
          },
          "metadata": {},
          "execution_count": 66
        }
      ]
    },
    {
      "cell_type": "markdown",
      "source": [
        "🤔 É um formato muito estranho. Para resolver o problema, fiz o seguinte:"
      ],
      "metadata": {
        "id": "3BXYKxwsXPj1"
      }
    },
    {
      "cell_type": "code",
      "source": [
        "df['AUX'] = (df['DOCUMENT_DATE']/1000000).astype(np.int32)\n",
        "df = df.drop(columns = ['DOCUMENT_DATE'], axis = 1)\n",
        "df['DOCUMENT_DATE'] = df['AUX'].map(lambda x: datetime.datetime.fromtimestamp(x))\n",
        "df= df.drop(columns = ['AUX'], axis = 1)\n",
        "df.head()"
      ],
      "metadata": {
        "colab": {
          "base_uri": "https://localhost:8080/",
          "height": 143
        },
        "id": "SpQV30c2XLgt",
        "outputId": "366bba27-55cf-4cdc-8dc8-d6f266321f90"
      },
      "execution_count": 67,
      "outputs": [
        {
          "output_type": "execute_result",
          "data": {
            "text/plain": [
              "        DOCUMENT_DATE\n",
              "0 2017-12-01 00:03:20\n",
              "1 2018-01-02 00:00:00\n",
              "2 2017-11-30 18:45:00"
            ],
            "text/html": [
              "\n",
              "  <div id=\"df-ef1b7dc8-38d7-4da7-9333-d44d365dfc0b\" class=\"colab-df-container\">\n",
              "    <div>\n",
              "<style scoped>\n",
              "    .dataframe tbody tr th:only-of-type {\n",
              "        vertical-align: middle;\n",
              "    }\n",
              "\n",
              "    .dataframe tbody tr th {\n",
              "        vertical-align: top;\n",
              "    }\n",
              "\n",
              "    .dataframe thead th {\n",
              "        text-align: right;\n",
              "    }\n",
              "</style>\n",
              "<table border=\"1\" class=\"dataframe\">\n",
              "  <thead>\n",
              "    <tr style=\"text-align: right;\">\n",
              "      <th></th>\n",
              "      <th>DOCUMENT_DATE</th>\n",
              "    </tr>\n",
              "  </thead>\n",
              "  <tbody>\n",
              "    <tr>\n",
              "      <th>0</th>\n",
              "      <td>2017-12-01 00:03:20</td>\n",
              "    </tr>\n",
              "    <tr>\n",
              "      <th>1</th>\n",
              "      <td>2018-01-02 00:00:00</td>\n",
              "    </tr>\n",
              "    <tr>\n",
              "      <th>2</th>\n",
              "      <td>2017-11-30 18:45:00</td>\n",
              "    </tr>\n",
              "  </tbody>\n",
              "</table>\n",
              "</div>\n",
              "    <div class=\"colab-df-buttons\">\n",
              "\n",
              "  <div class=\"colab-df-container\">\n",
              "    <button class=\"colab-df-convert\" onclick=\"convertToInteractive('df-ef1b7dc8-38d7-4da7-9333-d44d365dfc0b')\"\n",
              "            title=\"Convert this dataframe to an interactive table.\"\n",
              "            style=\"display:none;\">\n",
              "\n",
              "  <svg xmlns=\"http://www.w3.org/2000/svg\" height=\"24px\" viewBox=\"0 -960 960 960\">\n",
              "    <path d=\"M120-120v-720h720v720H120Zm60-500h600v-160H180v160Zm220 220h160v-160H400v160Zm0 220h160v-160H400v160ZM180-400h160v-160H180v160Zm440 0h160v-160H620v160ZM180-180h160v-160H180v160Zm440 0h160v-160H620v160Z\"/>\n",
              "  </svg>\n",
              "    </button>\n",
              "\n",
              "  <style>\n",
              "    .colab-df-container {\n",
              "      display:flex;\n",
              "      gap: 12px;\n",
              "    }\n",
              "\n",
              "    .colab-df-convert {\n",
              "      background-color: #E8F0FE;\n",
              "      border: none;\n",
              "      border-radius: 50%;\n",
              "      cursor: pointer;\n",
              "      display: none;\n",
              "      fill: #1967D2;\n",
              "      height: 32px;\n",
              "      padding: 0 0 0 0;\n",
              "      width: 32px;\n",
              "    }\n",
              "\n",
              "    .colab-df-convert:hover {\n",
              "      background-color: #E2EBFA;\n",
              "      box-shadow: 0px 1px 2px rgba(60, 64, 67, 0.3), 0px 1px 3px 1px rgba(60, 64, 67, 0.15);\n",
              "      fill: #174EA6;\n",
              "    }\n",
              "\n",
              "    .colab-df-buttons div {\n",
              "      margin-bottom: 4px;\n",
              "    }\n",
              "\n",
              "    [theme=dark] .colab-df-convert {\n",
              "      background-color: #3B4455;\n",
              "      fill: #D2E3FC;\n",
              "    }\n",
              "\n",
              "    [theme=dark] .colab-df-convert:hover {\n",
              "      background-color: #434B5C;\n",
              "      box-shadow: 0px 1px 3px 1px rgba(0, 0, 0, 0.15);\n",
              "      filter: drop-shadow(0px 1px 2px rgba(0, 0, 0, 0.3));\n",
              "      fill: #FFFFFF;\n",
              "    }\n",
              "  </style>\n",
              "\n",
              "    <script>\n",
              "      const buttonEl =\n",
              "        document.querySelector('#df-ef1b7dc8-38d7-4da7-9333-d44d365dfc0b button.colab-df-convert');\n",
              "      buttonEl.style.display =\n",
              "        google.colab.kernel.accessAllowed ? 'block' : 'none';\n",
              "\n",
              "      async function convertToInteractive(key) {\n",
              "        const element = document.querySelector('#df-ef1b7dc8-38d7-4da7-9333-d44d365dfc0b');\n",
              "        const dataTable =\n",
              "          await google.colab.kernel.invokeFunction('convertToInteractive',\n",
              "                                                    [key], {});\n",
              "        if (!dataTable) return;\n",
              "\n",
              "        const docLinkHtml = 'Like what you see? Visit the ' +\n",
              "          '<a target=\"_blank\" href=https://colab.research.google.com/notebooks/data_table.ipynb>data table notebook</a>'\n",
              "          + ' to learn more about interactive tables.';\n",
              "        element.innerHTML = '';\n",
              "        dataTable['output_type'] = 'display_data';\n",
              "        await google.colab.output.renderOutput(dataTable, element);\n",
              "        const docLink = document.createElement('div');\n",
              "        docLink.innerHTML = docLinkHtml;\n",
              "        element.appendChild(docLink);\n",
              "      }\n",
              "    </script>\n",
              "  </div>\n",
              "\n",
              "\n",
              "<div id=\"df-c8d400e9-2944-41b6-81b1-efc451a55b28\">\n",
              "  <button class=\"colab-df-quickchart\" onclick=\"quickchart('df-c8d400e9-2944-41b6-81b1-efc451a55b28')\"\n",
              "            title=\"Suggest charts\"\n",
              "            style=\"display:none;\">\n",
              "\n",
              "<svg xmlns=\"http://www.w3.org/2000/svg\" height=\"24px\"viewBox=\"0 0 24 24\"\n",
              "     width=\"24px\">\n",
              "    <g>\n",
              "        <path d=\"M19 3H5c-1.1 0-2 .9-2 2v14c0 1.1.9 2 2 2h14c1.1 0 2-.9 2-2V5c0-1.1-.9-2-2-2zM9 17H7v-7h2v7zm4 0h-2V7h2v10zm4 0h-2v-4h2v4z\"/>\n",
              "    </g>\n",
              "</svg>\n",
              "  </button>\n",
              "\n",
              "<style>\n",
              "  .colab-df-quickchart {\n",
              "      --bg-color: #E8F0FE;\n",
              "      --fill-color: #1967D2;\n",
              "      --hover-bg-color: #E2EBFA;\n",
              "      --hover-fill-color: #174EA6;\n",
              "      --disabled-fill-color: #AAA;\n",
              "      --disabled-bg-color: #DDD;\n",
              "  }\n",
              "\n",
              "  [theme=dark] .colab-df-quickchart {\n",
              "      --bg-color: #3B4455;\n",
              "      --fill-color: #D2E3FC;\n",
              "      --hover-bg-color: #434B5C;\n",
              "      --hover-fill-color: #FFFFFF;\n",
              "      --disabled-bg-color: #3B4455;\n",
              "      --disabled-fill-color: #666;\n",
              "  }\n",
              "\n",
              "  .colab-df-quickchart {\n",
              "    background-color: var(--bg-color);\n",
              "    border: none;\n",
              "    border-radius: 50%;\n",
              "    cursor: pointer;\n",
              "    display: none;\n",
              "    fill: var(--fill-color);\n",
              "    height: 32px;\n",
              "    padding: 0;\n",
              "    width: 32px;\n",
              "  }\n",
              "\n",
              "  .colab-df-quickchart:hover {\n",
              "    background-color: var(--hover-bg-color);\n",
              "    box-shadow: 0 1px 2px rgba(60, 64, 67, 0.3), 0 1px 3px 1px rgba(60, 64, 67, 0.15);\n",
              "    fill: var(--button-hover-fill-color);\n",
              "  }\n",
              "\n",
              "  .colab-df-quickchart-complete:disabled,\n",
              "  .colab-df-quickchart-complete:disabled:hover {\n",
              "    background-color: var(--disabled-bg-color);\n",
              "    fill: var(--disabled-fill-color);\n",
              "    box-shadow: none;\n",
              "  }\n",
              "\n",
              "  .colab-df-spinner {\n",
              "    border: 2px solid var(--fill-color);\n",
              "    border-color: transparent;\n",
              "    border-bottom-color: var(--fill-color);\n",
              "    animation:\n",
              "      spin 1s steps(1) infinite;\n",
              "  }\n",
              "\n",
              "  @keyframes spin {\n",
              "    0% {\n",
              "      border-color: transparent;\n",
              "      border-bottom-color: var(--fill-color);\n",
              "      border-left-color: var(--fill-color);\n",
              "    }\n",
              "    20% {\n",
              "      border-color: transparent;\n",
              "      border-left-color: var(--fill-color);\n",
              "      border-top-color: var(--fill-color);\n",
              "    }\n",
              "    30% {\n",
              "      border-color: transparent;\n",
              "      border-left-color: var(--fill-color);\n",
              "      border-top-color: var(--fill-color);\n",
              "      border-right-color: var(--fill-color);\n",
              "    }\n",
              "    40% {\n",
              "      border-color: transparent;\n",
              "      border-right-color: var(--fill-color);\n",
              "      border-top-color: var(--fill-color);\n",
              "    }\n",
              "    60% {\n",
              "      border-color: transparent;\n",
              "      border-right-color: var(--fill-color);\n",
              "    }\n",
              "    80% {\n",
              "      border-color: transparent;\n",
              "      border-right-color: var(--fill-color);\n",
              "      border-bottom-color: var(--fill-color);\n",
              "    }\n",
              "    90% {\n",
              "      border-color: transparent;\n",
              "      border-bottom-color: var(--fill-color);\n",
              "    }\n",
              "  }\n",
              "</style>\n",
              "\n",
              "  <script>\n",
              "    async function quickchart(key) {\n",
              "      const quickchartButtonEl =\n",
              "        document.querySelector('#' + key + ' button');\n",
              "      quickchartButtonEl.disabled = true;  // To prevent multiple clicks.\n",
              "      quickchartButtonEl.classList.add('colab-df-spinner');\n",
              "      try {\n",
              "        const charts = await google.colab.kernel.invokeFunction(\n",
              "            'suggestCharts', [key], {});\n",
              "      } catch (error) {\n",
              "        console.error('Error during call to suggestCharts:', error);\n",
              "      }\n",
              "      quickchartButtonEl.classList.remove('colab-df-spinner');\n",
              "      quickchartButtonEl.classList.add('colab-df-quickchart-complete');\n",
              "    }\n",
              "    (() => {\n",
              "      let quickchartButtonEl =\n",
              "        document.querySelector('#df-c8d400e9-2944-41b6-81b1-efc451a55b28 button');\n",
              "      quickchartButtonEl.style.display =\n",
              "        google.colab.kernel.accessAllowed ? 'block' : 'none';\n",
              "    })();\n",
              "  </script>\n",
              "</div>\n",
              "\n",
              "    </div>\n",
              "  </div>\n"
            ],
            "application/vnd.google.colaboratory.intrinsic+json": {
              "type": "dataframe",
              "variable_name": "df",
              "summary": "{\n  \"name\": \"df\",\n  \"rows\": 3,\n  \"fields\": [\n    {\n      \"column\": \"DOCUMENT_DATE\",\n      \"properties\": {\n        \"dtype\": \"date\",\n        \"min\": \"2017-11-30 18:45:00\",\n        \"max\": \"2018-01-02 00:00:00\",\n        \"num_unique_values\": 3,\n        \"samples\": [\n          \"2017-12-01 00:03:20\",\n          \"2018-01-02 00:00:00\",\n          \"2017-11-30 18:45:00\"\n        ],\n        \"semantic_type\": \"\",\n        \"description\": \"\"\n      }\n    }\n  ]\n}"
            }
          },
          "metadata": {},
          "execution_count": 67
        }
      ]
    },
    {
      "cell_type": "markdown",
      "source": [
        "Como podem ver, agora temos a data no formato AAAA-MM-DD + horas."
      ],
      "metadata": {
        "id": "LZaxLbdHXYK6"
      }
    },
    {
      "cell_type": "markdown",
      "source": [
        "___\n",
        "# **Wrap Up**"
      ],
      "metadata": {
        "id": "v44lH5WbXcSy"
      }
    },
    {
      "cell_type": "markdown",
      "source": [
        "___\n",
        "# **Exercícios**\n",
        "\n",
        "Esses exercícios abrangem diversas aplicações de **datas e horas em Python**, incluindo captura e formatação de datas, cálculo de diferenças entre datas, manipulação de calendários, fusos horários e uso de funções úteis dos módulos `datetime`, `time` e `calendar`. Ao praticar com esses exemplos, você fortalecerá sua compreensão sobre como trabalhar eficientemente com dados temporais em Python.\n",
        "\n",
        "Bom estudo e boa codificação!Claro! Aqui estão **10 exercícios** para ajudá-lo a praticar e dominar o **trabalho com datas e horas em Python**:\n",
        "\n",
        "---\n",
        "\n",
        "## **Exercício 1: Obtendo a Data e Hora Atuais**\n",
        "\n",
        "**Descrição:**\n",
        "\n",
        "Escreva um programa em Python que exiba a data e a hora atuais no seguinte formato:\n",
        "\n",
        "```\n",
        "Data atual: DD/MM/AAAA\n",
        "Hora atual: HH:MM:SS\n",
        "```\n",
        "\n",
        "**Dicas:**\n",
        "\n",
        "- Use o módulo `datetime`.\n",
        "- Utilize os métodos apropriados para formatar a data e a hora."
      ],
      "metadata": {
        "id": "nJacBNyRXhMX"
      }
    },
    {
      "cell_type": "code",
      "source": [
        "from datetime import datetime\n",
        "\n",
        "# Obtendo a data e hora atuais\n",
        "agora = datetime.now()\n",
        "\n",
        "# Formatando a data e hora\n",
        "data_atual = agora.strftime(\"%d/%m/%Y\")\n",
        "hora_atual = agora.strftime(\"%H:%M:%S\")\n",
        "\n",
        "# Exibindo a data e hora formatadas\n",
        "print(f\"Data atual: {data_atual}\")\n",
        "print(f\"Hora atual: {hora_atual}\")\n"
      ],
      "metadata": {
        "colab": {
          "base_uri": "https://localhost:8080/"
        },
        "id": "edoyu6HgX34D",
        "outputId": "bd87fc21-8a85-411b-d1aa-4ad7cab0aad5"
      },
      "execution_count": 68,
      "outputs": [
        {
          "output_type": "stream",
          "name": "stdout",
          "text": [
            "Data atual: 21/10/2024\n",
            "Hora atual: 00:00:50\n"
          ]
        }
      ]
    },
    {
      "cell_type": "markdown",
      "source": [
        "Exemplo de código em Python que exibe a data e a hora atuais no formato solicitado (`DD/MM/AAAA` e `HH:MM:SS`), utilizando o módulo `datetime`:\n",
        "\n",
        "### Código:\n",
        "\n",
        "```python\n",
        "from datetime import datetime\n",
        "\n",
        "# Obtendo a data e hora atuais\n",
        "agora = datetime.now()\n",
        "\n",
        "# Formatando a data e hora\n",
        "data_atual = agora.strftime(\"%d/%m/%Y\")\n",
        "hora_atual = agora.strftime(\"%H:%M:%S\")\n",
        "\n",
        "# Exibindo a data e hora formatadas\n",
        "print(f\"Data atual: {data_atual}\")\n",
        "print(f\"Hora atual: {hora_atual}\")\n",
        "```\n",
        "\n",
        "### Explicação:\n",
        "\n",
        "1. **`datetime.now()`**: Obtém a data e hora atuais.\n",
        "2. **`strftime()`**: Formata a data e hora de acordo com a string de formatação fornecida:\n",
        "   - `%d`: Dia do mês (2 dígitos).\n",
        "   - `%m`: Mês (2 dígitos).\n",
        "   - `%Y`: Ano completo (4 dígitos).\n",
        "   - `%H`: Hora no formato 24h (2 dígitos).\n",
        "   - `%M`: Minutos (2 dígitos).\n",
        "   - `%S`: Segundos (2 dígitos).\n",
        "\n",
        "### Exemplo de saída:\n",
        "```bash\n",
        "Data atual: 20/10/2024\n",
        "Hora atual: 15:32:18\n",
        "```"
      ],
      "metadata": {
        "id": "DpMy9F8fX4Z9"
      }
    },
    {
      "cell_type": "markdown",
      "source": [
        "---\n",
        "\n",
        "## **Exercício 2: Formatação de Datas**\n",
        "\n",
        "**Descrição:**\n",
        "\n",
        "Crie um programa que solicite ao usuário uma data no formato `AAAA-MM-DD` e exiba essa data no formato `DD de Mês por extenso de AAAA`. Por exemplo, se o usuário inserir `2023-09-15`, o programa deve exibir `15 de Setembro de 2023`.\n",
        "\n",
        "**Dicas:**\n",
        "\n",
        "- Utilize o método `strptime` para converter a string em um objeto `datetime`.\n",
        "- Use o método `strftime` com os códigos de formatação apropriados para exibir o mês por extenso."
      ],
      "metadata": {
        "id": "8QTLoCvmYm2g"
      }
    },
    {
      "cell_type": "code",
      "source": [
        "from datetime import datetime\n",
        "\n",
        "# Solicita a data ao usuário no formato AAAA-MM-DD\n",
        "data_input = input(\"Digite uma data no formato AAAA-MM-DD: \")\n",
        "\n",
        "# Converte a string de entrada em um objeto datetime\n",
        "data_obj = datetime.strptime(data_input, \"%Y-%m-%d\")\n",
        "\n",
        "# Formata a data para o formato desejado: DD de Mês por extenso de AAAA\n",
        "data_formatada = data_obj.strftime(\"%d de %B de %Y\")\n",
        "\n",
        "# Exibe a data formatada\n",
        "print(f\"Data formatada: {data_formatada}\")"
      ],
      "metadata": {
        "colab": {
          "base_uri": "https://localhost:8080/"
        },
        "id": "oCj7rb_sXUWC",
        "outputId": "bed2b8b2-8575-462f-ac4c-42eeda84482f"
      },
      "execution_count": 69,
      "outputs": [
        {
          "output_type": "stream",
          "name": "stdout",
          "text": [
            "Digite uma data no formato AAAA-MM-DD: 2025-01-25\n",
            "Data formatada: 25 de January de 2025\n"
          ]
        }
      ]
    },
    {
      "cell_type": "markdown",
      "source": [
        "Aqui está o código que formata uma data no formato `AAAA-MM-DD` e exibe como `DD de Mês por extenso de AAAA`:\n",
        "\n",
        "### Código:\n",
        "\n",
        "```python\n",
        "from datetime import datetime\n",
        "\n",
        "# Solicita a data ao usuário no formato AAAA-MM-DD\n",
        "data_input = input(\"Digite uma data no formato AAAA-MM-DD: \")\n",
        "\n",
        "# Converte a string de entrada em um objeto datetime\n",
        "data_obj = datetime.strptime(data_input, \"%Y-%m-%d\")\n",
        "\n",
        "# Formata a data para o formato desejado: DD de Mês por extenso de AAAA\n",
        "data_formatada = data_obj.strftime(\"%d de %B de %Y\")\n",
        "\n",
        "# Exibe a data formatada\n",
        "print(f\"Data formatada: {data_formatada}\")\n",
        "```\n",
        "\n",
        "### Explicação:\n",
        "\n",
        "1. **`input()`**: Solicita que o usuário insira uma data no formato `AAAA-MM-DD`.\n",
        "2. **`datetime.strptime(data_input, \"%Y-%m-%d\")`**: Converte a string fornecida pelo usuário em um objeto `datetime`. A string deve estar no formato `AAAA-MM-DD`.\n",
        "   - `%Y`: Ano com 4 dígitos.\n",
        "   - `%m`: Mês com 2 dígitos.\n",
        "   - `%d`: Dia do mês com 2 dígitos.\n",
        "3. **`strftime(\"%d de %B de %Y\")`**: Formata o objeto `datetime` para o formato desejado:\n",
        "   - `%d`: Dia do mês com 2 dígitos.\n",
        "   - `%B`: Nome completo do mês (por extenso).\n",
        "   - `%Y`: Ano com 4 dígitos.\n",
        "4. **Exibe a data formatada**: Mostra a data no formato solicitado.\n",
        "\n",
        "### Exemplo de saída:\n",
        "\n",
        "```bash\n",
        "Digite uma data no formato AAAA-MM-DD: 2023-09-15\n",
        "Data formatada: 15 de setembro de 2023\n",
        "```\n",
        "\n",
        "Esse código utiliza o método `strftime` para formatar o mês por extenso e exibir a data no formato desejado."
      ],
      "metadata": {
        "id": "dVi8hKfCY8no"
      }
    },
    {
      "cell_type": "markdown",
      "source": [
        "---\n",
        "\n",
        "## **Exercício 3: Calculando a Idade**\n",
        "\n",
        "**Descrição:**\n",
        "\n",
        "Escreva um programa que pergunte ao usuário sua data de nascimento no formato `DD/MM/AAAA` e calcule sua idade em anos completos.\n",
        "\n",
        "**Dicas:**\n",
        "\n",
        "- Converta a data de nascimento em um objeto `date`.\n",
        "- Obtenha a data atual.\n",
        "- Calcule a diferença em anos, considerando se o aniversário já ocorreu no ano atual.\n"
      ],
      "metadata": {
        "id": "wSF8IJiGZL1S"
      }
    },
    {
      "cell_type": "code",
      "source": [
        "from datetime import datetime\n",
        "\n",
        "# Solicita a data de nascimento ao usuário no formato DD/MM/AAAA\n",
        "data_nascimento_input = input(\"Digite sua data de nascimento (DD/MM/AAAA): \")\n",
        "\n",
        "# Converte a string de entrada em um objeto datetime\n",
        "data_nascimento = datetime.strptime(data_nascimento_input, \"%d/%m/%Y\").date()\n",
        "\n",
        "# Obtém a data atual\n",
        "data_atual = datetime.now().date()\n",
        "\n",
        "# Calcula a idade em anos completos\n",
        "idade = data_atual.year - data_nascimento.year\n",
        "\n",
        "# Verifica se o aniversário já passou neste ano\n",
        "if (data_atual.month, data_atual.day) < (data_nascimento.month, data_nascimento.day):\n",
        "    idade -= 1\n",
        "\n",
        "# Exibe a idade do usuário\n",
        "print(f\"Sua idade é: {idade} anos.\")\n"
      ],
      "metadata": {
        "colab": {
          "base_uri": "https://localhost:8080/"
        },
        "id": "_amStwjwY0Mj",
        "outputId": "ca91e230-d1e0-456b-a696-e5c8b895bd55"
      },
      "execution_count": 70,
      "outputs": [
        {
          "output_type": "stream",
          "name": "stdout",
          "text": [
            "Digite sua data de nascimento (DD/MM/AAAA): 25/01/1997\n",
            "Sua idade é: 27 anos.\n"
          ]
        }
      ]
    },
    {
      "cell_type": "markdown",
      "source": [
        "---\n",
        "\n",
        "## **Exercício 4: Dias Entre Datas**\n",
        "\n",
        "**Descrição:**\n",
        "\n",
        "Desenvolva um programa que solicite duas datas ao usuário, cada uma no formato `DD/MM/AAAA`, e calcule o número de dias entre elas.\n",
        "\n",
        "**Dicas:**\n",
        "\n",
        "- Converta as strings em objetos `date`.\n",
        "- Subtraia as datas para obter um objeto `timedelta`.\n",
        "- Extraia o número de dias do objeto `timedelta`."
      ],
      "metadata": {
        "id": "bJKnPQrQbKE7"
      }
    },
    {
      "cell_type": "code",
      "source": [
        "from datetime import datetime\n",
        "\n",
        "# Solicita as duas datas ao usuário no formato DD/MM/AAAA\n",
        "data1_input = input(\"Digite a primeira data (DD/MM/AAAA): \")\n",
        "data2_input = input(\"Digite a segunda data (DD/MM/AAAA): \")\n",
        "\n",
        "# Converte as strings de entrada em objetos datetime\n",
        "data1 = datetime.strptime(data1_input, \"%d/%m/%Y\").date()\n",
        "data2 = datetime.strptime(data2_input, \"%d/%m/%Y\").date()\n",
        "\n",
        "# Calcula a diferença entre as duas datas\n",
        "diferenca = abs(data2 - data1)\n",
        "\n",
        "# Exibe o número de dias entre as datas\n",
        "print(f\"O número de dias entre {data1_input} e {data2_input} é de {diferenca.days} dias.\")\n"
      ],
      "metadata": {
        "colab": {
          "base_uri": "https://localhost:8080/"
        },
        "id": "AA7OAkU9bSCl",
        "outputId": "89177fb7-a2ef-4066-fea2-2b23214cc4ad"
      },
      "execution_count": 71,
      "outputs": [
        {
          "output_type": "stream",
          "name": "stdout",
          "text": [
            "Digite a primeira data (DD/MM/AAAA): 12/01/2021\n",
            "Digite a segunda data (DD/MM/AAAA): 13/11/2023\n",
            "O número de dias entre 12/01/2021 e 13/11/2023 é de 1035 dias.\n"
          ]
        }
      ]
    },
    {
      "cell_type": "markdown",
      "source": [
        "Aqui está o código para calcular o número de dias entre duas datas fornecidas pelo usuário no formato `DD/MM/AAAA`:\n",
        "\n",
        "### Explicação:\n",
        "\n",
        "1. **`input()`**: Solicita ao usuário que insira duas datas no formato `DD/MM/AAAA`.\n",
        "2. **`datetime.strptime()`**: Converte as strings fornecidas em objetos `datetime`. O método `strptime()` utiliza o formato `\"%d/%m/%Y\"` para reconhecer corretamente o formato de data inserido.\n",
        "3. **`abs(data2 - data1)`**: Calcula a diferença entre as duas datas. O resultado é um objeto `timedelta` que armazena a diferença de tempo entre as datas.\n",
        "4. **`diferenca.days`**: Extrai o número de dias da diferença calculada.\n",
        "5. **`abs()`**: Utilizamos `abs()` para garantir que o valor retornado seja sempre positivo, independentemente da ordem das datas.\n",
        "\n",
        "### Exemplo de Saída:\n",
        "\n",
        "```bash\n",
        "Digite a primeira data (DD/MM/AAAA): 10/10/2024\n",
        "Digite a segunda data (DD/MM/AAAA): 20/10/2024\n",
        "O número de dias entre 10/10/2024 e 20/10/2024 é de 10 dias.\n",
        "```\n",
        "\n",
        "Este programa calculará corretamente o número de dias entre duas datas fornecidas pelo usuário."
      ],
      "metadata": {
        "id": "RruvQILTbwtO"
      }
    },
    {
      "cell_type": "markdown",
      "source": [
        "---\n",
        "\n",
        "## **Exercício 5: Validação de Datas**\n",
        "\n",
        "**Descrição:**\n",
        "\n",
        "Crie um programa que valide se uma data inserida pelo usuário no formato `DD/MM/AAAA` é uma data válida. Se for válida, exiba \"Data válida\"; caso contrário, exiba \"Data inválida\".\n",
        "\n",
        "**Dicas:**\n",
        "\n",
        "- Use um bloco `try-except` para tentar converter a string em um objeto `date`.\n",
        "- Capture a exceção `ValueError` em caso de data inválida."
      ],
      "metadata": {
        "id": "SmwhuHBdbReZ"
      }
    },
    {
      "cell_type": "code",
      "source": [
        "from datetime import datetime\n",
        "\n",
        "# Solicita a data ao usuário no formato DD/MM/AAAA\n",
        "data_input = input(\"Digite uma data no formato DD/MM/AAAA: \")\n",
        "\n",
        "# Tenta converter a string em um objeto datetime\n",
        "try:\n",
        "    # Converte a string para um objeto datetime\n",
        "    data_valida = datetime.strptime(data_input, \"%d/%m/%Y\").date()\n",
        "    print(\"Data válida\")\n",
        "except ValueError:\n",
        "    # Caso ocorra um erro de conversão, é exibida a mensagem de data inválida\n",
        "    print(\"Data inválida\")\n"
      ],
      "metadata": {
        "colab": {
          "base_uri": "https://localhost:8080/"
        },
        "id": "cApofF7IZiOi",
        "outputId": "71687e24-3a1f-464c-9ae7-c2b9a35479fa"
      },
      "execution_count": 72,
      "outputs": [
        {
          "output_type": "stream",
          "name": "stdout",
          "text": [
            "Digite uma data no formato DD/MM/AAAA: 03/06/2019\n",
            "Data válida\n"
          ]
        }
      ]
    },
    {
      "cell_type": "markdown",
      "source": [
        "Código para validar se uma data inserida pelo usuário no formato `DD/MM/AAAA` é válida, usando um bloco `try-except` para lidar com possíveis erros:\n",
        "\n",
        "### Explicação:\n",
        "\n",
        "1. **`input()`**: Solicita que o usuário insira uma data no formato `DD/MM/AAAA`.\n",
        "2. **`try-except`**:\n",
        "   - No bloco `try`, tentamos converter a data de entrada usando `datetime.strptime()`. Se a conversão for bem-sucedida, a data é válida.\n",
        "   - Se a conversão falhar (por exemplo, se o usuário inserir uma data inválida como \"31/02/2024\"), o Python levantará um erro `ValueError`, que será capturado no bloco `except`, e a mensagem \"Data inválida\" será exibida.\n",
        "3. **`datetime.strptime()`**: Converte a string de data para um objeto `datetime` usando o formato `\"%d/%m/%Y\"`.\n",
        "4. **`ValueError`**: Exceção que ocorre quando a conversão falha devido a uma data inválida.\n",
        "\n",
        "### Exemplo de Saída:\n",
        "\n",
        "1. **Data válida**:\n",
        "   ```bash\n",
        "   Digite uma data no formato DD/MM/AAAA: 15/09/2023\n",
        "   Data válida\n",
        "   ```\n",
        "\n",
        "2. **Data inválida**:\n",
        "   ```bash\n",
        "   Digite uma data no formato DD/MM/AAAA: 31/02/2023\n",
        "   Data inválida\n",
        "   ```\n",
        "\n",
        "Este código é uma maneira simples e eficiente de validar datas inseridas pelo usuário."
      ],
      "metadata": {
        "id": "sxkE22Csb5YK"
      }
    },
    {
      "cell_type": "markdown",
      "source": [
        "---\n",
        "\n",
        "## **Exercício 6: Exibindo Calendário**\n",
        "\n",
        "**Descrição:**\n",
        "\n",
        "Escreva um programa que solicite ao usuário um ano e um mês (número de 1 a 12) e exiba o calendário desse mês e ano.\n",
        "\n",
        "**Dicas:**\n",
        "\n",
        "- Utilize o módulo `calendar`.\n",
        "- Use a função `calendar.month(ano, mes)` para obter o calendário em formato de string."
      ],
      "metadata": {
        "id": "nkypbeYScEuR"
      }
    },
    {
      "cell_type": "code",
      "source": [
        "import calendar\n",
        "\n",
        "# Solicita o ano e o mês ao usuário\n",
        "ano = int(input(\"Digite o ano: \"))\n",
        "mes = int(input(\"Digite o mês (número de 1 a 12): \"))\n",
        "\n",
        "# Verifica se o mês está no intervalo válido\n",
        "if 1 <= mes <= 12:\n",
        "    # Gera o calendário para o mês e ano fornecidos\n",
        "    calendario_mes = calendar.month(ano, mes)\n",
        "\n",
        "    # Exibe o calendário\n",
        "    print(f\"\\nCalendário de {calendar.month_name[mes]} de {ano}:\\n\")\n",
        "    print(calendario_mes)\n",
        "else:\n",
        "    print(\"Mês inválido. Por favor, insira um número entre 1 e 12.\")\n"
      ],
      "metadata": {
        "colab": {
          "base_uri": "https://localhost:8080/"
        },
        "id": "IbMFrrm_bl_t",
        "outputId": "6399a795-c5fe-4c06-e989-18cd1b02f579"
      },
      "execution_count": 73,
      "outputs": [
        {
          "output_type": "stream",
          "name": "stdout",
          "text": [
            "Digite o ano: 2024\n",
            "Digite o mês (número de 1 a 12): 3\n",
            "\n",
            "Calendário de March de 2024:\n",
            "\n",
            "     March 2024\n",
            "Mo Tu We Th Fr Sa Su\n",
            "             1  2  3\n",
            " 4  5  6  7  8  9 10\n",
            "11 12 13 14 15 16 17\n",
            "18 19 20 21 22 23 24\n",
            "25 26 27 28 29 30 31\n",
            "\n"
          ]
        }
      ]
    },
    {
      "cell_type": "markdown",
      "source": [
        "> Código para exibir o calendário de um determinado mês e ano, solicitado pelo usuário:\n",
        "\n",
        "### Explicação:\n",
        "\n",
        "1. **`input()`**: Solicita que o usuário insira o ano e o mês (número de 1 a 12).\n",
        "2. **`calendar.month(ano, mes)`**: Essa função do módulo `calendar` gera uma string que representa o calendário do mês e ano fornecidos.\n",
        "3. **Verificação do Mês**: Verificamos se o mês inserido está no intervalo correto (entre 1 e 12).\n",
        "4. **Exibição do Calendário**: Exibe o calendário do mês com o nome do mês por extenso.\n",
        "5. **`calendar.month_name[mes]`**: Obtém o nome do mês por extenso para exibir junto ao calendário.\n",
        "\n",
        "### Exemplo de Saída:\n",
        "\n",
        "```bash\n",
        "Digite o ano: 2025\n",
        "Digite o mês (número de 1 a 12): 10\n",
        "\n",
        "Calendário de October de 2025:\n",
        "\n",
        "    October 2025\n",
        "Mo Tu We Th Fr Sa Su\n",
        "       1  2  3  4  5\n",
        "  6  7  8  9 10 11 12\n",
        " 13 14 15 16 17 18 19\n",
        " 20 21 22 23 24 25 26\n",
        " 27 28 29 30 31\n",
        "```\n",
        "\n",
        "Se o usuário inserir um número de mês inválido (fora do intervalo de 1 a 12), o programa exibe uma mensagem de erro.\n",
        "\n",
        "### Melhorias possíveis:\n",
        "- Adicionar uma opção para o usuário tentar novamente caso insira um mês inválido.\n",
        "- Usar `try-except` para garantir que o usuário insira números válidos."
      ],
      "metadata": {
        "id": "j39MDW8OcX46"
      }
    },
    {
      "cell_type": "markdown",
      "source": [
        "---\n",
        "\n",
        "## **Exercício 7: Contagem Regressiva para uma Data**\n",
        "\n",
        "**Descrição:**\n",
        "\n",
        "Desenvolva um programa que informe quantos dias faltam para o próximo aniversário do usuário. Solicite a data de nascimento no formato `DD/MM`.\n",
        "\n",
        "**Dicas:**\n",
        "\n",
        "- Obtenha a data atual.\n",
        "- Crie um objeto `date` para o próximo aniversário.\n",
        "- Se o aniversário já tiver passado no ano corrente, ajuste o ano para o próximo ano.\n",
        "- Calcule a diferença em dias."
      ],
      "metadata": {
        "id": "SQy0x-rncXfb"
      }
    },
    {
      "cell_type": "code",
      "source": [
        "from datetime import datetime, date\n",
        "\n",
        "# Solicita a data de nascimento ao usuário no formato DD/MM\n",
        "data_nascimento_input = input(\"Digite sua data de nascimento (DD/MM): \")\n",
        "\n",
        "# Converte a string de entrada em dia e mês\n",
        "dia, mes = map(int, data_nascimento_input.split('/'))\n",
        "\n",
        "# Obtém a data atual\n",
        "hoje = date.today()\n",
        "\n",
        "# Cria um objeto `date` para o próximo aniversário\n",
        "# Inicialmente, consideramos o aniversário para o ano atual\n",
        "aniversario_ano_atual = date(hoje.year, mes, dia)\n",
        "\n",
        "# Se o aniversário já passou neste ano, ajusta para o ano seguinte\n",
        "if aniversario_ano_atual < hoje:\n",
        "    aniversario_ano_atual = date(hoje.year + 1, mes, dia)\n",
        "\n",
        "# Calcula a diferença em dias entre a data atual e o próximo aniversário\n",
        "dias_faltando = (aniversario_ano_atual - hoje).days\n",
        "\n",
        "# Exibe quantos dias faltam para o próximo aniversário\n",
        "print(f\"Faltam {dias_faltando} dias para o seu próximo aniversário.\")\n"
      ],
      "metadata": {
        "colab": {
          "base_uri": "https://localhost:8080/"
        },
        "id": "idy2wvgBcOYu",
        "outputId": "188856a1-b61a-4c33-862e-2080113575f5"
      },
      "execution_count": 74,
      "outputs": [
        {
          "output_type": "stream",
          "name": "stdout",
          "text": [
            "Digite sua data de nascimento (DD/MM): 25/01\n",
            "Faltam 96 dias para o seu próximo aniversário.\n"
          ]
        }
      ]
    },
    {
      "cell_type": "markdown",
      "source": [
        "### Explicação:\n",
        "\n",
        "1. **`input()`**: Solicita ao usuário a data de nascimento no formato `DD/MM`.\n",
        "2. **`map()` e `split()`**: Converte a string de entrada em dois inteiros, `dia` e `mês`, separados pela barra `/`.\n",
        "3. **`date.today()`**: Obtém a data atual como um objeto `date`.\n",
        "4. **Criação do objeto `date` para o aniversário**:\n",
        "   - Criamos inicialmente o próximo aniversário com base no ano atual.\n",
        "   - Se o aniversário já tiver passado no ano atual, ajustamos o ano para o próximo ano.\n",
        "5. **Cálculo da diferença em dias**: Subtraímos a data de hoje da data do próximo aniversário, o que resulta em um objeto `timedelta`. O atributo `.days` nos dá o número de dias de diferença.\n",
        "6. **Exibição**: O programa exibe quantos dias faltam para o próximo aniversário.\n",
        "\n",
        "### Exemplo de Saída:\n",
        "\n",
        "```bash\n",
        "Digite sua data de nascimento (DD/MM): 15/10\n",
        "Faltam 365 dias para o seu próximo aniversário.\n",
        "```\n",
        "\n",
        "Se o aniversário já tiver passado no ano atual, o programa considera o próximo ano.\n",
        "\n",
        "### Melhorias possíveis:\n",
        "- Permitir que o usuário insira o ano também para calcular a idade, se necessário.\n",
        "- Personalizar a mensagem se o aniversário for \"hoje\"."
      ],
      "metadata": {
        "id": "OXh7FyxEc0e3"
      }
    },
    {
      "cell_type": "markdown",
      "source": [
        "---\n",
        "\n",
        "## **Exercício 8: Adicionando Dias a uma Data**\n",
        "\n",
        "**Descrição:**\n",
        "\n",
        "Crie um programa que solicite ao usuário uma data no formato `DD/MM/AAAA` e um número de dias. O programa deve exibir a data resultante após adicionar os dias informados.\n",
        "\n",
        "**Dicas:**\n",
        "\n",
        "- Converta a data em um objeto `date`.\n",
        "- Utilize um objeto `timedelta` para representar o número de dias.\n",
        "- Some o `timedelta` à data inicial."
      ],
      "metadata": {
        "id": "thOGJm4jc5BU"
      }
    },
    {
      "cell_type": "code",
      "source": [
        "from datetime import datetime, timedelta\n",
        "\n",
        "# Solicita a data inicial ao usuário no formato DD/MM/AAAA\n",
        "data_inicial_input = input(\"Digite uma data no formato DD/MM/AAAA: \")\n",
        "\n",
        "# Solicita o número de dias a ser adicionado\n",
        "dias = int(input(\"Digite o número de dias a ser adicionado: \"))\n",
        "\n",
        "# Converte a string de entrada em um objeto datetime\n",
        "data_inicial = datetime.strptime(data_inicial_input, \"%d/%m/%Y\").date()\n",
        "\n",
        "# Cria um objeto timedelta com o número de dias fornecido\n",
        "adicionar_dias = timedelta(days=dias)\n",
        "\n",
        "# Soma o timedelta à data inicial\n",
        "data_resultante = data_inicial + adicionar_dias\n",
        "\n",
        "# Exibe a data resultante\n",
        "print(f\"A data resultante após adicionar {dias} dias é: {data_resultante.strftime('%d/%m/%Y')}\")\n"
      ],
      "metadata": {
        "colab": {
          "base_uri": "https://localhost:8080/"
        },
        "id": "FDSMUslLcuPj",
        "outputId": "fbb04134-bd5a-49e2-eabd-01a119cb5a08"
      },
      "execution_count": 76,
      "outputs": [
        {
          "output_type": "stream",
          "name": "stdout",
          "text": [
            "Digite uma data no formato DD/MM/AAAA: 25/01/1997\n",
            "Digite o número de dias a ser adicionado: 3650\n",
            "A data resultante após adicionar 3650 dias é: 23/01/2007\n"
          ]
        }
      ]
    },
    {
      "cell_type": "markdown",
      "source": [
        "### Explicação:\n",
        "\n",
        "1. **`input()`**: Solicita que o usuário insira uma data no formato `DD/MM/AAAA` e o número de dias a ser adicionado.\n",
        "2. **`datetime.strptime()`**: Converte a string da data fornecida em um objeto `datetime` usando o formato `\"%d/%m/%Y\"`.\n",
        "3. **`timedelta()`**: Cria um objeto `timedelta` que representa o número de dias a ser adicionado.\n",
        "4. **Soma**: A operação `data_inicial + adicionar_dias` soma o objeto `timedelta` à data inicial.\n",
        "5. **`strftime()`**: Formata a data resultante para exibir no formato `DD/MM/AAAA`.\n",
        "\n",
        "### Exemplo de Saída:\n",
        "\n",
        "```bash\n",
        "Digite uma data no formato DD/MM/AAAA: 15/10/2023\n",
        "Digite o número de dias a ser adicionado: 30\n",
        "A data resultante após adicionar 30 dias é: 14/11/2023\n",
        "```\n",
        "\n",
        "### Melhorias possíveis:\n",
        "- Permitir a subtração de dias, caso o usuário forneça um número negativo.\n",
        "- Tratar exceções, como datas inválidas ou entradas incorretas."
      ],
      "metadata": {
        "id": "AkfsjyARdTfr"
      }
    },
    {
      "cell_type": "markdown",
      "source": [
        "---\n",
        "\n",
        "## **Exercício 9: Horário com Fuso Horário**\n",
        "\n",
        "**Descrição:**\n",
        "\n",
        "Escreva um programa que exiba a hora atual em diferentes fusos horários: horário de Brasília, GMT e Nova York.\n",
        "\n",
        "**Dicas:**\n",
        "\n",
        "- Use o módulo `pytz` (pode ser necessário instalá-lo com `pip install pytz`).\n",
        "- Utilize os fusos horários apropriados, como `'America/Sao_Paulo'`, `'GMT'`, e `'America/New_York'`.\n",
        "- Obtenha a hora atual em cada fuso horário."
      ],
      "metadata": {
        "id": "g7lYMI3qdbZ7"
      }
    },
    {
      "cell_type": "code",
      "source": [
        "from datetime import datetime\n",
        "import pytz\n",
        "\n",
        "# Definindo os fusos horários\n",
        "fuso_brasilia = pytz.timezone('America/Sao_Paulo')\n",
        "fuso_gmt = pytz.timezone('GMT')\n",
        "fuso_nova_york = pytz.timezone('America/New_York')\n",
        "\n",
        "# Obtendo a hora atual em cada fuso horário\n",
        "hora_brasilia = datetime.now(fuso_brasilia)\n",
        "hora_gmt = datetime.now(fuso_gmt)\n",
        "hora_nova_york = datetime.now(fuso_nova_york)\n",
        "\n",
        "# Exibindo a hora atual em cada fuso horário\n",
        "print(\"Hora em Brasília:\", hora_brasilia.strftime('%H:%M:%S'))\n",
        "print(\"Hora em GMT:\", hora_gmt.strftime('%H:%M:%S'))\n",
        "print(\"Hora em Nova York:\", hora_nova_york.strftime('%H:%M:%S'))"
      ],
      "metadata": {
        "colab": {
          "base_uri": "https://localhost:8080/"
        },
        "id": "X9Z2UmSddC_k",
        "outputId": "87ded539-0ade-44a4-9122-8a5b6e685db8"
      },
      "execution_count": 77,
      "outputs": [
        {
          "output_type": "stream",
          "name": "stdout",
          "text": [
            "Hora em Brasília: 21:24:53\n",
            "Hora em GMT: 00:24:53\n",
            "Hora em Nova York: 20:24:53\n"
          ]
        }
      ]
    },
    {
      "cell_type": "markdown",
      "source": [
        "### Explicação:\n",
        "\n",
        "1. **Módulo `pytz`**: Esse módulo é utilizado para lidar com fusos horários no Python.\n",
        "2. **Definição dos fusos horários**:\n",
        "   - **`America/Sao_Paulo`**: Fuso horário de Brasília.\n",
        "   - **`GMT`**: Fuso horário do Meridiano de Greenwich.\n",
        "   - **`America/New_York`**: Fuso horário de Nova York.\n",
        "3. **`datetime.now(fuso)`**: Obtém a data e hora atuais para o fuso horário especificado.\n",
        "4. **`strftime('%H:%M:%S')`**: Formata a hora para ser exibida no formato `HH:MM:SS`.\n",
        "\n",
        "### Exemplo de Saída:\n",
        "\n",
        "```bash\n",
        "Hora em Brasília: 14:30:45\n",
        "Hora em GMT: 17:30:45\n",
        "Hora em Nova York: 12:30:45\n",
        "```\n",
        "\n",
        "### Dicas Extras:\n",
        "- Se você ainda não tiver o módulo `pytz` instalado, poderá instalá-lo com o comando:\n",
        "  ```bash\n",
        "  pip install pytz\n",
        "  ```"
      ],
      "metadata": {
        "id": "07UZocDAd2A9"
      }
    },
    {
      "cell_type": "markdown",
      "source": [
        "---\n",
        "\n",
        "## **Exercício 10: Cronômetro Simples**\n",
        "\n",
        "**Descrição:**\n",
        "\n",
        "Desenvolva um programa que funcione como um cronômetro. O usuário aperta Enter para iniciar e parar o cronômetro. O programa deve exibir o tempo total decorrido em segundos.\n",
        "\n",
        "**Dicas:**\n",
        "\n",
        "- Use a função `time.time()` do módulo `time` para capturar o tempo atual em segundos.\n",
        "- Aguarde o usuário pressionar Enter para iniciar e parar.\n",
        "- Calcule a diferença entre os tempos para obter o tempo decorrido.\n",
        "\n",
        "---\n",
        "\n",
        "# Referências\n",
        "> Consulte [Python Datetime - Exercises, Practice, Solution](https://www.w3resource.com/python-exercises/date-time-exercise/index.php) para obter exercícios e recursos para se trabalhar com datas no Python."
      ],
      "metadata": {
        "id": "4woNyKILdqFJ"
      }
    },
    {
      "cell_type": "code",
      "source": [
        "import time\n",
        "\n",
        "# Solicita ao usuário que pressione Enter para iniciar o cronômetro\n",
        "input(\"Pressione Enter para iniciar o cronômetro\")\n",
        "\n",
        "# Captura o tempo inicial\n",
        "tempo_inicial = time.time()\n",
        "\n",
        "# Solicita ao usuário que pressione Enter novamente para parar o cronômetro\n",
        "input(\"Pressione Enter novamente para parar o cronômetro\")\n",
        "\n",
        "# Captura o tempo final\n",
        "tempo_final = time.time()\n",
        "\n",
        "# Calcula o tempo decorrido em segundos\n",
        "tempo_decorrido = tempo_final - tempo_inicial\n",
        "\n",
        "# Exibe o tempo total decorrido\n",
        "print(f\"Tempo decorrido: {tempo_decorrido:.2f} segundos\")\n"
      ],
      "metadata": {
        "colab": {
          "base_uri": "https://localhost:8080/"
        },
        "id": "WFUESOwKdqej",
        "outputId": "1c21c042-d12a-4b94-cf23-879a365b1830"
      },
      "execution_count": 78,
      "outputs": [
        {
          "output_type": "stream",
          "name": "stdout",
          "text": [
            "Pressione Enter para iniciar o cronômetro\n",
            "Pressione Enter novamente para parar o cronômetro\n",
            "Tempo decorrido: 4.01 segundos\n"
          ]
        }
      ]
    }
  ]
}