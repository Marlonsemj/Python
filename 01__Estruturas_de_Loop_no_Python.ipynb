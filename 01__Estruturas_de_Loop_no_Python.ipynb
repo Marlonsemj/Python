{
  "nbformat": 4,
  "nbformat_minor": 0,
  "metadata": {
    "colab": {
      "provenance": [],
      "authorship_tag": "ABX9TyMYK3yGR1hRqEkpBsB6RxAW",
      "include_colab_link": true
    },
    "kernelspec": {
      "name": "python3",
      "display_name": "Python 3"
    },
    "language_info": {
      "name": "python"
    }
  },
  "cells": [
    {
      "cell_type": "markdown",
      "metadata": {
        "id": "view-in-github",
        "colab_type": "text"
      },
      "source": [
        "<a href=\"https://colab.research.google.com/github/Marlonsemj/Python/blob/main/01__Estruturas_de_Loop_no_Python.ipynb\" target=\"_parent\"><img src=\"https://colab.research.google.com/assets/colab-badge.svg\" alt=\"Open In Colab\"/></a>"
      ]
    },
    {
      "cell_type": "markdown",
      "source": [
        "-----\n",
        "# **While**\n",
        "> Usamos \"while\" (Loops) quando desejamos que algumas instruções sejam executadas várias vezes."
      ],
      "metadata": {
        "id": "CnkCAmCj_FyK"
      }
    },
    {
      "cell_type": "code",
      "execution_count": null,
      "metadata": {
        "id": "S0rqYNZV-lMG"
      },
      "outputs": [],
      "source": [
        "# Não executar o code a seguir:\n",
        "while condicao:\n",
        "    <bloco de código caso condicao for verdade>\n",
        "    break/continue\n",
        "\n",
        "<Bloco de código a ser executado após o while>"
      ]
    },
    {
      "cell_type": "markdown",
      "source": [
        "## Exemplo 1"
      ],
      "metadata": {
        "id": "_MNE_j1X_nNj"
      }
    },
    {
      "cell_type": "code",
      "source": [
        "i_numero = 10\n",
        "i_soma = 0\n",
        "\n",
        "while i_numero > 0:\n",
        "    i_soma+= i_numero # Equivalente a i_soma = i_soma + i_numero\n",
        "    print(f'Número: {i_numero} --> soma: {i_soma}')\n",
        "    i_numero-= 1 # Equivalente a i_numero = i_numero - 1"
      ],
      "metadata": {
        "colab": {
          "base_uri": "https://localhost:8080/"
        },
        "id": "2yv84xMb_k2R",
        "outputId": "79a82f4e-eccf-4e4f-aa39-d4c314a06396"
      },
      "execution_count": 1,
      "outputs": [
        {
          "output_type": "stream",
          "name": "stdout",
          "text": [
            "Número: 10 --> soma: 10\n",
            "Número: 9 --> soma: 19\n",
            "Número: 8 --> soma: 27\n",
            "Número: 7 --> soma: 34\n",
            "Número: 6 --> soma: 40\n",
            "Número: 5 --> soma: 45\n",
            "Número: 4 --> soma: 49\n",
            "Número: 3 --> soma: 52\n",
            "Número: 2 --> soma: 54\n",
            "Número: 1 --> soma: 55\n"
          ]
        }
      ]
    },
    {
      "cell_type": "markdown",
      "source": [
        "*`Começamos com i_numero 10; Enquanto i_numero fosse maior que 0 a soma seguiria`*\n",
        "\n",
        "------\n",
        "##Exemplo 2"
      ],
      "metadata": {
        "id": "XPKYjtfvAz6R"
      }
    },
    {
      "cell_type": "code",
      "source": [
        "i_numero= 10\n",
        "i_soma= 0\n",
        "\n",
        "while i_numero > 0:\n",
        "    i_soma+= i_numero # Equivalente a i_soma = i_soma + i_numero\n",
        "    print(f'Número: {i_numero} --> Soma: {i_soma}')\n",
        "    i_numero -= 1 # Equivalente a i_numero = i_numero - 1\n",
        "\n",
        "# Parte nova:\n",
        "    if i_numero < 5: # Se i_numero < 5, fim do while com break (forçando a saída do while e imprimindo o que está em \"print\")\n",
        "        print(f'i_numero < 5 --> Chegamos ao fim do while loop!')\n",
        "        break # Força a saida do Loop While"
      ],
      "metadata": {
        "colab": {
          "base_uri": "https://localhost:8080/"
        },
        "id": "u80jsjU3Anac",
        "outputId": "778022a9-97eb-40c0-81f4-bb866cb94f5f"
      },
      "execution_count": 2,
      "outputs": [
        {
          "output_type": "stream",
          "name": "stdout",
          "text": [
            "Número: 10 --> Soma: 10\n",
            "Número: 9 --> Soma: 19\n",
            "Número: 8 --> Soma: 27\n",
            "Número: 7 --> Soma: 34\n",
            "Número: 6 --> Soma: 40\n",
            "Número: 5 --> Soma: 45\n",
            "i_numero < 5 --> Chegamos ao fim do while loop!\n"
          ]
        }
      ]
    },
    {
      "cell_type": "markdown",
      "source": [
        "------\n",
        "## Exemplo 3"
      ],
      "metadata": {
        "id": "8arzc-XrCEhK"
      }
    },
    {
      "cell_type": "code",
      "source": [
        "i_numero= 10\n",
        "i_soma= 0\n",
        "\n",
        "while i_numero > 0:\n",
        "    i_numero -= 1 # Equivalente a i_numero = i_numero - 1\n",
        "\n",
        "# Agora teremos um \"continue\"\n",
        "    if i_numero == 5:\n",
        "        print(f'i_numero == 5 --> Não faz nada!')\n",
        "        continue # Esse statement força o início do while loop.\n",
        "\n",
        "    i_soma+= i_numero # Equivalente a i_soma = i_soma + i_numero\n",
        "    print(f'Número: {i_numero} --> Soma: {i_soma}')"
      ],
      "metadata": {
        "colab": {
          "base_uri": "https://localhost:8080/"
        },
        "id": "HPWme-3CB9-h",
        "outputId": "deaabe97-dae2-4d19-d56b-2ca533834373"
      },
      "execution_count": 3,
      "outputs": [
        {
          "output_type": "stream",
          "name": "stdout",
          "text": [
            "Número: 9 --> Soma: 9\n",
            "Número: 8 --> Soma: 17\n",
            "Número: 7 --> Soma: 24\n",
            "Número: 6 --> Soma: 30\n",
            "i_numero == 5 --> Não faz nada!\n",
            "Número: 4 --> Soma: 34\n",
            "Número: 3 --> Soma: 37\n",
            "Número: 2 --> Soma: 39\n",
            "Número: 1 --> Soma: 40\n",
            "Número: 0 --> Soma: 40\n"
          ]
        }
      ]
    },
    {
      "cell_type": "markdown",
      "source": [
        "-----\n",
        "# **For**\n",
        "> Usado nos casos em que queremos iterar os elementos de uma sequência."
      ],
      "metadata": {
        "id": "CrEHC6iiCYhA"
      }
    },
    {
      "cell_type": "code",
      "source": [
        "# Não executar o code a seguir:\n",
        "for condicao:\n",
        "    <bloco de código caso condicao for verdade>\n",
        "    break/continue"
      ],
      "metadata": {
        "id": "xArU6h_RCPhX"
      },
      "execution_count": null,
      "outputs": []
    },
    {
      "cell_type": "markdown",
      "source": [
        "## Exemplo 1"
      ],
      "metadata": {
        "id": "FB1rYh58CeJB"
      }
    },
    {
      "cell_type": "code",
      "source": [
        "# Definir nossa sequência - No nosso caso, a sequência é uma lista:\n",
        "l_vogais= ['a', 'e', 'i', 'o', 'u'] # [] = Lista, deve conter separadores com \",\"; \"l\" de \"lista\"\n",
        "\n",
        "for l_letra in l_vogais:  # para cada letra...\n",
        "    print(f'Vogal: {l_letra}')"
      ],
      "metadata": {
        "colab": {
          "base_uri": "https://localhost:8080/"
        },
        "id": "mXKFdZYTChfp",
        "outputId": "5b49a751-9727-4996-81a4-f824cf6d646a"
      },
      "execution_count": 4,
      "outputs": [
        {
          "output_type": "stream",
          "name": "stdout",
          "text": [
            "Vogal: a\n",
            "Vogal: e\n",
            "Vogal: i\n",
            "Vogal: o\n",
            "Vogal: u\n"
          ]
        }
      ]
    },
    {
      "cell_type": "markdown",
      "source": [
        "## Exemplo 2"
      ],
      "metadata": {
        "id": "B33RdLo1DFSZ"
      }
    },
    {
      "cell_type": "code",
      "source": [
        "# Definir nossa sequência - No nosso caso, a sequência é uma lista:\n",
        "s_frase = 'Data Science é demais!' # \"S\" de String\n",
        "\n",
        "for l_letra in s_frase: # Para cada letra que faz parte de s_frase\n",
        "    print(f'{l_letra}')   # Print f'Strint'"
      ],
      "metadata": {
        "colab": {
          "base_uri": "https://localhost:8080/"
        },
        "collapsed": true,
        "id": "F1CO8FnWDECt",
        "outputId": "d074ed6a-8465-4bec-94ce-f4ce88810c71"
      },
      "execution_count": 5,
      "outputs": [
        {
          "output_type": "stream",
          "name": "stdout",
          "text": [
            "D\n",
            "a\n",
            "t\n",
            "a\n",
            " \n",
            "S\n",
            "c\n",
            "i\n",
            "e\n",
            "n\n",
            "c\n",
            "e\n",
            " \n",
            "é\n",
            " \n",
            "d\n",
            "e\n",
            "m\n",
            "a\n",
            "i\n",
            "s\n",
            "!\n"
          ]
        }
      ]
    },
    {
      "cell_type": "markdown",
      "source": [
        "-----\n",
        "# Função range() = np.arange\n",
        "> A função range(inicio, fim, step) gera uma sequência.\n",
        "> A função numpy.arange(inicio, fim, step) faz a mesma coisa que a função range.\n",
        "\n",
        "- O range é uma forma eficiente de gerar uma sequência de números para iteração.\n",
        "- Você pode definir o valor inicial, final (não inclusivo) e o intervalo entre os números (passo).\n",
        "\n",
        "`Considere os exemplos a seguir:`"
      ],
      "metadata": {
        "id": "9jzokW92Dj1R"
      }
    },
    {
      "cell_type": "code",
      "source": [
        "list(range(10)) # range(K) gera a sequência 0, 1, ..., K-1."
      ],
      "metadata": {
        "colab": {
          "base_uri": "https://localhost:8080/"
        },
        "id": "JKaT7QQ3DZ2C",
        "outputId": "f9c94471-8942-4144-b861-b8ad2de621a2"
      },
      "execution_count": 6,
      "outputs": [
        {
          "output_type": "execute_result",
          "data": {
            "text/plain": [
              "[0, 1, 2, 3, 4, 5, 6, 7, 8, 9]"
            ]
          },
          "metadata": {},
          "execution_count": 6
        }
      ]
    },
    {
      "cell_type": "code",
      "source": [
        "list(range(2, 10)) # Gera a sequência 2, 3, ..., 9."
      ],
      "metadata": {
        "colab": {
          "base_uri": "https://localhost:8080/"
        },
        "id": "kTDJxbe5D9vF",
        "outputId": "cabb5a52-50c3-4c1d-973b-a1d5b54ba5d5"
      },
      "execution_count": 7,
      "outputs": [
        {
          "output_type": "execute_result",
          "data": {
            "text/plain": [
              "[2, 3, 4, 5, 6, 7, 8, 9]"
            ]
          },
          "metadata": {},
          "execution_count": 7
        }
      ]
    },
    {
      "cell_type": "code",
      "source": [
        "list(range(0, 10, 2)) # Gera a sequência 0, 2, 4, 6, 8. (vai de 2 em 2 ---> Pares)"
      ],
      "metadata": {
        "colab": {
          "base_uri": "https://localhost:8080/"
        },
        "id": "Vq8b4NlFEFAm",
        "outputId": "d745fa6a-78d4-46ae-8e08-9e5c9b3853d4"
      },
      "execution_count": 8,
      "outputs": [
        {
          "output_type": "execute_result",
          "data": {
            "text/plain": [
              "[0, 2, 4, 6, 8]"
            ]
          },
          "metadata": {},
          "execution_count": 8
        }
      ]
    },
    {
      "cell_type": "markdown",
      "source": [
        "*`Porque a sequência acima não vai até 10?`*"
      ],
      "metadata": {
        "id": "G8NyohBsEVQp"
      }
    },
    {
      "cell_type": "code",
      "source": [
        "list(range(10, 0, -1)) # Gera sequência 10, 9, 8, ..., 1 ---> Decrescente por conta do -1"
      ],
      "metadata": {
        "colab": {
          "base_uri": "https://localhost:8080/"
        },
        "id": "H0tPg8UAERyA",
        "outputId": "b570ac51-2b12-4116-94ba-498bdb51ff17"
      },
      "execution_count": 10,
      "outputs": [
        {
          "output_type": "execute_result",
          "data": {
            "text/plain": [
              "[10, 9, 8, 7, 6, 5, 4, 3, 2, 1]"
            ]
          },
          "metadata": {},
          "execution_count": 10
        }
      ]
    },
    {
      "cell_type": "code",
      "source": [
        "list(range(10, 0, -2)) # Início (limite inferior), Fim (limite superior), Passo (forma ou método)"
      ],
      "metadata": {
        "colab": {
          "base_uri": "https://localhost:8080/"
        },
        "id": "U3cqcS3gEnUi",
        "outputId": "ca1de45c-e451-439f-e4dd-7c9a0b48f6e0"
      },
      "execution_count": 12,
      "outputs": [
        {
          "output_type": "execute_result",
          "data": {
            "text/plain": [
              "[10, 8, 6, 4, 2]"
            ]
          },
          "metadata": {},
          "execution_count": 12
        }
      ]
    },
    {
      "cell_type": "code",
      "source": [
        "list(range(10,0))"
      ],
      "metadata": {
        "colab": {
          "base_uri": "https://localhost:8080/"
        },
        "id": "BCDg8qAvEyRU",
        "outputId": "90a8d1e4-cf67-4ac8-b586-79e92e51b561"
      },
      "execution_count": 13,
      "outputs": [
        {
          "output_type": "execute_result",
          "data": {
            "text/plain": [
              "[]"
            ]
          },
          "metadata": {},
          "execution_count": 13
        }
      ]
    },
    {
      "cell_type": "markdown",
      "source": [
        "O comando `list(range(10, 0))` resulta em uma lista vazia porque o `range` em Python funciona, por padrão, com uma contagem crescente. Ele começa no primeiro número especificado (no caso, 10) e tenta alcançar o segundo número (no caso, 0), mas sem que haja uma instrução para contar para trás, como seria esperado neste caso.\n",
        "\n",
        "Para corrigir isso, você deve fornecer o passo como -1, indicando que a contagem deve ser decrescente. O comando correto seria:\n",
        "\n",
        "```python\n",
        "list(range(10, 0, -1))\n",
        "```\n",
        "\n",
        "Isso produzirá a lista: `[10, 9, 8, 7, 6, 5, 4, 3, 2, 1]`."
      ],
      "metadata": {
        "id": "AB4Gc5VeFNca"
      }
    },
    {
      "cell_type": "code",
      "source": [
        "list(range(10, 0, -1))"
      ],
      "metadata": {
        "colab": {
          "base_uri": "https://localhost:8080/"
        },
        "id": "KqhDsT5KE-zw",
        "outputId": "dddc52fc-9000-4c50-fc0f-5e08ba7192ad"
      },
      "execution_count": 15,
      "outputs": [
        {
          "output_type": "execute_result",
          "data": {
            "text/plain": [
              "[10, 9, 8, 7, 6, 5, 4, 3, 2, 1]"
            ]
          },
          "metadata": {},
          "execution_count": 15
        }
      ]
    },
    {
      "cell_type": "markdown",
      "source": [
        "## Exemplo 3\n",
        "\n",
        "*Ok, agora que entendemos como funciona a função range() = np.arange, vamos ao For Loop:*"
      ],
      "metadata": {
        "id": "QmD11QZ2FUzT"
      }
    },
    {
      "cell_type": "code",
      "source": [
        "for i_numero in range(10):\n",
        "    print(f'{i_numero}')"
      ],
      "metadata": {
        "colab": {
          "base_uri": "https://localhost:8080/"
        },
        "id": "MsARqU6TFBJa",
        "outputId": "97440f36-bde8-469f-8fcd-4ca59438d44b"
      },
      "execution_count": 16,
      "outputs": [
        {
          "output_type": "stream",
          "name": "stdout",
          "text": [
            "0\n",
            "1\n",
            "2\n",
            "3\n",
            "4\n",
            "5\n",
            "6\n",
            "7\n",
            "8\n",
            "9\n"
          ]
        }
      ]
    },
    {
      "cell_type": "markdown",
      "source": [
        "Dissemos que range() = np.arange. Veja abaixo, por exemplo, usando o método np.arange():"
      ],
      "metadata": {
        "id": "dSkrC2bzFpmS"
      }
    },
    {
      "cell_type": "markdown",
      "source": [
        "## Exemplo 4"
      ],
      "metadata": {
        "id": "putHhoWhFsns"
      }
    },
    {
      "cell_type": "code",
      "source": [
        "for i_numero in [0, 2, 4, 6, 8, 10]:\n",
        "    print(f'{i_numero}')"
      ],
      "metadata": {
        "colab": {
          "base_uri": "https://localhost:8080/"
        },
        "id": "I35zHOt-FlG6",
        "outputId": "152bb1a2-5919-4b48-d185-4e741ff73142"
      },
      "execution_count": 17,
      "outputs": [
        {
          "output_type": "stream",
          "name": "stdout",
          "text": [
            "0\n",
            "2\n",
            "4\n",
            "6\n",
            "8\n",
            "10\n"
          ]
        }
      ]
    },
    {
      "cell_type": "markdown",
      "source": [
        "## Exemplo 5"
      ],
      "metadata": {
        "id": "Kg8Bi6noF2z0"
      }
    },
    {
      "cell_type": "code",
      "source": [
        "# Lista de países\n",
        "l_paises = ['Brasil', 'Argentina', 'China', 'Canadá', 'Japão', 'EUA', 'Nova Zelândia']"
      ],
      "metadata": {
        "id": "LZ2eDS3TFzJ9"
      },
      "execution_count": 18,
      "outputs": []
    },
    {
      "cell_type": "code",
      "source": [
        "len(l_paises) # Analisar o tamanho da lista (por elementos)"
      ],
      "metadata": {
        "colab": {
          "base_uri": "https://localhost:8080/"
        },
        "id": "F-gb__gcGJA2",
        "outputId": "2c7d07fd-1a9d-4d10-e3eb-1877f98cebb0"
      },
      "execution_count": 20,
      "outputs": [
        {
          "output_type": "execute_result",
          "data": {
            "text/plain": [
              "7"
            ]
          },
          "metadata": {},
          "execution_count": 20
        }
      ]
    },
    {
      "cell_type": "code",
      "source": [
        "range(len(l_paises))"
      ],
      "metadata": {
        "colab": {
          "base_uri": "https://localhost:8080/"
        },
        "id": "RdjSweRSGMop",
        "outputId": "5428c31c-8371-448d-e51b-12d999096a08"
      },
      "execution_count": 21,
      "outputs": [
        {
          "output_type": "execute_result",
          "data": {
            "text/plain": [
              "range(0, 7)"
            ]
          },
          "metadata": {},
          "execution_count": 21
        }
      ]
    },
    {
      "cell_type": "code",
      "source": [
        "list(range(len(l_paises)))"
      ],
      "metadata": {
        "colab": {
          "base_uri": "https://localhost:8080/"
        },
        "id": "aLfpvuEtGZKB",
        "outputId": "a95775e9-068c-4dae-8166-ca04f0b1cd41"
      },
      "execution_count": 22,
      "outputs": [
        {
          "output_type": "execute_result",
          "data": {
            "text/plain": [
              "[0, 1, 2, 3, 4, 5, 6]"
            ]
          },
          "metadata": {},
          "execution_count": 22
        }
      ]
    },
    {
      "cell_type": "code",
      "source": [
        "# E o que são esses números acima?\n",
        "\n",
        "for i_pais in range(len(l_paises)): # para cara i_pais no renge(len(l_paises)): range(0,7)\n",
        "    print(f'{l_paises[i_pais]}')      # imprima o l_pais da lista [i_pais]"
      ],
      "metadata": {
        "colab": {
          "base_uri": "https://localhost:8080/"
        },
        "id": "Jnz-EI5hGeFF",
        "outputId": "39cf16b9-6161-46df-ef5b-708f31a637af"
      },
      "execution_count": 24,
      "outputs": [
        {
          "output_type": "stream",
          "name": "stdout",
          "text": [
            "Brasil\n",
            "Argentina\n",
            "China\n",
            "Canadá\n",
            "Japão\n",
            "EUA\n",
            "Nova Zelândia\n"
          ]
        }
      ]
    },
    {
      "cell_type": "code",
      "source": [
        "l_paises[0]"
      ],
      "metadata": {
        "colab": {
          "base_uri": "https://localhost:8080/",
          "height": 35
        },
        "id": "5Xo498jUGlcm",
        "outputId": "808939fd-2833-47e1-b1a5-3834ba0a1238"
      },
      "execution_count": 26,
      "outputs": [
        {
          "output_type": "execute_result",
          "data": {
            "text/plain": [
              "'Brasil'"
            ],
            "application/vnd.google.colaboratory.intrinsic+json": {
              "type": "string"
            }
          },
          "metadata": {},
          "execution_count": 26
        }
      ]
    },
    {
      "cell_type": "code",
      "source": [
        "l_paises[3]"
      ],
      "metadata": {
        "colab": {
          "base_uri": "https://localhost:8080/",
          "height": 35
        },
        "id": "YCJNcSlYHCbi",
        "outputId": "cf8cfbcd-d9f1-4bb6-a1c0-bf61ab421d31"
      },
      "execution_count": 36,
      "outputs": [
        {
          "output_type": "execute_result",
          "data": {
            "text/plain": [
              "'Canadá'"
            ],
            "application/vnd.google.colaboratory.intrinsic+json": {
              "type": "string"
            }
          },
          "metadata": {},
          "execution_count": 36
        }
      ]
    },
    {
      "cell_type": "code",
      "source": [
        "l_paises[6]"
      ],
      "metadata": {
        "colab": {
          "base_uri": "https://localhost:8080/",
          "height": 35
        },
        "id": "a6rcvjpcHH8w",
        "outputId": "61132830-6cca-4364-852d-c3a0a453e2a4"
      },
      "execution_count": 28,
      "outputs": [
        {
          "output_type": "execute_result",
          "data": {
            "text/plain": [
              "'Nova Zelândia'"
            ],
            "application/vnd.google.colaboratory.intrinsic+json": {
              "type": "string"
            }
          },
          "metadata": {},
          "execution_count": 28
        }
      ]
    },
    {
      "cell_type": "markdown",
      "source": [
        "### Observação:\n",
        "* A ideia dos intervalos é:\n",
        "\n",
        "$$[inicio, fim) = [inicio, fim [$$\n",
        "\n",
        "Ou seja, fim não pertence ao intervalo."
      ],
      "metadata": {
        "id": "cp9dcv4_HkXy"
      }
    },
    {
      "cell_type": "markdown",
      "source": [
        "## Exemplo 6"
      ],
      "metadata": {
        "id": "AMPVcVuiHo_3"
      }
    },
    {
      "cell_type": "code",
      "source": [
        "for i_pais in range(len(l_paises)):\n",
        "    print(f'{l_paises[i_pais]}')\n",
        "    if l_paises[i_pais]== 'EUA':\n",
        "        break"
      ],
      "metadata": {
        "colab": {
          "base_uri": "https://localhost:8080/"
        },
        "id": "1RvCRpBaHLaH",
        "outputId": "c851cbb8-389f-4808-81ac-6d065f02d478"
      },
      "execution_count": 37,
      "outputs": [
        {
          "output_type": "stream",
          "name": "stdout",
          "text": [
            "Brasil\n",
            "Argentina\n",
            "China\n",
            "Canadá\n",
            "Japão\n",
            "EUA\n"
          ]
        }
      ]
    },
    {
      "cell_type": "markdown",
      "source": [
        "___\n",
        "# Exercícios\n",
        "\n",
        "Esses exercícios abrangem uma variedade de aplicações das **estruturas de loop** em Python, incluindo o uso de `for` e `while`, loops aninhados, controle de fluxo com `break` e `continue`, e técnicas para evitar loops infinitos. Ao praticar com esses exemplos, você fortalecerá sua compreensão sobre como utilizar loops de forma eficaz e escrever código mais eficiente.\n",
        "\n",
        "Bom estudo e boa codificação!\n",
        "\n",
        "---\n",
        "\n",
        "## **Exercício 1: Somatório de Números**\n",
        "\n",
        "**Descrição:**\n",
        "\n",
        "Escreva um programa que solicite ao usuário um número inteiro positivo `n` e calcule a soma de todos os números de 1 até `n`.\n",
        "\n",
        "**Exemplo:**\n",
        "\n",
        "Se o usuário inserir `5`, o programa deve calcular `1 + 2 + 3 + 4 + 5` e exibir `A soma é 15`.\n",
        "\n",
        "**Dicas:**\n",
        "\n",
        "- Use um loop `for` ou `while` para iterar pelos números.\n",
        "- Inicialize uma variável acumuladora para armazenar a soma.\n",
        "- Certifique-se de que o usuário insira um número positivo."
      ],
      "metadata": {
        "id": "GTYCtLDyH6MJ"
      }
    },
    {
      "cell_type": "code",
      "source": [
        "# Solicita ao usuário um número inteiro positivo\n",
        "i_n = int(input(\"Digite um número inteiro positivo: \"))\n",
        "\n",
        "# Verifica se o número é positivo\n",
        "if i_n > 0:\n",
        "    # Inicializa a variável acumuladora\n",
        "    soma = 0\n",
        "\n",
        "    # Loop para somar os números de 1 até n\n",
        "    for i in range(1, i_n + 1):\n",
        "        soma += i\n",
        "\n",
        "    # Exibe o resultado\n",
        "    print(f\"A soma é {soma}\")\n",
        "else:\n",
        "    print(\"Por favor, insira um número inteiro positivo.\")\n",
        "\n",
        "# Explicação:\n",
        "## Entrada do usuário: O programa pede que o usuário insira um número inteiro positivo.\n",
        "## Verificação: Se o número for maior que zero, o programa continua; caso contrário, exibe uma mensagem de erro.\n",
        "## Acumulador: A variável soma é inicializada em 0, e a cada iteração do loop for, o valor de i (que vai de 1 a n) é somado à variável soma.\n",
        "## Resultado: Após o loop, o valor total é exibido."
      ],
      "metadata": {
        "colab": {
          "base_uri": "https://localhost:8080/"
        },
        "id": "tQ7-u8G-HsQp",
        "outputId": "7054571d-addf-498d-dd56-0c1f02f6e657"
      },
      "execution_count": 40,
      "outputs": [
        {
          "output_type": "stream",
          "name": "stdout",
          "text": [
            "Digite um número inteiro positivo: 5\n",
            "A soma é 15\n"
          ]
        }
      ]
    },
    {
      "cell_type": "markdown",
      "source": [
        "---\n",
        "\n",
        "## **Exercício 2: Tabuada de Multiplicação**\n",
        "\n",
        "**Descrição:**\n",
        "\n",
        "Crie um programa que exiba a tabuada de multiplicação de um número fornecido pelo usuário. A tabuada deve ir de 1 a 10.\n",
        "\n",
        "**Exemplo:**\n",
        "\n",
        "Se o usuário inserir `7`, o programa deve exibir:\n",
        "\n",
        "```\n",
        "7 x 1 = 7\n",
        "7 x 2 = 14\n",
        "...\n",
        "7 x 10 = 70\n",
        "```\n",
        "\n",
        "**Dicas:**\n",
        "\n",
        "- Utilize um loop `for` para iterar de 1 a 10.\n",
        "- Dentro do loop, calcule o produto e exiba no formato especificado."
      ],
      "metadata": {
        "id": "uIEPV_fDIv9S"
      }
    },
    {
      "cell_type": "code",
      "source": [
        "# Solicita ao usuário um número inteiro\n",
        "i_number = int(input(\"Digite um número para ver sua tabuada do 1 ao 10: \"))\n",
        "\n",
        "# Loop para gerar a tabuada de 1 a 10\n",
        "for i in range(1, 11):                          # range(start, stop, step) gera nossa sequência\n",
        "    i_produto = i_number * i                    # Calcula o produto\n",
        "    print(f\"{i_number} x {i} = {i_produto}\")    # Exibe o resultado no formato solicitado, multiplicando o número inserido pela sequência definida em range\n"
      ],
      "metadata": {
        "colab": {
          "base_uri": "https://localhost:8080/"
        },
        "id": "m4lQQMMAISYU",
        "outputId": "8c0247b0-08a6-4e36-e3b7-51e7549858bc"
      },
      "execution_count": 41,
      "outputs": [
        {
          "output_type": "stream",
          "name": "stdout",
          "text": [
            "Digite um número para ver sua tabuada do 1 ao 10: 7\n",
            "7 x 1 = 7\n",
            "7 x 2 = 14\n",
            "7 x 3 = 21\n",
            "7 x 4 = 28\n",
            "7 x 5 = 35\n",
            "7 x 6 = 42\n",
            "7 x 7 = 49\n",
            "7 x 8 = 56\n",
            "7 x 9 = 63\n",
            "7 x 10 = 70\n"
          ]
        }
      ]
    },
    {
      "cell_type": "markdown",
      "source": [
        "---\n",
        "\n",
        "## **Exercício 3: Contagem Regressiva**\n",
        "\n",
        "**Descrição:**\n",
        "\n",
        "Escreva um programa que realize uma contagem regressiva de um número fornecido pelo usuário até zero.\n",
        "\n",
        "**Exemplo:**\n",
        "\n",
        "Se o usuário inserir `5`, o programa deve exibir:\n",
        "\n",
        "```\n",
        "5\n",
        "4\n",
        "3\n",
        "2\n",
        "1\n",
        "0\n",
        "```\n",
        "\n",
        "**Dicas:**\n",
        "\n",
        "- Você pode usar um loop `while` ou um loop `for` com a função `range()` adequada.\n",
        "- Certifique-se de que o loop termina quando atinge zero."
      ],
      "metadata": {
        "id": "or28iumaKT1Y"
      }
    },
    {
      "cell_type": "code",
      "source": [
        "# Solicitar que o usuário insira um número\n",
        "Countdown = int(input(\"Digite um número para iniciar a contagem regressiva: \"))\n",
        "\n",
        "# Loop para realizar a contagem regressiva\n",
        "while Countdown >= 0:         # Enquanto a variável Countdown for igual ou maior que zero seguirá o print\n",
        "    print(Countdown)          # Imprimir o valor da variável Countdown\n",
        "    Countdown -= 1            # Regra do loop (subtraindo 1)\n"
      ],
      "metadata": {
        "colab": {
          "base_uri": "https://localhost:8080/"
        },
        "id": "7rQvVPGTJ9V3",
        "outputId": "e08c13fa-1ff7-4b78-f5fd-b274d84c1ce9"
      },
      "execution_count": 44,
      "outputs": [
        {
          "output_type": "stream",
          "name": "stdout",
          "text": [
            "Digite um número para iniciar a contagem regressiva: 5\n",
            "5\n",
            "4\n",
            "3\n",
            "2\n",
            "1\n",
            "0\n"
          ]
        }
      ]
    },
    {
      "cell_type": "markdown",
      "source": [
        "---\n",
        "\n",
        "## **Exercício 4: Números Pares entre 1 e 50**\n",
        "\n",
        "**Descrição:**\n",
        "\n",
        "Crie um programa que exiba todos os números pares entre 1 e 50.\n",
        "\n",
        "**Dicas:**\n",
        "\n",
        "- Utilize um loop `for` com `range(1, 51)`.\n",
        "- Dentro do loop, use uma condição `if` para verificar se o número é par (número % 2 == 0).\n",
        "- Opcionalmente, você pode ajustar o `range()` para iterar apenas sobre números pares.\n"
      ],
      "metadata": {
        "id": "maJD8sOqLQWS"
      }
    },
    {
      "cell_type": "code",
      "source": [
        "# Loop apenas sobre os números pares\n",
        "for i in range(2, 51, 2):\n",
        "    print(i)\n"
      ],
      "metadata": {
        "colab": {
          "base_uri": "https://localhost:8080/"
        },
        "id": "nhSTHh8KKtOc",
        "outputId": "78152c9f-2cab-4522-f08c-c17d8ba42f80"
      },
      "execution_count": 47,
      "outputs": [
        {
          "output_type": "stream",
          "name": "stdout",
          "text": [
            "2\n",
            "4\n",
            "6\n",
            "8\n",
            "10\n",
            "12\n",
            "14\n",
            "16\n",
            "18\n",
            "20\n",
            "22\n",
            "24\n",
            "26\n",
            "28\n",
            "30\n",
            "32\n",
            "34\n",
            "36\n",
            "38\n",
            "40\n",
            "42\n",
            "44\n",
            "46\n",
            "48\n",
            "50\n"
          ]
        }
      ]
    },
    {
      "cell_type": "markdown",
      "source": [
        "---\n",
        "\n",
        "## **Exercício 5: Jogo de Adivinhação**\n",
        "\n",
        "**Descrição:**\n",
        "\n",
        "Desenvolva um jogo onde o computador escolhe aleatoriamente um número entre 1 e 100, e o usuário tenta adivinhar qual é o número. O programa deve informar se o palpite do usuário é maior ou menor que o número secreto. O jogo continua até o usuário acertar o número.\n",
        "\n",
        "**Dicas:**\n",
        "\n",
        "- Importe o módulo `random` e use `random.randint(1, 100)` para gerar o número secreto.\n",
        "- Use um loop `while` que continua até que o usuário acerte o número.\n",
        "- Dentro do loop, compare o palpite com o número secreto e informe ao usuário."
      ],
      "metadata": {
        "id": "G87efen3L0yC"
      }
    },
    {
      "cell_type": "code",
      "source": [
        "# Importando o módulo random\n",
        "import random\n",
        "\n",
        "# O computador escolhe um número aleatório entre 1 e 100\n",
        "numero_secreto1 = random.randint(1, 100)\n",
        "\n",
        "# Inicializa a variável de controle (Teste com None)\n",
        "palpite1 = None\n",
        "\n",
        "# Enquanto o usuário não acertar o número secreto\n",
        "while palpite1 != numero_secreto1:\n",
        "    # Solicita um palpite do usuário\n",
        "    palpite1 = int(input(\"Adivinhe o número (entre 1 e 100): \"))\n",
        "\n",
        "    # Compara o palpite com o número secreto\n",
        "    if palpite1 < numero_secreto1:\n",
        "        print(\"Muito baixo! Tente novamente.\")\n",
        "    elif palpite1 > numero_secreto1:\n",
        "        print(\"Muito alto! Tente novamente.\")\n",
        "    else:\n",
        "        print(f\"Parabéns! Você acertou o número {numero_secreto1}.\")\n"
      ],
      "metadata": {
        "colab": {
          "base_uri": "https://localhost:8080/"
        },
        "id": "T5QL5xxrOT1U",
        "outputId": "1e244342-29df-41c0-c45f-fb32922233ac"
      },
      "execution_count": 56,
      "outputs": [
        {
          "output_type": "stream",
          "name": "stdout",
          "text": [
            "Adivinhe o número (entre 1 e 100): 42\n",
            "Muito alto! Tente novamente.\n",
            "Adivinhe o número (entre 1 e 100): 36\n",
            "Muito alto! Tente novamente.\n",
            "Adivinhe o número (entre 1 e 100): 19\n",
            "Muito alto! Tente novamente.\n",
            "Adivinhe o número (entre 1 e 100): 13\n",
            "Muito alto! Tente novamente.\n",
            "Adivinhe o número (entre 1 e 100): 11\n",
            "Muito alto! Tente novamente.\n",
            "Adivinhe o número (entre 1 e 100): 6\n",
            "Muito baixo! Tente novamente.\n",
            "Adivinhe o número (entre 1 e 100): 7\n",
            "Muito baixo! Tente novamente.\n",
            "Adivinhe o número (entre 1 e 100): 9\n",
            "Muito baixo! Tente novamente.\n",
            "Adivinhe o número (entre 1 e 100): 10\n",
            "Parabéns! Você acertou o número 10.\n"
          ]
        }
      ]
    },
    {
      "cell_type": "code",
      "source": [
        "import random\n",
        "\n",
        "# O computador escolhe um número aleatório entre 1 e 100\n",
        "numero_secreto = random.randint(1, 100)\n",
        "tentativas = 0  # Contador de tentativas\n",
        "\n",
        "# Mensagem de boas-vindas\n",
        "print(\"======================================\")\n",
        "print(\"    Bem-vindo ao Jogo de Adivinhação! \")\n",
        "print(\"======================================\")\n",
        "print(\"Eu pensei em um número entre 1 e 100.\")\n",
        "print(\"Será que você consegue adivinhar qual é?\")\n",
        "print(\"Vamos lá!\")\n",
        "\n",
        "# Inicializa a variável de controle\n",
        "palpite = None\n",
        "\n",
        "# Enquanto o usuário não acertar o número secreto (!= significa 'diferente')\n",
        "while palpite != numero_secreto:\n",
        "    # Solicita um palpite do usuário\n",
        "    palpite = int(input(\"\\nDigite seu palpite: \"))\n",
        "    tentativas += 1\n",
        "\n",
        "    # Compara o palpite com o número secreto\n",
        "    if palpite < numero_secreto:\n",
        "        print(\"👉 Seu palpite foi muito *baixo*! Tente novamente.\")\n",
        "    elif palpite > numero_secreto:\n",
        "        print(\"👆 Seu palpite foi muito *alto*! Tente novamente.\")\n",
        "    else:\n",
        "        print(f\"\\n🎉 Parabéns! Você acertou o número {numero_secreto}!\")\n",
        "        print(f\"Você precisou de {tentativas} tentativas para acertar.\")\n",
        "\n",
        "# Mensagem final\n",
        "print(\"\\nObrigado por jogar! Espero que tenha se divertido. 🎮\")\n"
      ],
      "metadata": {
        "colab": {
          "base_uri": "https://localhost:8080/"
        },
        "id": "qAiNJABGLms5",
        "outputId": "d06abd60-ae19-4185-ed23-b30f61bbe0e9"
      },
      "execution_count": 51,
      "outputs": [
        {
          "output_type": "stream",
          "name": "stdout",
          "text": [
            "======================================\n",
            "    Bem-vindo ao Jogo de Adivinhação! \n",
            "======================================\n",
            "Eu pensei em um número entre 1 e 100.\n",
            "Será que você consegue adivinhar qual é?\n",
            "Vamos lá!\n",
            "\n",
            "Digite seu palpite: 12\n",
            "👉 Seu palpite foi muito *baixo*! Tente novamente.\n",
            "\n",
            "Digite seu palpite: 36\n",
            "👉 Seu palpite foi muito *baixo*! Tente novamente.\n",
            "\n",
            "Digite seu palpite: 56\n",
            "👉 Seu palpite foi muito *baixo*! Tente novamente.\n",
            "\n",
            "Digite seu palpite: 76\n",
            "👆 Seu palpite foi muito *alto*! Tente novamente.\n",
            "\n",
            "Digite seu palpite: 61\n",
            "👉 Seu palpite foi muito *baixo*! Tente novamente.\n",
            "\n",
            "Digite seu palpite: 63\n",
            "\n",
            "🎉 Parabéns! Você acertou o número 63!\n",
            "Você precisou de 6 tentativas para acertar.\n",
            "\n",
            "Obrigado por jogar! Espero que tenha se divertido. 🎮\n"
          ]
        }
      ]
    },
    {
      "cell_type": "markdown",
      "source": [
        "---\n",
        "\n",
        "## **Exercício 6: Sequência de Fibonacci**\n",
        "\n",
        "**Descrição:**\n",
        "\n",
        "Escreva um programa que exiba os `n` primeiros números da sequência de Fibonacci, onde `n` é informado pelo usuário.\n",
        "\n",
        "**Sequência de Fibonacci:**\n",
        "\n",
        "0, 1, 1, 2, 3, 5, 8, 13, ...\n",
        "\n",
        "**Dicas:**\n",
        "\n",
        "- Inicialize as duas primeiras variáveis da sequência.\n",
        "- Use um loop `for` ou `while` para calcular os próximos termos.\n",
        "- Atualize as variáveis a cada iteração.\n"
      ],
      "metadata": {
        "id": "FV59w5B1P37q"
      }
    },
    {
      "cell_type": "code",
      "source": [
        "# Solicita ao usuário o número de termos da sequência de Fibonacci\n",
        "n = int(input(\"Quantos termos da sequência de Fibonacci você gostaria de ver? \"))\n",
        "\n",
        "# Inicializa as duas primeiras variáveis da sequência\n",
        "a, b = 0, 1\n",
        "\n",
        "print(\"Sequência de Fibonacci:\")\n",
        "for _ in range(n):\n",
        "    print(a, end=' ')  # Exibe o termo atual\n",
        "    a, b = b, a + b   # Atualiza as variáveis para os próximos termos\n"
      ],
      "metadata": {
        "colab": {
          "base_uri": "https://localhost:8080/"
        },
        "id": "ZzB-iqInNJ0Z",
        "outputId": "6ddf39a8-6582-4ff7-abb0-8a15d3edce74"
      },
      "execution_count": 57,
      "outputs": [
        {
          "output_type": "stream",
          "name": "stdout",
          "text": [
            "Quantos termos da sequência de Fibonacci você gostaria de ver? 8\n",
            "Sequência de Fibonacci:\n",
            "0 1 1 2 3 5 8 13 "
          ]
        }
      ]
    },
    {
      "cell_type": "markdown",
      "source": [
        "## **Exercício 7: Verificação de Número Primo**\n",
        "\n",
        "**Descrição:**\n",
        "\n",
        "Crie um programa que peça ao usuário um número inteiro e verifique se ele é um número primo.\n",
        "\n",
        "**Dicas:**\n",
        "\n",
        "- Um número primo é divisível apenas por 1 e por ele mesmo.\n",
        "- Use um loop para verificar se o número é divisível por qualquer número entre 2 e `n-1`.\n",
        "- Utilize uma variável booleana para indicar se o número é primo ou não."
      ],
      "metadata": {
        "id": "6bAXUieMQJSs"
      }
    },
    {
      "cell_type": "code",
      "source": [
        "# Solicita ao usuário um número inteiro\n",
        "numero = int(input(\"Digite um número inteiro: \"))\n",
        "\n",
        "# Inicializa a variável booleana para verificar se o número é primo\n",
        "eh_primo = True\n",
        "\n",
        "# Números menores que 2 não são primos\n",
        "if numero < 2:\n",
        "    eh_primo = False\n",
        "else:\n",
        "    # Loop para verificar a divisibilidade\n",
        "    for i in range(2, numero):\n",
        "        if numero % i == 0:\n",
        "            eh_primo = False\n",
        "            break  # Sai do loop se encontrar um divisor\n",
        "\n",
        "# Exibe o resultado\n",
        "if eh_primo:\n",
        "    print(f\"{numero} é um número primo.\")\n",
        "else:\n",
        "    print(f\"{numero} não é um número primo.\")\n"
      ],
      "metadata": {
        "colab": {
          "base_uri": "https://localhost:8080/"
        },
        "id": "K7NCvIDRQNV6",
        "outputId": "6f922504-5ad1-48dd-ce57-6b63b5edd8fa"
      },
      "execution_count": 60,
      "outputs": [
        {
          "output_type": "stream",
          "name": "stdout",
          "text": [
            "Digite um número inteiro: 3\n",
            "3 é um número primo.\n"
          ]
        }
      ]
    },
    {
      "cell_type": "markdown",
      "source": [
        "---\n",
        "\n",
        "## **Exercício 8: Contagem de Vogais em uma String**\n",
        "\n",
        "**Descrição:**\n",
        "\n",
        "Escreva um programa que solicite uma frase ao usuário e conte quantas vogais (a, e, i, o, u) ela contém.\n",
        "\n",
        "**Dicas:**\n",
        "\n",
        "- Converta a string para minúsculas para simplificar a comparação.\n",
        "- Use um loop `for` para iterar sobre cada caractere da string.\n",
        "- Verifique se o caractere atual é uma vogal e, se for, incremente um contador."
      ],
      "metadata": {
        "id": "sx2CS1raQ8g7"
      }
    },
    {
      "cell_type": "code",
      "source": [
        "# Solicita uma frase ao usuário\n",
        "frase = input(\"Digite uma frase: \")\n",
        "\n",
        "# Converte a frase para minúsculas\n",
        "frase = frase.lower()\n",
        "\n",
        "# Inicializa um contador de vogais\n",
        "contador_vogais = 0\n",
        "\n",
        "# Define as vogais\n",
        "vogais = 'aeiou'\n",
        "\n",
        "# Loop para verificar cada caractere na frase\n",
        "for caractere in frase:\n",
        "    if caractere in vogais:  # Verifica se o caractere é uma vogal\n",
        "        contador_vogais += 1  # Incrementa o contador\n",
        "\n",
        "# Exibe o resultado\n",
        "print(f\"A frase contém {contador_vogais} vogais.\")\n"
      ],
      "metadata": {
        "colab": {
          "base_uri": "https://localhost:8080/"
        },
        "id": "k_ndBeDSQElP",
        "outputId": "cd43255f-abb0-4f4e-98dd-bdd770dc0a96"
      },
      "execution_count": 61,
      "outputs": [
        {
          "output_type": "stream",
          "name": "stdout",
          "text": [
            "Digite uma frase: Eu vou aprender Python!\n",
            "A frase contém 8 vogais.\n"
          ]
        }
      ]
    },
    {
      "cell_type": "markdown",
      "source": [
        "---\n",
        "\n",
        "## **Exercício 9: Menu Interativo**\n",
        "\n",
        "**Descrição:**\n",
        "\n",
        "Crie um programa que exiba um menu com as seguintes opções:\n",
        "\n",
        "1. Somar dois números\n",
        "2. Subtrair dois números\n",
        "3. Sair\n",
        "\n",
        "O programa deve executar a operação escolhida pelo usuário e retornar ao menu até que a opção \"Sair\" seja selecionada.\n",
        "\n",
        "**Dicas:**\n",
        "\n",
        "- Use um loop `while` que continua enquanto o usuário não escolher sair.\n",
        "- Dentro do loop, capture a opção do usuário e use condicionais para executar a operação correspondente.\n",
        "- Utilize a função `input()` para interagir com o usuário."
      ],
      "metadata": {
        "id": "CsfY_h8XRJi4"
      }
    },
    {
      "cell_type": "code",
      "source": [
        "while True:  # Inicia um loop que continuará até que o usuário escolha sair\n",
        "    # Exibe o menu\n",
        "    print(\"Menu:\")\n",
        "    print(\"1. Somar dois números\")\n",
        "    print(\"2. Subtrair dois números\")\n",
        "    print(\"3. Sair\")\n",
        "\n",
        "    # Captura a opção do usuário\n",
        "    opcao = input(\"Escolha uma opção (1, 2 ou 3): \")\n",
        "\n",
        "    # Verifica a opção escolhida\n",
        "    if opcao == '1':\n",
        "        # Solicita os números para somar\n",
        "        num1 = float(input(\"Digite o primeiro número: \"))\n",
        "        num2 = float(input(\"Digite o segundo número: \"))\n",
        "        resultado = num1 + num2\n",
        "        print(f\"O resultado da soma é: {resultado}\\n\")\n",
        "\n",
        "    elif opcao == '2':\n",
        "        # Solicita os números para subtrair\n",
        "        num1 = float(input(\"Digite o primeiro número: \"))\n",
        "        num2 = float(input(\"Digite o segundo número: \"))\n",
        "        resultado = num1 - num2\n",
        "        print(f\"O resultado da subtração é: {resultado}\\n\")\n",
        "\n",
        "    elif opcao == '3':\n",
        "        print(\"Saindo do programa...\")\n",
        "        break  # Sai do loop e encerra o programa\n",
        "\n",
        "    else:\n",
        "        print(\"Opção inválida. Tente novamente.\\n\")  # Mensagem para opções inválidas\n"
      ],
      "metadata": {
        "colab": {
          "base_uri": "https://localhost:8080/"
        },
        "id": "Ior1TdteRI49",
        "outputId": "b230d3bc-0831-4413-d66e-1686ada5238c"
      },
      "execution_count": 62,
      "outputs": [
        {
          "output_type": "stream",
          "name": "stdout",
          "text": [
            "Menu:\n",
            "1. Somar dois números\n",
            "2. Subtrair dois números\n",
            "3. Sair\n",
            "Escolha uma opção (1, 2 ou 3): 1\n",
            "Digite o primeiro número: 3\n",
            "Digite o segundo número: 6\n",
            "O resultado da soma é: 9.0\n",
            "\n",
            "Menu:\n",
            "1. Somar dois números\n",
            "2. Subtrair dois números\n",
            "3. Sair\n",
            "Escolha uma opção (1, 2 ou 3): 2\n",
            "Digite o primeiro número: 19\n",
            "Digite o segundo número: 10\n",
            "O resultado da subtração é: 9.0\n",
            "\n",
            "Menu:\n",
            "1. Somar dois números\n",
            "2. Subtrair dois números\n",
            "3. Sair\n",
            "Escolha uma opção (1, 2 ou 3): 3\n",
            "Saindo do programa...\n"
          ]
        }
      ]
    },
    {
      "cell_type": "markdown",
      "source": [
        "---\n",
        "\n",
        "## **Exercício 10: Impressão de Padrões com Asteriscos**\n",
        "\n",
        "**Descrição:**\n",
        "\n",
        "Escreva um programa que exiba um triângulo de asteriscos com `n` linhas, onde `n` é fornecido pelo usuário.\n",
        "\n",
        "**Exemplo:**\n",
        "\n",
        "Para `n = 5`, o resultado deve ser:\n",
        "\n",
        "```\n",
        "*\n",
        "**\n",
        "***\n",
        "****\n",
        "*****\n",
        "```\n",
        "\n",
        "**Dicas:**\n",
        "\n",
        "- Use um loop `for` que varia de 1 até `n`.\n",
        "- Em cada iteração, imprima a quantidade de asteriscos correspondente ao número da linha.\n",
        "- Você pode multiplicar a string `\"*\"` pelo número atual para facilitar.\n",
        "\n",
        "---\n",
        "\n",
        "# Referências de estudo\n",
        "\n",
        "Os sites a seguir são uma ótima referência de exercícios de Python:\n",
        "### https://pynative.com/python-if-else-and-for-loop-exercise-with-solutions/;\n",
        "### https://www.w3resource.com/python-exercises/"
      ],
      "metadata": {
        "id": "XOaAWexqRll6"
      }
    },
    {
      "cell_type": "code",
      "source": [
        "# Solicita ao usuário o número de linhas do triângulo\n",
        "n = int(input(\"Digite o número de linhas para o triângulo de asteriscos: \"))\n",
        "\n",
        "# Loop para imprimir as linhas do triângulo\n",
        "for i in range(1, n + 1):\n",
        "    print(\"*\" * i)  # Imprime i asteriscos na linha i\n"
      ],
      "metadata": {
        "colab": {
          "base_uri": "https://localhost:8080/"
        },
        "id": "noYDepeKRvpz",
        "outputId": "9a9a6527-b4d3-4131-eedc-265853951a5b"
      },
      "execution_count": 63,
      "outputs": [
        {
          "output_type": "stream",
          "name": "stdout",
          "text": [
            "Digite o número de linhas para o triângulo de asteriscos: 3\n",
            "*\n",
            "**\n",
            "***\n"
          ]
        }
      ]
    },
    {
      "cell_type": "markdown",
      "source": [
        "-----\n",
        "Notas:\n",
        "O módulo `random` em Python é utilizado para gerar números aleatórios e realizar operações relacionadas à aleatoriedade. Aqui estão algumas das funcionalidades principais desse módulo:\n",
        "\n",
        "1. **Geração de Números Aleatórios**:\n",
        "   - `random.random()`: Gera um número de ponto flutuante aleatório entre 0.0 e 1.0.\n",
        "   - `random.randint(a, b)`: Retorna um número inteiro aleatório entre `a` e `b`, incluindo ambos.\n",
        "   - `random.uniform(a, b)`: Retorna um número de ponto flutuante aleatório entre `a` e `b`.\n",
        "\n",
        "2. **Seleção Aleatória**:\n",
        "   - `random.choice(seq)`: Seleciona um elemento aleatório de uma sequência (como uma lista ou tupla).\n",
        "   - `random.sample(population, k)`: Retorna uma lista com `k` elementos únicos escolhidos aleatoriamente da população.\n",
        "\n",
        "3. **Embaralhamento**:\n",
        "   - `random.shuffle(x)`: Embaralha a sequência `x` in-place, alterando a ordem dos elementos.\n",
        "\n",
        "4. **Geradores de Distribuição**:\n",
        "   - O módulo também fornece funções para gerar números aleatórios seguindo distribuições específicas, como normal (gaussiana), exponencial, entre outras.\n",
        "\n",
        "5. **Semeando a Aleatoriedade**:\n",
        "   - `random.seed(a=None)`: Inicializa o gerador de números aleatórios com um valor específico para que os resultados possam ser reproduzidos.\n",
        "\n",
        "### Exemplo de Uso\n",
        "\n",
        "Aqui está um exemplo simples que demonstra algumas dessas funcionalidades:\n",
        "\n",
        "```python\n",
        "import random\n",
        "\n",
        "# Gerar um número aleatório entre 1 e 10\n",
        "num_aleatorio = random.randint(1, 10)\n",
        "print(\"Número aleatório:\", num_aleatorio)\n",
        "\n",
        "# Escolher um elemento aleatório de uma lista\n",
        "itens = ['maçã', 'banana', 'laranja', 'uva']\n",
        "item_escolhido = random.choice(itens)\n",
        "print(\"Item escolhido:\", item_escolhido)\n",
        "\n",
        "# Embaralhar uma lista\n",
        "random.shuffle(itens)\n",
        "print(\"Lista embaralhada:\", itens)\n",
        "```\n",
        "\n",
        "O módulo `random` é bastante útil em diversas aplicações, como simulações, jogos e qualquer situação em que a aleatoriedade seja necessária.\n"
      ],
      "metadata": {
        "id": "do4baHfQOjbD"
      }
    }
  ]
}