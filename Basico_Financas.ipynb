{
 "cells": [
  {
   "cell_type": "code",
   "execution_count": 1,
   "id": "1cdbb751-c6aa-4f49-afa6-924a166e9de7",
   "metadata": {},
   "outputs": [
    {
     "name": "stdout",
     "output_type": "stream",
     "text": [
      "Requirement already satisfied: yfinance in c:\\users\\marlo\\anaconda3\\lib\\site-packages (0.2.50)\n",
      "Requirement already satisfied: numpy>=1.16.5 in c:\\users\\marlo\\anaconda3\\lib\\site-packages (from yfinance) (1.20.3)\n",
      "Requirement already satisfied: peewee>=3.16.2 in c:\\users\\marlo\\anaconda3\\lib\\site-packages (from yfinance) (3.17.8)\n",
      "Requirement already satisfied: pandas>=1.3.0 in c:\\users\\marlo\\anaconda3\\lib\\site-packages (from yfinance) (1.3.4)\n",
      "Requirement already satisfied: frozendict>=2.3.4 in c:\\users\\marlo\\anaconda3\\lib\\site-packages (from yfinance) (2.4.6)\n",
      "Requirement already satisfied: beautifulsoup4>=4.11.1 in c:\\users\\marlo\\anaconda3\\lib\\site-packages (from yfinance) (4.12.3)\n",
      "Requirement already satisfied: platformdirs>=2.0.0 in c:\\users\\marlo\\anaconda3\\lib\\site-packages (from yfinance) (4.3.6)\n",
      "Requirement already satisfied: html5lib>=1.1 in c:\\users\\marlo\\anaconda3\\lib\\site-packages (from yfinance) (1.1)\n",
      "Requirement already satisfied: lxml>=4.9.1 in c:\\users\\marlo\\anaconda3\\lib\\site-packages (from yfinance) (5.3.0)\n",
      "Requirement already satisfied: pytz>=2022.5 in c:\\users\\marlo\\anaconda3\\lib\\site-packages (from yfinance) (2024.2)\n",
      "Requirement already satisfied: requests>=2.31 in c:\\users\\marlo\\anaconda3\\lib\\site-packages (from yfinance) (2.32.3)\n",
      "Requirement already satisfied: multitasking>=0.0.7 in c:\\users\\marlo\\anaconda3\\lib\\site-packages (from yfinance) (0.0.11)\n",
      "Requirement already satisfied: soupsieve>1.2 in c:\\users\\marlo\\anaconda3\\lib\\site-packages (from beautifulsoup4>=4.11.1->yfinance) (2.2.1)\n",
      "Requirement already satisfied: webencodings in c:\\users\\marlo\\anaconda3\\lib\\site-packages (from html5lib>=1.1->yfinance) (0.5.1)\n",
      "Requirement already satisfied: six>=1.9 in c:\\users\\marlo\\anaconda3\\lib\\site-packages (from html5lib>=1.1->yfinance) (1.16.0)\n",
      "Requirement already satisfied: python-dateutil>=2.7.3 in c:\\users\\marlo\\anaconda3\\lib\\site-packages (from pandas>=1.3.0->yfinance) (2.8.2)\n",
      "Requirement already satisfied: certifi>=2017.4.17 in c:\\users\\marlo\\anaconda3\\lib\\site-packages (from requests>=2.31->yfinance) (2021.10.8)\n",
      "Requirement already satisfied: urllib3<3,>=1.21.1 in c:\\users\\marlo\\anaconda3\\lib\\site-packages (from requests>=2.31->yfinance) (1.26.7)\n",
      "Requirement already satisfied: idna<4,>=2.5 in c:\\users\\marlo\\anaconda3\\lib\\site-packages (from requests>=2.31->yfinance) (3.2)\n",
      "Requirement already satisfied: charset-normalizer<4,>=2 in c:\\users\\marlo\\anaconda3\\lib\\site-packages (from requests>=2.31->yfinance) (2.0.4)\n"
     ]
    }
   ],
   "source": [
    "!pip install yfinance"
   ]
  },
  {
   "cell_type": "markdown",
   "id": "9dec2f87-6092-459f-bcad-fa65696174a0",
   "metadata": {},
   "source": [
    "# Projeto 1"
   ]
  },
  {
   "cell_type": "code",
   "execution_count": 2,
   "id": "29a095b5-717f-41a8-92f3-97d62cc76dbe",
   "metadata": {},
   "outputs": [],
   "source": [
    "import pandas as pd\n",
    "import matplotlib.pyplot as plt\n",
    "import matplotlib.ticker as mtick\n",
    "import yfinance as yf"
   ]
  },
  {
   "cell_type": "code",
   "execution_count": 3,
   "id": "c0c18089-20a5-4c55-b7e5-3965f0538f71",
   "metadata": {},
   "outputs": [],
   "source": [
    "lista_tickers = [\"ITUB4.SA\", 'BBAS3.SA', \"SANB4.SA\", \"BBDC4.SA\", \"^BVSP\"]"
   ]
  },
  {
   "cell_type": "code",
   "execution_count": 4,
   "id": "886d953e-6bb2-473e-824f-aac98cf38ff5",
   "metadata": {},
   "outputs": [
    {
     "name": "stderr",
     "output_type": "stream",
     "text": [
      "[*********************100%***********************]  5 of 5 completed\n"
     ]
    },
    {
     "data": {
      "text/html": [
       "<div>\n",
       "<style scoped>\n",
       "    .dataframe tbody tr th:only-of-type {\n",
       "        vertical-align: middle;\n",
       "    }\n",
       "\n",
       "    .dataframe tbody tr th {\n",
       "        vertical-align: top;\n",
       "    }\n",
       "\n",
       "    .dataframe thead th {\n",
       "        text-align: right;\n",
       "    }\n",
       "</style>\n",
       "<table border=\"1\" class=\"dataframe\">\n",
       "  <thead>\n",
       "    <tr style=\"text-align: right;\">\n",
       "      <th>Ticker</th>\n",
       "      <th>BBAS3.SA</th>\n",
       "      <th>BBDC4.SA</th>\n",
       "      <th>ITUB4.SA</th>\n",
       "      <th>SANB4.SA</th>\n",
       "      <th>^BVSP</th>\n",
       "    </tr>\n",
       "    <tr>\n",
       "      <th>Date</th>\n",
       "      <th></th>\n",
       "      <th></th>\n",
       "      <th></th>\n",
       "      <th></th>\n",
       "      <th></th>\n",
       "    </tr>\n",
       "  </thead>\n",
       "  <tbody>\n",
       "    <tr>\n",
       "      <th>2010-01-04</th>\n",
       "      <td>5.504473</td>\n",
       "      <td>7.026620</td>\n",
       "      <td>10.396081</td>\n",
       "      <td>4.636773</td>\n",
       "      <td>70045.0</td>\n",
       "    </tr>\n",
       "    <tr>\n",
       "      <th>2010-01-05</th>\n",
       "      <td>5.449244</td>\n",
       "      <td>6.992043</td>\n",
       "      <td>10.463452</td>\n",
       "      <td>4.636773</td>\n",
       "      <td>70240.0</td>\n",
       "    </tr>\n",
       "    <tr>\n",
       "      <th>2010-01-06</th>\n",
       "      <td>5.456604</td>\n",
       "      <td>6.936104</td>\n",
       "      <td>10.372758</td>\n",
       "      <td>4.636773</td>\n",
       "      <td>70729.0</td>\n",
       "    </tr>\n",
       "    <tr>\n",
       "      <th>2010-01-07</th>\n",
       "      <td>5.458450</td>\n",
       "      <td>6.917460</td>\n",
       "      <td>10.266521</td>\n",
       "      <td>4.636773</td>\n",
       "      <td>70451.0</td>\n",
       "    </tr>\n",
       "    <tr>\n",
       "      <th>2010-01-08</th>\n",
       "      <td>5.489742</td>\n",
       "      <td>6.909999</td>\n",
       "      <td>10.111041</td>\n",
       "      <td>4.636773</td>\n",
       "      <td>70263.0</td>\n",
       "    </tr>\n",
       "    <tr>\n",
       "      <th>...</th>\n",
       "      <td>...</td>\n",
       "      <td>...</td>\n",
       "      <td>...</td>\n",
       "      <td>...</td>\n",
       "      <td>...</td>\n",
       "    </tr>\n",
       "    <tr>\n",
       "      <th>2022-04-25</th>\n",
       "      <td>14.292112</td>\n",
       "      <td>16.049332</td>\n",
       "      <td>22.161846</td>\n",
       "      <td>15.267837</td>\n",
       "      <td>110685.0</td>\n",
       "    </tr>\n",
       "    <tr>\n",
       "      <th>2022-04-26</th>\n",
       "      <td>13.970847</td>\n",
       "      <td>15.360302</td>\n",
       "      <td>21.407806</td>\n",
       "      <td>14.573843</td>\n",
       "      <td>108213.0</td>\n",
       "    </tr>\n",
       "    <tr>\n",
       "      <th>2022-04-27</th>\n",
       "      <td>14.032632</td>\n",
       "      <td>15.452731</td>\n",
       "      <td>21.234463</td>\n",
       "      <td>14.582520</td>\n",
       "      <td>109349.0</td>\n",
       "    </tr>\n",
       "    <tr>\n",
       "      <th>2022-04-28</th>\n",
       "      <td>14.007917</td>\n",
       "      <td>15.309886</td>\n",
       "      <td>21.061119</td>\n",
       "      <td>14.426370</td>\n",
       "      <td>109919.0</td>\n",
       "    </tr>\n",
       "    <tr>\n",
       "      <th>2022-04-29</th>\n",
       "      <td>13.682534</td>\n",
       "      <td>15.108221</td>\n",
       "      <td>20.688435</td>\n",
       "      <td>14.426370</td>\n",
       "      <td>107876.0</td>\n",
       "    </tr>\n",
       "  </tbody>\n",
       "</table>\n",
       "<p>3056 rows × 5 columns</p>\n",
       "</div>"
      ],
      "text/plain": [
       "Ticker       BBAS3.SA   BBDC4.SA   ITUB4.SA   SANB4.SA     ^BVSP\n",
       "Date                                                            \n",
       "2010-01-04   5.504473   7.026620  10.396081   4.636773   70045.0\n",
       "2010-01-05   5.449244   6.992043  10.463452   4.636773   70240.0\n",
       "2010-01-06   5.456604   6.936104  10.372758   4.636773   70729.0\n",
       "2010-01-07   5.458450   6.917460  10.266521   4.636773   70451.0\n",
       "2010-01-08   5.489742   6.909999  10.111041   4.636773   70263.0\n",
       "...               ...        ...        ...        ...       ...\n",
       "2022-04-25  14.292112  16.049332  22.161846  15.267837  110685.0\n",
       "2022-04-26  13.970847  15.360302  21.407806  14.573843  108213.0\n",
       "2022-04-27  14.032632  15.452731  21.234463  14.582520  109349.0\n",
       "2022-04-28  14.007917  15.309886  21.061119  14.426370  109919.0\n",
       "2022-04-29  13.682534  15.108221  20.688435  14.426370  107876.0\n",
       "\n",
       "[3056 rows x 5 columns]"
      ]
     },
     "execution_count": 4,
     "metadata": {},
     "output_type": "execute_result"
    }
   ],
   "source": [
    "dados_bancarios = yf.download(lista_tickers, start = \"2010-01-01\", end = \"2022-04-30\")\n",
    "\n",
    "dados_bancarios = dados_bancarios[\"Adj Close\"]\n",
    "\n",
    "dados_bancarios"
   ]
  },
  {
   "cell_type": "code",
   "execution_count": 5,
   "id": "ec89f175-2afc-4c2d-bf42-e9c853bc6bf5",
   "metadata": {},
   "outputs": [
    {
     "data": {
      "text/html": [
       "<div>\n",
       "<style scoped>\n",
       "    .dataframe tbody tr th:only-of-type {\n",
       "        vertical-align: middle;\n",
       "    }\n",
       "\n",
       "    .dataframe tbody tr th {\n",
       "        vertical-align: top;\n",
       "    }\n",
       "\n",
       "    .dataframe thead th {\n",
       "        text-align: right;\n",
       "    }\n",
       "</style>\n",
       "<table border=\"1\" class=\"dataframe\">\n",
       "  <thead>\n",
       "    <tr style=\"text-align: right;\">\n",
       "      <th></th>\n",
       "      <th>data</th>\n",
       "      <th>bradesco</th>\n",
       "      <th>banco_do_brasil</th>\n",
       "      <th>itau</th>\n",
       "      <th>santander</th>\n",
       "    </tr>\n",
       "  </thead>\n",
       "  <tbody>\n",
       "    <tr>\n",
       "      <th>0</th>\n",
       "      <td>2009-12-31</td>\n",
       "      <td>8012282</td>\n",
       "      <td>10147522</td>\n",
       "      <td>10066608</td>\n",
       "      <td>1805899</td>\n",
       "    </tr>\n",
       "    <tr>\n",
       "      <th>1</th>\n",
       "      <td>2021-12-31</td>\n",
       "      <td>21945688</td>\n",
       "      <td>19710402</td>\n",
       "      <td>24988000</td>\n",
       "      <td>14987716</td>\n",
       "    </tr>\n",
       "  </tbody>\n",
       "</table>\n",
       "</div>"
      ],
      "text/plain": [
       "        data  bradesco  banco_do_brasil      itau  santander\n",
       "0 2009-12-31   8012282         10147522  10066608    1805899\n",
       "1 2021-12-31  21945688         19710402  24988000   14987716"
      ]
     },
     "execution_count": 5,
     "metadata": {},
     "output_type": "execute_result"
    }
   ],
   "source": [
    "lucro_bancos = pd.read_excel(\"lucro_bancos_2010_2022.xlsx\")\n",
    "\n",
    "lucro_bancos"
   ]
  },
  {
   "cell_type": "markdown",
   "id": "7b968bf3-d589-4d49-9eea-b420833c7fea",
   "metadata": {},
   "source": [
    "### Conceitos importantes"
   ]
  },
  {
   "cell_type": "code",
   "execution_count": 6,
   "id": "5ab60971-638b-42c4-b77e-3a6afb944df3",
   "metadata": {},
   "outputs": [],
   "source": [
    "data_frame_com_colunas_selecionadas = dados_bancarios[[\"BBDC4.SA\", \"ITUB4.SA\"]]"
   ]
  },
  {
   "cell_type": "code",
   "execution_count": 7,
   "id": "1f9c4115",
   "metadata": {},
   "outputs": [
    {
     "data": {
      "text/html": [
       "<div>\n",
       "<style scoped>\n",
       "    .dataframe tbody tr th:only-of-type {\n",
       "        vertical-align: middle;\n",
       "    }\n",
       "\n",
       "    .dataframe tbody tr th {\n",
       "        vertical-align: top;\n",
       "    }\n",
       "\n",
       "    .dataframe thead th {\n",
       "        text-align: right;\n",
       "    }\n",
       "</style>\n",
       "<table border=\"1\" class=\"dataframe\">\n",
       "  <thead>\n",
       "    <tr style=\"text-align: right;\">\n",
       "      <th>Ticker</th>\n",
       "      <th>BBDC4.SA</th>\n",
       "      <th>ITUB4.SA</th>\n",
       "    </tr>\n",
       "    <tr>\n",
       "      <th>Date</th>\n",
       "      <th></th>\n",
       "      <th></th>\n",
       "    </tr>\n",
       "  </thead>\n",
       "  <tbody>\n",
       "    <tr>\n",
       "      <th>2010-01-04</th>\n",
       "      <td>7.026620</td>\n",
       "      <td>10.396081</td>\n",
       "    </tr>\n",
       "    <tr>\n",
       "      <th>2010-01-05</th>\n",
       "      <td>6.992043</td>\n",
       "      <td>10.463452</td>\n",
       "    </tr>\n",
       "    <tr>\n",
       "      <th>2010-01-06</th>\n",
       "      <td>6.936104</td>\n",
       "      <td>10.372758</td>\n",
       "    </tr>\n",
       "    <tr>\n",
       "      <th>2010-01-07</th>\n",
       "      <td>6.917460</td>\n",
       "      <td>10.266521</td>\n",
       "    </tr>\n",
       "    <tr>\n",
       "      <th>2010-01-08</th>\n",
       "      <td>6.909999</td>\n",
       "      <td>10.111041</td>\n",
       "    </tr>\n",
       "    <tr>\n",
       "      <th>...</th>\n",
       "      <td>...</td>\n",
       "      <td>...</td>\n",
       "    </tr>\n",
       "    <tr>\n",
       "      <th>2022-04-25</th>\n",
       "      <td>16.049332</td>\n",
       "      <td>22.161846</td>\n",
       "    </tr>\n",
       "    <tr>\n",
       "      <th>2022-04-26</th>\n",
       "      <td>15.360302</td>\n",
       "      <td>21.407806</td>\n",
       "    </tr>\n",
       "    <tr>\n",
       "      <th>2022-04-27</th>\n",
       "      <td>15.452731</td>\n",
       "      <td>21.234463</td>\n",
       "    </tr>\n",
       "    <tr>\n",
       "      <th>2022-04-28</th>\n",
       "      <td>15.309886</td>\n",
       "      <td>21.061119</td>\n",
       "    </tr>\n",
       "    <tr>\n",
       "      <th>2022-04-29</th>\n",
       "      <td>15.108221</td>\n",
       "      <td>20.688435</td>\n",
       "    </tr>\n",
       "  </tbody>\n",
       "</table>\n",
       "<p>3056 rows × 2 columns</p>\n",
       "</div>"
      ],
      "text/plain": [
       "Ticker       BBDC4.SA   ITUB4.SA\n",
       "Date                            \n",
       "2010-01-04   7.026620  10.396081\n",
       "2010-01-05   6.992043  10.463452\n",
       "2010-01-06   6.936104  10.372758\n",
       "2010-01-07   6.917460  10.266521\n",
       "2010-01-08   6.909999  10.111041\n",
       "...               ...        ...\n",
       "2022-04-25  16.049332  22.161846\n",
       "2022-04-26  15.360302  21.407806\n",
       "2022-04-27  15.452731  21.234463\n",
       "2022-04-28  15.309886  21.061119\n",
       "2022-04-29  15.108221  20.688435\n",
       "\n",
       "[3056 rows x 2 columns]"
      ]
     },
     "execution_count": 7,
     "metadata": {},
     "output_type": "execute_result"
    }
   ],
   "source": [
    "data_frame_com_colunas_selecionadas"
   ]
  },
  {
   "cell_type": "code",
   "execution_count": 8,
   "id": "9074db4b-5312-4a5b-a05f-7099be5cc90a",
   "metadata": {},
   "outputs": [
    {
     "data": {
      "text/html": [
       "<div>\n",
       "<style scoped>\n",
       "    .dataframe tbody tr th:only-of-type {\n",
       "        vertical-align: middle;\n",
       "    }\n",
       "\n",
       "    .dataframe tbody tr th {\n",
       "        vertical-align: top;\n",
       "    }\n",
       "\n",
       "    .dataframe thead th {\n",
       "        text-align: right;\n",
       "    }\n",
       "</style>\n",
       "<table border=\"1\" class=\"dataframe\">\n",
       "  <thead>\n",
       "    <tr style=\"text-align: right;\">\n",
       "      <th>Ticker</th>\n",
       "      <th>BBAS3.SA</th>\n",
       "      <th>BBDC4.SA</th>\n",
       "      <th>ITUB4.SA</th>\n",
       "      <th>SANB4.SA</th>\n",
       "      <th>^BVSP</th>\n",
       "    </tr>\n",
       "    <tr>\n",
       "      <th>Date</th>\n",
       "      <th></th>\n",
       "      <th></th>\n",
       "      <th></th>\n",
       "      <th></th>\n",
       "      <th></th>\n",
       "    </tr>\n",
       "  </thead>\n",
       "  <tbody>\n",
       "    <tr>\n",
       "      <th>2015-01-02</th>\n",
       "      <td>6.024707</td>\n",
       "      <td>8.081133</td>\n",
       "      <td>12.195362</td>\n",
       "      <td>2.929448</td>\n",
       "      <td>48512.0</td>\n",
       "    </tr>\n",
       "    <tr>\n",
       "      <th>2015-01-05</th>\n",
       "      <td>5.899692</td>\n",
       "      <td>8.097792</td>\n",
       "      <td>12.256639</td>\n",
       "      <td>2.905037</td>\n",
       "      <td>47517.0</td>\n",
       "    </tr>\n",
       "    <tr>\n",
       "      <th>2015-01-06</th>\n",
       "      <td>5.982151</td>\n",
       "      <td>8.364188</td>\n",
       "      <td>12.454914</td>\n",
       "      <td>2.929448</td>\n",
       "      <td>48001.0</td>\n",
       "    </tr>\n",
       "    <tr>\n",
       "      <th>2015-01-07</th>\n",
       "      <td>6.245483</td>\n",
       "      <td>8.696591</td>\n",
       "      <td>12.905515</td>\n",
       "      <td>3.173568</td>\n",
       "      <td>49463.0</td>\n",
       "    </tr>\n",
       "    <tr>\n",
       "      <th>2015-01-08</th>\n",
       "      <td>6.266762</td>\n",
       "      <td>8.741382</td>\n",
       "      <td>13.107398</td>\n",
       "      <td>3.095449</td>\n",
       "      <td>49943.0</td>\n",
       "    </tr>\n",
       "    <tr>\n",
       "      <th>...</th>\n",
       "      <td>...</td>\n",
       "      <td>...</td>\n",
       "      <td>...</td>\n",
       "      <td>...</td>\n",
       "      <td>...</td>\n",
       "    </tr>\n",
       "    <tr>\n",
       "      <th>2022-04-25</th>\n",
       "      <td>14.292112</td>\n",
       "      <td>16.049332</td>\n",
       "      <td>22.161846</td>\n",
       "      <td>15.267837</td>\n",
       "      <td>110685.0</td>\n",
       "    </tr>\n",
       "    <tr>\n",
       "      <th>2022-04-26</th>\n",
       "      <td>13.970847</td>\n",
       "      <td>15.360302</td>\n",
       "      <td>21.407806</td>\n",
       "      <td>14.573843</td>\n",
       "      <td>108213.0</td>\n",
       "    </tr>\n",
       "    <tr>\n",
       "      <th>2022-04-27</th>\n",
       "      <td>14.032632</td>\n",
       "      <td>15.452731</td>\n",
       "      <td>21.234463</td>\n",
       "      <td>14.582520</td>\n",
       "      <td>109349.0</td>\n",
       "    </tr>\n",
       "    <tr>\n",
       "      <th>2022-04-28</th>\n",
       "      <td>14.007917</td>\n",
       "      <td>15.309886</td>\n",
       "      <td>21.061119</td>\n",
       "      <td>14.426370</td>\n",
       "      <td>109919.0</td>\n",
       "    </tr>\n",
       "    <tr>\n",
       "      <th>2022-04-29</th>\n",
       "      <td>13.682534</td>\n",
       "      <td>15.108221</td>\n",
       "      <td>20.688435</td>\n",
       "      <td>14.426370</td>\n",
       "      <td>107876.0</td>\n",
       "    </tr>\n",
       "  </tbody>\n",
       "</table>\n",
       "<p>1819 rows × 5 columns</p>\n",
       "</div>"
      ],
      "text/plain": [
       "Ticker       BBAS3.SA   BBDC4.SA   ITUB4.SA   SANB4.SA     ^BVSP\n",
       "Date                                                            \n",
       "2015-01-02   6.024707   8.081133  12.195362   2.929448   48512.0\n",
       "2015-01-05   5.899692   8.097792  12.256639   2.905037   47517.0\n",
       "2015-01-06   5.982151   8.364188  12.454914   2.929448   48001.0\n",
       "2015-01-07   6.245483   8.696591  12.905515   3.173568   49463.0\n",
       "2015-01-08   6.266762   8.741382  13.107398   3.095449   49943.0\n",
       "...               ...        ...        ...        ...       ...\n",
       "2022-04-25  14.292112  16.049332  22.161846  15.267837  110685.0\n",
       "2022-04-26  13.970847  15.360302  21.407806  14.573843  108213.0\n",
       "2022-04-27  14.032632  15.452731  21.234463  14.582520  109349.0\n",
       "2022-04-28  14.007917  15.309886  21.061119  14.426370  109919.0\n",
       "2022-04-29  13.682534  15.108221  20.688435  14.426370  107876.0\n",
       "\n",
       "[1819 rows x 5 columns]"
      ]
     },
     "execution_count": 8,
     "metadata": {},
     "output_type": "execute_result"
    }
   ],
   "source": [
    "dados_2015 = dados_bancarios[dados_bancarios.index > \"2015-01-01\"]\n",
    "\n",
    "dados_2015"
   ]
  },
  {
   "cell_type": "code",
   "execution_count": 9,
   "id": "36c9a6df-7076-4e88-81ed-456b08935462",
   "metadata": {},
   "outputs": [
    {
     "data": {
      "text/html": [
       "<div>\n",
       "<style scoped>\n",
       "    .dataframe tbody tr th:only-of-type {\n",
       "        vertical-align: middle;\n",
       "    }\n",
       "\n",
       "    .dataframe tbody tr th {\n",
       "        vertical-align: top;\n",
       "    }\n",
       "\n",
       "    .dataframe thead th {\n",
       "        text-align: right;\n",
       "    }\n",
       "</style>\n",
       "<table border=\"1\" class=\"dataframe\">\n",
       "  <thead>\n",
       "    <tr style=\"text-align: right;\">\n",
       "      <th>Ticker</th>\n",
       "      <th>BBAS3.SA</th>\n",
       "      <th>BBDC4.SA</th>\n",
       "      <th>ITUB4.SA</th>\n",
       "      <th>SANB4.SA</th>\n",
       "      <th>^BVSP</th>\n",
       "    </tr>\n",
       "    <tr>\n",
       "      <th>Date</th>\n",
       "      <th></th>\n",
       "      <th></th>\n",
       "      <th></th>\n",
       "      <th></th>\n",
       "      <th></th>\n",
       "    </tr>\n",
       "  </thead>\n",
       "  <tbody>\n",
       "    <tr>\n",
       "      <th>2016-08-03</th>\n",
       "      <td>6.192862</td>\n",
       "      <td>9.613530</td>\n",
       "      <td>15.147399</td>\n",
       "      <td>4.770014</td>\n",
       "      <td>57077.0</td>\n",
       "    </tr>\n",
       "    <tr>\n",
       "      <th>2016-08-04</th>\n",
       "      <td>6.358852</td>\n",
       "      <td>9.717447</td>\n",
       "      <td>15.233364</td>\n",
       "      <td>4.871624</td>\n",
       "      <td>57594.0</td>\n",
       "    </tr>\n",
       "    <tr>\n",
       "      <th>2016-08-05</th>\n",
       "      <td>6.404120</td>\n",
       "      <td>9.777776</td>\n",
       "      <td>15.143106</td>\n",
       "      <td>4.860335</td>\n",
       "      <td>57661.0</td>\n",
       "    </tr>\n",
       "    <tr>\n",
       "      <th>2016-08-08</th>\n",
       "      <td>6.389032</td>\n",
       "      <td>9.680569</td>\n",
       "      <td>15.044246</td>\n",
       "      <td>4.911141</td>\n",
       "      <td>57635.0</td>\n",
       "    </tr>\n",
       "    <tr>\n",
       "      <th>2016-08-09</th>\n",
       "      <td>6.458445</td>\n",
       "      <td>9.630289</td>\n",
       "      <td>15.074334</td>\n",
       "      <td>5.012751</td>\n",
       "      <td>57689.0</td>\n",
       "    </tr>\n",
       "    <tr>\n",
       "      <th>...</th>\n",
       "      <td>...</td>\n",
       "      <td>...</td>\n",
       "      <td>...</td>\n",
       "      <td>...</td>\n",
       "      <td>...</td>\n",
       "    </tr>\n",
       "    <tr>\n",
       "      <th>2022-04-25</th>\n",
       "      <td>14.292112</td>\n",
       "      <td>16.049332</td>\n",
       "      <td>22.161846</td>\n",
       "      <td>15.267837</td>\n",
       "      <td>110685.0</td>\n",
       "    </tr>\n",
       "    <tr>\n",
       "      <th>2022-04-26</th>\n",
       "      <td>13.970847</td>\n",
       "      <td>15.360302</td>\n",
       "      <td>21.407806</td>\n",
       "      <td>14.573843</td>\n",
       "      <td>108213.0</td>\n",
       "    </tr>\n",
       "    <tr>\n",
       "      <th>2022-04-27</th>\n",
       "      <td>14.032632</td>\n",
       "      <td>15.452731</td>\n",
       "      <td>21.234463</td>\n",
       "      <td>14.582520</td>\n",
       "      <td>109349.0</td>\n",
       "    </tr>\n",
       "    <tr>\n",
       "      <th>2022-04-28</th>\n",
       "      <td>14.007917</td>\n",
       "      <td>15.309886</td>\n",
       "      <td>21.061119</td>\n",
       "      <td>14.426370</td>\n",
       "      <td>109919.0</td>\n",
       "    </tr>\n",
       "    <tr>\n",
       "      <th>2022-04-29</th>\n",
       "      <td>13.682534</td>\n",
       "      <td>15.108221</td>\n",
       "      <td>20.688435</td>\n",
       "      <td>14.426370</td>\n",
       "      <td>107876.0</td>\n",
       "    </tr>\n",
       "  </tbody>\n",
       "</table>\n",
       "<p>1425 rows × 5 columns</p>\n",
       "</div>"
      ],
      "text/plain": [
       "Ticker       BBAS3.SA   BBDC4.SA   ITUB4.SA   SANB4.SA     ^BVSP\n",
       "Date                                                            \n",
       "2016-08-03   6.192862   9.613530  15.147399   4.770014   57077.0\n",
       "2016-08-04   6.358852   9.717447  15.233364   4.871624   57594.0\n",
       "2016-08-05   6.404120   9.777776  15.143106   4.860335   57661.0\n",
       "2016-08-08   6.389032   9.680569  15.044246   4.911141   57635.0\n",
       "2016-08-09   6.458445   9.630289  15.074334   5.012751   57689.0\n",
       "...               ...        ...        ...        ...       ...\n",
       "2022-04-25  14.292112  16.049332  22.161846  15.267837  110685.0\n",
       "2022-04-26  13.970847  15.360302  21.407806  14.573843  108213.0\n",
       "2022-04-27  14.032632  15.452731  21.234463  14.582520  109349.0\n",
       "2022-04-28  14.007917  15.309886  21.061119  14.426370  109919.0\n",
       "2022-04-29  13.682534  15.108221  20.688435  14.426370  107876.0\n",
       "\n",
       "[1425 rows x 5 columns]"
      ]
     },
     "execution_count": 9,
     "metadata": {},
     "output_type": "execute_result"
    }
   ],
   "source": [
    "cotacao_maior_que_15 = dados_bancarios[dados_bancarios[\"ITUB4.SA\"] > 15]\n",
    "\n",
    "cotacao_maior_que_15"
   ]
  },
  {
   "cell_type": "markdown",
   "id": "35921877-57e1-4d4e-b240-f3eaa9029da7",
   "metadata": {},
   "source": [
    "### Voltando ao nosso projeto"
   ]
  },
  {
   "cell_type": "code",
   "execution_count": 38,
   "id": "49467a17-c6df-4424-bac3-64c01adcb7c7",
   "metadata": {},
   "outputs": [
    {
     "data": {
      "text/plain": [
       "Date\n",
       "2010-01-04     70045.0\n",
       "2010-01-05     70240.0\n",
       "2010-01-06     70729.0\n",
       "2010-01-07     70451.0\n",
       "2010-01-08     70263.0\n",
       "                ...   \n",
       "2022-04-25    110685.0\n",
       "2022-04-26    108213.0\n",
       "2022-04-27    109349.0\n",
       "2022-04-28    109919.0\n",
       "2022-04-29    107876.0\n",
       "Name: ^BVSP, Length: 3056, dtype: float64"
      ]
     },
     "execution_count": 38,
     "metadata": {},
     "output_type": "execute_result"
    }
   ],
   "source": [
    "itau = dados_bancarios[\"ITUB4.SA\"]\n",
    "bradesco = dados_bancarios[\"BBDC4.SA\"]\n",
    "banco_do_brasil = dados_bancarios[\"BBAS3.SA\"]\n",
    "santander = dados_bancarios[\"SANB4.SA\"]\n",
    "dados_mercado = dados_bancarios[\"^BVSP\"]\n",
    "\n",
    "dados_mercado"
   ]
  },
  {
   "cell_type": "code",
   "execution_count": 11,
   "id": "80d3cd8a",
   "metadata": {},
   "outputs": [],
   "source": [
    "def retorno(lista_cotacoes):\n",
    "    \n",
    "    retorno = lista_cotacoes[-1]/lista_cotacoes[0] - 1 # (Final / Inicial) - 1\n",
    "    \n",
    "    return retorno"
   ]
  },
  {
   "cell_type": "code",
   "execution_count": 12,
   "id": "ef7462a5-335c-4fde-89c1-adc62b2df8ef",
   "metadata": {},
   "outputs": [
    {
     "data": {
      "text/plain": [
       "0.9900224574058298"
      ]
     },
     "execution_count": 12,
     "metadata": {},
     "output_type": "execute_result"
    }
   ],
   "source": [
    "retorno_itau = retorno (itau)\n",
    "\n",
    "retorno_itau"
   ]
  },
  {
   "cell_type": "code",
   "execution_count": 35,
   "id": "e7c3490c-d7b7-479e-b3d2-6a92b1769f60",
   "metadata": {},
   "outputs": [
    {
     "ename": "KeyError",
     "evalue": "-1",
     "output_type": "error",
     "traceback": [
      "\u001b[1;31m---------------------------------------------------------------------------\u001b[0m",
      "\u001b[1;31mKeyError\u001b[0m                                  Traceback (most recent call last)",
      "\u001b[1;32m~\\anaconda3\\lib\\site-packages\\pandas\\core\\indexes\\base.py\u001b[0m in \u001b[0;36mget_loc\u001b[1;34m(self, key, method, tolerance)\u001b[0m\n\u001b[0;32m   3360\u001b[0m             \u001b[1;32mtry\u001b[0m\u001b[1;33m:\u001b[0m\u001b[1;33m\u001b[0m\u001b[1;33m\u001b[0m\u001b[0m\n\u001b[1;32m-> 3361\u001b[1;33m                 \u001b[1;32mreturn\u001b[0m \u001b[0mself\u001b[0m\u001b[1;33m.\u001b[0m\u001b[0m_engine\u001b[0m\u001b[1;33m.\u001b[0m\u001b[0mget_loc\u001b[0m\u001b[1;33m(\u001b[0m\u001b[0mcasted_key\u001b[0m\u001b[1;33m)\u001b[0m\u001b[1;33m\u001b[0m\u001b[1;33m\u001b[0m\u001b[0m\n\u001b[0m\u001b[0;32m   3362\u001b[0m             \u001b[1;32mexcept\u001b[0m \u001b[0mKeyError\u001b[0m \u001b[1;32mas\u001b[0m \u001b[0merr\u001b[0m\u001b[1;33m:\u001b[0m\u001b[1;33m\u001b[0m\u001b[1;33m\u001b[0m\u001b[0m\n",
      "\u001b[1;32m~\\anaconda3\\lib\\site-packages\\pandas\\_libs\\index.pyx\u001b[0m in \u001b[0;36mpandas._libs.index.IndexEngine.get_loc\u001b[1;34m()\u001b[0m\n",
      "\u001b[1;32m~\\anaconda3\\lib\\site-packages\\pandas\\_libs\\index.pyx\u001b[0m in \u001b[0;36mpandas._libs.index.IndexEngine.get_loc\u001b[1;34m()\u001b[0m\n",
      "\u001b[1;32mpandas\\_libs\\hashtable_class_helper.pxi\u001b[0m in \u001b[0;36mpandas._libs.hashtable.PyObjectHashTable.get_item\u001b[1;34m()\u001b[0m\n",
      "\u001b[1;32mpandas\\_libs\\hashtable_class_helper.pxi\u001b[0m in \u001b[0;36mpandas._libs.hashtable.PyObjectHashTable.get_item\u001b[1;34m()\u001b[0m\n",
      "\u001b[1;31mKeyError\u001b[0m: -1",
      "\nThe above exception was the direct cause of the following exception:\n",
      "\u001b[1;31mKeyError\u001b[0m                                  Traceback (most recent call last)",
      "\u001b[1;32m~\\AppData\\Local\\Temp/ipykernel_1792/2471247320.py\u001b[0m in \u001b[0;36m<module>\u001b[1;34m\u001b[0m\n\u001b[1;32m----> 1\u001b[1;33m \u001b[0mretorno_itau\u001b[0m \u001b[1;33m=\u001b[0m \u001b[0mretorno\u001b[0m\u001b[1;33m(\u001b[0m\u001b[0mitau\u001b[0m\u001b[1;33m)\u001b[0m\u001b[1;33m\u001b[0m\u001b[1;33m\u001b[0m\u001b[0m\n\u001b[0m\u001b[0;32m      2\u001b[0m \u001b[0mretorno_bradesco\u001b[0m \u001b[1;33m=\u001b[0m \u001b[0mretorno\u001b[0m\u001b[1;33m(\u001b[0m\u001b[0mbradesco\u001b[0m\u001b[1;33m)\u001b[0m\u001b[1;33m\u001b[0m\u001b[1;33m\u001b[0m\u001b[0m\n\u001b[0;32m      3\u001b[0m \u001b[0mretorno_banco_brasil\u001b[0m \u001b[1;33m=\u001b[0m \u001b[0mretorno\u001b[0m\u001b[1;33m(\u001b[0m\u001b[0mbanco_do_brasil\u001b[0m\u001b[1;33m)\u001b[0m\u001b[1;33m\u001b[0m\u001b[1;33m\u001b[0m\u001b[0m\n\u001b[0;32m      4\u001b[0m \u001b[0mretorno_santander\u001b[0m \u001b[1;33m=\u001b[0m \u001b[0mretorno\u001b[0m\u001b[1;33m(\u001b[0m\u001b[0msantander\u001b[0m\u001b[1;33m)\u001b[0m\u001b[1;33m\u001b[0m\u001b[1;33m\u001b[0m\u001b[0m\n\u001b[0;32m      5\u001b[0m \u001b[0mretorno_dados_mercado\u001b[0m \u001b[1;33m=\u001b[0m \u001b[0mretorno\u001b[0m\u001b[1;33m(\u001b[0m\u001b[0mdados_mercado\u001b[0m\u001b[1;33m)\u001b[0m\u001b[1;33m\u001b[0m\u001b[1;33m\u001b[0m\u001b[0m\n",
      "\u001b[1;32m~\\AppData\\Local\\Temp/ipykernel_1792/244369986.py\u001b[0m in \u001b[0;36mretorno\u001b[1;34m(lista_cotacoes)\u001b[0m\n\u001b[0;32m      1\u001b[0m \u001b[1;32mdef\u001b[0m \u001b[0mretorno\u001b[0m\u001b[1;33m(\u001b[0m\u001b[0mlista_cotacoes\u001b[0m\u001b[1;33m)\u001b[0m\u001b[1;33m:\u001b[0m\u001b[1;33m\u001b[0m\u001b[1;33m\u001b[0m\u001b[0m\n\u001b[0;32m      2\u001b[0m \u001b[1;33m\u001b[0m\u001b[0m\n\u001b[1;32m----> 3\u001b[1;33m     \u001b[0mretorno\u001b[0m \u001b[1;33m=\u001b[0m \u001b[0mlista_cotacoes\u001b[0m\u001b[1;33m[\u001b[0m\u001b[1;33m-\u001b[0m\u001b[1;36m1\u001b[0m\u001b[1;33m]\u001b[0m\u001b[1;33m/\u001b[0m\u001b[0mlista_cotacoes\u001b[0m\u001b[1;33m[\u001b[0m\u001b[1;36m0\u001b[0m\u001b[1;33m]\u001b[0m \u001b[1;33m-\u001b[0m \u001b[1;36m1\u001b[0m \u001b[1;31m# (Final / Inicial) - 1\u001b[0m\u001b[1;33m\u001b[0m\u001b[1;33m\u001b[0m\u001b[0m\n\u001b[0m\u001b[0;32m      4\u001b[0m \u001b[1;33m\u001b[0m\u001b[0m\n\u001b[0;32m      5\u001b[0m     \u001b[1;32mreturn\u001b[0m \u001b[0mretorno\u001b[0m\u001b[1;33m\u001b[0m\u001b[1;33m\u001b[0m\u001b[0m\n",
      "\u001b[1;32m~\\anaconda3\\lib\\site-packages\\pandas\\core\\frame.py\u001b[0m in \u001b[0;36m__getitem__\u001b[1;34m(self, key)\u001b[0m\n\u001b[0;32m   3456\u001b[0m             \u001b[1;32mif\u001b[0m \u001b[0mself\u001b[0m\u001b[1;33m.\u001b[0m\u001b[0mcolumns\u001b[0m\u001b[1;33m.\u001b[0m\u001b[0mnlevels\u001b[0m \u001b[1;33m>\u001b[0m \u001b[1;36m1\u001b[0m\u001b[1;33m:\u001b[0m\u001b[1;33m\u001b[0m\u001b[1;33m\u001b[0m\u001b[0m\n\u001b[0;32m   3457\u001b[0m                 \u001b[1;32mreturn\u001b[0m \u001b[0mself\u001b[0m\u001b[1;33m.\u001b[0m\u001b[0m_getitem_multilevel\u001b[0m\u001b[1;33m(\u001b[0m\u001b[0mkey\u001b[0m\u001b[1;33m)\u001b[0m\u001b[1;33m\u001b[0m\u001b[1;33m\u001b[0m\u001b[0m\n\u001b[1;32m-> 3458\u001b[1;33m             \u001b[0mindexer\u001b[0m \u001b[1;33m=\u001b[0m \u001b[0mself\u001b[0m\u001b[1;33m.\u001b[0m\u001b[0mcolumns\u001b[0m\u001b[1;33m.\u001b[0m\u001b[0mget_loc\u001b[0m\u001b[1;33m(\u001b[0m\u001b[0mkey\u001b[0m\u001b[1;33m)\u001b[0m\u001b[1;33m\u001b[0m\u001b[1;33m\u001b[0m\u001b[0m\n\u001b[0m\u001b[0;32m   3459\u001b[0m             \u001b[1;32mif\u001b[0m \u001b[0mis_integer\u001b[0m\u001b[1;33m(\u001b[0m\u001b[0mindexer\u001b[0m\u001b[1;33m)\u001b[0m\u001b[1;33m:\u001b[0m\u001b[1;33m\u001b[0m\u001b[1;33m\u001b[0m\u001b[0m\n\u001b[0;32m   3460\u001b[0m                 \u001b[0mindexer\u001b[0m \u001b[1;33m=\u001b[0m \u001b[1;33m[\u001b[0m\u001b[0mindexer\u001b[0m\u001b[1;33m]\u001b[0m\u001b[1;33m\u001b[0m\u001b[1;33m\u001b[0m\u001b[0m\n",
      "\u001b[1;32m~\\anaconda3\\lib\\site-packages\\pandas\\core\\indexes\\base.py\u001b[0m in \u001b[0;36mget_loc\u001b[1;34m(self, key, method, tolerance)\u001b[0m\n\u001b[0;32m   3361\u001b[0m                 \u001b[1;32mreturn\u001b[0m \u001b[0mself\u001b[0m\u001b[1;33m.\u001b[0m\u001b[0m_engine\u001b[0m\u001b[1;33m.\u001b[0m\u001b[0mget_loc\u001b[0m\u001b[1;33m(\u001b[0m\u001b[0mcasted_key\u001b[0m\u001b[1;33m)\u001b[0m\u001b[1;33m\u001b[0m\u001b[1;33m\u001b[0m\u001b[0m\n\u001b[0;32m   3362\u001b[0m             \u001b[1;32mexcept\u001b[0m \u001b[0mKeyError\u001b[0m \u001b[1;32mas\u001b[0m \u001b[0merr\u001b[0m\u001b[1;33m:\u001b[0m\u001b[1;33m\u001b[0m\u001b[1;33m\u001b[0m\u001b[0m\n\u001b[1;32m-> 3363\u001b[1;33m                 \u001b[1;32mraise\u001b[0m \u001b[0mKeyError\u001b[0m\u001b[1;33m(\u001b[0m\u001b[0mkey\u001b[0m\u001b[1;33m)\u001b[0m \u001b[1;32mfrom\u001b[0m \u001b[0merr\u001b[0m\u001b[1;33m\u001b[0m\u001b[1;33m\u001b[0m\u001b[0m\n\u001b[0m\u001b[0;32m   3364\u001b[0m \u001b[1;33m\u001b[0m\u001b[0m\n\u001b[0;32m   3365\u001b[0m         \u001b[1;32mif\u001b[0m \u001b[0mis_scalar\u001b[0m\u001b[1;33m(\u001b[0m\u001b[0mkey\u001b[0m\u001b[1;33m)\u001b[0m \u001b[1;32mand\u001b[0m \u001b[0misna\u001b[0m\u001b[1;33m(\u001b[0m\u001b[0mkey\u001b[0m\u001b[1;33m)\u001b[0m \u001b[1;32mand\u001b[0m \u001b[1;32mnot\u001b[0m \u001b[0mself\u001b[0m\u001b[1;33m.\u001b[0m\u001b[0mhasnans\u001b[0m\u001b[1;33m:\u001b[0m\u001b[1;33m\u001b[0m\u001b[1;33m\u001b[0m\u001b[0m\n",
      "\u001b[1;31mKeyError\u001b[0m: -1"
     ]
    }
   ],
   "source": [
    "retorno_itau = retorno(itau)\n",
    "retorno_bradesco = retorno(bradesco)\n",
    "retorno_banco_brasil = retorno(banco_do_brasil)\n",
    "retorno_santander = retorno(santander)\n",
    "retorno_dados_mercado = retorno(dados_mercado)\n",
    "\n",
    "retorno_dados_mercado"
   ]
  },
  {
   "cell_type": "code",
   "execution_count": 14,
   "id": "39d62282-0b6a-4255-9f5f-713bfba42f0f",
   "metadata": {},
   "outputs": [
    {
     "data": {
      "text/html": [
       "<div>\n",
       "<style scoped>\n",
       "    .dataframe tbody tr th:only-of-type {\n",
       "        vertical-align: middle;\n",
       "    }\n",
       "\n",
       "    .dataframe tbody tr th {\n",
       "        vertical-align: top;\n",
       "    }\n",
       "\n",
       "    .dataframe thead th {\n",
       "        text-align: right;\n",
       "    }\n",
       "</style>\n",
       "<table border=\"1\" class=\"dataframe\">\n",
       "  <thead>\n",
       "    <tr style=\"text-align: right;\">\n",
       "      <th></th>\n",
       "      <th>retornos</th>\n",
       "    </tr>\n",
       "  </thead>\n",
       "  <tbody>\n",
       "    <tr>\n",
       "      <th>Itau</th>\n",
       "      <td>0.990022</td>\n",
       "    </tr>\n",
       "    <tr>\n",
       "      <th>Bradesco</th>\n",
       "      <td>1.150141</td>\n",
       "    </tr>\n",
       "    <tr>\n",
       "      <th>Banco do Brasil</th>\n",
       "      <td>1.485712</td>\n",
       "    </tr>\n",
       "    <tr>\n",
       "      <th>Santander</th>\n",
       "      <td>2.111295</td>\n",
       "    </tr>\n",
       "    <tr>\n",
       "      <th>Ibovespa</th>\n",
       "      <td>0.540096</td>\n",
       "    </tr>\n",
       "  </tbody>\n",
       "</table>\n",
       "</div>"
      ],
      "text/plain": [
       "                 retornos\n",
       "Itau             0.990022\n",
       "Bradesco         1.150141\n",
       "Banco do Brasil  1.485712\n",
       "Santander        2.111295\n",
       "Ibovespa         0.540096"
      ]
     },
     "execution_count": 14,
     "metadata": {},
     "output_type": "execute_result"
    }
   ],
   "source": [
    "# Criando um Data Frame (tabela)\n",
    "df_retornos = pd.DataFrame(\n",
    "\n",
    "    data = {\"retornos\": [retorno_itau, retorno_bradesco, retorno_banco_brasil, retorno_santander, retorno_dados_mercado]}, #Dicionário com as colunas retornos\n",
    "    index = [\"Itau\", \"Bradesco\", \"Banco do Brasil\", \"Santander\", \"Ibovespa\"] #denifição do índice\n",
    "    \n",
    ")\n",
    "\n",
    "df_retornos"
   ]
  },
  {
   "cell_type": "code",
   "execution_count": 15,
   "id": "f6c7d652-61f1-41d0-895c-e9cf202eca4a",
   "metadata": {},
   "outputs": [
    {
     "data": {
      "text/html": [
       "<div>\n",
       "<style scoped>\n",
       "    .dataframe tbody tr th:only-of-type {\n",
       "        vertical-align: middle;\n",
       "    }\n",
       "\n",
       "    .dataframe tbody tr th {\n",
       "        vertical-align: top;\n",
       "    }\n",
       "\n",
       "    .dataframe thead th {\n",
       "        text-align: right;\n",
       "    }\n",
       "</style>\n",
       "<table border=\"1\" class=\"dataframe\">\n",
       "  <thead>\n",
       "    <tr style=\"text-align: right;\">\n",
       "      <th></th>\n",
       "      <th>retornos</th>\n",
       "    </tr>\n",
       "  </thead>\n",
       "  <tbody>\n",
       "    <tr>\n",
       "      <th>Itau</th>\n",
       "      <td>99.002246</td>\n",
       "    </tr>\n",
       "    <tr>\n",
       "      <th>Bradesco</th>\n",
       "      <td>115.014064</td>\n",
       "    </tr>\n",
       "    <tr>\n",
       "      <th>Banco do Brasil</th>\n",
       "      <td>148.571184</td>\n",
       "    </tr>\n",
       "    <tr>\n",
       "      <th>Santander</th>\n",
       "      <td>211.129515</td>\n",
       "    </tr>\n",
       "    <tr>\n",
       "      <th>Ibovespa</th>\n",
       "      <td>54.009565</td>\n",
       "    </tr>\n",
       "  </tbody>\n",
       "</table>\n",
       "</div>"
      ],
      "text/plain": [
       "                   retornos\n",
       "Itau              99.002246\n",
       "Bradesco         115.014064\n",
       "Banco do Brasil  148.571184\n",
       "Santander        211.129515\n",
       "Ibovespa          54.009565"
      ]
     },
     "execution_count": 15,
     "metadata": {},
     "output_type": "execute_result"
    }
   ],
   "source": [
    "df_retornos[\"retornos\"] = df_retornos[\"retornos\"] * 100\n",
    "\n",
    "df_retornos"
   ]
  },
  {
   "cell_type": "code",
   "execution_count": 16,
   "id": "c48ff92a-5416-4d5e-8874-4d1d74c5e36e",
   "metadata": {},
   "outputs": [
    {
     "data": {
      "text/html": [
       "<div>\n",
       "<style scoped>\n",
       "    .dataframe tbody tr th:only-of-type {\n",
       "        vertical-align: middle;\n",
       "    }\n",
       "\n",
       "    .dataframe tbody tr th {\n",
       "        vertical-align: top;\n",
       "    }\n",
       "\n",
       "    .dataframe thead th {\n",
       "        text-align: right;\n",
       "    }\n",
       "</style>\n",
       "<table border=\"1\" class=\"dataframe\">\n",
       "  <thead>\n",
       "    <tr style=\"text-align: right;\">\n",
       "      <th></th>\n",
       "      <th>retornos</th>\n",
       "    </tr>\n",
       "  </thead>\n",
       "  <tbody>\n",
       "    <tr>\n",
       "      <th>Santander</th>\n",
       "      <td>211.129515</td>\n",
       "    </tr>\n",
       "    <tr>\n",
       "      <th>Banco do Brasil</th>\n",
       "      <td>148.571184</td>\n",
       "    </tr>\n",
       "    <tr>\n",
       "      <th>Bradesco</th>\n",
       "      <td>115.014064</td>\n",
       "    </tr>\n",
       "    <tr>\n",
       "      <th>Itau</th>\n",
       "      <td>99.002246</td>\n",
       "    </tr>\n",
       "    <tr>\n",
       "      <th>Ibovespa</th>\n",
       "      <td>54.009565</td>\n",
       "    </tr>\n",
       "  </tbody>\n",
       "</table>\n",
       "</div>"
      ],
      "text/plain": [
       "                   retornos\n",
       "Santander        211.129515\n",
       "Banco do Brasil  148.571184\n",
       "Bradesco         115.014064\n",
       "Itau              99.002246\n",
       "Ibovespa          54.009565"
      ]
     },
     "execution_count": 16,
     "metadata": {},
     "output_type": "execute_result"
    }
   ],
   "source": [
    "df_retornos = df_retornos.sort_values(by = \"retornos\", ascending = False) # Ordenando via sort_Values por 'retornos'\n",
    "\n",
    "df_retornos"
   ]
  },
  {
   "cell_type": "markdown",
   "id": "e4023fc3",
   "metadata": {},
   "source": [
    "# Gráficos"
   ]
  },
  {
   "cell_type": "code",
   "execution_count": 17,
   "id": "71d93b07-9c64-44ca-81fa-c73e52e3325d",
   "metadata": {},
   "outputs": [
    {
     "name": "stdout",
     "output_type": "stream",
     "text": [
      "Requirement already satisfied: mplcyberpunk in c:\\users\\marlo\\anaconda3\\lib\\site-packages (0.7.1)\n",
      "Requirement already satisfied: matplotlib in c:\\users\\marlo\\anaconda3\\lib\\site-packages (from mplcyberpunk) (3.4.3)\n",
      "Requirement already satisfied: pillow>=6.2.0 in c:\\users\\marlo\\anaconda3\\lib\\site-packages (from matplotlib->mplcyberpunk) (8.4.0)\n",
      "Requirement already satisfied: cycler>=0.10 in c:\\users\\marlo\\anaconda3\\lib\\site-packages (from matplotlib->mplcyberpunk) (0.10.0)\n",
      "Requirement already satisfied: pyparsing>=2.2.1 in c:\\users\\marlo\\anaconda3\\lib\\site-packages (from matplotlib->mplcyberpunk) (3.0.4)\n",
      "Requirement already satisfied: python-dateutil>=2.7 in c:\\users\\marlo\\anaconda3\\lib\\site-packages (from matplotlib->mplcyberpunk) (2.8.2)\n",
      "Requirement already satisfied: numpy>=1.16 in c:\\users\\marlo\\anaconda3\\lib\\site-packages (from matplotlib->mplcyberpunk) (1.20.3)\n",
      "Requirement already satisfied: kiwisolver>=1.0.1 in c:\\users\\marlo\\anaconda3\\lib\\site-packages (from matplotlib->mplcyberpunk) (1.3.1)\n",
      "Requirement already satisfied: six in c:\\users\\marlo\\anaconda3\\lib\\site-packages (from cycler>=0.10->matplotlib->mplcyberpunk) (1.16.0)\n"
     ]
    }
   ],
   "source": [
    "!pip install mplcyberpunk"
   ]
  },
  {
   "cell_type": "code",
   "execution_count": 18,
   "id": "90866131-3fd4-4a56-a21c-484edf6f828c",
   "metadata": {},
   "outputs": [],
   "source": [
    "import mplcyberpunk"
   ]
  },
  {
   "cell_type": "code",
   "execution_count": 19,
   "id": "131f2dae-4194-4de1-986d-caec2a94c3c6",
   "metadata": {},
   "outputs": [],
   "source": [
    "plt.style.use(\"cyberpunk\")"
   ]
  },
  {
   "cell_type": "code",
   "execution_count": 20,
   "id": "ffeab6e3-4540-4726-ada8-1d91f1a66f2e",
   "metadata": {},
   "outputs": [
    {
     "data": {
      "image/png": "[encoded data removed]",
      "text/plain": [
       "<Figure size 432x288 with 1 Axes>"
      ]
     },
     "metadata": {},
     "output_type": "display_data"
    }
   ],
   "source": [
    "fig, ax = plt.subplots()\n",
    "\n",
    "ax.bar(df_retornos.index, df_retornos[\"retornos\"])\n",
    "ax.yaxis.set_major_formatter(mtick.PercentFormatter())\n",
    "\n",
    "plt.xticks(fontsize = 9)\n",
    "\n",
    "plt.show()"
   ]
  },
  {
   "cell_type": "markdown",
   "id": "34511ce8",
   "metadata": {},
   "source": [
    "# Cotação segue os lucros?"
   ]
  },
  {
   "cell_type": "code",
   "execution_count": 21,
   "id": "3c5f199b-3b3a-422c-a0ff-ffe1d6b212d8",
   "metadata": {},
   "outputs": [
    {
     "data": {
      "text/html": [
       "<div>\n",
       "<style scoped>\n",
       "    .dataframe tbody tr th:only-of-type {\n",
       "        vertical-align: middle;\n",
       "    }\n",
       "\n",
       "    .dataframe tbody tr th {\n",
       "        vertical-align: top;\n",
       "    }\n",
       "\n",
       "    .dataframe thead th {\n",
       "        text-align: right;\n",
       "    }\n",
       "</style>\n",
       "<table border=\"1\" class=\"dataframe\">\n",
       "  <thead>\n",
       "    <tr style=\"text-align: right;\">\n",
       "      <th></th>\n",
       "      <th>data</th>\n",
       "      <th>bradesco</th>\n",
       "      <th>banco_do_brasil</th>\n",
       "      <th>itau</th>\n",
       "      <th>santander</th>\n",
       "    </tr>\n",
       "  </thead>\n",
       "  <tbody>\n",
       "    <tr>\n",
       "      <th>0</th>\n",
       "      <td>2009-12-31</td>\n",
       "      <td>8012282</td>\n",
       "      <td>10147522</td>\n",
       "      <td>10066608</td>\n",
       "      <td>1805899</td>\n",
       "    </tr>\n",
       "    <tr>\n",
       "      <th>1</th>\n",
       "      <td>2021-12-31</td>\n",
       "      <td>21945688</td>\n",
       "      <td>19710402</td>\n",
       "      <td>24988000</td>\n",
       "      <td>14987716</td>\n",
       "    </tr>\n",
       "  </tbody>\n",
       "</table>\n",
       "</div>"
      ],
      "text/plain": [
       "        data  bradesco  banco_do_brasil      itau  santander\n",
       "0 2009-12-31   8012282         10147522  10066608    1805899\n",
       "1 2021-12-31  21945688         19710402  24988000   14987716"
      ]
     },
     "execution_count": 21,
     "metadata": {},
     "output_type": "execute_result"
    }
   ],
   "source": [
    "lucro_bancos"
   ]
  },
  {
   "cell_type": "code",
   "execution_count": 22,
   "id": "c1742b0d-f256-4ba2-a239-e650ffd11a94",
   "metadata": {},
   "outputs": [
    {
     "data": {
      "text/html": [
       "<div>\n",
       "<style scoped>\n",
       "    .dataframe tbody tr th:only-of-type {\n",
       "        vertical-align: middle;\n",
       "    }\n",
       "\n",
       "    .dataframe tbody tr th {\n",
       "        vertical-align: top;\n",
       "    }\n",
       "\n",
       "    .dataframe thead th {\n",
       "        text-align: right;\n",
       "    }\n",
       "</style>\n",
       "<table border=\"1\" class=\"dataframe\">\n",
       "  <thead>\n",
       "    <tr style=\"text-align: right;\">\n",
       "      <th></th>\n",
       "      <th>bradesco</th>\n",
       "      <th>banco_do_brasil</th>\n",
       "      <th>itau</th>\n",
       "      <th>santander</th>\n",
       "    </tr>\n",
       "    <tr>\n",
       "      <th>data</th>\n",
       "      <th></th>\n",
       "      <th></th>\n",
       "      <th></th>\n",
       "      <th></th>\n",
       "    </tr>\n",
       "  </thead>\n",
       "  <tbody>\n",
       "    <tr>\n",
       "      <th>2009-12-31</th>\n",
       "      <td>8012282</td>\n",
       "      <td>10147522</td>\n",
       "      <td>10066608</td>\n",
       "      <td>1805899</td>\n",
       "    </tr>\n",
       "    <tr>\n",
       "      <th>2021-12-31</th>\n",
       "      <td>21945688</td>\n",
       "      <td>19710402</td>\n",
       "      <td>24988000</td>\n",
       "      <td>14987716</td>\n",
       "    </tr>\n",
       "  </tbody>\n",
       "</table>\n",
       "</div>"
      ],
      "text/plain": [
       "            bradesco  banco_do_brasil      itau  santander\n",
       "data                                                      \n",
       "2009-12-31   8012282         10147522  10066608    1805899\n",
       "2021-12-31  21945688         19710402  24988000   14987716"
      ]
     },
     "execution_count": 22,
     "metadata": {},
     "output_type": "execute_result"
    }
   ],
   "source": [
    "lucro_bancos = lucro_bancos.set_index(\"data\")\n",
    "\n",
    "lucro_bancos"
   ]
  },
  {
   "cell_type": "code",
   "execution_count": 23,
   "id": "42f2da64-1fac-42ac-8266-045eab3ad37d",
   "metadata": {},
   "outputs": [
    {
     "data": {
      "text/plain": [
       "bradesco           1.739006\n",
       "banco_do_brasil    0.942386\n",
       "itau               1.482266\n",
       "santander          7.299310\n",
       "dtype: float64"
      ]
     },
     "execution_count": 23,
     "metadata": {},
     "output_type": "execute_result"
    }
   ],
   "source": [
    "var_lucro_bancos = lucro_bancos.iloc[-1]/lucro_bancos.iloc[0] - 1 # O mesmo que fizemos com retornos, fazemos com lucros\n",
    "\n",
    "var_lucro_bancos"
   ]
  },
  {
   "cell_type": "code",
   "execution_count": 24,
   "id": "ee100b9a-1ec7-46ad-8306-026d7c78ffb3",
   "metadata": {},
   "outputs": [
    {
     "data": {
      "text/plain": [
       "bradesco           173.900594\n",
       "banco_do_brasil     94.238574\n",
       "itau               148.226612\n",
       "santander          729.931021\n",
       "dtype: float64"
      ]
     },
     "execution_count": 24,
     "metadata": {},
     "output_type": "execute_result"
    }
   ],
   "source": [
    "var_lucro_bancos = var_lucro_bancos * 100\n",
    "\n",
    "var_lucro_bancos"
   ]
  },
  {
   "cell_type": "code",
   "execution_count": 25,
   "id": "5fc12653-4865-46e8-88ea-9b8c3fae2d85",
   "metadata": {},
   "outputs": [
    {
     "data": {
      "text/plain": [
       "santander          729.931021\n",
       "bradesco           173.900594\n",
       "itau               148.226612\n",
       "banco_do_brasil     94.238574\n",
       "dtype: float64"
      ]
     },
     "execution_count": 25,
     "metadata": {},
     "output_type": "execute_result"
    }
   ],
   "source": [
    "var_lucro_bancos = var_lucro_bancos.sort_values(ascending = False)\n",
    "\n",
    "var_lucro_bancos"
   ]
  },
  {
   "cell_type": "code",
   "execution_count": 26,
   "id": "82087529-ae53-42b0-9823-33dbf0935096",
   "metadata": {},
   "outputs": [
    {
     "data": {
      "image/png": "[encoded data removed]",
      "text/plain": [
       "<Figure size 432x288 with 1 Axes>"
      ]
     },
     "metadata": {},
     "output_type": "display_data"
    }
   ],
   "source": [
    "fig, ax = plt.subplots()\n",
    "\n",
    "ax.bar(var_lucro_bancos.index, var_lucro_bancos.values)\n",
    "ax.yaxis.set_major_formatter(mtick.PercentFormatter())\n",
    "\n",
    "plt.xticks(fontsize = 9)\n",
    "\n",
    "plt.show()"
   ]
  },
  {
   "cell_type": "code",
   "execution_count": 27,
   "id": "a2852874-6870-4a57-84aa-97006b87a2e0",
   "metadata": {},
   "outputs": [
    {
     "data": {
      "image/png": "[encoded data removed]",
      "text/plain": [
       "<Figure size 432x288 with 1 Axes>"
      ]
     },
     "metadata": {},
     "output_type": "display_data"
    }
   ],
   "source": [
    "fig, ax = plt.subplots()\n",
    "\n",
    "ax.bar(df_retornos.index, df_retornos[\"retornos\"])\n",
    "ax.yaxis.set_major_formatter(mtick.PercentFormatter())\n",
    "\n",
    "plt.xticks(fontsize = 9)\n",
    "\n",
    "plt.show()"
   ]
  },
  {
   "cell_type": "markdown",
   "id": "6704f11a-8844-4ccc-a9c9-c1476cfb1430",
   "metadata": {},
   "source": [
    "# Projeto 2"
   ]
  },
  {
   "cell_type": "code",
   "execution_count": 28,
   "id": "22557dc1-7e70-4c72-8ae3-a5fd3c6ccc46",
   "metadata": {},
   "outputs": [],
   "source": [
    "import pandas as pd\n",
    "import matplotlib.pyplot as plt\n",
    "import mplcyberpunk\n",
    "import yfinance as yf\n",
    "plt.style.use(\"cyberpunk\")"
   ]
  },
  {
   "cell_type": "code",
   "execution_count": 29,
   "id": "621d1f9d-bcde-4bdb-a0ad-0cc4c3a568e4",
   "metadata": {},
   "outputs": [
    {
     "name": "stderr",
     "output_type": "stream",
     "text": [
      "[*********************100%***********************]  1 of 1 completed\n",
      "[*********************100%***********************]  1 of 1 completed\n"
     ]
    }
   ],
   "source": [
    "itau = yf.download(\"ITUB4.SA\", start = \"2010-01-01\", end = \"2022-04-30\")[\"Adj Close\"]\n",
    "bradesco = yf.download(\"BBDC4.SA\", start = \"2010-01-01\", end = \"2022-04-30\")[\"Adj Close\"]"
   ]
  },
  {
   "cell_type": "code",
   "execution_count": 30,
   "id": "c8020c09-d5da-43ab-8908-1d2d9395c48a",
   "metadata": {},
   "outputs": [],
   "source": [
    "def resample_periodo(dado, periodo):\n",
    "\n",
    "    dado_periodo_novo = dado.resample(f\"{periodo}\").last()\n",
    "    dado_periodo_novo = dado_periodo_novo.pct_change()\n",
    "    dado_periodo_novo = dado_periodo_novo.dropna()\n",
    "\n",
    "    return dado_periodo_novo\n"
   ]
  },
  {
   "cell_type": "code",
   "execution_count": 31,
   "id": "688537d0",
   "metadata": {},
   "outputs": [
    {
     "data": {
      "text/html": [
       "<div>\n",
       "<style scoped>\n",
       "    .dataframe tbody tr th:only-of-type {\n",
       "        vertical-align: middle;\n",
       "    }\n",
       "\n",
       "    .dataframe tbody tr th {\n",
       "        vertical-align: top;\n",
       "    }\n",
       "\n",
       "    .dataframe thead th {\n",
       "        text-align: right;\n",
       "    }\n",
       "</style>\n",
       "<table border=\"1\" class=\"dataframe\">\n",
       "  <thead>\n",
       "    <tr style=\"text-align: right;\">\n",
       "      <th>Ticker</th>\n",
       "      <th>ITUB4.SA</th>\n",
       "    </tr>\n",
       "    <tr>\n",
       "      <th>Date</th>\n",
       "      <th></th>\n",
       "    </tr>\n",
       "  </thead>\n",
       "  <tbody>\n",
       "    <tr>\n",
       "      <th>2011-12-31</th>\n",
       "      <td>-0.117222</td>\n",
       "    </tr>\n",
       "    <tr>\n",
       "      <th>2012-12-31</th>\n",
       "      <td>0.015527</td>\n",
       "    </tr>\n",
       "    <tr>\n",
       "      <th>2013-12-31</th>\n",
       "      <td>0.092353</td>\n",
       "    </tr>\n",
       "    <tr>\n",
       "      <th>2014-12-31</th>\n",
       "      <td>0.224913</td>\n",
       "    </tr>\n",
       "    <tr>\n",
       "      <th>2015-12-31</th>\n",
       "      <td>-0.120009</td>\n",
       "    </tr>\n",
       "    <tr>\n",
       "      <th>2016-12-31</th>\n",
       "      <td>0.499675</td>\n",
       "    </tr>\n",
       "    <tr>\n",
       "      <th>2017-12-31</th>\n",
       "      <td>0.305711</td>\n",
       "    </tr>\n",
       "    <tr>\n",
       "      <th>2018-12-31</th>\n",
       "      <td>0.278039</td>\n",
       "    </tr>\n",
       "    <tr>\n",
       "      <th>2019-12-31</th>\n",
       "      <td>0.098658</td>\n",
       "    </tr>\n",
       "    <tr>\n",
       "      <th>2020-12-31</th>\n",
       "      <td>-0.125469</td>\n",
       "    </tr>\n",
       "    <tr>\n",
       "      <th>2021-12-31</th>\n",
       "      <td>-0.314049</td>\n",
       "    </tr>\n",
       "    <tr>\n",
       "      <th>2022-12-31</th>\n",
       "      <td>0.143272</td>\n",
       "    </tr>\n",
       "  </tbody>\n",
       "</table>\n",
       "</div>"
      ],
      "text/plain": [
       "Ticker      ITUB4.SA\n",
       "Date                \n",
       "2011-12-31 -0.117222\n",
       "2012-12-31  0.015527\n",
       "2013-12-31  0.092353\n",
       "2014-12-31  0.224913\n",
       "2015-12-31 -0.120009\n",
       "2016-12-31  0.499675\n",
       "2017-12-31  0.305711\n",
       "2018-12-31  0.278039\n",
       "2019-12-31  0.098658\n",
       "2020-12-31 -0.125469\n",
       "2021-12-31 -0.314049\n",
       "2022-12-31  0.143272"
      ]
     },
     "execution_count": 31,
     "metadata": {},
     "output_type": "execute_result"
    }
   ],
   "source": [
    "itau_ano_a_ano = resample_periodo(itau, \"Y\")\n",
    "\n",
    "itau_ano_a_ano"
   ]
  },
  {
   "cell_type": "code",
   "execution_count": 32,
   "id": "322a3808",
   "metadata": {},
   "outputs": [
    {
     "data": {
      "text/html": [
       "<div>\n",
       "<style scoped>\n",
       "    .dataframe tbody tr th:only-of-type {\n",
       "        vertical-align: middle;\n",
       "    }\n",
       "\n",
       "    .dataframe tbody tr th {\n",
       "        vertical-align: top;\n",
       "    }\n",
       "\n",
       "    .dataframe thead th {\n",
       "        text-align: right;\n",
       "    }\n",
       "</style>\n",
       "<table border=\"1\" class=\"dataframe\">\n",
       "  <thead>\n",
       "    <tr style=\"text-align: right;\">\n",
       "      <th>Ticker</th>\n",
       "      <th>ITUB4.SA</th>\n",
       "    </tr>\n",
       "    <tr>\n",
       "      <th>Date</th>\n",
       "      <th></th>\n",
       "    </tr>\n",
       "  </thead>\n",
       "  <tbody>\n",
       "    <tr>\n",
       "      <th>2010-12-31</th>\n",
       "      <td>10.393679</td>\n",
       "    </tr>\n",
       "    <tr>\n",
       "      <th>2011-12-31</th>\n",
       "      <td>9.175307</td>\n",
       "    </tr>\n",
       "    <tr>\n",
       "      <th>2012-12-31</th>\n",
       "      <td>9.317776</td>\n",
       "    </tr>\n",
       "    <tr>\n",
       "      <th>2013-12-31</th>\n",
       "      <td>10.178304</td>\n",
       "    </tr>\n",
       "    <tr>\n",
       "      <th>2014-12-31</th>\n",
       "      <td>12.467532</td>\n",
       "    </tr>\n",
       "    <tr>\n",
       "      <th>2015-12-31</th>\n",
       "      <td>10.971314</td>\n",
       "    </tr>\n",
       "    <tr>\n",
       "      <th>2016-12-31</th>\n",
       "      <td>16.453411</td>\n",
       "    </tr>\n",
       "    <tr>\n",
       "      <th>2017-12-31</th>\n",
       "      <td>21.483402</td>\n",
       "    </tr>\n",
       "    <tr>\n",
       "      <th>2018-12-31</th>\n",
       "      <td>27.456635</td>\n",
       "    </tr>\n",
       "    <tr>\n",
       "      <th>2019-12-31</th>\n",
       "      <td>30.165459</td>\n",
       "    </tr>\n",
       "    <tr>\n",
       "      <th>2020-12-31</th>\n",
       "      <td>26.380617</td>\n",
       "    </tr>\n",
       "    <tr>\n",
       "      <th>2021-12-31</th>\n",
       "      <td>18.095804</td>\n",
       "    </tr>\n",
       "    <tr>\n",
       "      <th>2022-12-31</th>\n",
       "      <td>20.688435</td>\n",
       "    </tr>\n",
       "  </tbody>\n",
       "</table>\n",
       "</div>"
      ],
      "text/plain": [
       "Ticker       ITUB4.SA\n",
       "Date                 \n",
       "2010-12-31  10.393679\n",
       "2011-12-31   9.175307\n",
       "2012-12-31   9.317776\n",
       "2013-12-31  10.178304\n",
       "2014-12-31  12.467532\n",
       "2015-12-31  10.971314\n",
       "2016-12-31  16.453411\n",
       "2017-12-31  21.483402\n",
       "2018-12-31  27.456635\n",
       "2019-12-31  30.165459\n",
       "2020-12-31  26.380617\n",
       "2021-12-31  18.095804\n",
       "2022-12-31  20.688435"
      ]
     },
     "execution_count": 32,
     "metadata": {},
     "output_type": "execute_result"
    }
   ],
   "source": [
    "itau.resample(\"Y\").last()"
   ]
  },
  {
   "cell_type": "code",
   "execution_count": 39,
   "id": "be9bb370",
   "metadata": {},
   "outputs": [],
   "source": [
    "itau_ano_a_ano = resample_periodo(itau, \"Y\")\n",
    "ibov_ano_a_ano = resample_periodo(dados_mercado, \"Y\")"
   ]
  },
  {
   "cell_type": "code",
   "execution_count": 40,
   "id": "6d14d6de",
   "metadata": {},
   "outputs": [
    {
     "data": {
      "text/plain": [
       "<AxesSubplot:xlabel='Date'>"
      ]
     },
     "execution_count": 40,
     "metadata": {},
     "output_type": "execute_result"
    },
    {
     "data": {
      "image/png": "[encoded data removed]",
      "text/plain": [
       "<Figure size 432x288 with 1 Axes>"
      ]
     },
     "metadata": {},
     "output_type": "display_data"
    }
   ],
   "source": [
    "itau_menos_ibov = itau_ano_a_ano - ibov_ano_a_ano\n",
    "\n",
    "itau_menos_ibov.plot()"
   ]
  },
  {
   "cell_type": "code",
   "execution_count": 41,
   "id": "c3a8f75d-9990-4d19-b757-a3f791e8b650",
   "metadata": {},
   "outputs": [],
   "source": [
    "def long_short(long, short, periodo):\n",
    "\n",
    "    var_long = resample_periodo(long, periodo)\n",
    "    var_short = resample_periodo(short, periodo)\n",
    "\n",
    "    outperform = (var_long - var_short) * 100\n",
    "    print(outperform)\n",
    "    plt.plot(outperform)"
   ]
  },
  {
   "cell_type": "code",
   "execution_count": 42,
   "id": "aa3bf840-9350-4de3-a9e2-8221139050af",
   "metadata": {},
   "outputs": [
    {
     "name": "stdout",
     "output_type": "stream",
     "text": [
      "Date\n",
      "2011-12-31    -9.253939\n",
      "2012-12-31   -16.129548\n",
      "2013-12-31    15.544077\n",
      "2014-12-31    -1.862073\n",
      "2015-12-31    17.876912\n",
      "2016-12-31   -23.733485\n",
      "2017-12-31    -2.886255\n",
      "2018-12-31    -2.082827\n",
      "2019-12-31   -11.579938\n",
      "2020-12-31     2.668692\n",
      "2021-12-31   -12.749723\n",
      "2022-12-31    10.901160\n",
      "Freq: A-DEC, dtype: float64\n"
     ]
    },
    {
     "data": {
      "image/png": "[encoded data removed]",
      "text/plain": [
       "<Figure size 432x288 with 1 Axes>"
      ]
     },
     "metadata": {},
     "output_type": "display_data"
    }
   ],
   "source": [
    "long_short(itau, bradesco, \"Y\")"
   ]
  }
 ],
 "metadata": {
  "kernelspec": {
   "display_name": "Python 3 (ipykernel)",
   "language": "python",
   "name": "python3"
  },
  "language_info": {
   "codemirror_mode": {
    "name": "ipython",
    "version": 3
   },
   "file_extension": ".py",
   "mimetype": "text/x-python",
   "name": "python",
   "nbconvert_exporter": "python",
   "pygments_lexer": "ipython3",
   "version": "3.9.7"
  },
  "widgets": {
   "application/vnd.jupyter.widget-state+json": {
    "state": {},
    "version_major": 2,
    "version_minor": 0
   }
  }
 },
 "nbformat": 4,
 "nbformat_minor": 5
}
